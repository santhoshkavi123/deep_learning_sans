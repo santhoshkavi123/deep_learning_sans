{
 "cells": [
  {
   "cell_type": "markdown",
   "metadata": {},
   "source": [
    "# Instruction Fine Tuning\n",
    "\n",
    "#### Before jumping into Instruction fine tuning let's try and understand fine tuning over large language models(LLS Fine Tuning) \n",
    "\n",
    "    1. Fine Tuning process typically involves feeding the task-specific dataset to the pre-trained model and adjusting the parameters through backpropagation.\n",
    "\n",
    "        a. Load dataset and Pre-trained LLM and Tokenizer\n",
    "        b. Prepare labelled Dataset\n",
    "        c. Add a Custom Classification Head\n",
    "        d. Fine-Tune the LLM Model \n"
   ]
  },
  {
   "cell_type": "code",
   "execution_count": 8,
   "metadata": {},
   "outputs": [],
   "source": [
    "# /**** Import Basic Libraries ****/\n",
    "import pandas as pd\n",
    "import numpy as np\n",
    "import matplotlib.pyplot as plt\n",
    "import seaborn as sns\n",
    "\n",
    "# /**** Import Transformer Libraries ****/\n",
    "from datasets import load_dataset\n",
    "from transformers import (AutoModelForSeq2SeqLM, \n",
    "                        GenerationConfig,\n",
    "                        TrainingArguments,\n",
    "                        Trainer,\n",
    "                        AutoTokenizer)"
   ]
  },
  {
   "cell_type": "markdown",
   "metadata": {},
   "source": []
  },
  {
   "cell_type": "code",
   "execution_count": null,
   "metadata": {},
   "outputs": [],
   "source": []
  }
 ],
 "metadata": {
  "kernelspec": {
   "display_name": "base",
   "language": "python",
   "name": "python3"
  },
  "language_info": {
   "codemirror_mode": {
    "name": "ipython",
    "version": 3
   },
   "file_extension": ".py",
   "mimetype": "text/x-python",
   "name": "python",
   "nbconvert_exporter": "python",
   "pygments_lexer": "ipython3",
   "version": "3.7.4"
  },
  "orig_nbformat": 4
 },
 "nbformat": 4,
 "nbformat_minor": 2
}
