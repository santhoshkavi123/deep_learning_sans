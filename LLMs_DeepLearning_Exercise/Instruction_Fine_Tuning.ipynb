{
 "cells": [
  {
   "cell_type": "markdown",
   "metadata": {},
   "source": [
    "# Instruction Fine Tuning\n",
    "\n",
    "#### Before jumping into Instruction fine tuning let's try and understand fine tuning over large language models(LLS Fine Tuning) \n",
    "\n",
    "    1. Fine Tuning process typically involves feeding the task-specific dataset to the pre-trained model and adjusting the parameters through backpropagation.\n",
    "\n",
    "        a. Load dataset and Pre-trained LLM and Tokenizer\n",
    "        b. Prepare labelled Dataset\n",
    "        c. Add a Custom Classification Head\n",
    "        d. Fine-Tune the LLM Model \n"
   ]
  },
  {
   "cell_type": "code",
   "execution_count": 1,
   "metadata": {},
   "outputs": [],
   "source": [
    "# /**** Import Basic Libraries ****/\n",
    "import pandas as pd\n",
    "import numpy as np\n",
    "import matplotlib.pyplot as plt\n",
    "import seaborn as sns\n",
    "\n",
    "# /**** Import Transformer Libraries ****/\n",
    "from datasets import load_dataset\n",
    "from transformers import (AutoModelForSeq2SeqLM, \n",
    "                        GenerationConfig,\n",
    "                        TrainingArguments,\n",
    "                        Trainer,\n",
    "                        AutoTokenizer)\n",
    "import torch\n",
    "import evaluate"
   ]
  },
  {
   "cell_type": "markdown",
   "metadata": {},
   "source": []
  },
  {
   "cell_type": "markdown",
   "metadata": {},
   "source": [
    "## 1.2 Load Dataset and LLM - Twitter Financial News Sentiment"
   ]
  },
  {
   "cell_type": "code",
   "execution_count": 3,
   "metadata": {},
   "outputs": [
    {
     "name": "stderr",
     "output_type": "stream",
     "text": [
      "Downloading readme: 100%|██████████| 1.57k/1.57k [00:00<00:00, 324kB/s]\n"
     ]
    },
    {
     "name": "stdout",
     "output_type": "stream",
     "text": [
      "Downloading and preparing dataset csv/zeroshot--twitter-financial-news-sentiment to /Users/ksanthoshkumar/.cache/huggingface/datasets/zeroshot___csv/zeroshot--twitter-financial-news-sentiment-f1d729582cd7f0a9/0.0.0/6954658bab30a358235fa864b05cf819af0e179325c740e4bc853bcc7ec513e1...\n"
     ]
    },
    {
     "name": "stderr",
     "output_type": "stream",
     "text": [
      "Downloading data: 100%|██████████| 859k/859k [00:00<00:00, 1.10MB/s]\n",
      "Downloading data: 100%|██████████| 217k/217k [00:00<00:00, 538kB/s] ]\n",
      "Downloading data files: 100%|██████████| 2/2 [00:03<00:00,  1.99s/it]\n",
      "Extracting data files: 100%|██████████| 2/2 [00:00<00:00, 486.35it/s]\n",
      "                                                                  \r"
     ]
    },
    {
     "name": "stdout",
     "output_type": "stream",
     "text": [
      "Dataset csv downloaded and prepared to /Users/ksanthoshkumar/.cache/huggingface/datasets/zeroshot___csv/zeroshot--twitter-financial-news-sentiment-f1d729582cd7f0a9/0.0.0/6954658bab30a358235fa864b05cf819af0e179325c740e4bc853bcc7ec513e1. Subsequent calls will reuse this data.\n"
     ]
    },
    {
     "name": "stderr",
     "output_type": "stream",
     "text": [
      "100%|██████████| 2/2 [00:00<00:00, 147.74it/s]\n"
     ]
    },
    {
     "data": {
      "text/plain": [
       "DatasetDict({\n",
       "    train: Dataset({\n",
       "        features: ['text', 'label'],\n",
       "        num_rows: 9543\n",
       "    })\n",
       "    validation: Dataset({\n",
       "        features: ['text', 'label'],\n",
       "        num_rows: 2388\n",
       "    })\n",
       "})"
      ]
     },
     "execution_count": 3,
     "metadata": {},
     "output_type": "execute_result"
    }
   ],
   "source": [
    "huggingface_dataset = \"zeroshot/twitter-financial-news-sentiment\"\n",
    "\n",
    "dataset = load_dataset(huggingface_dataset)\n",
    "dataset"
   ]
  },
  {
   "cell_type": "code",
   "execution_count": 15,
   "metadata": {},
   "outputs": [
    {
     "data": {
      "text/plain": [
       "{'text': ['$BYND - JPMorgan reels in expectations on Beyond Meat https://t.co/bd0xbFGjkT',\n",
       "  '$CCL $RCL - Nomura points to bookings weakness at Carnival and Royal Caribbean https://t.co/yGjpT2ReD3',\n",
       "  '$CX - Cemex cut at Credit Suisse, J.P. Morgan on weak building outlook https://t.co/KN1g4AWFIb',\n",
       "  '$ESS: BTIG Research cuts to Neutral https://t.co/MCyfTsXc2N',\n",
       "  '$FNKO - Funko slides after Piper Jaffray PT cut https://t.co/z37IJmCQzB',\n",
       "  '$FTI - TechnipFMC downgraded at Berenberg but called Top Pick at Deutsche Bank https://t.co/XKcPDilIuU',\n",
       "  '$GM - GM loses a bull https://t.co/tdUfG5HbXy',\n",
       "  '$GM: Deutsche Bank cuts to Hold https://t.co/7Fv1ZiFZBS',\n",
       "  '$GTT: Cowen cuts to Market Perform',\n",
       "  '$HNHAF $HNHPD $AAPL - Trendforce cuts iPhone estimate after Foxconn delay https://t.co/rlnEwzlzzS'],\n",
       " 'label': [0, 0, 0, 0, 0, 0, 0, 0, 0, 0]}"
      ]
     },
     "execution_count": 15,
     "metadata": {},
     "output_type": "execute_result"
    }
   ],
   "source": [
    "dataset['train']"
   ]
  },
  {
   "cell_type": "code",
   "execution_count": null,
   "metadata": {},
   "outputs": [],
   "source": []
  }
 ],
 "metadata": {
  "kernelspec": {
   "display_name": "base",
   "language": "python",
   "name": "python3"
  },
  "language_info": {
   "codemirror_mode": {
    "name": "ipython",
    "version": 3
   },
   "file_extension": ".py",
   "mimetype": "text/x-python",
   "name": "python",
   "nbconvert_exporter": "python",
   "pygments_lexer": "ipython3",
   "version": "3.7.4"
  },
  "orig_nbformat": 4
 },
 "nbformat": 4,
 "nbformat_minor": 2
}
