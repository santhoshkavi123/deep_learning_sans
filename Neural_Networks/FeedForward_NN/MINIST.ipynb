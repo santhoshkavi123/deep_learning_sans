{
 "cells": [
  {
   "cell_type": "markdown",
   "metadata": {},
   "source": [
    "# MNIST Handwritten Image Dataset"
   ]
  },
  {
   "cell_type": "markdown",
   "metadata": {},
   "source": [
    "* The MNIST data set consists of 70,000 images of handwritten digits. It consists of digits from 0 to 9, and you are required to classify the class to which the image belongs. The images in the MNIST data set are 28X28 pixels, and the input layer has 784 neurons (each neuron takes 1 pixel as the input). The output layer has 10 neurons, with each giving the probability of the input image belonging to any of the 10 classes. The image is classified into the class that is represented by the neuron with the highest probability. In the diagram below, you can see a few sample images that are available in the dataset. "
   ]
  },
  {
   "cell_type": "code",
   "execution_count": 5,
   "metadata": {},
   "outputs": [],
   "source": [
    "# Basic libraries\n",
    "import os\n",
    "import numpy as np\n",
    "import pandas as pd\n",
    "import matplotlib.pyplot as plt\n",
    "import seaborn as sns\n",
    "\n",
    "# Data Dealing packages \n",
    "import pickle # data serialization library\n",
    "import gzip # compression library\n",
    "from PIL import Image\n",
    "from scipy import ndimage\n",
    "\n",
    "# decorator packages\n",
    "from sklearn.base import (TransformerMixin, \n",
    "                          BaseEstimator)\n",
    "from typing import Dict, List\n"
   ]
  },
  {
   "cell_type": "markdown",
   "metadata": {},
   "source": [
    "Some new libraries:\n",
    "1. pickle : Python Object serialisation library which converts python object into byte streams and vice versa\n",
    "2. gzip : Used to compress and decompress files with .gz extension\n",
    "3. h5py : This allows us to store and manipulate large numerical datasets.\n"
   ]
  },
  {
   "cell_type": "code",
   "execution_count": null,
   "metadata": {},
   "outputs": [],
   "source": []
  }
 ],
 "metadata": {
  "kernelspec": {
   "display_name": ".ml_env",
   "language": "python",
   "name": "python3"
  },
  "language_info": {
   "codemirror_mode": {
    "name": "ipython",
    "version": 3
   },
   "file_extension": ".py",
   "mimetype": "text/x-python",
   "name": "python",
   "nbconvert_exporter": "python",
   "pygments_lexer": "ipython3",
   "version": "3.12.5"
  }
 },
 "nbformat": 4,
 "nbformat_minor": 2
}
