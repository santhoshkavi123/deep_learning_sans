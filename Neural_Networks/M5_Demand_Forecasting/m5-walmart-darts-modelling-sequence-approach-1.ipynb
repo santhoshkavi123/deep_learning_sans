{
 "cells": [
  {
   "cell_type": "code",
   "execution_count": 1,
   "id": "a949263b",
   "metadata": {
    "_cell_guid": "b1076dfc-b9ad-4769-8c92-a6c4dae69d19",
    "_uuid": "8f2839f25d086af736a60e9eeb907d3b93b6e0e5",
    "execution": {
     "iopub.execute_input": "2022-11-16T17:43:02.731396Z",
     "iopub.status.busy": "2022-11-16T17:43:02.730944Z",
     "iopub.status.idle": "2022-11-16T17:43:02.754080Z",
     "shell.execute_reply": "2022-11-16T17:43:02.753414Z"
    },
    "papermill": {
     "duration": 0.03185,
     "end_time": "2022-11-16T17:43:02.756134",
     "exception": false,
     "start_time": "2022-11-16T17:43:02.724284",
     "status": "completed"
    },
    "tags": []
   },
   "outputs": [
    {
     "name": "stdout",
     "output_type": "stream",
     "text": [
      "/kaggle/input/m5featureenginedataset/y_train.feather\n",
      "/kaggle/input/m5featureenginedataset/X_train.feather\n",
      "/kaggle/input/m5featureenginedataset/y_test.feather\n",
      "/kaggle/input/m5featureenginedataset/X_test.feather\n"
     ]
    }
   ],
   "source": [
    "# This Python 3 environment comes with many helpful analytics libraries installed\n",
    "# It is defined by the kaggle/python Docker image: https://github.com/kaggle/docker-python\n",
    "# For example, here's several helpful packages to load\n",
    "\n",
    "import numpy as np # linear algebra\n",
    "import pandas as pd # data processing, CSV file I/O (e.g. pd.read_csv)\n",
    "\n",
    "# Input data files are available in the read-only \"../input/\" directory\n",
    "# For example, running this (by clicking run or pressing Shift+Enter) will list all files under the input directory\n",
    "\n",
    "import os\n",
    "for dirname, _, filenames in os.walk('/kaggle/input'):\n",
    "    for filename in filenames:\n",
    "        print(os.path.join(dirname, filename))\n",
    "\n",
    "# You can write up to 20GB to the current directory (/kaggle/working/) that gets preserved as output when you create a version using \"Save & Run All\" \n",
    "# You can also write temporary files to /kaggle/temp/, but they won't be saved outside of the current session"
   ]
  },
  {
   "cell_type": "code",
   "execution_count": 2,
   "id": "eeaf03a3",
   "metadata": {
    "execution": {
     "iopub.execute_input": "2022-11-16T17:43:02.765655Z",
     "iopub.status.busy": "2022-11-16T17:43:02.765248Z",
     "iopub.status.idle": "2022-11-16T17:43:39.696144Z",
     "shell.execute_reply": "2022-11-16T17:43:39.695140Z"
    },
    "papermill": {
     "duration": 36.938281,
     "end_time": "2022-11-16T17:43:39.698441",
     "exception": false,
     "start_time": "2022-11-16T17:43:02.760160",
     "status": "completed"
    },
    "tags": []
   },
   "outputs": [
    {
     "name": "stdout",
     "output_type": "stream",
     "text": [
      "Collecting feature_engine\r\n",
      "  Downloading feature_engine-1.4.0-py2.py3-none-any.whl (276 kB)\r\n",
      "\u001b[2K     \u001b[90m━━━━━━━━━━━━━━━━━━━━━━━━━━━━━━━━━━━━━\u001b[0m \u001b[32m276.4/276.4 kB\u001b[0m \u001b[31m967.4 kB/s\u001b[0m eta \u001b[36m0:00:00\u001b[0m\r\n",
      "\u001b[?25hRequirement already satisfied: scipy>=1.4.1 in /opt/conda/lib/python3.7/site-packages (from feature_engine) (1.7.3)\r\n",
      "Requirement already satisfied: numpy>=1.18.2 in /opt/conda/lib/python3.7/site-packages (from feature_engine) (1.21.6)\r\n",
      "Requirement already satisfied: scikit-learn>=1.0.0 in /opt/conda/lib/python3.7/site-packages (from feature_engine) (1.0.2)\r\n",
      "Requirement already satisfied: pandas>=1.0.3 in /opt/conda/lib/python3.7/site-packages (from feature_engine) (1.3.5)\r\n",
      "Requirement already satisfied: statsmodels>=0.11.1 in /opt/conda/lib/python3.7/site-packages (from feature_engine) (0.13.2)\r\n",
      "Requirement already satisfied: python-dateutil>=2.7.3 in /opt/conda/lib/python3.7/site-packages (from pandas>=1.0.3->feature_engine) (2.8.2)\r\n",
      "Requirement already satisfied: pytz>=2017.3 in /opt/conda/lib/python3.7/site-packages (from pandas>=1.0.3->feature_engine) (2022.1)\r\n",
      "Requirement already satisfied: joblib>=0.11 in /opt/conda/lib/python3.7/site-packages (from scikit-learn>=1.0.0->feature_engine) (1.0.1)\r\n",
      "Requirement already satisfied: threadpoolctl>=2.0.0 in /opt/conda/lib/python3.7/site-packages (from scikit-learn>=1.0.0->feature_engine) (3.1.0)\r\n",
      "Requirement already satisfied: patsy>=0.5.2 in /opt/conda/lib/python3.7/site-packages (from statsmodels>=0.11.1->feature_engine) (0.5.2)\r\n",
      "Requirement already satisfied: packaging>=21.3 in /opt/conda/lib/python3.7/site-packages (from statsmodels>=0.11.1->feature_engine) (21.3)\r\n",
      "Requirement already satisfied: pyparsing!=3.0.5,>=2.0.2 in /opt/conda/lib/python3.7/site-packages (from packaging>=21.3->statsmodels>=0.11.1->feature_engine) (3.0.9)\r\n",
      "Requirement already satisfied: six in /opt/conda/lib/python3.7/site-packages (from patsy>=0.5.2->statsmodels>=0.11.1->feature_engine) (1.15.0)\r\n",
      "Installing collected packages: feature_engine\r\n",
      "Successfully installed feature_engine-1.4.0\r\n",
      "\u001b[33mWARNING: Running pip as the 'root' user can result in broken permissions and conflicting behaviour with the system package manager. It is recommended to use a virtual environment instead: https://pip.pypa.io/warnings/venv\u001b[0m\u001b[33m\r\n",
      "\u001b[0mNote: you may need to restart the kernel to use updated packages.\n",
      "Collecting sktime\r\n",
      "  Downloading sktime-0.14.0-py3-none-any.whl (7.0 MB)\r\n",
      "\u001b[2K     \u001b[90m━━━━━━━━━━━━━━━━━━━━━━━━━━━━━━━━━━━━━━━━\u001b[0m \u001b[32m7.0/7.0 MB\u001b[0m \u001b[31m10.0 MB/s\u001b[0m eta \u001b[36m0:00:00\u001b[0m\r\n",
      "\u001b[?25hRequirement already satisfied: pandas<1.6.0,>=1.1.0 in /opt/conda/lib/python3.7/site-packages (from sktime) (1.3.5)\r\n",
      "Requirement already satisfied: numba>=0.53 in /opt/conda/lib/python3.7/site-packages (from sktime) (0.55.2)\r\n",
      "Collecting deprecated>=1.2.13\r\n",
      "  Downloading Deprecated-1.2.13-py2.py3-none-any.whl (9.6 kB)\r\n",
      "Requirement already satisfied: numpy<1.23,>=1.21.0 in /opt/conda/lib/python3.7/site-packages (from sktime) (1.21.6)\r\n",
      "Requirement already satisfied: scikit-learn<1.2.0,>=0.24.0 in /opt/conda/lib/python3.7/site-packages (from sktime) (1.0.2)\r\n",
      "Requirement already satisfied: scipy<2.0.0 in /opt/conda/lib/python3.7/site-packages (from sktime) (1.7.3)\r\n",
      "Requirement already satisfied: statsmodels>=0.12.1 in /opt/conda/lib/python3.7/site-packages (from sktime) (0.13.2)\r\n",
      "Requirement already satisfied: wrapt<2,>=1.10 in /opt/conda/lib/python3.7/site-packages (from deprecated>=1.2.13->sktime) (1.12.1)\r\n",
      "Requirement already satisfied: setuptools in /opt/conda/lib/python3.7/site-packages (from numba>=0.53->sktime) (59.8.0)\r\n",
      "Requirement already satisfied: llvmlite<0.39,>=0.38.0rc1 in /opt/conda/lib/python3.7/site-packages (from numba>=0.53->sktime) (0.38.1)\r\n",
      "Requirement already satisfied: python-dateutil>=2.7.3 in /opt/conda/lib/python3.7/site-packages (from pandas<1.6.0,>=1.1.0->sktime) (2.8.2)\r\n",
      "Requirement already satisfied: pytz>=2017.3 in /opt/conda/lib/python3.7/site-packages (from pandas<1.6.0,>=1.1.0->sktime) (2022.1)\r\n",
      "Requirement already satisfied: joblib>=0.11 in /opt/conda/lib/python3.7/site-packages (from scikit-learn<1.2.0,>=0.24.0->sktime) (1.0.1)\r\n",
      "Requirement already satisfied: threadpoolctl>=2.0.0 in /opt/conda/lib/python3.7/site-packages (from scikit-learn<1.2.0,>=0.24.0->sktime) (3.1.0)\r\n",
      "Requirement already satisfied: patsy>=0.5.2 in /opt/conda/lib/python3.7/site-packages (from statsmodels>=0.12.1->sktime) (0.5.2)\r\n",
      "Requirement already satisfied: packaging>=21.3 in /opt/conda/lib/python3.7/site-packages (from statsmodels>=0.12.1->sktime) (21.3)\r\n",
      "Requirement already satisfied: pyparsing!=3.0.5,>=2.0.2 in /opt/conda/lib/python3.7/site-packages (from packaging>=21.3->statsmodels>=0.12.1->sktime) (3.0.9)\r\n",
      "Requirement already satisfied: six in /opt/conda/lib/python3.7/site-packages (from patsy>=0.5.2->statsmodels>=0.12.1->sktime) (1.15.0)\r\n",
      "Installing collected packages: deprecated, sktime\r\n",
      "Successfully installed deprecated-1.2.13 sktime-0.14.0\r\n",
      "\u001b[33mWARNING: Running pip as the 'root' user can result in broken permissions and conflicting behaviour with the system package manager. It is recommended to use a virtual environment instead: https://pip.pypa.io/warnings/venv\u001b[0m\u001b[33m\r\n",
      "\u001b[0mNote: you may need to restart the kernel to use updated packages.\n",
      "Collecting darts\r\n",
      "  Downloading darts-0.22.0-py3-none-any.whl (451 kB)\r\n",
      "\u001b[2K     \u001b[90m━━━━━━━━━━━━━━━━━━━━━━━━━━━━━━━━━━━━━━━\u001b[0m \u001b[32m451.9/451.9 kB\u001b[0m \u001b[31m1.4 MB/s\u001b[0m eta \u001b[36m0:00:00\u001b[0m\r\n",
      "\u001b[?25hCollecting nfoursid>=1.0.0\r\n",
      "  Downloading nfoursid-1.0.1-py3-none-any.whl (16 kB)\r\n",
      "Requirement already satisfied: catboost>=1.0.6 in /opt/conda/lib/python3.7/site-packages (from darts) (1.1)\r\n",
      "Requirement already satisfied: prophet>=1.1.1 in /opt/conda/lib/python3.7/site-packages (from darts) (1.1.1)\r\n",
      "Requirement already satisfied: xarray>=0.17.0 in /opt/conda/lib/python3.7/site-packages (from darts) (0.20.2)\r\n",
      "Requirement already satisfied: holidays>=0.11.1 in /opt/conda/lib/python3.7/site-packages (from darts) (0.16)\r\n",
      "Requirement already satisfied: lightgbm>=2.2.3 in /opt/conda/lib/python3.7/site-packages (from darts) (3.3.2)\r\n",
      "Requirement already satisfied: scipy>=1.3.2 in /opt/conda/lib/python3.7/site-packages (from darts) (1.7.3)\r\n",
      "Requirement already satisfied: matplotlib>=3.3.0 in /opt/conda/lib/python3.7/site-packages (from darts) (3.5.3)\r\n",
      "Requirement already satisfied: torch>=1.8.0 in /opt/conda/lib/python3.7/site-packages (from darts) (1.11.0+cpu)\r\n",
      "Collecting statsforecast>=1.0.0\r\n",
      "  Downloading statsforecast-1.3.0-py3-none-any.whl (85 kB)\r\n",
      "\u001b[2K     \u001b[90m━━━━━━━━━━━━━━━━━━━━━━━━━━━━━━━━━━━━━━━━\u001b[0m \u001b[32m85.2/85.2 kB\u001b[0m \u001b[31m6.4 MB/s\u001b[0m eta \u001b[36m0:00:00\u001b[0m\r\n",
      "\u001b[?25hRequirement already satisfied: ipython>=5.0.0 in /opt/conda/lib/python3.7/site-packages (from darts) (7.33.0)\r\n",
      "Collecting tbats>=1.1.0\r\n",
      "  Downloading tbats-1.1.1-py3-none-any.whl (43 kB)\r\n",
      "\u001b[2K     \u001b[90m━━━━━━━━━━━━━━━━━━━━━━━━━━━━━━━━━━━━━━━━\u001b[0m \u001b[32m43.8/43.8 kB\u001b[0m \u001b[31m4.4 MB/s\u001b[0m eta \u001b[36m0:00:00\u001b[0m\r\n",
      "\u001b[?25hCollecting pmdarima>=1.8.0\r\n",
      "  Downloading pmdarima-2.0.1-cp37-cp37m-manylinux_2_17_x86_64.manylinux2014_x86_64.manylinux_2_28_x86_64.whl (1.8 MB)\r\n",
      "\u001b[2K     \u001b[90m━━━━━━━━━━━━━━━━━━━━━━━━━━━━━━━━━━━━━━━━\u001b[0m \u001b[32m1.8/1.8 MB\u001b[0m \u001b[31m8.4 MB/s\u001b[0m eta \u001b[36m0:00:00\u001b[0m\r\n",
      "\u001b[?25hRequirement already satisfied: tqdm>=4.60.0 in /opt/conda/lib/python3.7/site-packages (from darts) (4.64.0)\r\n",
      "Requirement already satisfied: scikit-learn>=1.0.1 in /opt/conda/lib/python3.7/site-packages (from darts) (1.0.2)\r\n",
      "Requirement already satisfied: joblib>=0.16.0 in /opt/conda/lib/python3.7/site-packages (from darts) (1.0.1)\r\n",
      "Requirement already satisfied: requests>=2.22.0 in /opt/conda/lib/python3.7/site-packages (from darts) (2.28.1)\r\n",
      "Requirement already satisfied: pandas>=1.0.5 in /opt/conda/lib/python3.7/site-packages (from darts) (1.3.5)\r\n",
      "Requirement already satisfied: shap>=0.40.0 in /opt/conda/lib/python3.7/site-packages (from darts) (0.41.0)\r\n",
      "Requirement already satisfied: numpy>=1.19.0 in /opt/conda/lib/python3.7/site-packages (from darts) (1.21.6)\r\n",
      "Requirement already satisfied: statsmodels>=0.13.0 in /opt/conda/lib/python3.7/site-packages (from darts) (0.13.2)\r\n",
      "Requirement already satisfied: pytorch-lightning>=1.5.0 in /opt/conda/lib/python3.7/site-packages (from darts) (1.7.7)\r\n",
      "Requirement already satisfied: graphviz in /opt/conda/lib/python3.7/site-packages (from catboost>=1.0.6->darts) (0.8.4)\r\n",
      "Requirement already satisfied: six in /opt/conda/lib/python3.7/site-packages (from catboost>=1.0.6->darts) (1.15.0)\r\n",
      "Requirement already satisfied: plotly in /opt/conda/lib/python3.7/site-packages (from catboost>=1.0.6->darts) (5.10.0)\r\n",
      "Requirement already satisfied: hijri-converter in /opt/conda/lib/python3.7/site-packages (from holidays>=0.11.1->darts) (2.2.4)\r\n",
      "Requirement already satisfied: convertdate>=2.3.0 in /opt/conda/lib/python3.7/site-packages (from holidays>=0.11.1->darts) (2.4.0)\r\n",
      "Requirement already satisfied: python-dateutil in /opt/conda/lib/python3.7/site-packages (from holidays>=0.11.1->darts) (2.8.2)\r\n",
      "Requirement already satisfied: korean-lunar-calendar in /opt/conda/lib/python3.7/site-packages (from holidays>=0.11.1->darts) (0.3.1)\r\n",
      "Requirement already satisfied: matplotlib-inline in /opt/conda/lib/python3.7/site-packages (from ipython>=5.0.0->darts) (0.1.3)\r\n",
      "Requirement already satisfied: setuptools>=18.5 in /opt/conda/lib/python3.7/site-packages (from ipython>=5.0.0->darts) (59.8.0)\r\n",
      "Requirement already satisfied: traitlets>=4.2 in /opt/conda/lib/python3.7/site-packages (from ipython>=5.0.0->darts) (5.3.0)\r\n",
      "Requirement already satisfied: prompt-toolkit!=3.0.0,!=3.0.1,<3.1.0,>=2.0.0 in /opt/conda/lib/python3.7/site-packages (from ipython>=5.0.0->darts) (3.0.30)\r\n",
      "Requirement already satisfied: jedi>=0.16 in /opt/conda/lib/python3.7/site-packages (from ipython>=5.0.0->darts) (0.18.1)\r\n",
      "Requirement already satisfied: decorator in /opt/conda/lib/python3.7/site-packages (from ipython>=5.0.0->darts) (5.1.1)\r\n",
      "Requirement already satisfied: pickleshare in /opt/conda/lib/python3.7/site-packages (from ipython>=5.0.0->darts) (0.7.5)\r\n",
      "Requirement already satisfied: backcall in /opt/conda/lib/python3.7/site-packages (from ipython>=5.0.0->darts) (0.2.0)\r\n",
      "Requirement already satisfied: pexpect>4.3 in /opt/conda/lib/python3.7/site-packages (from ipython>=5.0.0->darts) (4.8.0)\r\n",
      "Requirement already satisfied: pygments in /opt/conda/lib/python3.7/site-packages (from ipython>=5.0.0->darts) (2.12.0)\r\n",
      "Requirement already satisfied: wheel in /opt/conda/lib/python3.7/site-packages (from lightgbm>=2.2.3->darts) (0.37.1)\r\n",
      "Requirement already satisfied: fonttools>=4.22.0 in /opt/conda/lib/python3.7/site-packages (from matplotlib>=3.3.0->darts) (4.33.3)\r\n",
      "Requirement already satisfied: cycler>=0.10 in /opt/conda/lib/python3.7/site-packages (from matplotlib>=3.3.0->darts) (0.11.0)\r\n",
      "Requirement already satisfied: kiwisolver>=1.0.1 in /opt/conda/lib/python3.7/site-packages (from matplotlib>=3.3.0->darts) (1.4.3)\r\n",
      "Requirement already satisfied: pyparsing>=2.2.1 in /opt/conda/lib/python3.7/site-packages (from matplotlib>=3.3.0->darts) (3.0.9)\r\n",
      "Requirement already satisfied: pillow>=6.2.0 in /opt/conda/lib/python3.7/site-packages (from matplotlib>=3.3.0->darts) (9.1.1)\r\n",
      "Requirement already satisfied: packaging>=20.0 in /opt/conda/lib/python3.7/site-packages (from matplotlib>=3.3.0->darts) (21.3)\r\n",
      "Requirement already satisfied: pytz>=2017.3 in /opt/conda/lib/python3.7/site-packages (from pandas>=1.0.5->darts) (2022.1)\r\n",
      "Requirement already satisfied: Cython!=0.29.18,!=0.29.31,>=0.29 in /opt/conda/lib/python3.7/site-packages (from pmdarima>=1.8.0->darts) (0.29.32)\r\n",
      "Requirement already satisfied: urllib3 in /opt/conda/lib/python3.7/site-packages (from pmdarima>=1.8.0->darts) (1.26.12)\r\n",
      "Requirement already satisfied: cmdstanpy>=1.0.4 in /opt/conda/lib/python3.7/site-packages (from prophet>=1.1.1->darts) (1.0.7)\r\n",
      "Requirement already satisfied: setuptools-git>=1.2 in /opt/conda/lib/python3.7/site-packages (from prophet>=1.1.1->darts) (1.2)\r\n",
      "Requirement already satisfied: LunarCalendar>=0.0.9 in /opt/conda/lib/python3.7/site-packages (from prophet>=1.1.1->darts) (0.0.9)\r\n",
      "Requirement already satisfied: tensorboard>=2.9.1 in /opt/conda/lib/python3.7/site-packages (from pytorch-lightning>=1.5.0->darts) (2.10.1)\r\n",
      "Requirement already satisfied: fsspec[http]!=2021.06.0,>=2021.05.0 in /opt/conda/lib/python3.7/site-packages (from pytorch-lightning>=1.5.0->darts) (2022.8.2)\r\n",
      "Requirement already satisfied: typing-extensions>=4.0.0 in /opt/conda/lib/python3.7/site-packages (from pytorch-lightning>=1.5.0->darts) (4.4.0)\r\n",
      "Requirement already satisfied: torchmetrics>=0.7.0 in /opt/conda/lib/python3.7/site-packages (from pytorch-lightning>=1.5.0->darts) (0.10.0)\r\n",
      "Requirement already satisfied: PyYAML>=5.4 in /opt/conda/lib/python3.7/site-packages (from pytorch-lightning>=1.5.0->darts) (6.0)\r\n",
      "Requirement already satisfied: pyDeprecate>=0.3.1 in /opt/conda/lib/python3.7/site-packages (from pytorch-lightning>=1.5.0->darts) (0.3.2)\r\n",
      "Requirement already satisfied: idna<4,>=2.5 in /opt/conda/lib/python3.7/site-packages (from requests>=2.22.0->darts) (3.3)\r\n",
      "Requirement already satisfied: charset-normalizer<3,>=2 in /opt/conda/lib/python3.7/site-packages (from requests>=2.22.0->darts) (2.1.0)\r\n",
      "Requirement already satisfied: certifi>=2017.4.17 in /opt/conda/lib/python3.7/site-packages (from requests>=2.22.0->darts) (2022.9.24)\r\n",
      "Requirement already satisfied: threadpoolctl>=2.0.0 in /opt/conda/lib/python3.7/site-packages (from scikit-learn>=1.0.1->darts) (3.1.0)\r\n",
      "Requirement already satisfied: slicer==0.0.7 in /opt/conda/lib/python3.7/site-packages (from shap>=0.40.0->darts) (0.0.7)\r\n",
      "Requirement already satisfied: numba in /opt/conda/lib/python3.7/site-packages (from shap>=0.40.0->darts) (0.55.2)\r\n",
      "Requirement already satisfied: cloudpickle in /opt/conda/lib/python3.7/site-packages (from shap>=0.40.0->darts) (2.1.0)\r\n",
      "Requirement already satisfied: patsy>=0.5.2 in /opt/conda/lib/python3.7/site-packages (from statsmodels>=0.13.0->darts) (0.5.2)\r\n",
      "Requirement already satisfied: importlib-metadata in /opt/conda/lib/python3.7/site-packages (from xarray>=0.17.0->darts) (4.13.0)\r\n",
      "Requirement already satisfied: ujson in /opt/conda/lib/python3.7/site-packages (from cmdstanpy>=1.0.4->prophet>=1.1.1->darts) (5.3.0)\r\n",
      "Requirement already satisfied: pymeeus<=1,>=0.3.13 in /opt/conda/lib/python3.7/site-packages (from convertdate>=2.3.0->holidays>=0.11.1->darts) (0.5.11)\r\n",
      "Requirement already satisfied: aiohttp!=4.0.0a0,!=4.0.0a1 in /opt/conda/lib/python3.7/site-packages (from fsspec[http]!=2021.06.0,>=2021.05.0->pytorch-lightning>=1.5.0->darts) (3.8.1)\r\n",
      "Requirement already satisfied: parso<0.9.0,>=0.8.0 in /opt/conda/lib/python3.7/site-packages (from jedi>=0.16->ipython>=5.0.0->darts) (0.8.3)\r\n",
      "Requirement already satisfied: ephem>=3.7.5.3 in /opt/conda/lib/python3.7/site-packages (from LunarCalendar>=0.0.9->prophet>=1.1.1->darts) (4.1.3)\r\n",
      "Requirement already satisfied: llvmlite<0.39,>=0.38.0rc1 in /opt/conda/lib/python3.7/site-packages (from numba->shap>=0.40.0->darts) (0.38.1)\r\n",
      "Requirement already satisfied: ptyprocess>=0.5 in /opt/conda/lib/python3.7/site-packages (from pexpect>4.3->ipython>=5.0.0->darts) (0.7.0)\r\n",
      "Requirement already satisfied: wcwidth in /opt/conda/lib/python3.7/site-packages (from prompt-toolkit!=3.0.0,!=3.0.1,<3.1.0,>=2.0.0->ipython>=5.0.0->darts) (0.2.5)\r\n",
      "Requirement already satisfied: absl-py>=0.4 in /opt/conda/lib/python3.7/site-packages (from tensorboard>=2.9.1->pytorch-lightning>=1.5.0->darts) (0.15.0)\r\n",
      "Requirement already satisfied: tensorboard-data-server<0.7.0,>=0.6.0 in /opt/conda/lib/python3.7/site-packages (from tensorboard>=2.9.1->pytorch-lightning>=1.5.0->darts) (0.6.1)\r\n",
      "Requirement already satisfied: tensorboard-plugin-wit>=1.6.0 in /opt/conda/lib/python3.7/site-packages (from tensorboard>=2.9.1->pytorch-lightning>=1.5.0->darts) (1.8.1)\r\n",
      "Requirement already satisfied: werkzeug>=1.0.1 in /opt/conda/lib/python3.7/site-packages (from tensorboard>=2.9.1->pytorch-lightning>=1.5.0->darts) (2.2.2)\r\n",
      "Requirement already satisfied: google-auth<3,>=1.6.3 in /opt/conda/lib/python3.7/site-packages (from tensorboard>=2.9.1->pytorch-lightning>=1.5.0->darts) (1.35.0)\r\n",
      "Requirement already satisfied: google-auth-oauthlib<0.5,>=0.4.1 in /opt/conda/lib/python3.7/site-packages (from tensorboard>=2.9.1->pytorch-lightning>=1.5.0->darts) (0.4.6)\r\n",
      "Requirement already satisfied: protobuf<3.20,>=3.9.2 in /opt/conda/lib/python3.7/site-packages (from tensorboard>=2.9.1->pytorch-lightning>=1.5.0->darts) (3.19.4)\r\n",
      "Requirement already satisfied: markdown>=2.6.8 in /opt/conda/lib/python3.7/site-packages (from tensorboard>=2.9.1->pytorch-lightning>=1.5.0->darts) (3.3.7)\r\n",
      "Requirement already satisfied: grpcio>=1.24.3 in /opt/conda/lib/python3.7/site-packages (from tensorboard>=2.9.1->pytorch-lightning>=1.5.0->darts) (1.43.0)\r\n",
      "Requirement already satisfied: zipp>=0.5 in /opt/conda/lib/python3.7/site-packages (from importlib-metadata->xarray>=0.17.0->darts) (3.8.0)\r\n",
      "Requirement already satisfied: tenacity>=6.2.0 in /opt/conda/lib/python3.7/site-packages (from plotly->catboost>=1.0.6->darts) (8.0.1)\r\n",
      "Requirement already satisfied: attrs>=17.3.0 in /opt/conda/lib/python3.7/site-packages (from aiohttp!=4.0.0a0,!=4.0.0a1->fsspec[http]!=2021.06.0,>=2021.05.0->pytorch-lightning>=1.5.0->darts) (21.4.0)\r\n",
      "Requirement already satisfied: async-timeout<5.0,>=4.0.0a3 in /opt/conda/lib/python3.7/site-packages (from aiohttp!=4.0.0a0,!=4.0.0a1->fsspec[http]!=2021.06.0,>=2021.05.0->pytorch-lightning>=1.5.0->darts) (4.0.2)\r\n",
      "Requirement already satisfied: aiosignal>=1.1.2 in /opt/conda/lib/python3.7/site-packages (from aiohttp!=4.0.0a0,!=4.0.0a1->fsspec[http]!=2021.06.0,>=2021.05.0->pytorch-lightning>=1.5.0->darts) (1.2.0)\r\n",
      "Requirement already satisfied: asynctest==0.13.0 in /opt/conda/lib/python3.7/site-packages (from aiohttp!=4.0.0a0,!=4.0.0a1->fsspec[http]!=2021.06.0,>=2021.05.0->pytorch-lightning>=1.5.0->darts) (0.13.0)\r\n",
      "Requirement already satisfied: frozenlist>=1.1.1 in /opt/conda/lib/python3.7/site-packages (from aiohttp!=4.0.0a0,!=4.0.0a1->fsspec[http]!=2021.06.0,>=2021.05.0->pytorch-lightning>=1.5.0->darts) (1.3.0)\r\n",
      "Requirement already satisfied: multidict<7.0,>=4.5 in /opt/conda/lib/python3.7/site-packages (from aiohttp!=4.0.0a0,!=4.0.0a1->fsspec[http]!=2021.06.0,>=2021.05.0->pytorch-lightning>=1.5.0->darts) (6.0.2)\r\n",
      "Requirement already satisfied: yarl<2.0,>=1.0 in /opt/conda/lib/python3.7/site-packages (from aiohttp!=4.0.0a0,!=4.0.0a1->fsspec[http]!=2021.06.0,>=2021.05.0->pytorch-lightning>=1.5.0->darts) (1.7.2)\r\n",
      "Requirement already satisfied: cachetools<5.0,>=2.0.0 in /opt/conda/lib/python3.7/site-packages (from google-auth<3,>=1.6.3->tensorboard>=2.9.1->pytorch-lightning>=1.5.0->darts) (4.2.4)\r\n",
      "Requirement already satisfied: rsa<5,>=3.1.4 in /opt/conda/lib/python3.7/site-packages (from google-auth<3,>=1.6.3->tensorboard>=2.9.1->pytorch-lightning>=1.5.0->darts) (4.8)\r\n",
      "Requirement already satisfied: pyasn1-modules>=0.2.1 in /opt/conda/lib/python3.7/site-packages (from google-auth<3,>=1.6.3->tensorboard>=2.9.1->pytorch-lightning>=1.5.0->darts) (0.2.7)\r\n",
      "Requirement already satisfied: requests-oauthlib>=0.7.0 in /opt/conda/lib/python3.7/site-packages (from google-auth-oauthlib<0.5,>=0.4.1->tensorboard>=2.9.1->pytorch-lightning>=1.5.0->darts) (1.3.1)\r\n",
      "Requirement already satisfied: MarkupSafe>=2.1.1 in /opt/conda/lib/python3.7/site-packages (from werkzeug>=1.0.1->tensorboard>=2.9.1->pytorch-lightning>=1.5.0->darts) (2.1.1)\r\n",
      "Requirement already satisfied: pyasn1<0.5.0,>=0.4.6 in /opt/conda/lib/python3.7/site-packages (from pyasn1-modules>=0.2.1->google-auth<3,>=1.6.3->tensorboard>=2.9.1->pytorch-lightning>=1.5.0->darts) (0.4.8)\r\n",
      "Requirement already satisfied: oauthlib>=3.0.0 in /opt/conda/lib/python3.7/site-packages (from requests-oauthlib>=0.7.0->google-auth-oauthlib<0.5,>=0.4.1->tensorboard>=2.9.1->pytorch-lightning>=1.5.0->darts) (3.2.0)\r\n",
      "Installing collected packages: nfoursid, statsforecast, pmdarima, tbats, darts\r\n",
      "Successfully installed darts-0.22.0 nfoursid-1.0.1 pmdarima-2.0.1 statsforecast-1.3.0 tbats-1.1.1\r\n",
      "\u001b[33mWARNING: Running pip as the 'root' user can result in broken permissions and conflicting behaviour with the system package manager. It is recommended to use a virtual environment instead: https://pip.pypa.io/warnings/venv\u001b[0m\u001b[33m\r\n",
      "\u001b[0mNote: you may need to restart the kernel to use updated packages.\n"
     ]
    }
   ],
   "source": [
    "%pip install feature_engine\n",
    "%pip install sktime\n",
    "%pip install darts"
   ]
  },
  {
   "cell_type": "code",
   "execution_count": 3,
   "id": "5177ac3e",
   "metadata": {
    "execution": {
     "iopub.execute_input": "2022-11-16T17:43:39.717978Z",
     "iopub.status.busy": "2022-11-16T17:43:39.717602Z",
     "iopub.status.idle": "2022-11-16T17:43:49.558728Z",
     "shell.execute_reply": "2022-11-16T17:43:49.557618Z"
    },
    "papermill": {
     "duration": 9.853997,
     "end_time": "2022-11-16T17:43:49.561120",
     "exception": false,
     "start_time": "2022-11-16T17:43:39.707123",
     "status": "completed"
    },
    "tags": []
   },
   "outputs": [
    {
     "data": {
      "text/html": [
       "<style type='text/css'>\n",
       ".datatable table.frame { margin-bottom: 0; }\n",
       ".datatable table.frame thead { border-bottom: none; }\n",
       ".datatable table.frame tr.coltypes td {  color: #FFFFFF;  line-height: 6px;  padding: 0 0.5em;}\n",
       ".datatable .bool    { background: #DDDD99; }\n",
       ".datatable .object  { background: #565656; }\n",
       ".datatable .int     { background: #5D9E5D; }\n",
       ".datatable .float   { background: #4040CC; }\n",
       ".datatable .str     { background: #CC4040; }\n",
       ".datatable .time    { background: #40CC40; }\n",
       ".datatable .row_index {  background: var(--jp-border-color3);  border-right: 1px solid var(--jp-border-color0);  color: var(--jp-ui-font-color3);  font-size: 9px;}\n",
       ".datatable .frame tbody td { text-align: left; }\n",
       ".datatable .frame tr.coltypes .row_index {  background: var(--jp-border-color0);}\n",
       ".datatable th:nth-child(2) { padding-left: 12px; }\n",
       ".datatable .hellipsis {  color: var(--jp-cell-editor-border-color);}\n",
       ".datatable .vellipsis {  background: var(--jp-layout-color0);  color: var(--jp-cell-editor-border-color);}\n",
       ".datatable .na {  color: var(--jp-cell-editor-border-color);  font-size: 80%;}\n",
       ".datatable .sp {  opacity: 0.25;}\n",
       ".datatable .footer { font-size: 9px; }\n",
       ".datatable .frame_dimensions {  background: var(--jp-border-color3);  border-top: 1px solid var(--jp-border-color0);  color: var(--jp-ui-font-color3);  display: inline-block;  opacity: 0.6;  padding: 1px 10px 1px 5px;}\n",
       "</style>\n"
      ],
      "text/plain": [
       "<IPython.core.display.HTML object>"
      ]
     },
     "metadata": {},
     "output_type": "display_data"
    }
   ],
   "source": [
    "import os\n",
    "import pickle\n",
    "import time\n",
    "\n",
    "# dataframe packages\n",
    "import pandas as pd\n",
    "import numpy as np\n",
    "import pmdarima as pmd\n",
    "import statsmodels.api as sm \n",
    "from scipy.stats import normaltest\n",
    "\n",
    "# visualization packages\n",
    "import seaborn as sns\n",
    "import matplotlib.pyplot as plt\n",
    "\n",
    "# sklearn packages\n",
    "from sklearn.model_selection import train_test_split\n",
    "from sklearn.preprocessing import StandardScaler\n",
    "from sklearn import linear_model\n",
    "\n",
    "# sklearn metrics\n",
    "from sklearn.metrics import (   r2_score, \n",
    "                                mean_absolute_error, \n",
    "                                mean_absolute_percentage_error, \n",
    "                                mean_squared_error)\n",
    "\n",
    "#pipeline & Custom pipeline\n",
    "from sklearn.pipeline import make_pipeline\n",
    "from sklearn.base import BaseEstimator\n",
    "from sklearn.base import TransformerMixin\n",
    "\n",
    "# darts modelling related packages\n",
    "from darts import TimeSeries\n",
    "from darts.utils.utils import SeasonalityMode\n",
    "from darts.models import (\n",
    "    NaiveSeasonal,\n",
    "    NaiveDrift,\n",
    "    Prophet,\n",
    "    ExponentialSmoothing,\n",
    "    ARIMA,\n",
    "    AutoARIMA,\n",
    "    Theta, \n",
    "    RegressionEnsembleModel)               # <<<<<<<<<<<<<<<<<<<<<<<<<<<<<\n",
    "\n",
    "from darts.metrics import mape, mase, mae, mse, ope, r2_score, rmse, rmsle\n",
    "from darts.utils.statistics import check_seasonality, plot_acf, plot_residuals_analysis\n",
    "from darts.dataprocessing.transformers.boxcox import BoxCox\n",
    "\n",
    "#feature engine packages\n",
    "from feature_engine.creation import CyclicalFeatures\n",
    "\n",
    "#statsmodels packages\n",
    "from statsmodels.tsa.api import SimpleExpSmoothing\n",
    "\n",
    "import warnings\n",
    "warnings.filterwarnings('ignore')\n",
    "\n",
    "import datetime\n",
    "pd.set_option('display.max_columns', 500)\n",
    "pd.set_option('display.max_rows', 500)"
   ]
  },
  {
   "cell_type": "code",
   "execution_count": 4,
   "id": "b08ae4d8",
   "metadata": {
    "execution": {
     "iopub.execute_input": "2022-11-16T17:43:49.581440Z",
     "iopub.status.busy": "2022-11-16T17:43:49.579948Z",
     "iopub.status.idle": "2022-11-16T17:43:54.856337Z",
     "shell.execute_reply": "2022-11-16T17:43:54.854924Z"
    },
    "papermill": {
     "duration": 5.288306,
     "end_time": "2022-11-16T17:43:54.858403",
     "exception": false,
     "start_time": "2022-11-16T17:43:49.570097",
     "status": "completed"
    },
    "tags": []
   },
   "outputs": [
    {
     "name": "stdout",
     "output_type": "stream",
     "text": [
      "Shape of X_train:  (7774854, 75)\n",
      "Shape of X_test:  (116760, 75)\n",
      "Shape of y_train:  (7774854, 3)\n",
      "Shape of y_test:  (116760, 3)\n"
     ]
    }
   ],
   "source": [
    "# Load dataframe\n",
    "X_train = pd.read_feather(\"../input/m5featureenginedataset/X_train.feather\")\n",
    "X_test = pd.read_feather(\"../input/m5featureenginedataset/X_test.feather\")\n",
    "y_train = pd.read_feather(\"../input/m5featureenginedataset/y_train.feather\")\n",
    "y_test = pd.read_feather(\"../input/m5featureenginedataset/y_test.feather\")\n",
    "print(\"Shape of X_train: \", X_train.shape)\n",
    "print(\"Shape of X_test: \", X_test.shape)\n",
    "print(\"Shape of y_train: \", y_train.shape)\n",
    "print(\"Shape of y_test: \", y_test.shape)"
   ]
  },
  {
   "cell_type": "code",
   "execution_count": 5,
   "id": "895182a6",
   "metadata": {
    "execution": {
     "iopub.execute_input": "2022-11-16T17:43:54.877467Z",
     "iopub.status.busy": "2022-11-16T17:43:54.876676Z",
     "iopub.status.idle": "2022-11-16T17:44:01.964649Z",
     "shell.execute_reply": "2022-11-16T17:44:01.963447Z"
    },
    "papermill": {
     "duration": 7.099579,
     "end_time": "2022-11-16T17:44:01.966801",
     "exception": false,
     "start_time": "2022-11-16T17:43:54.867222",
     "status": "completed"
    },
    "tags": []
   },
   "outputs": [
    {
     "name": "stdout",
     "output_type": "stream",
     "text": [
      "TrainShape:  (7774854, 4)  TestShape:  (116760, 4)\n"
     ]
    },
    {
     "data": {
      "image/png": "[encoded data removed]",
      "text/plain": [
       "<Figure size 1440x360 with 1 Axes>"
      ]
     },
     "metadata": {
      "needs_background": "light"
     },
     "output_type": "display_data"
    }
   ],
   "source": [
    "#===== using darts we're using only traditional time series approach ======#\n",
    "y_train = pd.merge(y_train, X_train[[\"id\",\"d\",\"date\"]].drop_duplicates(), how = \"left\", on = [\"id\",\"d\"])\n",
    "y_test = pd.merge(y_test, X_test[[\"id\",\"d\",\"date\"]].drop_duplicates(), how = \"left\", on = [\"id\",\"d\"])\n",
    "print(\"TrainShape: \",y_train.shape, \" TestShape: \", y_test.shape)\n",
    "del X_train, X_test\n",
    "import gc\n",
    "gc.collect()\n",
    "\n",
    "#====== y_train, y_test preprocessing ========#\n",
    "y_train = y_train.sort_values(by = [\"id\",\"d\"], ascending = True)\n",
    "y_test = y_test.sort_values(by = [\"id\",\"d\"], ascending = True)\n",
    "y_train.set_index(\"date\", inplace = True)\n",
    "y_test.set_index(\"date\", inplace = True)\n",
    "\n",
    "# Because we dadd_prefixon't have any hyparparameters in traditional time series modelling we are not splitting into validation instead we are going with \n",
    "# train and test dateset \n",
    "plt.figure(101, figsize=(20, 5))\n",
    "y_train[y_train[\"id\"]==41][\"sold\"].plot(label = \"training\")\n",
    "y_test[y_test[\"id\"]==41][\"sold\"].plot(label = \"testing\")\n",
    "plt.legend();"
   ]
  },
  {
   "cell_type": "markdown",
   "id": "084e8e94",
   "metadata": {
    "execution": {
     "iopub.execute_input": "2022-11-16T10:22:57.477414Z",
     "iopub.status.busy": "2022-11-16T10:22:57.476963Z",
     "iopub.status.idle": "2022-11-16T10:22:57.483229Z",
     "shell.execute_reply": "2022-11-16T10:22:57.481875Z",
     "shell.execute_reply.started": "2022-11-16T10:22:57.477374Z"
    },
    "papermill": {
     "duration": 0.009481,
     "end_time": "2022-11-16T17:44:01.986340",
     "exception": false,
     "start_time": "2022-11-16T17:44:01.976859",
     "status": "completed"
    },
    "tags": []
   },
   "source": [
    "## Seasonality lag Identification"
   ]
  },
  {
   "cell_type": "code",
   "execution_count": 6,
   "id": "ac374f8d",
   "metadata": {
    "execution": {
     "iopub.execute_input": "2022-11-16T17:44:02.008500Z",
     "iopub.status.busy": "2022-11-16T17:44:02.008067Z",
     "iopub.status.idle": "2022-11-16T17:45:14.414437Z",
     "shell.execute_reply": "2022-11-16T17:45:14.413505Z"
    },
    "papermill": {
     "duration": 72.420107,
     "end_time": "2022-11-16T17:45:14.416754",
     "exception": false,
     "start_time": "2022-11-16T17:44:01.996647",
     "status": "completed"
    },
    "tags": []
   },
   "outputs": [],
   "source": [
    "def seasonality_ts(train:pd.Series):\n",
    "    seas_df = pd.DataFrame([])\n",
    "    \n",
    "    for i in train[\"id\"].unique():\n",
    "        series = TimeSeries.from_series(train[train[\"id\"]==i][\"sold\"].sort_index(ascending = True))\n",
    "        ALPHA = 0.05\n",
    "        for m in range(2, 25):\n",
    "            is_seasonal, mseas = check_seasonality(series, m=m, alpha=ALPHA)\n",
    "            if is_seasonal:\n",
    "                break\n",
    "\n",
    "        if is_seasonal:\n",
    "            df_ses = pd.DataFrame({\"Id\":[i], \"Seasonality_Order\":[mseas],\"Is_Seasonal\":is_seasonal})\n",
    "            seas_df = pd.concat([seas_df, df_ses], axis = 0)\n",
    "        else:\n",
    "            df_ses = pd.DataFrame({\"Id\":[i], \"Seasonality_Order\":[0],\"Is_Seasonal\":is_seasonal})\n",
    "            seas_df = pd.concat([seas_df, df_ses], axis = 0)\n",
    "        \n",
    "    return seas_df\n",
    "\n",
    "df_seasonal = seasonality_ts(y_train)\n",
    "df_seasonal.reset_index(drop = True, inplace = True)"
   ]
  },
  {
   "cell_type": "markdown",
   "id": "245ee15b",
   "metadata": {
    "execution": {
     "iopub.execute_input": "2022-11-16T10:23:50.776581Z",
     "iopub.status.busy": "2022-11-16T10:23:50.775797Z",
     "iopub.status.idle": "2022-11-16T10:23:50.782036Z",
     "shell.execute_reply": "2022-11-16T10:23:50.780678Z",
     "shell.execute_reply.started": "2022-11-16T10:23:50.776521Z"
    },
    "papermill": {
     "duration": 0.009235,
     "end_time": "2022-11-16T17:45:14.436874",
     "exception": false,
     "start_time": "2022-11-16T17:45:14.427639",
     "status": "completed"
    },
    "tags": []
   },
   "source": [
    "## Accuracy Metrics"
   ]
  },
  {
   "cell_type": "code",
   "execution_count": 7,
   "id": "b0eb3a55",
   "metadata": {
    "execution": {
     "iopub.execute_input": "2022-11-16T17:45:14.457251Z",
     "iopub.status.busy": "2022-11-16T17:45:14.456862Z",
     "iopub.status.idle": "2022-11-16T17:45:14.465559Z",
     "shell.execute_reply": "2022-11-16T17:45:14.464237Z"
    },
    "papermill": {
     "duration": 0.02227,
     "end_time": "2022-11-16T17:45:14.468214",
     "exception": false,
     "start_time": "2022-11-16T17:45:14.445944",
     "status": "completed"
    },
    "tags": []
   },
   "outputs": [],
   "source": [
    "# compute accuracy metrics and processing time\n",
    "\n",
    "def accuracy_metrics(model, act, forecast, resid, t_start):\n",
    "    sr = resid.pd_series()\n",
    "    sa = act.pd_series()\n",
    "    n_act = len(act)\n",
    "    from sklearn.metrics import mean_absolute_percentage_error\n",
    "    res_mape = mean_absolute_percentage_error(np.where(act.pd_series() ==0.0, 0.1, act.pd_series()), forecast.pd_series())\n",
    "    #res_mae = mae(act, forecast)\n",
    "    res_r2 = r2_score(act, forecast)\n",
    "    res_rmse = rmse(act, forecast)\n",
    "    res_rmsle = rmsle(act, forecast)\n",
    "    res_pe = sr / sa\n",
    "    res_rmspe = np.sqrt(np.sum(res_pe**2) / n_act)    # root mean square percentage error\n",
    "\n",
    "    res_time = time.perf_counter() - t_start\n",
    "    \n",
    "    res_mean = np.mean(sr)\n",
    "    res_std = np.std(sr)                               # std error of the model = std deviation of the noise\n",
    "    res_se = res_std / np.sqrt(n_act)                  # std error in estimating the mean\n",
    "    res_sefc = np.sqrt(res_std + res_se**2)            # std error of the forecast\n",
    "    \n",
    "    res_accuracy = {'model': model, \"mape\":res_mape,\"RMSE\":res_rmse, \"-R squared\":-res_r2, \n",
    "        \"se\": res_sefc, \"time\":res_time}\n",
    "    return res_accuracy"
   ]
  },
  {
   "cell_type": "code",
   "execution_count": 8,
   "id": "03b1691e",
   "metadata": {
    "execution": {
     "iopub.execute_input": "2022-11-16T17:45:14.491313Z",
     "iopub.status.busy": "2022-11-16T17:45:14.489926Z",
     "iopub.status.idle": "2022-11-16T17:45:14.499551Z",
     "shell.execute_reply": "2022-11-16T17:45:14.498109Z"
    },
    "papermill": {
     "duration": 0.023596,
     "end_time": "2022-11-16T17:45:14.501666",
     "exception": false,
     "start_time": "2022-11-16T17:45:14.478070",
     "status": "completed"
    },
    "tags": []
   },
   "outputs": [],
   "source": [
    "## fit the chosen forecaster model and compute predictions\n",
    "def eval_model(model, is_seasonal, mseas, train, val):\n",
    "    t_start =  time.perf_counter()\n",
    "    print(\"beginning: \" + str(model))\n",
    "\n",
    "\n",
    "    # fit the model and compute predictions\n",
    "    n_val = len(val)\n",
    "    res = model.fit(train)\n",
    "    forecast = model.predict(n_val)\n",
    "\n",
    "\n",
    "    # for naive forecast, concatenate seasonal fc with drift fc\n",
    "    if model == NaiveDrift():\n",
    "        if is_seasonal:\n",
    "            fc_drift = forecast\n",
    "            modelS = NaiveSeasonal(K=mseas)\n",
    "            modelS.fit(train)\n",
    "            fc_seas = modelS.predict(len(val))\n",
    "            forecast = fc_drift + fc_seas - train.last_value()\n",
    "            \n",
    "\n",
    "    resid = forecast - val\n",
    "    res_accuracy = accuracy_metrics(model,val, forecast, resid, t_start)\n",
    "    \n",
    "    \n",
    "    results = [forecast, res_accuracy]\n",
    "    print(\"completed: \" + str(model) + \":\" + str(res_accuracy[\"time\"]) + \" sec\")\n",
    "    return results"
   ]
  },
  {
   "cell_type": "code",
   "execution_count": 9,
   "id": "32884981",
   "metadata": {
    "execution": {
     "iopub.execute_input": "2022-11-16T17:45:14.524000Z",
     "iopub.status.busy": "2022-11-16T17:45:14.523295Z",
     "iopub.status.idle": "2022-11-16T17:45:14.548007Z",
     "shell.execute_reply": "2022-11-16T17:45:14.547165Z"
    },
    "papermill": {
     "duration": 0.038559,
     "end_time": "2022-11-16T17:45:14.550392",
     "exception": false,
     "start_time": "2022-11-16T17:45:14.511833",
     "status": "completed"
    },
    "tags": []
   },
   "outputs": [],
   "source": [
    "class model_run_traditional_time_series():\n",
    "    \n",
    "    def __init__(self, y_train:pd.Series, y_test:pd.Series , is_seasonal:bool, mseas : int):\n",
    "        self.y_train = y_train\n",
    "        self.y_test = y_test\n",
    "        self.is_seasonal = is_seasonal\n",
    "        self.mseas = mseas\n",
    "        \n",
    "    #======= conversion to darts series =========#\n",
    "    def darts_ts(self):\n",
    "        series_train = TimeSeries.from_series(self.y_train[\"sold\"].sort_index(ascending = True))\n",
    "        series_test = TimeSeries.from_series(self.y_test[\"sold\"].sort_index(ascending = True))\n",
    "        return series_train, series_test\n",
    "    \n",
    "    def darts_naive(self):\n",
    "        m_naive = NaiveDrift()\n",
    "        result_naive = eval_model(m_naive, is_seasonal = self.is_seasonal, mseas = self.mseas, train = self.series_train, val = self.series_test)\n",
    "        return result_naive\n",
    "    \n",
    "    def darts_prophet(self):\n",
    "        m_prophet = Prophet()\n",
    "        result_prophet = eval_model(m_prophet,is_seasonal = self.is_seasonal, mseas = self.mseas, train = self.series_train, val = self.series_test)\n",
    "        return result_prophet\n",
    "    \n",
    "    def darts_exponential(self):\n",
    "        print(self.is_seasonal)\n",
    "        if self.is_seasonal == True:\n",
    "            m_expon = ExponentialSmoothing(seasonal_periods=self.mseas)\n",
    "        else:\n",
    "            m_expon = ExponentialSmoothing()\n",
    "            \n",
    "        result_expon = eval_model(m_expon,is_seasonal = self.is_seasonal, mseas = self.mseas, train = self.series_train, val = self.series_test) \n",
    "        \n",
    "        return result_expon\n",
    "    \n",
    "    def darts_arima(self):\n",
    "        # prepare ARIMA forecaster\n",
    "        ALPHA = 0.05\n",
    "        TRACE = False\n",
    "        y = np.asarray(self.series_train.pd_series())\n",
    "        # get order of first differencing: the higher of KPSS and ADF test results\n",
    "        n_kpss = pmd.arima.ndiffs(y, alpha=ALPHA, test='kpss', max_d=2)\n",
    "        n_adf = pmd.arima.ndiffs(y, alpha=ALPHA, test='adf', max_d=2)\n",
    "        n_diff = max(n_adf, n_kpss)\n",
    "\n",
    "        # get order of seasonal differencing: the higher of OCSB and CH test results\n",
    "        n_ocsb = pmd.arima.OCSBTest(m=max(4,self.mseas)).estimate_seasonal_differencing_term(y)\n",
    "        n_ch = pmd.arima.CHTest(m=max(4,self.mseas)).estimate_seasonal_differencing_term(y)\n",
    "        ns_diff = max(n_ocsb, n_ch, self.is_seasonal * 1)\n",
    "\n",
    "        # set up the ARIMA forecaster\n",
    "        m_arima = AutoARIMA(\n",
    "            start_p=1, d=n_diff, start_q=1,\n",
    "            max_p=3, max_d=n_diff, max_q=3,\n",
    "            start_P=0, D=ns_diff, start_Q=0, m=max(4,self.mseas), seasonal=self.is_seasonal,\n",
    "            max_P=3, max_D=1, max_Q=3,\n",
    "            max_order=5,                       # p+q+p+Q <= max_order\n",
    "            stationary=False, \n",
    "            information_criterion=\"bic\", alpha=ALPHA, \n",
    "            test=\"kpss\", seasonal_test=\"ocsb\",\n",
    "            stepwise=True, \n",
    "            suppress_warnings=True, error_action=\"trace\", trace=TRACE, with_intercept=\"auto\")\n",
    "        \n",
    "        result_arima = eval_model(m_arima,is_seasonal = self.is_seasonal, mseas = self.mseas, train = self.series_train, val = self.series_test) \n",
    "        return result_arima\n",
    "    \n",
    "    def darts_theta(self):\n",
    "        \n",
    "        # search space for best theta value: check 100 alternatives\n",
    "        thetas = 2 - np.linspace(-10, 10, 100)\n",
    "\n",
    "        # initialize search\n",
    "        best_mape = float('inf')\n",
    "        best_theta = 0\n",
    "        # search for best theta among 50 values, as measured by MAPE\n",
    "        for theta in thetas:\n",
    "            model = Theta(theta,season_mode=SeasonalityMode.ADDITIVE)\n",
    "            res = model.fit(self.series_train)\n",
    "            pred_theta = model.predict(len(self.series_test))\n",
    "            res_mape = rmse(self.series_test, pred_theta)\n",
    "\n",
    "            if res_mape < best_mape:\n",
    "                best_mape = res_mape\n",
    "                best_theta = theta\n",
    "\n",
    "        m_theta = Theta(best_theta, season_mode=SeasonalityMode.ADDITIVE)   # best theta model among 100\n",
    "        result_theta = eval_model(m_theta,is_seasonal = self.is_seasonal, mseas = self.mseas, train = self.series_train, val = self.series_test) \n",
    "        return result_theta\n",
    "        \n",
    "    \n",
    "    def transform(self):\n",
    "        # get darts transformed time series\n",
    "        self.series_train, self.series_test = self.darts_ts()\n",
    "        # get results for darts naive model\n",
    "        result_naive = self.darts_naive()\n",
    "        # get results for darts prophet model\n",
    "        result_prophet = self.darts_prophet()\n",
    "        # get results for darts exponential model\n",
    "        result_expon = self.darts_exponential()\n",
    "        # get results for darts arima model\n",
    "        result_arima = self.darts_arima()\n",
    "        # get results for darts theta model\n",
    "        result_theta = self.darts_theta()\n",
    "        \n",
    "        #========== Accuracy metrics ================#\n",
    "        result_naive[1].update({\"model\":\"naive\"})\n",
    "        result_prophet[1].update({\"model\":\"prophet\"})\n",
    "        result_expon[1].update({\"model\":\"exponential\"})\n",
    "        result_arima[1].update({\"model\":\"arima\"})\n",
    "        result_theta[1].update({\"model\":\"theta\"})\n",
    "\n",
    "        acc_met = pd.DataFrame([result_naive[1], \n",
    "                                result_prophet[1], \n",
    "                                result_expon[1], \n",
    "                                result_arima[1], \n",
    "                                result_theta[1]])\n",
    "        \n",
    "        acc_met[\"id\"] = self.y_train[\"id\"].unique()[0]\n",
    "        \n",
    "        #========== forecast test ================#\n",
    "        forecast = pd.concat([result_naive[0].pd_dataframe().rename(columns = {\"sold\":\"naive\"}),\n",
    "                    result_prophet[0].pd_dataframe().rename(columns = {\"sold\":\"prophet\"}),\n",
    "                    result_expon[0].pd_dataframe().rename(columns = {\"sold\":\"exponential\"}),\n",
    "                    result_arima[0].pd_dataframe().rename(columns = {\"sold\":\"arima\"}),\n",
    "                    result_theta[0].pd_dataframe().rename(columns = {\"sold\":\"thetha\"})], axis = 1).reset_index()\n",
    "        forecast[\"id\"] = self.y_train[\"id\"].unique()[0]\n",
    "        \n",
    "        return forecast, acc_met"
   ]
  },
  {
   "cell_type": "code",
   "execution_count": 10,
   "id": "411b6bbe",
   "metadata": {
    "collapsed": true,
    "execution": {
     "iopub.execute_input": "2022-11-16T17:45:14.574063Z",
     "iopub.status.busy": "2022-11-16T17:45:14.573166Z",
     "iopub.status.idle": "2022-11-17T03:41:26.780552Z",
     "shell.execute_reply": "2022-11-17T03:41:26.778895Z"
    },
    "jupyter": {
     "outputs_hidden": true
    },
    "papermill": {
     "duration": 35772.223318,
     "end_time": "2022-11-17T03:41:26.785085",
     "exception": false,
     "start_time": "2022-11-16T17:45:14.561767",
     "status": "completed"
    },
    "tags": []
   },
   "outputs": [
    {
     "name": "stderr",
     "output_type": "stream",
     "text": [
      "17:45:14 - cmdstanpy - INFO - Chain [1] start processing\n"
     ]
    },
    {
     "name": "stdout",
     "output_type": "stream",
     "text": [
      "beginning: Naive drift model\n",
      "completed: Naive drift model:0.0405023410000922 sec\n",
      "beginning: Prophet\n"
     ]
    },
    {
     "name": "stderr",
     "output_type": "stream",
     "text": [
      "17:45:15 - cmdstanpy - INFO - Chain [1] done processing\n"
     ]
    },
    {
     "name": "stdout",
     "output_type": "stream",
     "text": [
      "completed: Prophet:0.8322404630000619 sec\n",
      "True\n",
      "beginning: ExponentialSmoothing(trend=ModelMode.ADDITIVE, damped=False, seasonal=SeasonalityMode.ADDITIVE, seasonal_periods=6\n",
      "completed: ExponentialSmoothing(trend=ModelMode.ADDITIVE, damped=False, seasonal=SeasonalityMode.ADDITIVE, seasonal_periods=6:0.3434575329999916 sec\n",
      "beginning: Auto-ARIMA\n",
      "completed: Auto-ARIMA:68.14792566400001 sec\n",
      "beginning: Theta(0.08080808080808133)\n",
      "completed: Theta(0.08080808080808133):0.05778512500000943 sec\n",
      "Combination  1 of 4170\n",
      "beginning: Naive drift model\n",
      "completed: Naive drift model:0.036453926999911346 sec\n",
      "beginning: Prophet\n"
     ]
    },
    {
     "name": "stderr",
     "output_type": "stream",
     "text": [
      "17:46:27 - cmdstanpy - INFO - Chain [1] start processing\n",
      "17:46:27 - cmdstanpy - INFO - Chain [1] done processing\n"
     ]
    },
    {
     "name": "stdout",
     "output_type": "stream",
     "text": [
      "completed: Prophet:0.7103652429999556 sec\n",
      "True\n",
      "beginning: ExponentialSmoothing(trend=ModelMode.ADDITIVE, damped=False, seasonal=SeasonalityMode.ADDITIVE, seasonal_periods=4\n",
      "completed: ExponentialSmoothing(trend=ModelMode.ADDITIVE, damped=False, seasonal=SeasonalityMode.ADDITIVE, seasonal_periods=4:0.33082020400001966 sec\n",
      "beginning: Auto-ARIMA\n",
      "completed: Auto-ARIMA:66.059530344 sec\n",
      "beginning: Theta(-0.1212121212121211)\n",
      "completed: Theta(-0.1212121212121211):0.05469805399991401 sec\n",
      "Combination  2 of 4170\n",
      "beginning: Naive drift model\n",
      "completed: Naive drift model:0.0382568560000891 sec\n",
      "beginning: Prophet\n"
     ]
    },
    {
     "name": "stderr",
     "output_type": "stream",
     "text": [
      "17:47:38 - cmdstanpy - INFO - Chain [1] start processing\n",
      "17:47:38 - cmdstanpy - INFO - Chain [1] done processing\n"
     ]
    },
    {
     "name": "stdout",
     "output_type": "stream",
     "text": [
      "completed: Prophet:1.0129815129999997 sec\n",
      "True\n",
      "beginning: ExponentialSmoothing(trend=ModelMode.ADDITIVE, damped=False, seasonal=SeasonalityMode.ADDITIVE, seasonal_periods=3\n",
      "completed: ExponentialSmoothing(trend=ModelMode.ADDITIVE, damped=False, seasonal=SeasonalityMode.ADDITIVE, seasonal_periods=3:0.3479550129999325 sec\n",
      "beginning: Auto-ARIMA\n",
      "completed: Auto-ARIMA:41.93205759800003 sec\n",
      "beginning: Theta(0.08080808080808133)\n",
      "completed: Theta(0.08080808080808133):0.05295407400001295 sec\n",
      "Combination  3 of 4170\n",
      "beginning: Naive drift model\n",
      "completed: Naive drift model:0.037468816000000515 sec\n",
      "beginning: Prophet\n"
     ]
    },
    {
     "name": "stderr",
     "output_type": "stream",
     "text": [
      "17:48:25 - cmdstanpy - INFO - Chain [1] start processing\n",
      "17:48:25 - cmdstanpy - INFO - Chain [1] done processing\n"
     ]
    },
    {
     "name": "stdout",
     "output_type": "stream",
     "text": [
      "completed: Prophet:0.7726337279999598 sec\n",
      "True\n",
      "beginning: ExponentialSmoothing(trend=ModelMode.ADDITIVE, damped=False, seasonal=SeasonalityMode.ADDITIVE, seasonal_periods=4\n",
      "completed: ExponentialSmoothing(trend=ModelMode.ADDITIVE, damped=False, seasonal=SeasonalityMode.ADDITIVE, seasonal_periods=4:0.3319178850000526 sec\n",
      "beginning: Auto-ARIMA\n",
      "completed: Auto-ARIMA:45.686937132000025 sec\n",
      "beginning: Theta(-0.1212121212121211)\n",
      "completed: Theta(-0.1212121212121211):0.05515344599996297 sec\n",
      "Combination  4 of 4170\n",
      "beginning: Naive drift model\n",
      "completed: Naive drift model:0.04220523700007561 sec\n",
      "beginning: Prophet\n"
     ]
    },
    {
     "name": "stderr",
     "output_type": "stream",
     "text": [
      "17:49:15 - cmdstanpy - INFO - Chain [1] start processing\n",
      "17:49:15 - cmdstanpy - INFO - Chain [1] done processing\n"
     ]
    },
    {
     "name": "stdout",
     "output_type": "stream",
     "text": [
      "completed: Prophet:1.0976763639999945 sec\n",
      "True\n",
      "beginning: ExponentialSmoothing(trend=ModelMode.ADDITIVE, damped=False, seasonal=SeasonalityMode.ADDITIVE, seasonal_periods=6\n",
      "completed: ExponentialSmoothing(trend=ModelMode.ADDITIVE, damped=False, seasonal=SeasonalityMode.ADDITIVE, seasonal_periods=6:0.33769539699994766 sec\n",
      "beginning: Auto-ARIMA\n",
      "completed: Auto-ARIMA:45.63693173299998 sec\n",
      "beginning: Theta(-0.32323232323232354)\n",
      "completed: Theta(-0.32323232323232354):0.055359477000024526 sec\n",
      "Combination  5 of 4170\n",
      "beginning: Naive drift model\n",
      "completed: Naive drift model:0.036693447999937234 sec\n",
      "beginning: Prophet\n"
     ]
    },
    {
     "name": "stderr",
     "output_type": "stream",
     "text": [
      "17:50:05 - cmdstanpy - INFO - Chain [1] start processing\n",
      "17:50:06 - cmdstanpy - INFO - Chain [1] done processing\n"
     ]
    },
    {
     "name": "stdout",
     "output_type": "stream",
     "text": [
      "completed: Prophet:0.7585666510000237 sec\n",
      "True\n",
      "beginning: ExponentialSmoothing(trend=ModelMode.ADDITIVE, damped=False, seasonal=SeasonalityMode.ADDITIVE, seasonal_periods=7\n",
      "completed: ExponentialSmoothing(trend=ModelMode.ADDITIVE, damped=False, seasonal=SeasonalityMode.ADDITIVE, seasonal_periods=7:0.31449883400000544 sec\n",
      "beginning: Auto-ARIMA\n",
      "completed: Auto-ARIMA:82.19809749900003 sec\n",
      "beginning: Theta(0.28282828282828376)\n",
      "completed: Theta(0.28282828282828376):0.05568132700000206 sec\n",
      "Combination  6 of 4170\n",
      "beginning: Naive drift model\n",
      "completed: Naive drift model:0.036427967999998145 sec\n",
      "beginning: Prophet\n"
     ]
    },
    {
     "name": "stderr",
     "output_type": "stream",
     "text": [
      "17:51:32 - cmdstanpy - INFO - Chain [1] start processing\n",
      "17:51:32 - cmdstanpy - INFO - Chain [1] done processing\n"
     ]
    },
    {
     "name": "stdout",
     "output_type": "stream",
     "text": [
      "completed: Prophet:0.7116368929999908 sec\n",
      "True\n",
      "beginning: ExponentialSmoothing(trend=ModelMode.ADDITIVE, damped=False, seasonal=SeasonalityMode.ADDITIVE, seasonal_periods=7\n",
      "completed: ExponentialSmoothing(trend=ModelMode.ADDITIVE, damped=False, seasonal=SeasonalityMode.ADDITIVE, seasonal_periods=7:0.3233967030000713 sec\n",
      "beginning: Auto-ARIMA\n",
      "completed: Auto-ARIMA:31.55839923999997 sec\n",
      "beginning: Theta(0.08080808080808133)\n",
      "completed: Theta(0.08080808080808133):0.0554632580000316 sec\n",
      "Combination  7 of 4170\n",
      "beginning: Naive drift model\n",
      "completed: Naive drift model:0.035683729999959724 sec\n",
      "beginning: Prophet\n"
     ]
    },
    {
     "name": "stderr",
     "output_type": "stream",
     "text": [
      "17:52:08 - cmdstanpy - INFO - Chain [1] start processing\n",
      "17:52:08 - cmdstanpy - INFO - Chain [1] done processing\n"
     ]
    },
    {
     "name": "stdout",
     "output_type": "stream",
     "text": [
      "completed: Prophet:1.0341820369999368 sec\n",
      "True\n",
      "beginning: ExponentialSmoothing(trend=ModelMode.ADDITIVE, damped=False, seasonal=SeasonalityMode.ADDITIVE, seasonal_periods=3\n",
      "completed: ExponentialSmoothing(trend=ModelMode.ADDITIVE, damped=False, seasonal=SeasonalityMode.ADDITIVE, seasonal_periods=3:0.30198187399992094 sec\n",
      "beginning: Auto-ARIMA\n",
      "completed: Auto-ARIMA:42.17004984099992 sec\n",
      "beginning: Theta(0.08080808080808133)\n",
      "completed: Theta(0.08080808080808133):0.05544792000000598 sec\n",
      "Combination  8 of 4170\n",
      "beginning: Naive drift model\n",
      "completed: Naive drift model:0.03899926000008236 sec\n",
      "beginning: Prophet\n"
     ]
    },
    {
     "name": "stderr",
     "output_type": "stream",
     "text": [
      "17:52:55 - cmdstanpy - INFO - Chain [1] start processing\n",
      "17:52:55 - cmdstanpy - INFO - Chain [1] done processing\n"
     ]
    },
    {
     "name": "stdout",
     "output_type": "stream",
     "text": [
      "completed: Prophet:0.7666560299999219 sec\n",
      "True\n",
      "beginning: ExponentialSmoothing(trend=ModelMode.ADDITIVE, damped=False, seasonal=SeasonalityMode.ADDITIVE, seasonal_periods=8\n",
      "completed: ExponentialSmoothing(trend=ModelMode.ADDITIVE, damped=False, seasonal=SeasonalityMode.ADDITIVE, seasonal_periods=8:0.3107948749998286 sec\n",
      "beginning: Auto-ARIMA\n",
      "completed: Auto-ARIMA:97.16711814500013 sec\n",
      "beginning: Theta(0.08080808080808133)\n",
      "completed: Theta(0.08080808080808133):0.05279124900016541 sec\n",
      "Combination  9 of 4170\n",
      "beginning: Naive drift model\n",
      "completed: Naive drift model:0.0409540289999768 sec\n",
      "beginning: Prophet\n"
     ]
    },
    {
     "name": "stderr",
     "output_type": "stream",
     "text": [
      "17:54:37 - cmdstanpy - INFO - Chain [1] start processing\n",
      "17:54:37 - cmdstanpy - INFO - Chain [1] done processing\n"
     ]
    },
    {
     "name": "stdout",
     "output_type": "stream",
     "text": [
      "completed: Prophet:0.8146898200000123 sec\n",
      "True\n",
      "beginning: ExponentialSmoothing(trend=ModelMode.ADDITIVE, damped=False, seasonal=SeasonalityMode.ADDITIVE, seasonal_periods=4\n",
      "completed: ExponentialSmoothing(trend=ModelMode.ADDITIVE, damped=False, seasonal=SeasonalityMode.ADDITIVE, seasonal_periods=4:0.3291967850000219 sec\n",
      "beginning: Auto-ARIMA\n",
      "completed: Auto-ARIMA:43.84316512800001 sec\n",
      "beginning: Theta(-0.1212121212121211)\n",
      "completed: Theta(-0.1212121212121211):0.05477027699998871 sec\n",
      "Combination  10 of 4170\n",
      "beginning: Naive drift model\n",
      "completed: Naive drift model:0.03839859799995793 sec\n",
      "beginning: Prophet\n"
     ]
    },
    {
     "name": "stderr",
     "output_type": "stream",
     "text": [
      "17:55:25 - cmdstanpy - INFO - Chain [1] start processing\n",
      "17:55:25 - cmdstanpy - INFO - Chain [1] done processing\n"
     ]
    },
    {
     "name": "stdout",
     "output_type": "stream",
     "text": [
      "completed: Prophet:1.2041403880000416 sec\n",
      "True\n",
      "beginning: ExponentialSmoothing(trend=ModelMode.ADDITIVE, damped=False, seasonal=SeasonalityMode.ADDITIVE, seasonal_periods=3\n",
      "completed: ExponentialSmoothing(trend=ModelMode.ADDITIVE, damped=False, seasonal=SeasonalityMode.ADDITIVE, seasonal_periods=3:0.3262027640000724 sec\n",
      "beginning: Auto-ARIMA\n",
      "completed: Auto-ARIMA:46.25161478700011 sec\n",
      "beginning: Theta(0.08080808080808133)\n",
      "completed: Theta(0.08080808080808133):0.0550125869999647 sec\n",
      "Combination  11 of 4170\n",
      "beginning: Naive drift model\n",
      "completed: Naive drift model:0.03578181800003222 sec\n",
      "beginning: Prophet\n"
     ]
    },
    {
     "name": "stderr",
     "output_type": "stream",
     "text": [
      "17:56:17 - cmdstanpy - INFO - Chain [1] start processing\n",
      "17:56:17 - cmdstanpy - INFO - Chain [1] done processing\n"
     ]
    },
    {
     "name": "stdout",
     "output_type": "stream",
     "text": [
      "completed: Prophet:0.724138283000002 sec\n",
      "True\n",
      "beginning: ExponentialSmoothing(trend=ModelMode.ADDITIVE, damped=False, seasonal=SeasonalityMode.ADDITIVE, seasonal_periods=4\n",
      "completed: ExponentialSmoothing(trend=ModelMode.ADDITIVE, damped=False, seasonal=SeasonalityMode.ADDITIVE, seasonal_periods=4:0.3113303539998924 sec\n",
      "beginning: Auto-ARIMA\n",
      "completed: Auto-ARIMA:45.55751277299987 sec\n",
      "beginning: Theta(0.08080808080808133)\n",
      "completed: Theta(0.08080808080808133):0.062028521000002 sec\n",
      "Combination  12 of 4170\n",
      "beginning: Naive drift model\n",
      "completed: Naive drift model:0.03690177400017092 sec\n",
      "beginning: Prophet\n"
     ]
    },
    {
     "name": "stderr",
     "output_type": "stream",
     "text": [
      "17:57:07 - cmdstanpy - INFO - Chain [1] start processing\n",
      "17:57:07 - cmdstanpy - INFO - Chain [1] done processing\n"
     ]
    },
    {
     "name": "stdout",
     "output_type": "stream",
     "text": [
      "completed: Prophet:0.7156403449998834 sec\n",
      "True\n",
      "beginning: ExponentialSmoothing(trend=ModelMode.ADDITIVE, damped=False, seasonal=SeasonalityMode.ADDITIVE, seasonal_periods=4\n",
      "completed: ExponentialSmoothing(trend=ModelMode.ADDITIVE, damped=False, seasonal=SeasonalityMode.ADDITIVE, seasonal_periods=4:0.31119823400013047 sec\n",
      "beginning: Auto-ARIMA\n",
      "completed: Auto-ARIMA:40.17237413700013 sec\n",
      "beginning: Theta(-0.32323232323232354)\n",
      "completed: Theta(-0.32323232323232354):0.05511537200004568 sec\n",
      "Combination  13 of 4170\n",
      "beginning: Naive drift model\n",
      "completed: Naive drift model:0.036545374000070296 sec\n",
      "beginning: Prophet\n"
     ]
    },
    {
     "name": "stderr",
     "output_type": "stream",
     "text": [
      "17:57:51 - cmdstanpy - INFO - Chain [1] start processing\n",
      "17:57:52 - cmdstanpy - INFO - Chain [1] done processing\n"
     ]
    },
    {
     "name": "stdout",
     "output_type": "stream",
     "text": [
      "completed: Prophet:1.1909135549999519 sec\n",
      "True\n",
      "beginning: ExponentialSmoothing(trend=ModelMode.ADDITIVE, damped=False, seasonal=SeasonalityMode.ADDITIVE, seasonal_periods=2\n",
      "completed: ExponentialSmoothing(trend=ModelMode.ADDITIVE, damped=False, seasonal=SeasonalityMode.ADDITIVE, seasonal_periods=2:0.33052695100013807 sec\n",
      "beginning: Auto-ARIMA\n",
      "completed: Auto-ARIMA:34.689935821999825 sec\n",
      "beginning: Theta(-0.1212121212121211)\n",
      "completed: Theta(-0.1212121212121211):0.05458073200020408 sec\n",
      "Combination  14 of 4170\n",
      "beginning: Naive drift model\n",
      "completed: Naive drift model:0.03812287400000969 sec\n",
      "beginning: Prophet\n"
     ]
    },
    {
     "name": "stderr",
     "output_type": "stream",
     "text": [
      "17:58:31 - cmdstanpy - INFO - Chain [1] start processing\n",
      "17:58:31 - cmdstanpy - INFO - Chain [1] done processing\n"
     ]
    },
    {
     "name": "stdout",
     "output_type": "stream",
     "text": [
      "completed: Prophet:0.8577935040000284 sec\n",
      "True\n",
      "beginning: ExponentialSmoothing(trend=ModelMode.ADDITIVE, damped=False, seasonal=SeasonalityMode.ADDITIVE, seasonal_periods=5\n",
      "completed: ExponentialSmoothing(trend=ModelMode.ADDITIVE, damped=False, seasonal=SeasonalityMode.ADDITIVE, seasonal_periods=5:0.33492488000001686 sec\n",
      "beginning: Auto-ARIMA\n",
      "completed: Auto-ARIMA:56.32346453800005 sec\n",
      "beginning: Theta(0.08080808080808133)\n",
      "completed: Theta(0.08080808080808133):0.06237841799998023 sec\n",
      "Combination  15 of 4170\n",
      "beginning: Naive drift model\n",
      "completed: Naive drift model:0.035370158999967316 sec\n",
      "beginning: Prophet\n"
     ]
    },
    {
     "name": "stderr",
     "output_type": "stream",
     "text": [
      "17:59:32 - cmdstanpy - INFO - Chain [1] start processing\n",
      "17:59:32 - cmdstanpy - INFO - Chain [1] done processing\n"
     ]
    },
    {
     "name": "stdout",
     "output_type": "stream",
     "text": [
      "completed: Prophet:1.0653426409999156 sec\n",
      "True\n",
      "beginning: ExponentialSmoothing(trend=ModelMode.ADDITIVE, damped=False, seasonal=SeasonalityMode.ADDITIVE, seasonal_periods=7\n",
      "completed: ExponentialSmoothing(trend=ModelMode.ADDITIVE, damped=False, seasonal=SeasonalityMode.ADDITIVE, seasonal_periods=7:0.3386979979998159 sec\n",
      "beginning: Auto-ARIMA\n",
      "completed: Auto-ARIMA:93.64302487999998 sec\n",
      "beginning: Theta(0.08080808080808133)\n",
      "completed: Theta(0.08080808080808133):0.05771077800000057 sec\n",
      "Combination  16 of 4170\n",
      "beginning: Naive drift model\n",
      "completed: Naive drift model:0.03598748899980819 sec\n",
      "beginning: Prophet\n"
     ]
    },
    {
     "name": "stderr",
     "output_type": "stream",
     "text": [
      "18:01:11 - cmdstanpy - INFO - Chain [1] start processing\n",
      "18:01:11 - cmdstanpy - INFO - Chain [1] done processing\n"
     ]
    },
    {
     "name": "stdout",
     "output_type": "stream",
     "text": [
      "completed: Prophet:0.7241223329999684 sec\n",
      "True\n",
      "beginning: ExponentialSmoothing(trend=ModelMode.ADDITIVE, damped=False, seasonal=SeasonalityMode.ADDITIVE, seasonal_periods=7\n",
      "completed: ExponentialSmoothing(trend=ModelMode.ADDITIVE, damped=False, seasonal=SeasonalityMode.ADDITIVE, seasonal_periods=7:0.3487486369999715 sec\n",
      "beginning: Auto-ARIMA\n",
      "completed: Auto-ARIMA:64.51331405100018 sec\n",
      "beginning: Theta(0.08080808080808133)\n",
      "completed: Theta(0.08080808080808133):0.05921746600006372 sec\n",
      "Combination  17 of 4170\n",
      "beginning: Naive drift model\n",
      "completed: Naive drift model:0.03551071799984129 sec\n",
      "beginning: Prophet\n"
     ]
    },
    {
     "name": "stderr",
     "output_type": "stream",
     "text": [
      "18:02:20 - cmdstanpy - INFO - Chain [1] start processing\n",
      "18:02:20 - cmdstanpy - INFO - Chain [1] done processing\n"
     ]
    },
    {
     "name": "stdout",
     "output_type": "stream",
     "text": [
      "completed: Prophet:0.9296900249998998 sec\n",
      "True\n",
      "beginning: ExponentialSmoothing(trend=ModelMode.ADDITIVE, damped=False, seasonal=SeasonalityMode.ADDITIVE, seasonal_periods=7\n",
      "completed: ExponentialSmoothing(trend=ModelMode.ADDITIVE, damped=False, seasonal=SeasonalityMode.ADDITIVE, seasonal_periods=7:0.33686047599985613 sec\n",
      "beginning: Auto-ARIMA\n",
      "completed: Auto-ARIMA:66.41003628499993 sec\n",
      "beginning: Theta(-0.1212121212121211)\n",
      "completed: Theta(-0.1212121212121211):0.053186912999990454 sec\n",
      "Combination  18 of 4170\n",
      "beginning: Naive drift model\n",
      "completed: Naive drift model:0.03800237399991602 sec\n",
      "beginning: Prophet\n"
     ]
    },
    {
     "name": "stderr",
     "output_type": "stream",
     "text": [
      "18:03:31 - cmdstanpy - INFO - Chain [1] start processing\n",
      "18:03:31 - cmdstanpy - INFO - Chain [1] done processing\n"
     ]
    },
    {
     "name": "stdout",
     "output_type": "stream",
     "text": [
      "completed: Prophet:1.147664733000056 sec\n",
      "True\n",
      "beginning: ExponentialSmoothing(trend=ModelMode.ADDITIVE, damped=False, seasonal=SeasonalityMode.ADDITIVE, seasonal_periods=4\n",
      "completed: ExponentialSmoothing(trend=ModelMode.ADDITIVE, damped=False, seasonal=SeasonalityMode.ADDITIVE, seasonal_periods=4:0.3298111520000475 sec\n",
      "beginning: Auto-ARIMA\n",
      "completed: Auto-ARIMA:45.05759111599991 sec\n",
      "beginning: Theta(0.08080808080808133)\n",
      "completed: Theta(0.08080808080808133):0.05275491200018223 sec\n",
      "Combination  19 of 4170\n",
      "beginning: Naive drift model\n",
      "completed: Naive drift model:0.0371644249999008 sec\n",
      "beginning: Prophet\n"
     ]
    },
    {
     "name": "stderr",
     "output_type": "stream",
     "text": [
      "18:04:21 - cmdstanpy - INFO - Chain [1] start processing\n",
      "18:04:21 - cmdstanpy - INFO - Chain [1] done processing\n"
     ]
    },
    {
     "name": "stdout",
     "output_type": "stream",
     "text": [
      "completed: Prophet:0.7504883910000899 sec\n",
      "True\n",
      "beginning: ExponentialSmoothing(trend=ModelMode.ADDITIVE, damped=False, seasonal=SeasonalityMode.ADDITIVE, seasonal_periods=5\n",
      "completed: ExponentialSmoothing(trend=ModelMode.ADDITIVE, damped=False, seasonal=SeasonalityMode.ADDITIVE, seasonal_periods=5:0.3312484510001923 sec\n",
      "beginning: Auto-ARIMA\n",
      "completed: Auto-ARIMA:39.31142349400011 sec\n",
      "beginning: Theta(0.08080808080808133)\n",
      "completed: Theta(0.08080808080808133):0.05311347199994998 sec\n",
      "Combination  20 of 4170\n",
      "beginning: Naive drift model\n",
      "completed: Naive drift model:0.037725733999877775 sec\n",
      "beginning: Prophet\n"
     ]
    },
    {
     "name": "stderr",
     "output_type": "stream",
     "text": [
      "18:05:05 - cmdstanpy - INFO - Chain [1] start processing\n",
      "18:05:05 - cmdstanpy - INFO - Chain [1] done processing\n"
     ]
    },
    {
     "name": "stdout",
     "output_type": "stream",
     "text": [
      "completed: Prophet:0.7924035440000807 sec\n",
      "True\n",
      "beginning: ExponentialSmoothing(trend=ModelMode.ADDITIVE, damped=False, seasonal=SeasonalityMode.ADDITIVE, seasonal_periods=7\n",
      "completed: ExponentialSmoothing(trend=ModelMode.ADDITIVE, damped=False, seasonal=SeasonalityMode.ADDITIVE, seasonal_periods=7:0.33803517100000136 sec\n",
      "beginning: Auto-ARIMA\n",
      "completed: Auto-ARIMA:60.56381681300013 sec\n",
      "beginning: Theta(0.08080808080808133)\n",
      "completed: Theta(0.08080808080808133):0.05892658100015069 sec\n",
      "Combination  21 of 4170\n",
      "beginning: Naive drift model\n",
      "completed: Naive drift model:0.03589536499998758 sec\n",
      "beginning: Prophet\n"
     ]
    },
    {
     "name": "stderr",
     "output_type": "stream",
     "text": [
      "18:06:10 - cmdstanpy - INFO - Chain [1] start processing\n",
      "18:06:10 - cmdstanpy - INFO - Chain [1] done processing\n"
     ]
    },
    {
     "name": "stdout",
     "output_type": "stream",
     "text": [
      "completed: Prophet:1.2218728420000389 sec\n",
      "True\n",
      "beginning: ExponentialSmoothing(trend=ModelMode.ADDITIVE, damped=False, seasonal=SeasonalityMode.ADDITIVE, seasonal_periods=7\n",
      "completed: ExponentialSmoothing(trend=ModelMode.ADDITIVE, damped=False, seasonal=SeasonalityMode.ADDITIVE, seasonal_periods=7:0.33715205099997547 sec\n",
      "beginning: Auto-ARIMA\n",
      "completed: Auto-ARIMA:79.25884605200008 sec\n",
      "beginning: Theta(0.08080808080808133)\n",
      "completed: Theta(0.08080808080808133):0.05756559699989339 sec\n",
      "Combination  22 of 4170\n",
      "beginning: Naive drift model\n",
      "completed: Naive drift model:0.03554750800003603 sec\n",
      "beginning: Prophet\n"
     ]
    },
    {
     "name": "stderr",
     "output_type": "stream",
     "text": [
      "18:07:34 - cmdstanpy - INFO - Chain [1] start processing\n",
      "18:07:35 - cmdstanpy - INFO - Chain [1] done processing\n"
     ]
    },
    {
     "name": "stdout",
     "output_type": "stream",
     "text": [
      "completed: Prophet:1.0783688609999444 sec\n",
      "True\n",
      "beginning: ExponentialSmoothing(trend=ModelMode.ADDITIVE, damped=False, seasonal=SeasonalityMode.ADDITIVE, seasonal_periods=7\n",
      "completed: ExponentialSmoothing(trend=ModelMode.ADDITIVE, damped=False, seasonal=SeasonalityMode.ADDITIVE, seasonal_periods=7:0.3345422849999977 sec\n",
      "beginning: Auto-ARIMA\n",
      "completed: Auto-ARIMA:59.66041547400005 sec\n",
      "beginning: Theta(-0.1212121212121211)\n",
      "completed: Theta(-0.1212121212121211):0.05260113700001057 sec\n",
      "Combination  23 of 4170\n",
      "beginning: Naive drift model\n",
      "completed: Naive drift model:0.04206329699991329 sec\n",
      "beginning: Prophet\n"
     ]
    },
    {
     "name": "stderr",
     "output_type": "stream",
     "text": [
      "18:08:39 - cmdstanpy - INFO - Chain [1] start processing\n",
      "18:08:39 - cmdstanpy - INFO - Chain [1] done processing\n"
     ]
    },
    {
     "name": "stdout",
     "output_type": "stream",
     "text": [
      "completed: Prophet:0.686383454999941 sec\n",
      "True\n",
      "beginning: ExponentialSmoothing(trend=ModelMode.ADDITIVE, damped=False, seasonal=SeasonalityMode.ADDITIVE, seasonal_periods=7\n",
      "completed: ExponentialSmoothing(trend=ModelMode.ADDITIVE, damped=False, seasonal=SeasonalityMode.ADDITIVE, seasonal_periods=7:0.3330025829998249 sec\n",
      "beginning: Auto-ARIMA\n",
      "completed: Auto-ARIMA:79.02344548699989 sec\n",
      "beginning: Theta(-0.1212121212121211)\n",
      "completed: Theta(-0.1212121212121211):0.05453047699984381 sec\n",
      "Combination  24 of 4170\n",
      "beginning: Naive drift model\n",
      "completed: Naive drift model:0.038962377999723685 sec\n",
      "beginning: Prophet\n"
     ]
    },
    {
     "name": "stderr",
     "output_type": "stream",
     "text": [
      "18:10:03 - cmdstanpy - INFO - Chain [1] start processing\n",
      "18:10:03 - cmdstanpy - INFO - Chain [1] done processing\n"
     ]
    },
    {
     "name": "stdout",
     "output_type": "stream",
     "text": [
      "completed: Prophet:1.2062900180003453 sec\n",
      "True\n",
      "beginning: ExponentialSmoothing(trend=ModelMode.ADDITIVE, damped=False, seasonal=SeasonalityMode.ADDITIVE, seasonal_periods=7\n",
      "completed: ExponentialSmoothing(trend=ModelMode.ADDITIVE, damped=False, seasonal=SeasonalityMode.ADDITIVE, seasonal_periods=7:0.33190374299965697 sec\n",
      "beginning: Auto-ARIMA\n",
      "completed: Auto-ARIMA:53.13409005800031 sec\n",
      "beginning: Theta(-0.1212121212121211)\n",
      "completed: Theta(-0.1212121212121211):0.056513447999805067 sec\n",
      "Combination  25 of 4170\n",
      "beginning: Naive drift model\n",
      "completed: Naive drift model:0.04691424700013158 sec\n",
      "beginning: Prophet\n"
     ]
    },
    {
     "name": "stderr",
     "output_type": "stream",
     "text": [
      "18:11:01 - cmdstanpy - INFO - Chain [1] start processing\n",
      "18:11:01 - cmdstanpy - INFO - Chain [1] done processing\n"
     ]
    },
    {
     "name": "stdout",
     "output_type": "stream",
     "text": [
      "completed: Prophet:0.7179765830001088 sec\n",
      "True\n",
      "beginning: ExponentialSmoothing(trend=ModelMode.ADDITIVE, damped=False, seasonal=SeasonalityMode.ADDITIVE, seasonal_periods=5\n",
      "completed: ExponentialSmoothing(trend=ModelMode.ADDITIVE, damped=False, seasonal=SeasonalityMode.ADDITIVE, seasonal_periods=5:0.3369189320001169 sec\n",
      "beginning: Auto-ARIMA\n",
      "completed: Auto-ARIMA:57.1753120809999 sec\n",
      "beginning: Theta(-0.1212121212121211)\n",
      "completed: Theta(-0.1212121212121211):0.05039544700002807 sec\n",
      "Combination  26 of 4170\n",
      "beginning: Naive drift model\n",
      "completed: Naive drift model:0.034668667999994796 sec\n",
      "beginning: Prophet\n"
     ]
    },
    {
     "name": "stderr",
     "output_type": "stream",
     "text": [
      "18:12:03 - cmdstanpy - INFO - Chain [1] start processing\n",
      "18:12:03 - cmdstanpy - INFO - Chain [1] done processing\n"
     ]
    },
    {
     "name": "stdout",
     "output_type": "stream",
     "text": [
      "completed: Prophet:0.8805517750001854 sec\n",
      "True\n",
      "beginning: ExponentialSmoothing(trend=ModelMode.ADDITIVE, damped=False, seasonal=SeasonalityMode.ADDITIVE, seasonal_periods=7\n",
      "completed: ExponentialSmoothing(trend=ModelMode.ADDITIVE, damped=False, seasonal=SeasonalityMode.ADDITIVE, seasonal_periods=7:0.352550772000086 sec\n",
      "beginning: Auto-ARIMA\n",
      "completed: Auto-ARIMA:58.06501387000026 sec\n",
      "beginning: Theta(1.0909090909090917)\n",
      "completed: Theta(1.0909090909090917):0.054393617999721755 sec\n",
      "Combination  27 of 4170\n",
      "beginning: Naive drift model\n",
      "completed: Naive drift model:0.03859193800008143 sec\n",
      "beginning: Prophet\n"
     ]
    },
    {
     "name": "stderr",
     "output_type": "stream",
     "text": [
      "18:13:06 - cmdstanpy - INFO - Chain [1] start processing\n",
      "18:13:06 - cmdstanpy - INFO - Chain [1] done processing\n"
     ]
    },
    {
     "name": "stdout",
     "output_type": "stream",
     "text": [
      "completed: Prophet:1.0456646120001096 sec\n",
      "True\n",
      "beginning: ExponentialSmoothing(trend=ModelMode.ADDITIVE, damped=False, seasonal=SeasonalityMode.ADDITIVE, seasonal_periods=2\n",
      "completed: ExponentialSmoothing(trend=ModelMode.ADDITIVE, damped=False, seasonal=SeasonalityMode.ADDITIVE, seasonal_periods=2:0.3268592490003357 sec\n",
      "beginning: Auto-ARIMA\n",
      "completed: Auto-ARIMA:48.58803696599989 sec\n",
      "beginning: Theta(-0.1212121212121211)\n",
      "completed: Theta(-0.1212121212121211):0.05727493799986405 sec\n",
      "Combination  28 of 4170\n",
      "beginning: Naive drift model\n",
      "completed: Naive drift model:0.040380619000188744 sec\n",
      "beginning: Prophet\n"
     ]
    },
    {
     "name": "stderr",
     "output_type": "stream",
     "text": [
      "18:13:59 - cmdstanpy - INFO - Chain [1] start processing\n",
      "18:13:59 - cmdstanpy - INFO - Chain [1] done processing\n"
     ]
    },
    {
     "name": "stdout",
     "output_type": "stream",
     "text": [
      "completed: Prophet:0.7968729119997988 sec\n",
      "True\n",
      "beginning: ExponentialSmoothing(trend=ModelMode.ADDITIVE, damped=False, seasonal=SeasonalityMode.ADDITIVE, seasonal_periods=7\n",
      "completed: ExponentialSmoothing(trend=ModelMode.ADDITIVE, damped=False, seasonal=SeasonalityMode.ADDITIVE, seasonal_periods=7:0.3293123180001203 sec\n",
      "beginning: Auto-ARIMA\n",
      "completed: Auto-ARIMA:78.39478156899986 sec\n",
      "beginning: Theta(0.6868686868686869)\n",
      "completed: Theta(0.6868686868686869):0.0563347980000799 sec\n",
      "Combination  29 of 4170\n",
      "beginning: Naive drift model\n",
      "completed: Naive drift model:0.0403727190000609 sec\n",
      "beginning: Prophet\n"
     ]
    },
    {
     "name": "stderr",
     "output_type": "stream",
     "text": [
      "18:15:22 - cmdstanpy - INFO - Chain [1] start processing\n",
      "18:15:23 - cmdstanpy - INFO - Chain [1] done processing\n"
     ]
    },
    {
     "name": "stdout",
     "output_type": "stream",
     "text": [
      "completed: Prophet:1.2319343240001217 sec\n",
      "True\n",
      "beginning: ExponentialSmoothing(trend=ModelMode.ADDITIVE, damped=False, seasonal=SeasonalityMode.ADDITIVE, seasonal_periods=6\n",
      "completed: ExponentialSmoothing(trend=ModelMode.ADDITIVE, damped=False, seasonal=SeasonalityMode.ADDITIVE, seasonal_periods=6:0.3141059790000327 sec\n",
      "beginning: Auto-ARIMA\n",
      "completed: Auto-ARIMA:62.99086228099986 sec\n",
      "beginning: Theta(-1.333333333333334)\n",
      "completed: Theta(-1.333333333333334):0.05753676699987409 sec\n",
      "Combination  30 of 4170\n",
      "beginning: Naive drift model\n",
      "completed: Naive drift model:0.03632825900012904 sec\n",
      "beginning: Prophet\n"
     ]
    },
    {
     "name": "stderr",
     "output_type": "stream",
     "text": [
      "18:16:30 - cmdstanpy - INFO - Chain [1] start processing\n",
      "18:16:31 - cmdstanpy - INFO - Chain [1] done processing\n"
     ]
    },
    {
     "name": "stdout",
     "output_type": "stream",
     "text": [
      "completed: Prophet:0.7239701869998498 sec\n",
      "True\n",
      "beginning: ExponentialSmoothing(trend=ModelMode.ADDITIVE, damped=False, seasonal=SeasonalityMode.ADDITIVE, seasonal_periods=2\n",
      "completed: ExponentialSmoothing(trend=ModelMode.ADDITIVE, damped=False, seasonal=SeasonalityMode.ADDITIVE, seasonal_periods=2:0.31378968599983637 sec\n",
      "beginning: Auto-ARIMA\n",
      "completed: Auto-ARIMA:36.88971230700008 sec\n",
      "beginning: Theta(-0.1212121212121211)\n",
      "completed: Theta(-0.1212121212121211):0.05710059800003364 sec\n",
      "Combination  31 of 4170\n",
      "beginning: Naive drift model\n",
      "completed: Naive drift model:0.03815198899974348 sec\n",
      "beginning: Prophet\n"
     ]
    },
    {
     "name": "stderr",
     "output_type": "stream",
     "text": [
      "18:17:12 - cmdstanpy - INFO - Chain [1] start processing\n",
      "18:17:12 - cmdstanpy - INFO - Chain [1] done processing\n"
     ]
    },
    {
     "name": "stdout",
     "output_type": "stream",
     "text": [
      "completed: Prophet:0.8601244720002796 sec\n",
      "True\n",
      "beginning: ExponentialSmoothing(trend=ModelMode.ADDITIVE, damped=False, seasonal=SeasonalityMode.ADDITIVE, seasonal_periods=4\n",
      "completed: ExponentialSmoothing(trend=ModelMode.ADDITIVE, damped=False, seasonal=SeasonalityMode.ADDITIVE, seasonal_periods=4:0.3291333850002047 sec\n",
      "beginning: Auto-ARIMA\n",
      "completed: Auto-ARIMA:42.84511041099995 sec\n",
      "beginning: Theta(0.08080808080808133)\n",
      "completed: Theta(0.08080808080808133):0.05562386800011154 sec\n",
      "Combination  32 of 4170\n",
      "beginning: Naive drift model\n",
      "completed: Naive drift model:0.03675087800002075 sec\n",
      "beginning: Prophet\n"
     ]
    },
    {
     "name": "stderr",
     "output_type": "stream",
     "text": [
      "18:17:59 - cmdstanpy - INFO - Chain [1] start processing\n",
      "18:18:00 - cmdstanpy - INFO - Chain [1] done processing\n"
     ]
    },
    {
     "name": "stdout",
     "output_type": "stream",
     "text": [
      "completed: Prophet:1.1290406090001852 sec\n",
      "True\n",
      "beginning: ExponentialSmoothing(trend=ModelMode.ADDITIVE, damped=False, seasonal=SeasonalityMode.ADDITIVE, seasonal_periods=5\n",
      "completed: ExponentialSmoothing(trend=ModelMode.ADDITIVE, damped=False, seasonal=SeasonalityMode.ADDITIVE, seasonal_periods=5:0.3294943560003958 sec\n",
      "beginning: Auto-ARIMA\n",
      "completed: Auto-ARIMA:44.81135663199984 sec\n",
      "beginning: Theta(-0.32323232323232354)\n",
      "completed: Theta(-0.32323232323232354):0.06486908700026106 sec\n",
      "Combination  33 of 4170\n",
      "beginning: Naive drift model\n",
      "completed: Naive drift model:0.03613790899999003 sec\n",
      "beginning: Prophet\n"
     ]
    },
    {
     "name": "stderr",
     "output_type": "stream",
     "text": [
      "18:18:49 - cmdstanpy - INFO - Chain [1] start processing\n",
      "18:18:49 - cmdstanpy - INFO - Chain [1] done processing\n"
     ]
    },
    {
     "name": "stdout",
     "output_type": "stream",
     "text": [
      "completed: Prophet:0.7243234669999765 sec\n",
      "True\n",
      "beginning: ExponentialSmoothing(trend=ModelMode.ADDITIVE, damped=False, seasonal=SeasonalityMode.ADDITIVE, seasonal_periods=7\n",
      "completed: ExponentialSmoothing(trend=ModelMode.ADDITIVE, damped=False, seasonal=SeasonalityMode.ADDITIVE, seasonal_periods=7:0.33250659500026813 sec\n",
      "beginning: Auto-ARIMA\n",
      "completed: Auto-ARIMA:91.33482350800023 sec\n",
      "beginning: Theta(0.08080808080808133)\n",
      "completed: Theta(0.08080808080808133):0.05237229800013665 sec\n",
      "Combination  34 of 4170\n",
      "beginning: Naive drift model\n",
      "completed: Naive drift model:0.036884238999846275 sec\n",
      "beginning: Prophet\n"
     ]
    },
    {
     "name": "stderr",
     "output_type": "stream",
     "text": [
      "18:20:25 - cmdstanpy - INFO - Chain [1] start processing\n",
      "18:20:25 - cmdstanpy - INFO - Chain [1] done processing\n"
     ]
    },
    {
     "name": "stdout",
     "output_type": "stream",
     "text": [
      "completed: Prophet:0.8580379410000205 sec\n",
      "True\n",
      "beginning: ExponentialSmoothing(trend=ModelMode.ADDITIVE, damped=False, seasonal=SeasonalityMode.ADDITIVE, seasonal_periods=5\n",
      "completed: ExponentialSmoothing(trend=ModelMode.ADDITIVE, damped=False, seasonal=SeasonalityMode.ADDITIVE, seasonal_periods=5:0.33874278500024957 sec\n",
      "beginning: Auto-ARIMA\n",
      "completed: Auto-ARIMA:42.68073529200001 sec\n",
      "beginning: Theta(0.08080808080808133)\n",
      "completed: Theta(0.08080808080808133):0.059004105999974854 sec\n",
      "Combination  35 of 4170\n",
      "beginning: Naive drift model\n",
      "completed: Naive drift model:0.039558988000408135 sec\n",
      "beginning: Prophet\n"
     ]
    },
    {
     "name": "stderr",
     "output_type": "stream",
     "text": [
      "18:21:13 - cmdstanpy - INFO - Chain [1] start processing\n",
      "18:21:13 - cmdstanpy - INFO - Chain [1] done processing\n"
     ]
    },
    {
     "name": "stdout",
     "output_type": "stream",
     "text": [
      "completed: Prophet:1.0784232959999827 sec\n",
      "True\n",
      "beginning: ExponentialSmoothing(trend=ModelMode.ADDITIVE, damped=False, seasonal=SeasonalityMode.ADDITIVE, seasonal_periods=7\n",
      "completed: ExponentialSmoothing(trend=ModelMode.ADDITIVE, damped=False, seasonal=SeasonalityMode.ADDITIVE, seasonal_periods=7:0.33979642900021645 sec\n",
      "beginning: Auto-ARIMA\n",
      "completed: Auto-ARIMA:62.34712099199987 sec\n",
      "beginning: Theta(-0.1212121212121211)\n",
      "completed: Theta(-0.1212121212121211):0.05682138699967254 sec\n",
      "Combination  36 of 4170\n",
      "beginning: Naive drift model\n",
      "completed: Naive drift model:0.03674291800007268 sec\n",
      "beginning: Prophet\n"
     ]
    },
    {
     "name": "stderr",
     "output_type": "stream",
     "text": [
      "18:22:20 - cmdstanpy - INFO - Chain [1] start processing\n",
      "18:22:21 - cmdstanpy - INFO - Chain [1] done processing\n"
     ]
    },
    {
     "name": "stdout",
     "output_type": "stream",
     "text": [
      "completed: Prophet:0.8071948619999603 sec\n",
      "True\n",
      "beginning: ExponentialSmoothing(trend=ModelMode.ADDITIVE, damped=False, seasonal=SeasonalityMode.ADDITIVE, seasonal_periods=2\n",
      "completed: ExponentialSmoothing(trend=ModelMode.ADDITIVE, damped=False, seasonal=SeasonalityMode.ADDITIVE, seasonal_periods=2:0.3257373309998002 sec\n",
      "beginning: Auto-ARIMA\n",
      "completed: Auto-ARIMA:44.56586324900036 sec\n",
      "beginning: Theta(0.08080808080808133)\n",
      "completed: Theta(0.08080808080808133):0.05245996699977695 sec\n",
      "Combination  37 of 4170\n",
      "beginning: Naive drift model\n",
      "completed: Naive drift model:0.037371427999914886 sec\n",
      "beginning: Prophet\n"
     ]
    },
    {
     "name": "stderr",
     "output_type": "stream",
     "text": [
      "18:23:09 - cmdstanpy - INFO - Chain [1] start processing\n",
      "18:23:10 - cmdstanpy - INFO - Chain [1] done processing\n"
     ]
    },
    {
     "name": "stdout",
     "output_type": "stream",
     "text": [
      "completed: Prophet:0.8166265410000051 sec\n",
      "True\n",
      "beginning: ExponentialSmoothing(trend=ModelMode.ADDITIVE, damped=False, seasonal=SeasonalityMode.ADDITIVE, seasonal_periods=7\n",
      "completed: ExponentialSmoothing(trend=ModelMode.ADDITIVE, damped=False, seasonal=SeasonalityMode.ADDITIVE, seasonal_periods=7:0.352192149000075 sec\n",
      "beginning: Auto-ARIMA\n",
      "completed: Auto-ARIMA:61.78145036499973 sec\n",
      "beginning: Theta(0.08080808080808133)\n",
      "completed: Theta(0.08080808080808133):0.06438377599988598 sec\n",
      "Combination  38 of 4170\n",
      "beginning: Naive drift model\n",
      "completed: Naive drift model:0.03588912799978061 sec\n",
      "beginning: Prophet\n"
     ]
    },
    {
     "name": "stderr",
     "output_type": "stream",
     "text": [
      "18:24:16 - cmdstanpy - INFO - Chain [1] start processing\n",
      "18:24:16 - cmdstanpy - INFO - Chain [1] done processing\n"
     ]
    },
    {
     "name": "stdout",
     "output_type": "stream",
     "text": [
      "completed: Prophet:0.7980589520002468 sec\n",
      "True\n",
      "beginning: ExponentialSmoothing(trend=ModelMode.ADDITIVE, damped=False, seasonal=SeasonalityMode.ADDITIVE, seasonal_periods=9\n",
      "completed: ExponentialSmoothing(trend=ModelMode.ADDITIVE, damped=False, seasonal=SeasonalityMode.ADDITIVE, seasonal_periods=9:0.3467895899998439 sec\n",
      "beginning: Auto-ARIMA\n",
      "completed: Auto-ARIMA:108.72926303299982 sec\n",
      "beginning: Theta(0.08080808080808133)\n",
      "completed: Theta(0.08080808080808133):0.05336901700002272 sec\n",
      "Combination  39 of 4170\n",
      "beginning: Naive drift model\n",
      "completed: Naive drift model:0.03583768799990139 sec\n",
      "beginning: Prophet\n"
     ]
    },
    {
     "name": "stderr",
     "output_type": "stream",
     "text": [
      "18:26:10 - cmdstanpy - INFO - Chain [1] start processing\n",
      "18:26:10 - cmdstanpy - INFO - Chain [1] done processing\n"
     ]
    },
    {
     "name": "stdout",
     "output_type": "stream",
     "text": [
      "completed: Prophet:0.8339989400001286 sec\n",
      "True\n",
      "beginning: ExponentialSmoothing(trend=ModelMode.ADDITIVE, damped=False, seasonal=SeasonalityMode.ADDITIVE, seasonal_periods=7\n",
      "completed: ExponentialSmoothing(trend=ModelMode.ADDITIVE, damped=False, seasonal=SeasonalityMode.ADDITIVE, seasonal_periods=7:0.3406236800001352 sec\n",
      "beginning: Auto-ARIMA\n",
      "completed: Auto-ARIMA:88.0663644909996 sec\n",
      "beginning: Theta(0.08080808080808133)\n",
      "completed: Theta(0.08080808080808133):0.05392154700030005 sec\n",
      "Combination  40 of 4170\n",
      "beginning: Naive drift model\n",
      "completed: Naive drift model:0.03437021799982176 sec\n",
      "beginning: Prophet\n"
     ]
    },
    {
     "name": "stderr",
     "output_type": "stream",
     "text": [
      "18:27:42 - cmdstanpy - INFO - Chain [1] start processing\n",
      "18:27:43 - cmdstanpy - INFO - Chain [1] done processing\n"
     ]
    },
    {
     "name": "stdout",
     "output_type": "stream",
     "text": [
      "completed: Prophet:1.1515683509996961 sec\n",
      "True\n",
      "beginning: ExponentialSmoothing(trend=ModelMode.ADDITIVE, damped=False, seasonal=SeasonalityMode.ADDITIVE, seasonal_periods=7\n",
      "completed: ExponentialSmoothing(trend=ModelMode.ADDITIVE, damped=False, seasonal=SeasonalityMode.ADDITIVE, seasonal_periods=7:0.32797489999984464 sec\n",
      "beginning: Auto-ARIMA\n",
      "completed: Auto-ARIMA:58.21203829700016 sec\n",
      "beginning: Theta(0.08080808080808133)\n",
      "completed: Theta(0.08080808080808133):0.05564967700001944 sec\n",
      "Combination  41 of 4170\n",
      "beginning: Naive drift model\n",
      "completed: Naive drift model:0.03740414799995051 sec\n",
      "beginning: Prophet\n"
     ]
    },
    {
     "name": "stderr",
     "output_type": "stream",
     "text": [
      "18:28:46 - cmdstanpy - INFO - Chain [1] start processing\n",
      "18:28:46 - cmdstanpy - INFO - Chain [1] done processing\n"
     ]
    },
    {
     "name": "stdout",
     "output_type": "stream",
     "text": [
      "completed: Prophet:0.8560378590000255 sec\n",
      "True\n",
      "beginning: ExponentialSmoothing(trend=ModelMode.ADDITIVE, damped=False, seasonal=SeasonalityMode.ADDITIVE, seasonal_periods=6\n",
      "completed: ExponentialSmoothing(trend=ModelMode.ADDITIVE, damped=False, seasonal=SeasonalityMode.ADDITIVE, seasonal_periods=6:0.32831780099968455 sec\n",
      "beginning: Auto-ARIMA\n",
      "completed: Auto-ARIMA:72.81755107400022 sec\n",
      "beginning: Theta(0.28282828282828376)\n",
      "completed: Theta(0.28282828282828376):0.055664155000158644 sec\n",
      "Combination  42 of 4170\n",
      "beginning: Naive drift model\n",
      "completed: Naive drift model:0.034453697000117245 sec\n",
      "beginning: Prophet\n"
     ]
    },
    {
     "name": "stderr",
     "output_type": "stream",
     "text": [
      "18:30:03 - cmdstanpy - INFO - Chain [1] start processing\n",
      "18:30:03 - cmdstanpy - INFO - Chain [1] done processing\n"
     ]
    },
    {
     "name": "stdout",
     "output_type": "stream",
     "text": [
      "completed: Prophet:0.7926693090003027 sec\n",
      "True\n",
      "beginning: ExponentialSmoothing(trend=ModelMode.ADDITIVE, damped=False, seasonal=SeasonalityMode.ADDITIVE, seasonal_periods=7\n",
      "completed: ExponentialSmoothing(trend=ModelMode.ADDITIVE, damped=False, seasonal=SeasonalityMode.ADDITIVE, seasonal_periods=7:0.327933493999808 sec\n",
      "beginning: Auto-ARIMA\n",
      "completed: Auto-ARIMA:54.31085162499994 sec\n",
      "beginning: Theta(-0.1212121212121211)\n",
      "completed: Theta(-0.1212121212121211):0.05946373599999788 sec\n",
      "Combination  43 of 4170\n",
      "beginning: Naive drift model\n",
      "completed: Naive drift model:0.041828106999673764 sec\n",
      "beginning: Prophet\n"
     ]
    },
    {
     "name": "stderr",
     "output_type": "stream",
     "text": [
      "18:31:02 - cmdstanpy - INFO - Chain [1] start processing\n",
      "18:31:02 - cmdstanpy - INFO - Chain [1] done processing\n"
     ]
    },
    {
     "name": "stdout",
     "output_type": "stream",
     "text": [
      "completed: Prophet:0.9903452540002036 sec\n",
      "True\n",
      "beginning: ExponentialSmoothing(trend=ModelMode.ADDITIVE, damped=False, seasonal=SeasonalityMode.ADDITIVE, seasonal_periods=7\n",
      "completed: ExponentialSmoothing(trend=ModelMode.ADDITIVE, damped=False, seasonal=SeasonalityMode.ADDITIVE, seasonal_periods=7:0.3314839650001886 sec\n",
      "beginning: Auto-ARIMA\n",
      "completed: Auto-ARIMA:68.27822639799979 sec\n",
      "beginning: Theta(-0.1212121212121211)\n",
      "completed: Theta(-0.1212121212121211):0.052186836000146286 sec\n",
      "Combination  44 of 4170\n",
      "beginning: Naive drift model\n",
      "completed: Naive drift model:0.03833568699974421 sec\n",
      "beginning: Prophet\n"
     ]
    },
    {
     "name": "stderr",
     "output_type": "stream",
     "text": [
      "18:32:15 - cmdstanpy - INFO - Chain [1] start processing\n",
      "18:32:16 - cmdstanpy - INFO - Chain [1] done processing\n"
     ]
    },
    {
     "name": "stdout",
     "output_type": "stream",
     "text": [
      "completed: Prophet:0.784298119000141 sec\n",
      "True\n",
      "beginning: ExponentialSmoothing(trend=ModelMode.ADDITIVE, damped=False, seasonal=SeasonalityMode.ADDITIVE, seasonal_periods=7\n",
      "completed: ExponentialSmoothing(trend=ModelMode.ADDITIVE, damped=False, seasonal=SeasonalityMode.ADDITIVE, seasonal_periods=7:0.33650646399973994 sec\n",
      "beginning: Auto-ARIMA\n",
      "completed: Auto-ARIMA:60.358901334000166 sec\n",
      "beginning: Theta(-0.1212121212121211)\n",
      "completed: Theta(-0.1212121212121211):0.054837454999869806 sec\n",
      "Combination  45 of 4170\n",
      "beginning: Naive drift model\n",
      "completed: Naive drift model:0.03666932699979952 sec\n",
      "beginning: Prophet\n"
     ]
    },
    {
     "name": "stderr",
     "output_type": "stream",
     "text": [
      "18:33:21 - cmdstanpy - INFO - Chain [1] start processing\n",
      "18:33:21 - cmdstanpy - INFO - Chain [1] done processing\n"
     ]
    },
    {
     "name": "stdout",
     "output_type": "stream",
     "text": [
      "completed: Prophet:0.7164357440001368 sec\n",
      "True\n",
      "beginning: ExponentialSmoothing(trend=ModelMode.ADDITIVE, damped=False, seasonal=SeasonalityMode.ADDITIVE, seasonal_periods=7\n",
      "completed: ExponentialSmoothing(trend=ModelMode.ADDITIVE, damped=False, seasonal=SeasonalityMode.ADDITIVE, seasonal_periods=7:0.3430374839999786 sec\n",
      "beginning: Auto-ARIMA\n",
      "completed: Auto-ARIMA:63.22265129200014 sec\n",
      "beginning: Theta(0.08080808080808133)\n",
      "completed: Theta(0.08080808080808133):0.05572509600006015 sec\n",
      "Combination  46 of 4170\n",
      "beginning: Naive drift model\n",
      "completed: Naive drift model:0.04042523699990852 sec\n",
      "beginning: Prophet\n"
     ]
    },
    {
     "name": "stderr",
     "output_type": "stream",
     "text": [
      "18:34:28 - cmdstanpy - INFO - Chain [1] start processing\n",
      "18:34:29 - cmdstanpy - INFO - Chain [1] done processing\n"
     ]
    },
    {
     "name": "stdout",
     "output_type": "stream",
     "text": [
      "completed: Prophet:1.221418464999715 sec\n",
      "True\n",
      "beginning: ExponentialSmoothing(trend=ModelMode.ADDITIVE, damped=False, seasonal=SeasonalityMode.ADDITIVE, seasonal_periods=7\n",
      "completed: ExponentialSmoothing(trend=ModelMode.ADDITIVE, damped=False, seasonal=SeasonalityMode.ADDITIVE, seasonal_periods=7:0.3434448129996781 sec\n",
      "beginning: Auto-ARIMA\n",
      "completed: Auto-ARIMA:59.34646022299967 sec\n",
      "beginning: Theta(0.08080808080808133)\n",
      "completed: Theta(0.08080808080808133):0.06056286499961061 sec\n",
      "Combination  47 of 4170\n",
      "beginning: Naive drift model\n"
     ]
    },
    {
     "name": "stderr",
     "output_type": "stream",
     "text": [
      "18:35:33 - cmdstanpy - INFO - Chain [1] start processing\n"
     ]
    },
    {
     "name": "stdout",
     "output_type": "stream",
     "text": [
      "completed: Naive drift model:0.04067303699957847 sec\n",
      "beginning: Prophet\n"
     ]
    },
    {
     "name": "stderr",
     "output_type": "stream",
     "text": [
      "18:35:33 - cmdstanpy - INFO - Chain [1] done processing\n"
     ]
    },
    {
     "name": "stdout",
     "output_type": "stream",
     "text": [
      "completed: Prophet:0.7754316499999732 sec\n",
      "True\n",
      "beginning: ExponentialSmoothing(trend=ModelMode.ADDITIVE, damped=False, seasonal=SeasonalityMode.ADDITIVE, seasonal_periods=7\n",
      "completed: ExponentialSmoothing(trend=ModelMode.ADDITIVE, damped=False, seasonal=SeasonalityMode.ADDITIVE, seasonal_periods=7:0.3446983040003033 sec\n",
      "beginning: Auto-ARIMA\n",
      "completed: Auto-ARIMA:86.30640816100004 sec\n",
      "beginning: Theta(0.08080808080808133)\n",
      "completed: Theta(0.08080808080808133):0.05350996600009239 sec\n",
      "Combination  48 of 4170\n",
      "beginning: Naive drift model\n",
      "completed: Naive drift model:0.039677197000401065 sec\n",
      "beginning: Prophet\n"
     ]
    },
    {
     "name": "stderr",
     "output_type": "stream",
     "text": [
      "18:37:04 - cmdstanpy - INFO - Chain [1] start processing\n",
      "18:37:04 - cmdstanpy - INFO - Chain [1] done processing\n"
     ]
    },
    {
     "name": "stdout",
     "output_type": "stream",
     "text": [
      "completed: Prophet:1.1055570640000951 sec\n",
      "True\n",
      "beginning: ExponentialSmoothing(trend=ModelMode.ADDITIVE, damped=False, seasonal=SeasonalityMode.ADDITIVE, seasonal_periods=4\n",
      "completed: ExponentialSmoothing(trend=ModelMode.ADDITIVE, damped=False, seasonal=SeasonalityMode.ADDITIVE, seasonal_periods=4:0.32566726499999277 sec\n",
      "beginning: Auto-ARIMA\n",
      "completed: Auto-ARIMA:37.667675119999785 sec\n",
      "beginning: Theta(-0.32323232323232354)\n",
      "completed: Theta(-0.32323232323232354):0.05519915599961678 sec\n",
      "Combination  49 of 4170\n",
      "beginning: Naive drift model\n",
      "completed: Naive drift model:0.03568832700011626 sec\n",
      "beginning: Prophet\n"
     ]
    },
    {
     "name": "stderr",
     "output_type": "stream",
     "text": [
      "18:37:46 - cmdstanpy - INFO - Chain [1] start processing\n",
      "18:37:47 - cmdstanpy - INFO - Chain [1] done processing\n"
     ]
    },
    {
     "name": "stdout",
     "output_type": "stream",
     "text": [
      "completed: Prophet:0.8648341040002379 sec\n",
      "True\n",
      "beginning: ExponentialSmoothing(trend=ModelMode.ADDITIVE, damped=False, seasonal=SeasonalityMode.ADDITIVE, seasonal_periods=7\n",
      "completed: ExponentialSmoothing(trend=ModelMode.ADDITIVE, damped=False, seasonal=SeasonalityMode.ADDITIVE, seasonal_periods=7:0.3364077340002041 sec\n",
      "beginning: Auto-ARIMA\n",
      "completed: Auto-ARIMA:92.76346130299999 sec\n",
      "beginning: Theta(0.6868686868686869)\n",
      "completed: Theta(0.6868686868686869):0.05184349699993618 sec\n",
      "Combination  50 of 4170\n",
      "beginning: Naive drift model\n",
      "completed: Naive drift model:0.03574866700000712 sec\n",
      "beginning: Prophet\n"
     ]
    },
    {
     "name": "stderr",
     "output_type": "stream",
     "text": [
      "18:39:24 - cmdstanpy - INFO - Chain [1] start processing\n",
      "18:39:24 - cmdstanpy - INFO - Chain [1] done processing\n"
     ]
    },
    {
     "name": "stdout",
     "output_type": "stream",
     "text": [
      "completed: Prophet:0.7921163119999619 sec\n",
      "True\n",
      "beginning: ExponentialSmoothing(trend=ModelMode.ADDITIVE, damped=False, seasonal=SeasonalityMode.ADDITIVE, seasonal_periods=6\n",
      "completed: ExponentialSmoothing(trend=ModelMode.ADDITIVE, damped=False, seasonal=SeasonalityMode.ADDITIVE, seasonal_periods=6:0.3064322320001338 sec\n",
      "beginning: Auto-ARIMA\n",
      "completed: Auto-ARIMA:59.30964245999985 sec\n",
      "beginning: Theta(0.08080808080808133)\n",
      "completed: Theta(0.08080808080808133):0.04967054700000517 sec\n",
      "Combination  51 of 4170\n",
      "beginning: Naive drift model\n",
      "completed: Naive drift model:0.036810657999922114 sec\n",
      "beginning: Prophet\n"
     ]
    },
    {
     "name": "stderr",
     "output_type": "stream",
     "text": [
      "18:40:28 - cmdstanpy - INFO - Chain [1] start processing\n",
      "18:40:28 - cmdstanpy - INFO - Chain [1] done processing\n"
     ]
    },
    {
     "name": "stdout",
     "output_type": "stream",
     "text": [
      "completed: Prophet:0.9990877600002932 sec\n",
      "True\n",
      "beginning: ExponentialSmoothing(trend=ModelMode.ADDITIVE, damped=False, seasonal=SeasonalityMode.ADDITIVE, seasonal_periods=14\n",
      "completed: ExponentialSmoothing(trend=ModelMode.ADDITIVE, damped=False, seasonal=SeasonalityMode.ADDITIVE, seasonal_periods=14:0.30423633200007316 sec\n",
      "beginning: Auto-ARIMA\n",
      "completed: Auto-ARIMA:192.09395649099952 sec\n",
      "beginning: Theta(0.08080808080808133)\n",
      "completed: Theta(0.08080808080808133):0.055619545999434195 sec\n",
      "Combination  52 of 4170\n",
      "beginning: Naive drift model\n",
      "completed: Naive drift model:0.03541966800003138 sec\n",
      "beginning: Prophet\n"
     ]
    },
    {
     "name": "stderr",
     "output_type": "stream",
     "text": [
      "18:43:44 - cmdstanpy - INFO - Chain [1] start processing\n",
      "18:43:45 - cmdstanpy - INFO - Chain [1] done processing\n"
     ]
    },
    {
     "name": "stdout",
     "output_type": "stream",
     "text": [
      "completed: Prophet:0.727703706000284 sec\n",
      "True\n",
      "beginning: ExponentialSmoothing(trend=ModelMode.ADDITIVE, damped=False, seasonal=SeasonalityMode.ADDITIVE, seasonal_periods=14\n",
      "completed: ExponentialSmoothing(trend=ModelMode.ADDITIVE, damped=False, seasonal=SeasonalityMode.ADDITIVE, seasonal_periods=14:0.3077706220001346 sec\n",
      "beginning: Auto-ARIMA\n",
      "completed: Auto-ARIMA:278.1406761400003 sec\n",
      "beginning: Theta(0.08080808080808133)\n",
      "completed: Theta(0.08080808080808133):0.051426703999823076 sec\n",
      "Combination  53 of 4170\n",
      "beginning: Naive drift model\n",
      "completed: Naive drift model:0.036572544999216916 sec\n",
      "beginning: Prophet\n"
     ]
    },
    {
     "name": "stderr",
     "output_type": "stream",
     "text": [
      "18:48:27 - cmdstanpy - INFO - Chain [1] start processing\n",
      "18:48:27 - cmdstanpy - INFO - Chain [1] done processing\n"
     ]
    },
    {
     "name": "stdout",
     "output_type": "stream",
     "text": [
      "completed: Prophet:0.7090692410001793 sec\n",
      "True\n",
      "beginning: ExponentialSmoothing(trend=ModelMode.ADDITIVE, damped=False, seasonal=SeasonalityMode.ADDITIVE, seasonal_periods=3\n",
      "completed: ExponentialSmoothing(trend=ModelMode.ADDITIVE, damped=False, seasonal=SeasonalityMode.ADDITIVE, seasonal_periods=3:0.2819088639998881 sec\n",
      "beginning: Auto-ARIMA\n",
      "completed: Auto-ARIMA:29.18138250100037 sec\n",
      "beginning: Theta(0.08080808080808133)\n",
      "completed: Theta(0.08080808080808133):0.05456827299985889 sec\n",
      "Combination  54 of 4170\n",
      "beginning: Naive drift model\n",
      "completed: Naive drift model:0.034724864999589045 sec\n",
      "beginning: Prophet\n"
     ]
    },
    {
     "name": "stderr",
     "output_type": "stream",
     "text": [
      "18:49:01 - cmdstanpy - INFO - Chain [1] start processing\n",
      "18:49:01 - cmdstanpy - INFO - Chain [1] done processing\n"
     ]
    },
    {
     "name": "stdout",
     "output_type": "stream",
     "text": [
      "completed: Prophet:0.9249503130004086 sec\n",
      "True\n",
      "beginning: ExponentialSmoothing(trend=ModelMode.ADDITIVE, damped=False, seasonal=SeasonalityMode.ADDITIVE, seasonal_periods=10\n",
      "completed: ExponentialSmoothing(trend=ModelMode.ADDITIVE, damped=False, seasonal=SeasonalityMode.ADDITIVE, seasonal_periods=10:0.30400202199962223 sec\n",
      "beginning: Auto-ARIMA\n",
      "completed: Auto-ARIMA:148.9638733799993 sec\n",
      "beginning: Theta(0.08080808080808133)\n",
      "completed: Theta(0.08080808080808133):0.053159374000642856 sec\n",
      "Combination  55 of 4170\n",
      "beginning: Naive drift model\n"
     ]
    },
    {
     "name": "stderr",
     "output_type": "stream",
     "text": [
      "18:51:35 - cmdstanpy - INFO - Chain [1] start processing\n"
     ]
    },
    {
     "name": "stdout",
     "output_type": "stream",
     "text": [
      "completed: Naive drift model:0.047106214000450564 sec\n",
      "beginning: Prophet\n"
     ]
    },
    {
     "name": "stderr",
     "output_type": "stream",
     "text": [
      "18:51:35 - cmdstanpy - INFO - Chain [1] done processing\n"
     ]
    },
    {
     "name": "stdout",
     "output_type": "stream",
     "text": [
      "completed: Prophet:0.7399883059997592 sec\n",
      "True\n",
      "beginning: ExponentialSmoothing(trend=ModelMode.ADDITIVE, damped=False, seasonal=SeasonalityMode.ADDITIVE, seasonal_periods=6\n",
      "completed: ExponentialSmoothing(trend=ModelMode.ADDITIVE, damped=False, seasonal=SeasonalityMode.ADDITIVE, seasonal_periods=6:0.2981299029997899 sec\n",
      "beginning: Auto-ARIMA\n",
      "completed: Auto-ARIMA:62.126717627999824 sec\n",
      "beginning: Theta(0.08080808080808133)\n",
      "completed: Theta(0.08080808080808133):0.05248058300003322 sec\n",
      "Combination  56 of 4170\n",
      "beginning: Naive drift model\n",
      "completed: Naive drift model:0.03788391499983845 sec\n",
      "beginning: Prophet\n"
     ]
    },
    {
     "name": "stderr",
     "output_type": "stream",
     "text": [
      "18:52:41 - cmdstanpy - INFO - Chain [1] start processing\n",
      "18:52:42 - cmdstanpy - INFO - Chain [1] done processing\n"
     ]
    },
    {
     "name": "stdout",
     "output_type": "stream",
     "text": [
      "completed: Prophet:1.0433880880000288 sec\n",
      "True\n",
      "beginning: ExponentialSmoothing(trend=ModelMode.ADDITIVE, damped=False, seasonal=SeasonalityMode.ADDITIVE, seasonal_periods=13\n",
      "completed: ExponentialSmoothing(trend=ModelMode.ADDITIVE, damped=False, seasonal=SeasonalityMode.ADDITIVE, seasonal_periods=13:0.29523844300001656 sec\n",
      "beginning: Auto-ARIMA\n",
      "completed: Auto-ARIMA:207.20212094400085 sec\n",
      "beginning: Theta(-0.1212121212121211)\n",
      "completed: Theta(-0.1212121212121211):0.05341951699938363 sec\n",
      "Combination  57 of 4170\n",
      "beginning: Naive drift model\n",
      "completed: Naive drift model:0.034168147999480425 sec\n",
      "beginning: Prophet\n"
     ]
    },
    {
     "name": "stderr",
     "output_type": "stream",
     "text": [
      "18:56:13 - cmdstanpy - INFO - Chain [1] start processing\n",
      "18:56:13 - cmdstanpy - INFO - Chain [1] done processing\n"
     ]
    },
    {
     "name": "stdout",
     "output_type": "stream",
     "text": [
      "completed: Prophet:0.7077466970004025 sec\n",
      "True\n",
      "beginning: ExponentialSmoothing(trend=ModelMode.ADDITIVE, damped=False, seasonal=SeasonalityMode.ADDITIVE, seasonal_periods=6\n",
      "completed: ExponentialSmoothing(trend=ModelMode.ADDITIVE, damped=False, seasonal=SeasonalityMode.ADDITIVE, seasonal_periods=6:0.29158643299979303 sec\n",
      "beginning: Auto-ARIMA\n",
      "completed: Auto-ARIMA:58.33111638599985 sec\n",
      "beginning: Theta(0.08080808080808133)\n",
      "completed: Theta(0.08080808080808133):0.05049380700074835 sec\n",
      "Combination  58 of 4170\n",
      "beginning: Naive drift model\n",
      "completed: Naive drift model:0.038090527999884216 sec\n",
      "beginning: Prophet\n"
     ]
    },
    {
     "name": "stderr",
     "output_type": "stream",
     "text": [
      "18:57:16 - cmdstanpy - INFO - Chain [1] start processing\n",
      "18:57:16 - cmdstanpy - INFO - Chain [1] done processing\n"
     ]
    },
    {
     "name": "stdout",
     "output_type": "stream",
     "text": [
      "completed: Prophet:0.7189795759995832 sec\n",
      "True\n",
      "beginning: ExponentialSmoothing(trend=ModelMode.ADDITIVE, damped=False, seasonal=SeasonalityMode.ADDITIVE, seasonal_periods=10\n",
      "completed: ExponentialSmoothing(trend=ModelMode.ADDITIVE, damped=False, seasonal=SeasonalityMode.ADDITIVE, seasonal_periods=10:0.29496868299975176 sec\n",
      "beginning: Auto-ARIMA\n",
      "completed: Auto-ARIMA:150.0919599380004 sec\n",
      "beginning: Theta(0.08080808080808133)\n",
      "completed: Theta(0.08080808080808133):0.050770687000294856 sec\n",
      "Combination  59 of 4170\n",
      "beginning: Naive drift model\n",
      "completed: Naive drift model:0.03775171699999191 sec\n",
      "beginning: Prophet\n"
     ]
    },
    {
     "name": "stderr",
     "output_type": "stream",
     "text": [
      "18:59:50 - cmdstanpy - INFO - Chain [1] start processing\n",
      "18:59:51 - cmdstanpy - INFO - Chain [1] done processing\n"
     ]
    },
    {
     "name": "stdout",
     "output_type": "stream",
     "text": [
      "completed: Prophet:1.1888266980004119 sec\n",
      "True\n",
      "beginning: ExponentialSmoothing(trend=ModelMode.ADDITIVE, damped=False, seasonal=SeasonalityMode.ADDITIVE, seasonal_periods=12\n",
      "completed: ExponentialSmoothing(trend=ModelMode.ADDITIVE, damped=False, seasonal=SeasonalityMode.ADDITIVE, seasonal_periods=12:0.30162859200027015 sec\n",
      "beginning: Auto-ARIMA\n",
      "completed: Auto-ARIMA:197.05661790700015 sec\n",
      "beginning: Theta(0.08080808080808133)\n",
      "completed: Theta(0.08080808080808133):0.055236896000678826 sec\n",
      "Combination  60 of 4170\n",
      "beginning: Naive drift model\n",
      "completed: Naive drift model:0.03739148800013936 sec\n",
      "beginning: Prophet\n"
     ]
    },
    {
     "name": "stderr",
     "output_type": "stream",
     "text": [
      "19:03:12 - cmdstanpy - INFO - Chain [1] start processing\n",
      "19:03:13 - cmdstanpy - INFO - Chain [1] done processing\n"
     ]
    },
    {
     "name": "stdout",
     "output_type": "stream",
     "text": [
      "completed: Prophet:0.8257458099997166 sec\n",
      "True\n",
      "beginning: ExponentialSmoothing(trend=ModelMode.ADDITIVE, damped=False, seasonal=SeasonalityMode.ADDITIVE, seasonal_periods=13\n",
      "completed: ExponentialSmoothing(trend=ModelMode.ADDITIVE, damped=False, seasonal=SeasonalityMode.ADDITIVE, seasonal_periods=13:0.3471114089998082 sec\n",
      "beginning: Auto-ARIMA\n",
      "completed: Auto-ARIMA:286.8990722560002 sec\n",
      "beginning: Theta(-0.1212121212121211)\n",
      "completed: Theta(-0.1212121212121211):0.055234956000276725 sec\n",
      "Combination  61 of 4170\n",
      "beginning: Naive drift model\n",
      "completed: Naive drift model:0.03776776799986692 sec\n",
      "beginning: Prophet\n"
     ]
    },
    {
     "name": "stderr",
     "output_type": "stream",
     "text": [
      "19:08:04 - cmdstanpy - INFO - Chain [1] start processing\n",
      "19:08:04 - cmdstanpy - INFO - Chain [1] done processing\n"
     ]
    },
    {
     "name": "stdout",
     "output_type": "stream",
     "text": [
      "completed: Prophet:0.965835815999526 sec\n",
      "True\n",
      "beginning: ExponentialSmoothing(trend=ModelMode.ADDITIVE, damped=False, seasonal=SeasonalityMode.ADDITIVE, seasonal_periods=7\n",
      "completed: ExponentialSmoothing(trend=ModelMode.ADDITIVE, damped=False, seasonal=SeasonalityMode.ADDITIVE, seasonal_periods=7:0.35300704699966445 sec\n",
      "beginning: Auto-ARIMA\n",
      "completed: Auto-ARIMA:68.55721372900007 sec\n",
      "beginning: Theta(0.28282828282828376)\n",
      "completed: Theta(0.28282828282828376):0.05651145599949814 sec\n",
      "Combination  62 of 4170\n",
      "beginning: Naive drift model\n",
      "completed: Naive drift model:0.040246116999696824 sec\n",
      "beginning: Prophet\n"
     ]
    },
    {
     "name": "stderr",
     "output_type": "stream",
     "text": [
      "19:09:17 - cmdstanpy - INFO - Chain [1] start processing\n",
      "19:09:18 - cmdstanpy - INFO - Chain [1] done processing\n"
     ]
    },
    {
     "name": "stdout",
     "output_type": "stream",
     "text": [
      "completed: Prophet:1.2406205679999402 sec\n",
      "True\n",
      "beginning: ExponentialSmoothing(trend=ModelMode.ADDITIVE, damped=False, seasonal=SeasonalityMode.ADDITIVE, seasonal_periods=7\n",
      "completed: ExponentialSmoothing(trend=ModelMode.ADDITIVE, damped=False, seasonal=SeasonalityMode.ADDITIVE, seasonal_periods=7:0.3343716070003211 sec\n",
      "beginning: Auto-ARIMA\n",
      "completed: Auto-ARIMA:61.152417303999755 sec\n",
      "beginning: Theta(0.08080808080808133)\n",
      "completed: Theta(0.08080808080808133):0.060726206000254024 sec\n",
      "Combination  63 of 4170\n",
      "beginning: Naive drift model\n",
      "completed: Naive drift model:0.0391500569994605 sec\n",
      "beginning: Prophet\n"
     ]
    },
    {
     "name": "stderr",
     "output_type": "stream",
     "text": [
      "19:10:24 - cmdstanpy - INFO - Chain [1] start processing\n",
      "19:10:24 - cmdstanpy - INFO - Chain [1] done processing\n"
     ]
    },
    {
     "name": "stdout",
     "output_type": "stream",
     "text": [
      "completed: Prophet:0.7454780510006458 sec\n",
      "True\n",
      "beginning: ExponentialSmoothing(trend=ModelMode.ADDITIVE, damped=False, seasonal=SeasonalityMode.ADDITIVE, seasonal_periods=6\n",
      "completed: ExponentialSmoothing(trend=ModelMode.ADDITIVE, damped=False, seasonal=SeasonalityMode.ADDITIVE, seasonal_periods=6:0.3470654070006276 sec\n",
      "beginning: Auto-ARIMA\n",
      "completed: Auto-ARIMA:47.517011963000186 sec\n",
      "beginning: Theta(-0.1212121212121211)\n",
      "completed: Theta(-0.1212121212121211):0.05908818599982624 sec\n",
      "Combination  64 of 4170\n",
      "beginning: Naive drift model\n",
      "completed: Naive drift model:0.03567429699978675 sec\n",
      "beginning: Prophet\n"
     ]
    },
    {
     "name": "stderr",
     "output_type": "stream",
     "text": [
      "19:11:16 - cmdstanpy - INFO - Chain [1] start processing\n",
      "19:11:16 - cmdstanpy - INFO - Chain [1] done processing\n"
     ]
    },
    {
     "name": "stdout",
     "output_type": "stream",
     "text": [
      "completed: Prophet:0.74946731 sec\n",
      "True\n",
      "beginning: ExponentialSmoothing(trend=ModelMode.ADDITIVE, damped=False, seasonal=SeasonalityMode.ADDITIVE, seasonal_periods=7\n",
      "completed: ExponentialSmoothing(trend=ModelMode.ADDITIVE, damped=False, seasonal=SeasonalityMode.ADDITIVE, seasonal_periods=7:0.34164574700025696 sec\n",
      "beginning: Auto-ARIMA\n",
      "completed: Auto-ARIMA:87.99608065099983 sec\n",
      "beginning: Theta(0.08080808080808133)\n",
      "completed: Theta(0.08080808080808133):0.053009256000223104 sec\n",
      "Combination  65 of 4170\n",
      "beginning: Naive drift model\n",
      "completed: Naive drift model:0.03642677800053207 sec\n",
      "beginning: Prophet\n"
     ]
    },
    {
     "name": "stderr",
     "output_type": "stream",
     "text": [
      "19:12:48 - cmdstanpy - INFO - Chain [1] start processing\n",
      "19:12:49 - cmdstanpy - INFO - Chain [1] done processing\n"
     ]
    },
    {
     "name": "stdout",
     "output_type": "stream",
     "text": [
      "completed: Prophet:0.8067628559992954 sec\n",
      "True\n",
      "beginning: ExponentialSmoothing(trend=ModelMode.ADDITIVE, damped=False, seasonal=SeasonalityMode.ADDITIVE, seasonal_periods=7\n",
      "completed: ExponentialSmoothing(trend=ModelMode.ADDITIVE, damped=False, seasonal=SeasonalityMode.ADDITIVE, seasonal_periods=7:0.353347606999705 sec\n",
      "beginning: Auto-ARIMA\n",
      "completed: Auto-ARIMA:60.845686482999554 sec\n",
      "beginning: Theta(0.08080808080808133)\n",
      "completed: Theta(0.08080808080808133):0.05284841699995013 sec\n",
      "Combination  66 of 4170\n",
      "beginning: Naive drift model\n",
      "completed: Naive drift model:0.0378051180005059 sec\n",
      "beginning: Prophet\n"
     ]
    },
    {
     "name": "stderr",
     "output_type": "stream",
     "text": [
      "19:13:54 - cmdstanpy - INFO - Chain [1] start processing\n",
      "19:13:54 - cmdstanpy - INFO - Chain [1] done processing\n"
     ]
    },
    {
     "name": "stdout",
     "output_type": "stream",
     "text": [
      "completed: Prophet:0.9542533369994999 sec\n",
      "True\n",
      "beginning: ExponentialSmoothing(trend=ModelMode.ADDITIVE, damped=False, seasonal=SeasonalityMode.ADDITIVE, seasonal_periods=7\n",
      "completed: ExponentialSmoothing(trend=ModelMode.ADDITIVE, damped=False, seasonal=SeasonalityMode.ADDITIVE, seasonal_periods=7:0.3287223779998385 sec\n",
      "beginning: Auto-ARIMA\n",
      "completed: Auto-ARIMA:91.27743002500029 sec\n",
      "beginning: Theta(-0.1212121212121211)\n",
      "completed: Theta(-0.1212121212121211):0.05628139599957649 sec\n",
      "Combination  67 of 4170\n",
      "beginning: Naive drift model\n",
      "completed: Naive drift model:0.03856147700025758 sec\n",
      "beginning: Prophet\n"
     ]
    },
    {
     "name": "stderr",
     "output_type": "stream",
     "text": [
      "19:15:30 - cmdstanpy - INFO - Chain [1] start processing\n",
      "19:15:30 - cmdstanpy - INFO - Chain [1] done processing\n"
     ]
    },
    {
     "name": "stdout",
     "output_type": "stream",
     "text": [
      "completed: Prophet:1.1993819399995118 sec\n",
      "True\n",
      "beginning: ExponentialSmoothing(trend=ModelMode.ADDITIVE, damped=False, seasonal=SeasonalityMode.ADDITIVE, seasonal_periods=6\n",
      "completed: ExponentialSmoothing(trend=ModelMode.ADDITIVE, damped=False, seasonal=SeasonalityMode.ADDITIVE, seasonal_periods=6:0.33340752799995244 sec\n",
      "beginning: Auto-ARIMA\n",
      "completed: Auto-ARIMA:52.04072148100022 sec\n",
      "beginning: Theta(0.08080808080808133)\n",
      "completed: Theta(0.08080808080808133):0.051353967000068224 sec\n",
      "Combination  68 of 4170\n",
      "beginning: Naive drift model\n",
      "completed: Naive drift model:0.03431308700055524 sec\n",
      "beginning: Prophet\n"
     ]
    },
    {
     "name": "stderr",
     "output_type": "stream",
     "text": [
      "19:16:27 - cmdstanpy - INFO - Chain [1] start processing\n",
      "19:16:27 - cmdstanpy - INFO - Chain [1] done processing\n"
     ]
    },
    {
     "name": "stdout",
     "output_type": "stream",
     "text": [
      "completed: Prophet:0.7882592579999255 sec\n",
      "True\n",
      "beginning: ExponentialSmoothing(trend=ModelMode.ADDITIVE, damped=False, seasonal=SeasonalityMode.ADDITIVE, seasonal_periods=5\n",
      "completed: ExponentialSmoothing(trend=ModelMode.ADDITIVE, damped=False, seasonal=SeasonalityMode.ADDITIVE, seasonal_periods=5:0.3274086179999358 sec\n",
      "beginning: Auto-ARIMA\n",
      "completed: Auto-ARIMA:42.91226519999964 sec\n",
      "beginning: Theta(0.08080808080808133)\n",
      "completed: Theta(0.08080808080808133):0.053463257000657904 sec\n",
      "Combination  69 of 4170\n",
      "beginning: Naive drift model\n",
      "completed: Naive drift model:0.03543292799986375 sec\n",
      "beginning: Prophet\n"
     ]
    },
    {
     "name": "stderr",
     "output_type": "stream",
     "text": [
      "19:17:14 - cmdstanpy - INFO - Chain [1] start processing\n",
      "19:17:15 - cmdstanpy - INFO - Chain [1] done processing\n"
     ]
    },
    {
     "name": "stdout",
     "output_type": "stream",
     "text": [
      "completed: Prophet:0.8844513309995818 sec\n",
      "True\n",
      "beginning: ExponentialSmoothing(trend=ModelMode.ADDITIVE, damped=False, seasonal=SeasonalityMode.ADDITIVE, seasonal_periods=7\n",
      "completed: ExponentialSmoothing(trend=ModelMode.ADDITIVE, damped=False, seasonal=SeasonalityMode.ADDITIVE, seasonal_periods=7:0.32877030899999227 sec\n",
      "beginning: Auto-ARIMA\n",
      "completed: Auto-ARIMA:70.6417759599999 sec\n",
      "beginning: Theta(-0.1212121212121211)\n",
      "completed: Theta(-0.1212121212121211):0.0558013360005134 sec\n",
      "Combination  70 of 4170\n",
      "beginning: Naive drift model\n",
      "completed: Naive drift model:0.04044344700014335 sec\n",
      "beginning: Prophet\n"
     ]
    },
    {
     "name": "stderr",
     "output_type": "stream",
     "text": [
      "19:18:30 - cmdstanpy - INFO - Chain [1] start processing\n",
      "19:18:30 - cmdstanpy - INFO - Chain [1] done processing\n"
     ]
    },
    {
     "name": "stdout",
     "output_type": "stream",
     "text": [
      "completed: Prophet:1.2328788069999064 sec\n",
      "True\n",
      "beginning: ExponentialSmoothing(trend=ModelMode.ADDITIVE, damped=False, seasonal=SeasonalityMode.ADDITIVE, seasonal_periods=7\n",
      "completed: ExponentialSmoothing(trend=ModelMode.ADDITIVE, damped=False, seasonal=SeasonalityMode.ADDITIVE, seasonal_periods=7:0.33181311699991056 sec\n",
      "beginning: Auto-ARIMA\n",
      "completed: Auto-ARIMA:92.11401803800072 sec\n",
      "beginning: Theta(0.08080808080808133)\n",
      "completed: Theta(0.08080808080808133):0.05478418699931353 sec\n",
      "Combination  71 of 4170\n",
      "beginning: Naive drift model\n",
      "completed: Naive drift model:0.036598778000552556 sec\n",
      "beginning: Prophet\n"
     ]
    },
    {
     "name": "stderr",
     "output_type": "stream",
     "text": [
      "19:20:07 - cmdstanpy - INFO - Chain [1] start processing\n",
      "19:20:07 - cmdstanpy - INFO - Chain [1] done processing\n"
     ]
    },
    {
     "name": "stdout",
     "output_type": "stream",
     "text": [
      "completed: Prophet:0.8277170239998668 sec\n",
      "True\n",
      "beginning: ExponentialSmoothing(trend=ModelMode.ADDITIVE, damped=False, seasonal=SeasonalityMode.ADDITIVE, seasonal_periods=7\n",
      "completed: ExponentialSmoothing(trend=ModelMode.ADDITIVE, damped=False, seasonal=SeasonalityMode.ADDITIVE, seasonal_periods=7:0.3295701880006163 sec\n",
      "beginning: Auto-ARIMA\n",
      "completed: Auto-ARIMA:161.6761773170001 sec\n",
      "beginning: Theta(0.08080808080808133)\n",
      "completed: Theta(0.08080808080808133):0.05731158599974151 sec\n",
      "Combination  72 of 4170\n",
      "beginning: Naive drift model\n",
      "completed: Naive drift model:0.04001177700047265 sec\n",
      "beginning: Prophet\n"
     ]
    },
    {
     "name": "stderr",
     "output_type": "stream",
     "text": [
      "19:22:53 - cmdstanpy - INFO - Chain [1] start processing\n",
      "19:22:54 - cmdstanpy - INFO - Chain [1] done processing\n"
     ]
    },
    {
     "name": "stdout",
     "output_type": "stream",
     "text": [
      "completed: Prophet:0.8069777639993845 sec\n",
      "True\n",
      "beginning: ExponentialSmoothing(trend=ModelMode.ADDITIVE, damped=False, seasonal=SeasonalityMode.ADDITIVE, seasonal_periods=7\n",
      "completed: ExponentialSmoothing(trend=ModelMode.ADDITIVE, damped=False, seasonal=SeasonalityMode.ADDITIVE, seasonal_periods=7:0.3291381179997188 sec\n",
      "beginning: Auto-ARIMA\n",
      "completed: Auto-ARIMA:68.07016474699958 sec\n",
      "beginning: Theta(-0.1212121212121211)\n",
      "completed: Theta(-0.1212121212121211):0.058602787000381795 sec\n",
      "Combination  73 of 4170\n",
      "beginning: Naive drift model\n",
      "completed: Naive drift model:0.03736815699994622 sec\n",
      "beginning: Prophet\n"
     ]
    },
    {
     "name": "stderr",
     "output_type": "stream",
     "text": [
      "19:24:06 - cmdstanpy - INFO - Chain [1] start processing\n",
      "19:24:07 - cmdstanpy - INFO - Chain [1] done processing\n"
     ]
    },
    {
     "name": "stdout",
     "output_type": "stream",
     "text": [
      "completed: Prophet:1.2942991509999047 sec\n",
      "True\n",
      "beginning: ExponentialSmoothing(trend=ModelMode.ADDITIVE, damped=False, seasonal=SeasonalityMode.ADDITIVE, seasonal_periods=7\n",
      "completed: ExponentialSmoothing(trend=ModelMode.ADDITIVE, damped=False, seasonal=SeasonalityMode.ADDITIVE, seasonal_periods=7:0.32756782799970097 sec\n",
      "beginning: Auto-ARIMA\n",
      "completed: Auto-ARIMA:53.31140882900036 sec\n",
      "beginning: Theta(0.08080808080808133)\n",
      "completed: Theta(0.08080808080808133):0.054581385999881604 sec\n",
      "Combination  74 of 4170\n",
      "beginning: Naive drift model\n",
      "completed: Naive drift model:0.04271542800051975 sec\n",
      "beginning: Prophet\n"
     ]
    },
    {
     "name": "stderr",
     "output_type": "stream",
     "text": [
      "19:25:05 - cmdstanpy - INFO - Chain [1] start processing\n",
      "19:25:05 - cmdstanpy - INFO - Chain [1] done processing\n"
     ]
    },
    {
     "name": "stdout",
     "output_type": "stream",
     "text": [
      "completed: Prophet:0.9023084189993824 sec\n",
      "True\n",
      "beginning: ExponentialSmoothing(trend=ModelMode.ADDITIVE, damped=False, seasonal=SeasonalityMode.ADDITIVE, seasonal_periods=7\n",
      "completed: ExponentialSmoothing(trend=ModelMode.ADDITIVE, damped=False, seasonal=SeasonalityMode.ADDITIVE, seasonal_periods=7:0.3435812759998953 sec\n",
      "beginning: Auto-ARIMA\n",
      "completed: Auto-ARIMA:59.699284280999564 sec\n",
      "beginning: Theta(-0.1212121212121211)\n",
      "completed: Theta(-0.1212121212121211):0.05238233599993691 sec\n",
      "Combination  75 of 4170\n",
      "beginning: Naive drift model\n",
      "completed: Naive drift model:0.03525997699944128 sec\n",
      "beginning: Prophet\n"
     ]
    },
    {
     "name": "stderr",
     "output_type": "stream",
     "text": [
      "19:26:09 - cmdstanpy - INFO - Chain [1] start processing\n",
      "19:26:09 - cmdstanpy - INFO - Chain [1] done processing\n"
     ]
    },
    {
     "name": "stdout",
     "output_type": "stream",
     "text": [
      "completed: Prophet:0.768141246999221 sec\n",
      "True\n",
      "beginning: ExponentialSmoothing(trend=ModelMode.ADDITIVE, damped=False, seasonal=SeasonalityMode.ADDITIVE, seasonal_periods=3\n",
      "completed: ExponentialSmoothing(trend=ModelMode.ADDITIVE, damped=False, seasonal=SeasonalityMode.ADDITIVE, seasonal_periods=3:0.3303357579998192 sec\n",
      "beginning: Auto-ARIMA\n",
      "completed: Auto-ARIMA:40.54918401199939 sec\n",
      "beginning: Theta(0.08080808080808133)\n",
      "completed: Theta(0.08080808080808133):0.06169155600036902 sec\n",
      "Combination  76 of 4170\n",
      "beginning: Naive drift model\n",
      "completed: Naive drift model:0.03950943800009554 sec\n",
      "beginning: Prophet\n"
     ]
    },
    {
     "name": "stderr",
     "output_type": "stream",
     "text": [
      "19:26:55 - cmdstanpy - INFO - Chain [1] start processing\n",
      "19:26:55 - cmdstanpy - INFO - Chain [1] done processing\n"
     ]
    },
    {
     "name": "stdout",
     "output_type": "stream",
     "text": [
      "completed: Prophet:1.0994590939999398 sec\n",
      "True\n",
      "beginning: ExponentialSmoothing(trend=ModelMode.ADDITIVE, damped=False, seasonal=SeasonalityMode.ADDITIVE, seasonal_periods=4\n",
      "completed: ExponentialSmoothing(trend=ModelMode.ADDITIVE, damped=False, seasonal=SeasonalityMode.ADDITIVE, seasonal_periods=4:0.2998953599999368 sec\n",
      "beginning: Auto-ARIMA\n",
      "completed: Auto-ARIMA:40.06239564599946 sec\n",
      "beginning: Theta(0.08080808080808133)\n",
      "completed: Theta(0.08080808080808133):0.05560592599977099 sec\n",
      "Combination  77 of 4170\n",
      "beginning: Naive drift model\n",
      "completed: Naive drift model:0.0372165179996955 sec\n",
      "beginning: Prophet\n"
     ]
    },
    {
     "name": "stderr",
     "output_type": "stream",
     "text": [
      "19:27:40 - cmdstanpy - INFO - Chain [1] start processing\n",
      "19:27:40 - cmdstanpy - INFO - Chain [1] done processing\n"
     ]
    },
    {
     "name": "stdout",
     "output_type": "stream",
     "text": [
      "completed: Prophet:0.8488396019993161 sec\n",
      "True\n",
      "beginning: ExponentialSmoothing(trend=ModelMode.ADDITIVE, damped=False, seasonal=SeasonalityMode.ADDITIVE, seasonal_periods=3\n",
      "completed: ExponentialSmoothing(trend=ModelMode.ADDITIVE, damped=False, seasonal=SeasonalityMode.ADDITIVE, seasonal_periods=3:0.3774923040000431 sec\n",
      "beginning: Auto-ARIMA\n",
      "completed: Auto-ARIMA:37.71624680600053 sec\n",
      "beginning: Theta(-0.1212121212121211)\n",
      "completed: Theta(-0.1212121212121211):0.07854081400000723 sec\n",
      "Combination  78 of 4170\n",
      "beginning: Naive drift model\n",
      "completed: Naive drift model:0.035996947000057844 sec\n",
      "beginning: Prophet\n"
     ]
    },
    {
     "name": "stderr",
     "output_type": "stream",
     "text": [
      "19:28:23 - cmdstanpy - INFO - Chain [1] start processing\n",
      "19:28:23 - cmdstanpy - INFO - Chain [1] done processing\n"
     ]
    },
    {
     "name": "stdout",
     "output_type": "stream",
     "text": [
      "completed: Prophet:1.228373425999962 sec\n",
      "True\n",
      "beginning: ExponentialSmoothing(trend=ModelMode.ADDITIVE, damped=False, seasonal=SeasonalityMode.ADDITIVE, seasonal_periods=3\n",
      "completed: ExponentialSmoothing(trend=ModelMode.ADDITIVE, damped=False, seasonal=SeasonalityMode.ADDITIVE, seasonal_periods=3:0.3319521869998425 sec\n",
      "beginning: Auto-ARIMA\n",
      "completed: Auto-ARIMA:46.17912215599972 sec\n",
      "beginning: Theta(0.28282828282828376)\n",
      "completed: Theta(0.28282828282828376):0.05871933600064949 sec\n",
      "Combination  79 of 4170\n",
      "beginning: Naive drift model\n",
      "completed: Naive drift model:0.037706477000028826 sec\n",
      "beginning: Prophet\n"
     ]
    },
    {
     "name": "stderr",
     "output_type": "stream",
     "text": [
      "19:29:14 - cmdstanpy - INFO - Chain [1] start processing\n",
      "19:29:14 - cmdstanpy - INFO - Chain [1] done processing\n"
     ]
    },
    {
     "name": "stdout",
     "output_type": "stream",
     "text": [
      "completed: Prophet:0.8155016540003999 sec\n",
      "True\n",
      "beginning: ExponentialSmoothing(trend=ModelMode.ADDITIVE, damped=False, seasonal=SeasonalityMode.ADDITIVE, seasonal_periods=3\n",
      "completed: ExponentialSmoothing(trend=ModelMode.ADDITIVE, damped=False, seasonal=SeasonalityMode.ADDITIVE, seasonal_periods=3:0.37309962499966787 sec\n",
      "beginning: Auto-ARIMA\n",
      "completed: Auto-ARIMA:43.1462786839993 sec\n",
      "beginning: Theta(0.28282828282828376)\n",
      "completed: Theta(0.28282828282828376):0.05569607600045856 sec\n",
      "Combination  80 of 4170\n",
      "beginning: Naive drift model\n",
      "completed: Naive drift model:0.04382503700071538 sec\n",
      "beginning: Prophet\n"
     ]
    },
    {
     "name": "stderr",
     "output_type": "stream",
     "text": [
      "19:30:02 - cmdstanpy - INFO - Chain [1] start processing\n",
      "19:30:02 - cmdstanpy - INFO - Chain [1] done processing\n"
     ]
    },
    {
     "name": "stdout",
     "output_type": "stream",
     "text": [
      "completed: Prophet:0.848468633000266 sec\n",
      "True\n",
      "beginning: ExponentialSmoothing(trend=ModelMode.ADDITIVE, damped=False, seasonal=SeasonalityMode.ADDITIVE, seasonal_periods=8\n",
      "completed: ExponentialSmoothing(trend=ModelMode.ADDITIVE, damped=False, seasonal=SeasonalityMode.ADDITIVE, seasonal_periods=8:0.3414727870003844 sec\n",
      "beginning: Auto-ARIMA\n",
      "completed: Auto-ARIMA:65.87700255799973 sec\n",
      "beginning: Theta(0.08080808080808133)\n",
      "completed: Theta(0.08080808080808133):0.057840026000121725 sec\n",
      "Combination  81 of 4170\n",
      "beginning: Naive drift model\n",
      "completed: Naive drift model:0.035922148000281595 sec\n",
      "beginning: Prophet\n"
     ]
    },
    {
     "name": "stderr",
     "output_type": "stream",
     "text": [
      "19:31:13 - cmdstanpy - INFO - Chain [1] start processing\n",
      "19:31:13 - cmdstanpy - INFO - Chain [1] done processing\n"
     ]
    },
    {
     "name": "stdout",
     "output_type": "stream",
     "text": [
      "completed: Prophet:1.1572534619999715 sec\n",
      "True\n",
      "beginning: ExponentialSmoothing(trend=ModelMode.ADDITIVE, damped=False, seasonal=SeasonalityMode.ADDITIVE, seasonal_periods=7\n",
      "completed: ExponentialSmoothing(trend=ModelMode.ADDITIVE, damped=False, seasonal=SeasonalityMode.ADDITIVE, seasonal_periods=7:0.33741803700013406 sec\n",
      "beginning: Auto-ARIMA\n",
      "completed: Auto-ARIMA:152.57010542999978 sec\n",
      "beginning: Theta(-0.32323232323232354)\n",
      "completed: Theta(-0.32323232323232354):0.053699176000009174 sec\n",
      "Combination  82 of 4170\n",
      "beginning: Naive drift model\n",
      "completed: Naive drift model:0.04187257699959446 sec\n",
      "beginning: Prophet\n"
     ]
    },
    {
     "name": "stderr",
     "output_type": "stream",
     "text": [
      "19:33:50 - cmdstanpy - INFO - Chain [1] start processing\n",
      "19:33:50 - cmdstanpy - INFO - Chain [1] done processing\n"
     ]
    },
    {
     "name": "stdout",
     "output_type": "stream",
     "text": [
      "completed: Prophet:0.8708289699998204 sec\n",
      "True\n",
      "beginning: ExponentialSmoothing(trend=ModelMode.ADDITIVE, damped=False, seasonal=SeasonalityMode.ADDITIVE, seasonal_periods=6\n",
      "completed: ExponentialSmoothing(trend=ModelMode.ADDITIVE, damped=False, seasonal=SeasonalityMode.ADDITIVE, seasonal_periods=6:0.3375608670003203 sec\n",
      "beginning: Auto-ARIMA\n",
      "completed: Auto-ARIMA:101.78386798799966 sec\n",
      "beginning: Theta(0.08080808080808133)\n",
      "completed: Theta(0.08080808080808133):0.054055597000115085 sec\n",
      "Combination  83 of 4170\n",
      "beginning: Naive drift model\n",
      "completed: Naive drift model:0.03973343699999532 sec\n",
      "beginning: Prophet\n"
     ]
    },
    {
     "name": "stderr",
     "output_type": "stream",
     "text": [
      "19:35:37 - cmdstanpy - INFO - Chain [1] start processing\n",
      "19:35:37 - cmdstanpy - INFO - Chain [1] done processing\n"
     ]
    },
    {
     "name": "stdout",
     "output_type": "stream",
     "text": [
      "completed: Prophet:0.8617979109994849 sec\n",
      "True\n",
      "beginning: ExponentialSmoothing(trend=ModelMode.ADDITIVE, damped=False, seasonal=SeasonalityMode.ADDITIVE, seasonal_periods=4\n",
      "completed: ExponentialSmoothing(trend=ModelMode.ADDITIVE, damped=False, seasonal=SeasonalityMode.ADDITIVE, seasonal_periods=4:0.3372924069999499 sec\n",
      "beginning: Auto-ARIMA\n",
      "completed: Auto-ARIMA:53.410881712000446 sec\n",
      "beginning: Theta(0.08080808080808133)\n",
      "completed: Theta(0.08080808080808133):0.05366726699958235 sec\n",
      "Combination  84 of 4170\n",
      "beginning: Naive drift model\n",
      "completed: Naive drift model:0.036564507000548474 sec\n",
      "beginning: Prophet\n"
     ]
    },
    {
     "name": "stderr",
     "output_type": "stream",
     "text": [
      "19:36:35 - cmdstanpy - INFO - Chain [1] start processing\n",
      "19:36:35 - cmdstanpy - INFO - Chain [1] done processing\n"
     ]
    },
    {
     "name": "stdout",
     "output_type": "stream",
     "text": [
      "completed: Prophet:1.1815082889997939 sec\n",
      "True\n",
      "beginning: ExponentialSmoothing(trend=ModelMode.ADDITIVE, damped=False, seasonal=SeasonalityMode.ADDITIVE, seasonal_periods=14\n",
      "completed: ExponentialSmoothing(trend=ModelMode.ADDITIVE, damped=False, seasonal=SeasonalityMode.ADDITIVE, seasonal_periods=14:0.3265074179998919 sec\n",
      "beginning: Auto-ARIMA\n",
      "completed: Auto-ARIMA:390.59137850800016 sec\n",
      "beginning: Theta(0.08080808080808133)\n",
      "completed: Theta(0.08080808080808133):0.060028705000149785 sec\n",
      "Combination  85 of 4170\n",
      "beginning: Naive drift model\n",
      "completed: Naive drift model:0.03510841699971934 sec\n",
      "beginning: Prophet\n"
     ]
    },
    {
     "name": "stderr",
     "output_type": "stream",
     "text": [
      "19:43:10 - cmdstanpy - INFO - Chain [1] start processing\n",
      "19:43:11 - cmdstanpy - INFO - Chain [1] done processing\n"
     ]
    },
    {
     "name": "stdout",
     "output_type": "stream",
     "text": [
      "completed: Prophet:1.023323313000219 sec\n",
      "True\n",
      "beginning: ExponentialSmoothing(trend=ModelMode.ADDITIVE, damped=False, seasonal=SeasonalityMode.ADDITIVE, seasonal_periods=7\n",
      "completed: ExponentialSmoothing(trend=ModelMode.ADDITIVE, damped=False, seasonal=SeasonalityMode.ADDITIVE, seasonal_periods=7:0.2943406149997827 sec\n",
      "beginning: Auto-ARIMA\n",
      "completed: Auto-ARIMA:60.24237264099975 sec\n",
      "beginning: Theta(0.08080808080808133)\n",
      "completed: Theta(0.08080808080808133):0.0533464649997768 sec\n",
      "Combination  86 of 4170\n",
      "beginning: Naive drift model\n",
      "completed: Naive drift model:0.03652344699912646 sec\n",
      "beginning: Prophet\n"
     ]
    },
    {
     "name": "stderr",
     "output_type": "stream",
     "text": [
      "19:44:15 - cmdstanpy - INFO - Chain [1] start processing\n",
      "19:44:15 - cmdstanpy - INFO - Chain [1] done processing\n"
     ]
    },
    {
     "name": "stdout",
     "output_type": "stream",
     "text": [
      "completed: Prophet:0.7820692139994208 sec\n",
      "True\n",
      "beginning: ExponentialSmoothing(trend=ModelMode.ADDITIVE, damped=False, seasonal=SeasonalityMode.ADDITIVE, seasonal_periods=8\n",
      "completed: ExponentialSmoothing(trend=ModelMode.ADDITIVE, damped=False, seasonal=SeasonalityMode.ADDITIVE, seasonal_periods=8:0.2943987449998531 sec\n",
      "beginning: Auto-ARIMA\n",
      "completed: Auto-ARIMA:82.37183270500009 sec\n",
      "beginning: Theta(0.08080808080808133)\n",
      "completed: Theta(0.08080808080808133):0.05429220499991061 sec\n",
      "Combination  87 of 4170\n",
      "beginning: Naive drift model\n",
      "completed: Naive drift model:0.03523694700015767 sec\n",
      "beginning: Prophet\n"
     ]
    },
    {
     "name": "stderr",
     "output_type": "stream",
     "text": [
      "19:45:42 - cmdstanpy - INFO - Chain [1] start processing\n",
      "19:45:42 - cmdstanpy - INFO - Chain [1] done processing\n"
     ]
    },
    {
     "name": "stdout",
     "output_type": "stream",
     "text": [
      "completed: Prophet:1.0285914730002332 sec\n",
      "True\n",
      "beginning: ExponentialSmoothing(trend=ModelMode.ADDITIVE, damped=False, seasonal=SeasonalityMode.ADDITIVE, seasonal_periods=6\n",
      "completed: ExponentialSmoothing(trend=ModelMode.ADDITIVE, damped=False, seasonal=SeasonalityMode.ADDITIVE, seasonal_periods=6:0.29099965499972313 sec\n",
      "beginning: Auto-ARIMA\n",
      "completed: Auto-ARIMA:41.94702971300012 sec\n",
      "beginning: Theta(0.08080808080808133)\n",
      "completed: Theta(0.08080808080808133):0.05631838500084996 sec\n",
      "Combination  88 of 4170\n",
      "beginning: Naive drift model\n",
      "completed: Naive drift model:0.03485618699960469 sec\n",
      "beginning: Prophet\n"
     ]
    },
    {
     "name": "stderr",
     "output_type": "stream",
     "text": [
      "19:46:28 - cmdstanpy - INFO - Chain [1] start processing\n",
      "19:46:29 - cmdstanpy - INFO - Chain [1] done processing\n"
     ]
    },
    {
     "name": "stdout",
     "output_type": "stream",
     "text": [
      "completed: Prophet:0.8644808369999737 sec\n",
      "True\n",
      "beginning: ExponentialSmoothing(trend=ModelMode.ADDITIVE, damped=False, seasonal=SeasonalityMode.ADDITIVE, seasonal_periods=13\n",
      "completed: ExponentialSmoothing(trend=ModelMode.ADDITIVE, damped=False, seasonal=SeasonalityMode.ADDITIVE, seasonal_periods=13:0.306812283999534 sec\n",
      "beginning: Auto-ARIMA\n",
      "completed: Auto-ARIMA:263.734579465 sec\n",
      "beginning: Theta(0.08080808080808133)\n",
      "completed: Theta(0.08080808080808133):0.05644214499989175 sec\n",
      "Combination  89 of 4170\n",
      "beginning: Naive drift model\n",
      "completed: Naive drift model:0.035229707000326016 sec\n",
      "beginning: Prophet\n"
     ]
    },
    {
     "name": "stderr",
     "output_type": "stream",
     "text": [
      "19:50:57 - cmdstanpy - INFO - Chain [1] start processing\n",
      "19:50:57 - cmdstanpy - INFO - Chain [1] done processing\n"
     ]
    },
    {
     "name": "stdout",
     "output_type": "stream",
     "text": [
      "completed: Prophet:0.7981044119997023 sec\n",
      "True\n",
      "beginning: ExponentialSmoothing(trend=ModelMode.ADDITIVE, damped=False, seasonal=SeasonalityMode.ADDITIVE, seasonal_periods=8\n",
      "completed: ExponentialSmoothing(trend=ModelMode.ADDITIVE, damped=False, seasonal=SeasonalityMode.ADDITIVE, seasonal_periods=8:0.298728624999967 sec\n",
      "beginning: Auto-ARIMA\n",
      "completed: Auto-ARIMA:132.47605825899973 sec\n",
      "beginning: Theta(0.08080808080808133)\n",
      "completed: Theta(0.08080808080808133):0.057421434999923804 sec\n",
      "Combination  90 of 4170\n",
      "beginning: Naive drift model\n",
      "completed: Naive drift model:0.03974372599986964 sec\n",
      "beginning: Prophet\n"
     ]
    },
    {
     "name": "stderr",
     "output_type": "stream",
     "text": [
      "19:53:19 - cmdstanpy - INFO - Chain [1] start processing\n",
      "19:53:19 - cmdstanpy - INFO - Chain [1] done processing\n"
     ]
    },
    {
     "name": "stdout",
     "output_type": "stream",
     "text": [
      "completed: Prophet:1.0926023269985308 sec\n",
      "True\n",
      "beginning: ExponentialSmoothing(trend=ModelMode.ADDITIVE, damped=False, seasonal=SeasonalityMode.ADDITIVE, seasonal_periods=9\n",
      "completed: ExponentialSmoothing(trend=ModelMode.ADDITIVE, damped=False, seasonal=SeasonalityMode.ADDITIVE, seasonal_periods=9:0.31380342400007066 sec\n",
      "beginning: Auto-ARIMA\n",
      "completed: Auto-ARIMA:128.5383301820002 sec\n",
      "beginning: Theta(0.08080808080808133)\n",
      "completed: Theta(0.08080808080808133):0.056829146000382025 sec\n",
      "Combination  91 of 4170\n",
      "beginning: Naive drift model\n",
      "completed: Naive drift model:0.038720467000530334 sec\n",
      "beginning: Prophet\n"
     ]
    },
    {
     "name": "stderr",
     "output_type": "stream",
     "text": [
      "19:55:32 - cmdstanpy - INFO - Chain [1] start processing\n",
      "19:55:32 - cmdstanpy - INFO - Chain [1] done processing\n"
     ]
    },
    {
     "name": "stdout",
     "output_type": "stream",
     "text": [
      "completed: Prophet:0.7521409170003608 sec\n",
      "True\n",
      "beginning: ExponentialSmoothing(trend=ModelMode.ADDITIVE, damped=False, seasonal=SeasonalityMode.ADDITIVE, seasonal_periods=13\n",
      "completed: ExponentialSmoothing(trend=ModelMode.ADDITIVE, damped=False, seasonal=SeasonalityMode.ADDITIVE, seasonal_periods=13:0.312738973998421 sec\n",
      "beginning: Auto-ARIMA\n",
      "completed: Auto-ARIMA:216.59466458799943 sec\n",
      "beginning: Theta(0.08080808080808133)\n",
      "completed: Theta(0.08080808080808133):0.05753908500082616 sec\n",
      "Combination  92 of 4170\n",
      "beginning: Naive drift model\n",
      "completed: Naive drift model:0.0369485569990502 sec\n",
      "beginning: Prophet\n"
     ]
    },
    {
     "name": "stderr",
     "output_type": "stream",
     "text": [
      "19:59:13 - cmdstanpy - INFO - Chain [1] start processing\n",
      "19:59:13 - cmdstanpy - INFO - Chain [1] done processing\n"
     ]
    },
    {
     "name": "stdout",
     "output_type": "stream",
     "text": [
      "completed: Prophet:1.2287318960006814 sec\n",
      "True\n",
      "beginning: ExponentialSmoothing(trend=ModelMode.ADDITIVE, damped=False, seasonal=SeasonalityMode.ADDITIVE, seasonal_periods=6\n",
      "completed: ExponentialSmoothing(trend=ModelMode.ADDITIVE, damped=False, seasonal=SeasonalityMode.ADDITIVE, seasonal_periods=6:0.2915636050001922 sec\n",
      "beginning: Auto-ARIMA\n",
      "completed: Auto-ARIMA:69.86632592599926 sec\n",
      "beginning: Theta(0.08080808080808133)\n",
      "completed: Theta(0.08080808080808133):0.05584519600051863 sec\n",
      "Combination  93 of 4170\n",
      "beginning: Naive drift model\n",
      "completed: Naive drift model:0.03753368700017745 sec\n",
      "beginning: Prophet\n"
     ]
    },
    {
     "name": "stderr",
     "output_type": "stream",
     "text": [
      "20:00:28 - cmdstanpy - INFO - Chain [1] start processing\n",
      "20:00:28 - cmdstanpy - INFO - Chain [1] done processing\n"
     ]
    },
    {
     "name": "stdout",
     "output_type": "stream",
     "text": [
      "completed: Prophet:0.9065058140004112 sec\n",
      "True\n",
      "beginning: ExponentialSmoothing(trend=ModelMode.ADDITIVE, damped=False, seasonal=SeasonalityMode.ADDITIVE, seasonal_periods=3\n",
      "completed: ExponentialSmoothing(trend=ModelMode.ADDITIVE, damped=False, seasonal=SeasonalityMode.ADDITIVE, seasonal_periods=3:0.3228358719989046 sec\n",
      "beginning: Auto-ARIMA\n",
      "completed: Auto-ARIMA:43.93895104400144 sec\n",
      "beginning: Theta(0.08080808080808133)\n",
      "completed: Theta(0.08080808080808133):0.0605199450001237 sec\n",
      "Combination  94 of 4170\n",
      "beginning: Naive drift model\n",
      "completed: Naive drift model:0.036592555999959586 sec\n",
      "beginning: Prophet\n"
     ]
    },
    {
     "name": "stderr",
     "output_type": "stream",
     "text": [
      "20:01:16 - cmdstanpy - INFO - Chain [1] start processing\n",
      "20:01:17 - cmdstanpy - INFO - Chain [1] done processing\n"
     ]
    },
    {
     "name": "stdout",
     "output_type": "stream",
     "text": [
      "completed: Prophet:0.8114264320010989 sec\n",
      "True\n",
      "beginning: ExponentialSmoothing(trend=ModelMode.ADDITIVE, damped=False, seasonal=SeasonalityMode.ADDITIVE, seasonal_periods=7\n",
      "completed: ExponentialSmoothing(trend=ModelMode.ADDITIVE, damped=False, seasonal=SeasonalityMode.ADDITIVE, seasonal_periods=7:0.33831406099852757 sec\n",
      "beginning: Auto-ARIMA\n",
      "completed: Auto-ARIMA:58.5134564330001 sec\n",
      "beginning: Theta(-0.32323232323232354)\n",
      "completed: Theta(-0.32323232323232354):0.05634947599901352 sec\n",
      "Combination  95 of 4170\n",
      "beginning: Naive drift model\n",
      "completed: Naive drift model:0.03642581599888217 sec\n",
      "beginning: Prophet\n"
     ]
    },
    {
     "name": "stderr",
     "output_type": "stream",
     "text": [
      "20:02:19 - cmdstanpy - INFO - Chain [1] start processing\n",
      "20:02:20 - cmdstanpy - INFO - Chain [1] done processing\n"
     ]
    },
    {
     "name": "stdout",
     "output_type": "stream",
     "text": [
      "completed: Prophet:1.0417563920000248 sec\n",
      "True\n",
      "beginning: ExponentialSmoothing(trend=ModelMode.ADDITIVE, damped=False, seasonal=SeasonalityMode.ADDITIVE, seasonal_periods=4\n",
      "completed: ExponentialSmoothing(trend=ModelMode.ADDITIVE, damped=False, seasonal=SeasonalityMode.ADDITIVE, seasonal_periods=4:0.33214313200005563 sec\n",
      "beginning: Auto-ARIMA\n",
      "completed: Auto-ARIMA:45.89335320800092 sec\n",
      "beginning: Theta(-0.32323232323232354)\n",
      "completed: Theta(-0.32323232323232354):0.05530590600028518 sec\n",
      "Combination  96 of 4170\n",
      "beginning: Naive drift model\n",
      "completed: Naive drift model:0.03787101600028109 sec\n",
      "beginning: Prophet\n"
     ]
    },
    {
     "name": "stderr",
     "output_type": "stream",
     "text": [
      "20:03:10 - cmdstanpy - INFO - Chain [1] start processing\n",
      "20:03:10 - cmdstanpy - INFO - Chain [1] done processing\n"
     ]
    },
    {
     "name": "stdout",
     "output_type": "stream",
     "text": [
      "completed: Prophet:0.8187493400000676 sec\n",
      "True\n",
      "beginning: ExponentialSmoothing(trend=ModelMode.ADDITIVE, damped=False, seasonal=SeasonalityMode.ADDITIVE, seasonal_periods=4\n",
      "completed: ExponentialSmoothing(trend=ModelMode.ADDITIVE, damped=False, seasonal=SeasonalityMode.ADDITIVE, seasonal_periods=4:0.33664598199902684 sec\n",
      "beginning: Auto-ARIMA\n",
      "completed: Auto-ARIMA:44.80198234999989 sec\n",
      "beginning: Theta(3.717171717171718)\n",
      "completed: Theta(3.717171717171718):0.05461813500005519 sec\n",
      "Combination  97 of 4170\n",
      "beginning: Naive drift model\n",
      "completed: Naive drift model:0.036202397001034115 sec\n",
      "beginning: Prophet\n"
     ]
    },
    {
     "name": "stderr",
     "output_type": "stream",
     "text": [
      "20:04:00 - cmdstanpy - INFO - Chain [1] start processing\n",
      "20:04:00 - cmdstanpy - INFO - Chain [1] done processing\n"
     ]
    },
    {
     "name": "stdout",
     "output_type": "stream",
     "text": [
      "completed: Prophet:0.8020689819986728 sec\n",
      "True\n",
      "beginning: ExponentialSmoothing(trend=ModelMode.ADDITIVE, damped=False, seasonal=SeasonalityMode.ADDITIVE, seasonal_periods=7\n",
      "completed: ExponentialSmoothing(trend=ModelMode.ADDITIVE, damped=False, seasonal=SeasonalityMode.ADDITIVE, seasonal_periods=7:0.33599848199992266 sec\n",
      "beginning: Auto-ARIMA\n",
      "completed: Auto-ARIMA:53.963600416998815 sec\n",
      "beginning: Theta(0.08080808080808133)\n",
      "completed: Theta(0.08080808080808133):0.05522235600074055 sec\n",
      "Combination  98 of 4170\n",
      "beginning: Naive drift model\n",
      "completed: Naive drift model:0.03706561699982558 sec\n",
      "beginning: Prophet\n"
     ]
    },
    {
     "name": "stderr",
     "output_type": "stream",
     "text": [
      "20:04:58 - cmdstanpy - INFO - Chain [1] start processing\n",
      "20:04:58 - cmdstanpy - INFO - Chain [1] done processing\n"
     ]
    },
    {
     "name": "stdout",
     "output_type": "stream",
     "text": [
      "completed: Prophet:0.9966218859990477 sec\n",
      "True\n",
      "beginning: ExponentialSmoothing(trend=ModelMode.ADDITIVE, damped=False, seasonal=SeasonalityMode.ADDITIVE, seasonal_periods=4\n",
      "completed: ExponentialSmoothing(trend=ModelMode.ADDITIVE, damped=False, seasonal=SeasonalityMode.ADDITIVE, seasonal_periods=4:0.32556764199944155 sec\n",
      "beginning: Auto-ARIMA\n",
      "completed: Auto-ARIMA:43.39828428799956 sec\n",
      "beginning: Theta(-0.1212121212121211)\n",
      "completed: Theta(-0.1212121212121211):0.061777083999913884 sec\n",
      "Combination  99 of 4170\n",
      "beginning: Naive drift model\n",
      "completed: Naive drift model:0.038366126998880645 sec\n",
      "beginning: Prophet\n"
     ]
    },
    {
     "name": "stderr",
     "output_type": "stream",
     "text": [
      "20:05:46 - cmdstanpy - INFO - Chain [1] start processing\n",
      "20:05:46 - cmdstanpy - INFO - Chain [1] done processing\n"
     ]
    },
    {
     "name": "stdout",
     "output_type": "stream",
     "text": [
      "completed: Prophet:0.7584557860009227 sec\n",
      "True\n",
      "beginning: ExponentialSmoothing(trend=ModelMode.ADDITIVE, damped=False, seasonal=SeasonalityMode.ADDITIVE, seasonal_periods=5\n",
      "completed: ExponentialSmoothing(trend=ModelMode.ADDITIVE, damped=False, seasonal=SeasonalityMode.ADDITIVE, seasonal_periods=5:0.34606679999888 sec\n",
      "beginning: Auto-ARIMA\n",
      "completed: Auto-ARIMA:58.51340980299938 sec\n",
      "beginning: Theta(0.08080808080808133)\n",
      "completed: Theta(0.08080808080808133):0.05368898599954264 sec\n",
      "Combination  100 of 4170\n",
      "beginning: Naive drift model\n",
      "completed: Naive drift model:0.03720331800104759 sec\n",
      "beginning: Prophet\n"
     ]
    },
    {
     "name": "stderr",
     "output_type": "stream",
     "text": [
      "20:06:50 - cmdstanpy - INFO - Chain [1] start processing\n",
      "20:06:50 - cmdstanpy - INFO - Chain [1] done processing\n"
     ]
    },
    {
     "name": "stdout",
     "output_type": "stream",
     "text": [
      "completed: Prophet:1.2216233359995385 sec\n",
      "True\n",
      "beginning: ExponentialSmoothing(trend=ModelMode.ADDITIVE, damped=False, seasonal=SeasonalityMode.ADDITIVE, seasonal_periods=2\n",
      "completed: ExponentialSmoothing(trend=ModelMode.ADDITIVE, damped=False, seasonal=SeasonalityMode.ADDITIVE, seasonal_periods=2:0.34838557100010803 sec\n",
      "beginning: Auto-ARIMA\n",
      "completed: Auto-ARIMA:40.48471237500053 sec\n",
      "beginning: Theta(-0.1212121212121211)\n",
      "completed: Theta(-0.1212121212121211):0.05174870600058057 sec\n",
      "Combination  101 of 4170\n",
      "beginning: Naive drift model\n",
      "completed: Naive drift model:0.04086280599949532 sec\n",
      "beginning: Prophet\n"
     ]
    },
    {
     "name": "stderr",
     "output_type": "stream",
     "text": [
      "20:07:35 - cmdstanpy - INFO - Chain [1] start processing\n",
      "20:07:35 - cmdstanpy - INFO - Chain [1] done processing\n"
     ]
    },
    {
     "name": "stdout",
     "output_type": "stream",
     "text": [
      "completed: Prophet:0.7856313539996336 sec\n",
      "True\n",
      "beginning: ExponentialSmoothing(trend=ModelMode.ADDITIVE, damped=False, seasonal=SeasonalityMode.ADDITIVE, seasonal_periods=4\n",
      "completed: ExponentialSmoothing(trend=ModelMode.ADDITIVE, damped=False, seasonal=SeasonalityMode.ADDITIVE, seasonal_periods=4:0.3290235020012915 sec\n",
      "beginning: Auto-ARIMA\n",
      "completed: Auto-ARIMA:57.78799515399987 sec\n",
      "beginning: Theta(-0.1212121212121211)\n",
      "completed: Theta(-0.1212121212121211):0.057594095000240486 sec\n",
      "Combination  102 of 4170\n",
      "beginning: Naive drift model\n",
      "completed: Naive drift model:0.03621185599877208 sec\n",
      "beginning: Prophet\n"
     ]
    },
    {
     "name": "stderr",
     "output_type": "stream",
     "text": [
      "20:08:38 - cmdstanpy - INFO - Chain [1] start processing\n",
      "20:08:38 - cmdstanpy - INFO - Chain [1] done processing\n"
     ]
    },
    {
     "name": "stdout",
     "output_type": "stream",
     "text": [
      "completed: Prophet:0.7078991910002514 sec\n",
      "True\n",
      "beginning: ExponentialSmoothing(trend=ModelMode.ADDITIVE, damped=False, seasonal=SeasonalityMode.ADDITIVE, seasonal_periods=7\n",
      "completed: ExponentialSmoothing(trend=ModelMode.ADDITIVE, damped=False, seasonal=SeasonalityMode.ADDITIVE, seasonal_periods=7:0.3287859819993173 sec\n",
      "beginning: Auto-ARIMA\n",
      "completed: Auto-ARIMA:70.61952069199833 sec\n",
      "beginning: Theta(0.4848484848484844)\n",
      "completed: Theta(0.4848484848484844):0.056144354999560164 sec\n",
      "Combination  103 of 4170\n",
      "beginning: Naive drift model\n",
      "completed: Naive drift model:0.03812097700028971 sec\n",
      "beginning: Prophet\n"
     ]
    },
    {
     "name": "stderr",
     "output_type": "stream",
     "text": [
      "20:09:53 - cmdstanpy - INFO - Chain [1] start processing\n",
      "20:09:53 - cmdstanpy - INFO - Chain [1] done processing\n"
     ]
    },
    {
     "name": "stdout",
     "output_type": "stream",
     "text": [
      "completed: Prophet:1.0283289430008153 sec\n",
      "True\n",
      "beginning: ExponentialSmoothing(trend=ModelMode.ADDITIVE, damped=False, seasonal=SeasonalityMode.ADDITIVE, seasonal_periods=4\n",
      "completed: ExponentialSmoothing(trend=ModelMode.ADDITIVE, damped=False, seasonal=SeasonalityMode.ADDITIVE, seasonal_periods=4:0.33070482200128026 sec\n",
      "beginning: Auto-ARIMA\n",
      "completed: Auto-ARIMA:40.79304200899969 sec\n",
      "beginning: Theta(-0.1212121212121211)\n",
      "completed: Theta(-0.1212121212121211):0.058304534999479074 sec\n",
      "Combination  104 of 4170\n",
      "beginning: Naive drift model\n",
      "completed: Naive drift model:0.03636945600010222 sec\n",
      "beginning: Prophet\n"
     ]
    },
    {
     "name": "stderr",
     "output_type": "stream",
     "text": [
      "20:10:39 - cmdstanpy - INFO - Chain [1] start processing\n",
      "20:10:39 - cmdstanpy - INFO - Chain [1] done processing\n"
     ]
    },
    {
     "name": "stdout",
     "output_type": "stream",
     "text": [
      "completed: Prophet:0.8412795889998961 sec\n",
      "True\n",
      "beginning: ExponentialSmoothing(trend=ModelMode.ADDITIVE, damped=False, seasonal=SeasonalityMode.ADDITIVE, seasonal_periods=7\n",
      "completed: ExponentialSmoothing(trend=ModelMode.ADDITIVE, damped=False, seasonal=SeasonalityMode.ADDITIVE, seasonal_periods=7:0.33248813200043514 sec\n",
      "beginning: Auto-ARIMA\n",
      "completed: Auto-ARIMA:74.08109508000052 sec\n",
      "beginning: Theta(0.08080808080808133)\n",
      "completed: Theta(0.08080808080808133):0.05593475499881606 sec\n",
      "Combination  105 of 4170\n",
      "beginning: Naive drift model\n",
      "completed: Naive drift model:0.03628029699939361 sec\n",
      "beginning: Prophet\n"
     ]
    },
    {
     "name": "stderr",
     "output_type": "stream",
     "text": [
      "20:11:57 - cmdstanpy - INFO - Chain [1] start processing\n",
      "20:11:58 - cmdstanpy - INFO - Chain [1] done processing\n"
     ]
    },
    {
     "name": "stdout",
     "output_type": "stream",
     "text": [
      "completed: Prophet:0.772094455000115 sec\n",
      "True\n",
      "beginning: ExponentialSmoothing(trend=ModelMode.ADDITIVE, damped=False, seasonal=SeasonalityMode.ADDITIVE, seasonal_periods=4\n",
      "completed: ExponentialSmoothing(trend=ModelMode.ADDITIVE, damped=False, seasonal=SeasonalityMode.ADDITIVE, seasonal_periods=4:0.32710806200157094 sec\n",
      "beginning: Auto-ARIMA\n",
      "completed: Auto-ARIMA:77.85691196400148 sec\n",
      "beginning: Theta(-0.1212121212121211)\n",
      "completed: Theta(-0.1212121212121211):0.05691784600094252 sec\n",
      "Combination  106 of 4170\n",
      "beginning: Naive drift model\n",
      "completed: Naive drift model:0.03649390800092078 sec\n",
      "beginning: Prophet\n"
     ]
    },
    {
     "name": "stderr",
     "output_type": "stream",
     "text": [
      "20:13:20 - cmdstanpy - INFO - Chain [1] start processing\n",
      "20:13:20 - cmdstanpy - INFO - Chain [1] done processing\n"
     ]
    },
    {
     "name": "stdout",
     "output_type": "stream",
     "text": [
      "completed: Prophet:0.9995008429996233 sec\n",
      "True\n",
      "beginning: ExponentialSmoothing(trend=ModelMode.ADDITIVE, damped=False, seasonal=SeasonalityMode.ADDITIVE, seasonal_periods=5\n",
      "completed: ExponentialSmoothing(trend=ModelMode.ADDITIVE, damped=False, seasonal=SeasonalityMode.ADDITIVE, seasonal_periods=5:0.33219798400023137 sec\n",
      "beginning: Auto-ARIMA\n",
      "completed: Auto-ARIMA:55.457585125999685 sec\n",
      "beginning: Theta(4.929292929292929)\n",
      "completed: Theta(4.929292929292929):0.052361165999172954 sec\n",
      "Combination  107 of 4170\n",
      "beginning: Naive drift model\n",
      "completed: Naive drift model:0.03469721700093942 sec\n",
      "beginning: Prophet\n"
     ]
    },
    {
     "name": "stderr",
     "output_type": "stream",
     "text": [
      "20:14:20 - cmdstanpy - INFO - Chain [1] start processing\n",
      "20:14:20 - cmdstanpy - INFO - Chain [1] done processing\n"
     ]
    },
    {
     "name": "stdout",
     "output_type": "stream",
     "text": [
      "completed: Prophet:0.7620577920006326 sec\n",
      "True\n",
      "beginning: ExponentialSmoothing(trend=ModelMode.ADDITIVE, damped=False, seasonal=SeasonalityMode.ADDITIVE, seasonal_periods=4\n",
      "completed: ExponentialSmoothing(trend=ModelMode.ADDITIVE, damped=False, seasonal=SeasonalityMode.ADDITIVE, seasonal_periods=4:0.33153079400108254 sec\n",
      "beginning: Auto-ARIMA\n",
      "completed: Auto-ARIMA:43.46098695999899 sec\n",
      "beginning: Theta(-0.1212121212121211)\n",
      "completed: Theta(-0.1212121212121211):0.05876806599917472 sec\n",
      "Combination  108 of 4170\n",
      "beginning: Naive drift model\n",
      "completed: Naive drift model:0.03799419699862483 sec\n",
      "beginning: Prophet\n"
     ]
    },
    {
     "name": "stderr",
     "output_type": "stream",
     "text": [
      "20:15:08 - cmdstanpy - INFO - Chain [1] start processing\n",
      "20:15:08 - cmdstanpy - INFO - Chain [1] done processing\n"
     ]
    },
    {
     "name": "stdout",
     "output_type": "stream",
     "text": [
      "completed: Prophet:0.9903026140000293 sec\n",
      "True\n",
      "beginning: ExponentialSmoothing(trend=ModelMode.ADDITIVE, damped=False, seasonal=SeasonalityMode.ADDITIVE, seasonal_periods=4\n",
      "completed: ExponentialSmoothing(trend=ModelMode.ADDITIVE, damped=False, seasonal=SeasonalityMode.ADDITIVE, seasonal_periods=4:0.3325044640005217 sec\n",
      "beginning: Auto-ARIMA\n",
      "completed: Auto-ARIMA:45.36163201300042 sec\n",
      "beginning: Theta(-0.1212121212121211)\n",
      "completed: Theta(-0.1212121212121211):0.05504779600050824 sec\n",
      "Combination  109 of 4170\n",
      "beginning: Naive drift model\n",
      "completed: Naive drift model:0.038355287000740645 sec\n",
      "beginning: Prophet\n"
     ]
    },
    {
     "name": "stderr",
     "output_type": "stream",
     "text": [
      "20:15:58 - cmdstanpy - INFO - Chain [1] start processing\n",
      "20:15:59 - cmdstanpy - INFO - Chain [1] done processing\n"
     ]
    },
    {
     "name": "stdout",
     "output_type": "stream",
     "text": [
      "completed: Prophet:0.8000825780000014 sec\n",
      "True\n",
      "beginning: ExponentialSmoothing(trend=ModelMode.ADDITIVE, damped=False, seasonal=SeasonalityMode.ADDITIVE, seasonal_periods=3\n",
      "completed: ExponentialSmoothing(trend=ModelMode.ADDITIVE, damped=False, seasonal=SeasonalityMode.ADDITIVE, seasonal_periods=3:0.33338169399939943 sec\n",
      "beginning: Auto-ARIMA\n",
      "completed: Auto-ARIMA:46.29084752200106 sec\n",
      "beginning: Theta(0.08080808080808133)\n",
      "completed: Theta(0.08080808080808133):0.052813895999861415 sec\n",
      "Combination  110 of 4170\n",
      "beginning: Naive drift model\n",
      "completed: Naive drift model:0.034923938001156785 sec\n",
      "beginning: Prophet\n"
     ]
    },
    {
     "name": "stderr",
     "output_type": "stream",
     "text": [
      "20:16:49 - cmdstanpy - INFO - Chain [1] start processing\n",
      "20:16:49 - cmdstanpy - INFO - Chain [1] done processing\n"
     ]
    },
    {
     "name": "stdout",
     "output_type": "stream",
     "text": [
      "completed: Prophet:0.7638646209998115 sec\n",
      "True\n",
      "beginning: ExponentialSmoothing(trend=ModelMode.ADDITIVE, damped=False, seasonal=SeasonalityMode.ADDITIVE, seasonal_periods=4\n",
      "completed: ExponentialSmoothing(trend=ModelMode.ADDITIVE, damped=False, seasonal=SeasonalityMode.ADDITIVE, seasonal_periods=4:0.3290797739991831 sec\n",
      "beginning: Auto-ARIMA\n",
      "completed: Auto-ARIMA:40.062861521999366 sec\n",
      "beginning: Theta(-0.1212121212121211)\n",
      "completed: Theta(-0.1212121212121211):0.05329866600004607 sec\n",
      "Combination  111 of 4170\n",
      "beginning: Naive drift model\n",
      "completed: Naive drift model:0.03601384699868504 sec\n",
      "beginning: Prophet\n"
     ]
    },
    {
     "name": "stderr",
     "output_type": "stream",
     "text": [
      "20:17:34 - cmdstanpy - INFO - Chain [1] start processing\n",
      "20:17:34 - cmdstanpy - INFO - Chain [1] done processing\n"
     ]
    },
    {
     "name": "stdout",
     "output_type": "stream",
     "text": [
      "completed: Prophet:1.1991016270003456 sec\n",
      "True\n",
      "beginning: ExponentialSmoothing(trend=ModelMode.ADDITIVE, damped=False, seasonal=SeasonalityMode.ADDITIVE, seasonal_periods=8\n",
      "completed: ExponentialSmoothing(trend=ModelMode.ADDITIVE, damped=False, seasonal=SeasonalityMode.ADDITIVE, seasonal_periods=8:0.3353948349995335 sec\n",
      "beginning: Auto-ARIMA\n",
      "completed: Auto-ARIMA:80.37654050400124 sec\n",
      "beginning: Theta(0.28282828282828376)\n",
      "completed: Theta(0.28282828282828376):0.05768924600124592 sec\n",
      "Combination  112 of 4170\n",
      "beginning: Naive drift model\n",
      "completed: Naive drift model:0.041825415999483084 sec\n",
      "beginning: Prophet\n"
     ]
    },
    {
     "name": "stderr",
     "output_type": "stream",
     "text": [
      "20:18:59 - cmdstanpy - INFO - Chain [1] start processing\n",
      "20:18:59 - cmdstanpy - INFO - Chain [1] done processing\n"
     ]
    },
    {
     "name": "stdout",
     "output_type": "stream",
     "text": [
      "completed: Prophet:0.8158900660000654 sec\n",
      "True\n",
      "beginning: ExponentialSmoothing(trend=ModelMode.ADDITIVE, damped=False, seasonal=SeasonalityMode.ADDITIVE, seasonal_periods=7\n",
      "completed: ExponentialSmoothing(trend=ModelMode.ADDITIVE, damped=False, seasonal=SeasonalityMode.ADDITIVE, seasonal_periods=7:0.3359031429990864 sec\n",
      "beginning: Auto-ARIMA\n",
      "completed: Auto-ARIMA:64.21138534099919 sec\n",
      "beginning: Theta(-0.1212121212121211)\n",
      "completed: Theta(-0.1212121212121211):0.052611856001021806 sec\n",
      "Combination  113 of 4170\n",
      "beginning: Naive drift model\n",
      "completed: Naive drift model:0.035963727001217194 sec\n",
      "beginning: Prophet\n"
     ]
    },
    {
     "name": "stderr",
     "output_type": "stream",
     "text": [
      "20:20:08 - cmdstanpy - INFO - Chain [1] start processing\n",
      "20:20:08 - cmdstanpy - INFO - Chain [1] done processing\n"
     ]
    },
    {
     "name": "stdout",
     "output_type": "stream",
     "text": [
      "completed: Prophet:0.6951495360008266 sec\n",
      "True\n",
      "beginning: ExponentialSmoothing(trend=ModelMode.ADDITIVE, damped=False, seasonal=SeasonalityMode.ADDITIVE, seasonal_periods=7\n",
      "completed: ExponentialSmoothing(trend=ModelMode.ADDITIVE, damped=False, seasonal=SeasonalityMode.ADDITIVE, seasonal_periods=7:0.3376596240013896 sec\n",
      "beginning: Auto-ARIMA\n",
      "completed: Auto-ARIMA:63.33288723899932 sec\n",
      "beginning: Theta(-0.1212121212121211)\n",
      "completed: Theta(-0.1212121212121211):0.05396420499891974 sec\n",
      "Combination  114 of 4170\n",
      "beginning: Naive drift model\n",
      "completed: Naive drift model:0.03501279699958104 sec\n",
      "beginning: Prophet\n"
     ]
    },
    {
     "name": "stderr",
     "output_type": "stream",
     "text": [
      "20:21:16 - cmdstanpy - INFO - Chain [1] start processing\n",
      "20:21:16 - cmdstanpy - INFO - Chain [1] done processing\n"
     ]
    },
    {
     "name": "stdout",
     "output_type": "stream",
     "text": [
      "completed: Prophet:0.7683650799990573 sec\n",
      "True\n",
      "beginning: ExponentialSmoothing(trend=ModelMode.ADDITIVE, damped=False, seasonal=SeasonalityMode.ADDITIVE, seasonal_periods=7\n",
      "completed: ExponentialSmoothing(trend=ModelMode.ADDITIVE, damped=False, seasonal=SeasonalityMode.ADDITIVE, seasonal_periods=7:0.33984960399902775 sec\n",
      "beginning: Auto-ARIMA\n",
      "completed: Auto-ARIMA:66.49175021500014 sec\n",
      "beginning: Theta(-0.1212121212121211)\n",
      "completed: Theta(-0.1212121212121211):0.05511681600000884 sec\n",
      "Combination  115 of 4170\n",
      "beginning: Naive drift model\n",
      "completed: Naive drift model:0.03679367699987779 sec\n",
      "beginning: Prophet\n"
     ]
    },
    {
     "name": "stderr",
     "output_type": "stream",
     "text": [
      "20:22:27 - cmdstanpy - INFO - Chain [1] start processing\n",
      "20:22:28 - cmdstanpy - INFO - Chain [1] done processing\n"
     ]
    },
    {
     "name": "stdout",
     "output_type": "stream",
     "text": [
      "completed: Prophet:0.8432740150001337 sec\n",
      "True\n",
      "beginning: ExponentialSmoothing(trend=ModelMode.ADDITIVE, damped=False, seasonal=SeasonalityMode.ADDITIVE, seasonal_periods=7\n",
      "completed: ExponentialSmoothing(trend=ModelMode.ADDITIVE, damped=False, seasonal=SeasonalityMode.ADDITIVE, seasonal_periods=7:0.3367299340006866 sec\n",
      "beginning: Auto-ARIMA\n",
      "completed: Auto-ARIMA:59.57649779800158 sec\n",
      "beginning: Theta(-0.1212121212121211)\n",
      "completed: Theta(-0.1212121212121211):0.060521874998812564 sec\n",
      "Combination  116 of 4170\n",
      "beginning: Naive drift model\n",
      "completed: Naive drift model:0.03760617799889587 sec\n",
      "beginning: Prophet\n"
     ]
    },
    {
     "name": "stderr",
     "output_type": "stream",
     "text": [
      "20:23:32 - cmdstanpy - INFO - Chain [1] start processing\n",
      "20:23:32 - cmdstanpy - INFO - Chain [1] done processing\n"
     ]
    },
    {
     "name": "stdout",
     "output_type": "stream",
     "text": [
      "completed: Prophet:1.0041344230012328 sec\n",
      "True\n",
      "beginning: ExponentialSmoothing(trend=ModelMode.ADDITIVE, damped=False, seasonal=SeasonalityMode.ADDITIVE, seasonal_periods=7\n",
      "completed: ExponentialSmoothing(trend=ModelMode.ADDITIVE, damped=False, seasonal=SeasonalityMode.ADDITIVE, seasonal_periods=7:0.32719828500012227 sec\n",
      "beginning: Auto-ARIMA\n",
      "completed: Auto-ARIMA:77.67190790300083 sec\n",
      "beginning: Theta(-0.1212121212121211)\n",
      "completed: Theta(-0.1212121212121211):0.05716400600067573 sec\n",
      "Combination  117 of 4170\n",
      "beginning: Naive drift model\n",
      "completed: Naive drift model:0.037112517000423395 sec\n",
      "beginning: Prophet\n"
     ]
    },
    {
     "name": "stderr",
     "output_type": "stream",
     "text": [
      "20:24:54 - cmdstanpy - INFO - Chain [1] start processing\n",
      "20:24:54 - cmdstanpy - INFO - Chain [1] done processing\n"
     ]
    },
    {
     "name": "stdout",
     "output_type": "stream",
     "text": [
      "completed: Prophet:0.8930290210009844 sec\n",
      "True\n",
      "beginning: ExponentialSmoothing(trend=ModelMode.ADDITIVE, damped=False, seasonal=SeasonalityMode.ADDITIVE, seasonal_periods=6\n",
      "completed: ExponentialSmoothing(trend=ModelMode.ADDITIVE, damped=False, seasonal=SeasonalityMode.ADDITIVE, seasonal_periods=6:0.3425688530005573 sec\n",
      "beginning: Auto-ARIMA\n",
      "completed: Auto-ARIMA:67.21820437399947 sec\n",
      "beginning: Theta(-0.1212121212121211)\n",
      "completed: Theta(-0.1212121212121211):0.06130574499911745 sec\n",
      "Combination  118 of 4170\n",
      "beginning: Naive drift model\n"
     ]
    },
    {
     "name": "stderr",
     "output_type": "stream",
     "text": [
      "20:26:06 - cmdstanpy - INFO - Chain [1] start processing\n"
     ]
    },
    {
     "name": "stdout",
     "output_type": "stream",
     "text": [
      "completed: Naive drift model:0.04228026599957957 sec\n",
      "beginning: Prophet\n"
     ]
    },
    {
     "name": "stderr",
     "output_type": "stream",
     "text": [
      "20:26:06 - cmdstanpy - INFO - Chain [1] done processing\n"
     ]
    },
    {
     "name": "stdout",
     "output_type": "stream",
     "text": [
      "completed: Prophet:0.976872605000608 sec\n",
      "True\n",
      "beginning: ExponentialSmoothing(trend=ModelMode.ADDITIVE, damped=False, seasonal=SeasonalityMode.ADDITIVE, seasonal_periods=7\n",
      "completed: ExponentialSmoothing(trend=ModelMode.ADDITIVE, damped=False, seasonal=SeasonalityMode.ADDITIVE, seasonal_periods=7:0.3297296140008257 sec\n",
      "beginning: Auto-ARIMA\n",
      "completed: Auto-ARIMA:67.72995210999943 sec\n",
      "beginning: Theta(0.08080808080808133)\n",
      "completed: Theta(0.08080808080808133):0.054049385000325856 sec\n",
      "Combination  119 of 4170\n",
      "beginning: Naive drift model\n",
      "completed: Naive drift model:0.034902577001048485 sec\n",
      "beginning: Prophet\n"
     ]
    },
    {
     "name": "stderr",
     "output_type": "stream",
     "text": [
      "20:27:18 - cmdstanpy - INFO - Chain [1] start processing\n",
      "20:27:19 - cmdstanpy - INFO - Chain [1] done processing\n"
     ]
    },
    {
     "name": "stdout",
     "output_type": "stream",
     "text": [
      "completed: Prophet:1.1671027300017158 sec\n",
      "True\n",
      "beginning: ExponentialSmoothing(trend=ModelMode.ADDITIVE, damped=False, seasonal=SeasonalityMode.ADDITIVE, seasonal_periods=4\n",
      "completed: ExponentialSmoothing(trend=ModelMode.ADDITIVE, damped=False, seasonal=SeasonalityMode.ADDITIVE, seasonal_periods=4:0.33384992399987823 sec\n",
      "beginning: Auto-ARIMA\n",
      "completed: Auto-ARIMA:43.990327849000096 sec\n",
      "beginning: Theta(-0.1212121212121211)\n",
      "completed: Theta(-0.1212121212121211):0.057174544999725185 sec\n",
      "Combination  120 of 4170\n",
      "beginning: Naive drift model\n",
      "completed: Naive drift model:0.035962066998763476 sec\n",
      "beginning: Prophet\n"
     ]
    },
    {
     "name": "stderr",
     "output_type": "stream",
     "text": [
      "20:28:07 - cmdstanpy - INFO - Chain [1] start processing\n",
      "20:28:08 - cmdstanpy - INFO - Chain [1] done processing\n"
     ]
    },
    {
     "name": "stdout",
     "output_type": "stream",
     "text": [
      "completed: Prophet:0.7193338650013175 sec\n",
      "True\n",
      "beginning: ExponentialSmoothing(trend=ModelMode.ADDITIVE, damped=False, seasonal=SeasonalityMode.ADDITIVE, seasonal_periods=7\n",
      "completed: ExponentialSmoothing(trend=ModelMode.ADDITIVE, damped=False, seasonal=SeasonalityMode.ADDITIVE, seasonal_periods=7:0.3305966340012674 sec\n",
      "beginning: Auto-ARIMA\n",
      "completed: Auto-ARIMA:65.30433598700074 sec\n",
      "beginning: Theta(0.08080808080808133)\n",
      "completed: Theta(0.08080808080808133):0.05771187499885855 sec\n",
      "Combination  121 of 4170\n",
      "beginning: Naive drift model\n",
      "completed: Naive drift model:0.037401027000669274 sec\n",
      "beginning: Prophet\n"
     ]
    },
    {
     "name": "stderr",
     "output_type": "stream",
     "text": [
      "20:29:17 - cmdstanpy - INFO - Chain [1] start processing\n",
      "20:29:18 - cmdstanpy - INFO - Chain [1] done processing\n"
     ]
    },
    {
     "name": "stdout",
     "output_type": "stream",
     "text": [
      "completed: Prophet:0.8776873320002778 sec\n",
      "True\n",
      "beginning: ExponentialSmoothing(trend=ModelMode.ADDITIVE, damped=False, seasonal=SeasonalityMode.ADDITIVE, seasonal_periods=7\n",
      "completed: ExponentialSmoothing(trend=ModelMode.ADDITIVE, damped=False, seasonal=SeasonalityMode.ADDITIVE, seasonal_periods=7:0.33903798400024243 sec\n",
      "beginning: Auto-ARIMA\n",
      "completed: Auto-ARIMA:86.89181420000023 sec\n",
      "beginning: Theta(-0.1212121212121211)\n",
      "completed: Theta(-0.1212121212121211):0.0556681350008148 sec\n",
      "Combination  122 of 4170\n",
      "beginning: Naive drift model\n",
      "completed: Naive drift model:0.034499507000873564 sec\n",
      "beginning: Prophet\n"
     ]
    },
    {
     "name": "stderr",
     "output_type": "stream",
     "text": [
      "20:30:49 - cmdstanpy - INFO - Chain [1] start processing\n",
      "20:30:49 - cmdstanpy - INFO - Chain [1] done processing\n"
     ]
    },
    {
     "name": "stdout",
     "output_type": "stream",
     "text": [
      "completed: Prophet:1.3262466430005588 sec\n",
      "True\n",
      "beginning: ExponentialSmoothing(trend=ModelMode.ADDITIVE, damped=False, seasonal=SeasonalityMode.ADDITIVE, seasonal_periods=5\n",
      "completed: ExponentialSmoothing(trend=ModelMode.ADDITIVE, damped=False, seasonal=SeasonalityMode.ADDITIVE, seasonal_periods=5:0.3263342439986445 sec\n",
      "beginning: Auto-ARIMA\n",
      "completed: Auto-ARIMA:50.2783796470012 sec\n",
      "beginning: Theta(0.08080808080808133)\n",
      "completed: Theta(0.08080808080808133):0.056562425999800325 sec\n",
      "Combination  123 of 4170\n",
      "beginning: Naive drift model\n",
      "completed: Naive drift model:0.0355539480005973 sec\n",
      "beginning: Prophet\n"
     ]
    },
    {
     "name": "stderr",
     "output_type": "stream",
     "text": [
      "20:31:44 - cmdstanpy - INFO - Chain [1] start processing\n",
      "20:31:45 - cmdstanpy - INFO - Chain [1] done processing\n"
     ]
    },
    {
     "name": "stdout",
     "output_type": "stream",
     "text": [
      "completed: Prophet:0.958881892998761 sec\n",
      "True\n",
      "beginning: ExponentialSmoothing(trend=ModelMode.ADDITIVE, damped=False, seasonal=SeasonalityMode.ADDITIVE, seasonal_periods=7\n",
      "completed: ExponentialSmoothing(trend=ModelMode.ADDITIVE, damped=False, seasonal=SeasonalityMode.ADDITIVE, seasonal_periods=7:0.3464483520001522 sec\n",
      "beginning: Auto-ARIMA\n",
      "completed: Auto-ARIMA:62.90650227099832 sec\n",
      "beginning: Theta(0.08080808080808133)\n",
      "completed: Theta(0.08080808080808133):0.049132415999338264 sec\n",
      "Combination  124 of 4170\n",
      "beginning: Naive drift model\n",
      "completed: Naive drift model:0.03910061700116785 sec\n",
      "beginning: Prophet\n"
     ]
    },
    {
     "name": "stderr",
     "output_type": "stream",
     "text": [
      "20:32:52 - cmdstanpy - INFO - Chain [1] start processing\n",
      "20:32:52 - cmdstanpy - INFO - Chain [1] done processing\n"
     ]
    },
    {
     "name": "stdout",
     "output_type": "stream",
     "text": [
      "completed: Prophet:0.9969825389998732 sec\n",
      "True\n",
      "beginning: ExponentialSmoothing(trend=ModelMode.ADDITIVE, damped=False, seasonal=SeasonalityMode.ADDITIVE, seasonal_periods=7\n",
      "completed: ExponentialSmoothing(trend=ModelMode.ADDITIVE, damped=False, seasonal=SeasonalityMode.ADDITIVE, seasonal_periods=7:0.3424342029993568 sec\n",
      "beginning: Auto-ARIMA\n",
      "completed: Auto-ARIMA:60.743996856001104 sec\n",
      "beginning: Theta(0.28282828282828376)\n",
      "completed: Theta(0.28282828282828376):0.05602914600058284 sec\n",
      "Combination  125 of 4170\n",
      "beginning: Naive drift model\n",
      "completed: Naive drift model:0.03892185699987749 sec\n",
      "beginning: Prophet\n"
     ]
    },
    {
     "name": "stderr",
     "output_type": "stream",
     "text": [
      "20:33:57 - cmdstanpy - INFO - Chain [1] start processing\n",
      "20:33:58 - cmdstanpy - INFO - Chain [1] done processing\n"
     ]
    },
    {
     "name": "stdout",
     "output_type": "stream",
     "text": [
      "completed: Prophet:0.9035490869991918 sec\n",
      "True\n",
      "beginning: ExponentialSmoothing(trend=ModelMode.ADDITIVE, damped=False, seasonal=SeasonalityMode.ADDITIVE, seasonal_periods=4\n",
      "completed: ExponentialSmoothing(trend=ModelMode.ADDITIVE, damped=False, seasonal=SeasonalityMode.ADDITIVE, seasonal_periods=4:0.3291165329992509 sec\n",
      "beginning: Auto-ARIMA\n",
      "completed: Auto-ARIMA:37.97231730599924 sec\n",
      "beginning: Theta(-0.32323232323232354)\n",
      "completed: Theta(-0.32323232323232354):0.057259985000200686 sec\n",
      "Combination  126 of 4170\n",
      "beginning: Naive drift model\n",
      "completed: Naive drift model:0.03662062699913804 sec\n",
      "beginning: Prophet\n"
     ]
    },
    {
     "name": "stderr",
     "output_type": "stream",
     "text": [
      "20:34:40 - cmdstanpy - INFO - Chain [1] start processing\n",
      "20:34:40 - cmdstanpy - INFO - Chain [1] done processing\n"
     ]
    },
    {
     "name": "stdout",
     "output_type": "stream",
     "text": [
      "completed: Prophet:0.8545949809995363 sec\n",
      "True\n",
      "beginning: ExponentialSmoothing(trend=ModelMode.ADDITIVE, damped=False, seasonal=SeasonalityMode.ADDITIVE, seasonal_periods=7\n",
      "completed: ExponentialSmoothing(trend=ModelMode.ADDITIVE, damped=False, seasonal=SeasonalityMode.ADDITIVE, seasonal_periods=7:0.329394754000532 sec\n",
      "beginning: Auto-ARIMA\n",
      "completed: Auto-ARIMA:55.26966063600048 sec\n",
      "beginning: Theta(0.08080808080808133)\n",
      "completed: Theta(0.08080808080808133):0.05373353600043629 sec\n",
      "Combination  127 of 4170\n",
      "beginning: Naive drift model\n",
      "completed: Naive drift model:0.03577129800032708 sec\n",
      "beginning: Prophet\n"
     ]
    },
    {
     "name": "stderr",
     "output_type": "stream",
     "text": [
      "20:35:40 - cmdstanpy - INFO - Chain [1] start processing\n",
      "20:35:40 - cmdstanpy - INFO - Chain [1] done processing\n"
     ]
    },
    {
     "name": "stdout",
     "output_type": "stream",
     "text": [
      "completed: Prophet:1.094439943000907 sec\n",
      "True\n",
      "beginning: ExponentialSmoothing(trend=ModelMode.ADDITIVE, damped=False, seasonal=SeasonalityMode.ADDITIVE, seasonal_periods=7\n",
      "completed: ExponentialSmoothing(trend=ModelMode.ADDITIVE, damped=False, seasonal=SeasonalityMode.ADDITIVE, seasonal_periods=7:0.3336409930016089 sec\n",
      "beginning: Auto-ARIMA\n",
      "completed: Auto-ARIMA:54.75332402700042 sec\n",
      "beginning: Theta(0.08080808080808133)\n",
      "completed: Theta(0.08080808080808133):0.05673146599838219 sec\n",
      "Combination  128 of 4170\n",
      "beginning: Naive drift model\n",
      "completed: Naive drift model:0.03594428699943819 sec\n",
      "beginning: Prophet\n"
     ]
    },
    {
     "name": "stderr",
     "output_type": "stream",
     "text": [
      "20:36:40 - cmdstanpy - INFO - Chain [1] start processing\n",
      "20:36:40 - cmdstanpy - INFO - Chain [1] done processing\n"
     ]
    },
    {
     "name": "stdout",
     "output_type": "stream",
     "text": [
      "completed: Prophet:0.8556786710014421 sec\n",
      "True\n",
      "beginning: ExponentialSmoothing(trend=ModelMode.ADDITIVE, damped=False, seasonal=SeasonalityMode.ADDITIVE, seasonal_periods=4\n",
      "completed: ExponentialSmoothing(trend=ModelMode.ADDITIVE, damped=False, seasonal=SeasonalityMode.ADDITIVE, seasonal_periods=4:0.3578307709994988 sec\n",
      "beginning: Auto-ARIMA\n",
      "completed: Auto-ARIMA:42.04584848900049 sec\n",
      "beginning: Theta(-1.333333333333334)\n",
      "completed: Theta(-1.333333333333334):0.05438267600038671 sec\n",
      "Combination  129 of 4170\n",
      "beginning: Naive drift model\n",
      "completed: Naive drift model:0.03875098600110505 sec\n",
      "beginning: Prophet\n"
     ]
    },
    {
     "name": "stderr",
     "output_type": "stream",
     "text": [
      "20:37:27 - cmdstanpy - INFO - Chain [1] start processing\n",
      "20:37:27 - cmdstanpy - INFO - Chain [1] done processing\n"
     ]
    },
    {
     "name": "stdout",
     "output_type": "stream",
     "text": [
      "completed: Prophet:0.7110843319987907 sec\n",
      "True\n",
      "beginning: ExponentialSmoothing(trend=ModelMode.ADDITIVE, damped=False, seasonal=SeasonalityMode.ADDITIVE, seasonal_periods=3\n",
      "completed: ExponentialSmoothing(trend=ModelMode.ADDITIVE, damped=False, seasonal=SeasonalityMode.ADDITIVE, seasonal_periods=3:0.3270667830001912 sec\n",
      "beginning: Auto-ARIMA\n",
      "completed: Auto-ARIMA:45.232250483000826 sec\n",
      "beginning: Theta(0.08080808080808133)\n",
      "completed: Theta(0.08080808080808133):0.0536382259997481 sec\n",
      "Combination  130 of 4170\n",
      "beginning: Naive drift model\n",
      "completed: Naive drift model:0.034396257000480546 sec\n",
      "beginning: Prophet\n"
     ]
    },
    {
     "name": "stderr",
     "output_type": "stream",
     "text": [
      "20:38:16 - cmdstanpy - INFO - Chain [1] start processing\n",
      "20:38:17 - cmdstanpy - INFO - Chain [1] done processing\n"
     ]
    },
    {
     "name": "stdout",
     "output_type": "stream",
     "text": [
      "completed: Prophet:1.052984046000347 sec\n",
      "True\n",
      "beginning: ExponentialSmoothing(trend=ModelMode.ADDITIVE, damped=False, seasonal=SeasonalityMode.ADDITIVE, seasonal_periods=4\n",
      "completed: ExponentialSmoothing(trend=ModelMode.ADDITIVE, damped=False, seasonal=SeasonalityMode.ADDITIVE, seasonal_periods=4:0.31359686399991915 sec\n",
      "beginning: Auto-ARIMA\n",
      "completed: Auto-ARIMA:35.687847829998645 sec\n",
      "beginning: Theta(0.28282828282828376)\n",
      "completed: Theta(0.28282828282828376):0.05268702600005781 sec\n",
      "Combination  131 of 4170\n",
      "beginning: Naive drift model\n",
      "completed: Naive drift model:0.03623476699976891 sec\n",
      "beginning: Prophet\n"
     ]
    },
    {
     "name": "stderr",
     "output_type": "stream",
     "text": [
      "20:38:57 - cmdstanpy - INFO - Chain [1] start processing\n",
      "20:38:57 - cmdstanpy - INFO - Chain [1] done processing\n"
     ]
    },
    {
     "name": "stdout",
     "output_type": "stream",
     "text": [
      "completed: Prophet:0.7815191770005185 sec\n",
      "True\n",
      "beginning: ExponentialSmoothing(trend=ModelMode.ADDITIVE, damped=False, seasonal=SeasonalityMode.ADDITIVE, seasonal_periods=5\n",
      "completed: ExponentialSmoothing(trend=ModelMode.ADDITIVE, damped=False, seasonal=SeasonalityMode.ADDITIVE, seasonal_periods=5:0.3115557550008816 sec\n",
      "beginning: Auto-ARIMA\n",
      "completed: Auto-ARIMA:49.2922097160008 sec\n",
      "beginning: Theta(-0.1212121212121211)\n",
      "completed: Theta(-0.1212121212121211):0.05285574600020482 sec\n",
      "Combination  132 of 4170\n",
      "beginning: Naive drift model\n",
      "completed: Naive drift model:0.036324556998806656 sec\n",
      "beginning: Prophet\n"
     ]
    },
    {
     "name": "stderr",
     "output_type": "stream",
     "text": [
      "20:39:51 - cmdstanpy - INFO - Chain [1] start processing\n",
      "20:39:51 - cmdstanpy - INFO - Chain [1] done processing\n"
     ]
    },
    {
     "name": "stdout",
     "output_type": "stream",
     "text": [
      "completed: Prophet:0.6926408639992587 sec\n",
      "True\n",
      "beginning: ExponentialSmoothing(trend=ModelMode.ADDITIVE, damped=False, seasonal=SeasonalityMode.ADDITIVE, seasonal_periods=2\n",
      "completed: ExponentialSmoothing(trend=ModelMode.ADDITIVE, damped=False, seasonal=SeasonalityMode.ADDITIVE, seasonal_periods=2:0.31096813499971176 sec\n",
      "beginning: Auto-ARIMA\n",
      "completed: Auto-ARIMA:43.47686111400071 sec\n",
      "beginning: Theta(-7.595959595959595)\n",
      "completed: Theta(-7.595959595959595):0.058825285001148586 sec\n",
      "Combination  133 of 4170\n",
      "beginning: Naive drift model\n",
      "completed: Naive drift model:0.03535259700038296 sec\n",
      "beginning: Prophet\n"
     ]
    },
    {
     "name": "stderr",
     "output_type": "stream",
     "text": [
      "20:40:38 - cmdstanpy - INFO - Chain [1] start processing\n",
      "20:40:39 - cmdstanpy - INFO - Chain [1] done processing\n"
     ]
    },
    {
     "name": "stdout",
     "output_type": "stream",
     "text": [
      "completed: Prophet:1.0413220360005653 sec\n",
      "True\n",
      "beginning: ExponentialSmoothing(trend=ModelMode.ADDITIVE, damped=False, seasonal=SeasonalityMode.ADDITIVE, seasonal_periods=3\n",
      "completed: ExponentialSmoothing(trend=ModelMode.ADDITIVE, damped=False, seasonal=SeasonalityMode.ADDITIVE, seasonal_periods=3:0.3073797859997285 sec\n",
      "beginning: Auto-ARIMA\n",
      "completed: Auto-ARIMA:40.55929033800021 sec\n",
      "beginning: Theta(-0.1212121212121211)\n",
      "completed: Theta(-0.1212121212121211):0.0594790049999574 sec\n",
      "Combination  134 of 4170\n",
      "beginning: Naive drift model\n",
      "completed: Naive drift model:0.03708369700143521 sec\n",
      "beginning: Prophet\n"
     ]
    },
    {
     "name": "stderr",
     "output_type": "stream",
     "text": [
      "20:41:24 - cmdstanpy - INFO - Chain [1] start processing\n",
      "20:41:24 - cmdstanpy - INFO - Chain [1] done processing\n"
     ]
    },
    {
     "name": "stdout",
     "output_type": "stream",
     "text": [
      "completed: Prophet:0.7878718369993294 sec\n",
      "True\n",
      "beginning: ExponentialSmoothing(trend=ModelMode.ADDITIVE, damped=False, seasonal=SeasonalityMode.ADDITIVE, seasonal_periods=4\n",
      "completed: ExponentialSmoothing(trend=ModelMode.ADDITIVE, damped=False, seasonal=SeasonalityMode.ADDITIVE, seasonal_periods=4:0.322797894001269 sec\n",
      "beginning: Auto-ARIMA\n",
      "completed: Auto-ARIMA:43.93783274700036 sec\n",
      "beginning: Theta(0.08080808080808133)\n",
      "completed: Theta(0.08080808080808133):0.05312709600002563 sec\n",
      "Combination  135 of 4170\n",
      "beginning: Naive drift model\n",
      "completed: Naive drift model:0.0409859770006733 sec\n",
      "beginning: Prophet\n"
     ]
    },
    {
     "name": "stderr",
     "output_type": "stream",
     "text": [
      "20:42:12 - cmdstanpy - INFO - Chain [1] start processing\n",
      "20:42:13 - cmdstanpy - INFO - Chain [1] done processing\n"
     ]
    },
    {
     "name": "stdout",
     "output_type": "stream",
     "text": [
      "completed: Prophet:0.7691743979994499 sec\n",
      "True\n",
      "beginning: ExponentialSmoothing(trend=ModelMode.ADDITIVE, damped=False, seasonal=SeasonalityMode.ADDITIVE, seasonal_periods=9\n",
      "completed: ExponentialSmoothing(trend=ModelMode.ADDITIVE, damped=False, seasonal=SeasonalityMode.ADDITIVE, seasonal_periods=9:0.33032395300142525 sec\n",
      "beginning: Auto-ARIMA\n",
      "completed: Auto-ARIMA:87.40684839099958 sec\n",
      "beginning: Theta(0.08080808080808133)\n",
      "completed: Theta(0.08080808080808133):0.05486865499915439 sec\n",
      "Combination  136 of 4170\n",
      "beginning: Naive drift model\n",
      "completed: Naive drift model:0.03654506800012314 sec\n",
      "beginning: Prophet\n"
     ]
    },
    {
     "name": "stderr",
     "output_type": "stream",
     "text": [
      "20:43:44 - cmdstanpy - INFO - Chain [1] start processing\n",
      "20:43:45 - cmdstanpy - INFO - Chain [1] done processing\n"
     ]
    },
    {
     "name": "stdout",
     "output_type": "stream",
     "text": [
      "completed: Prophet:1.0523886150003818 sec\n",
      "True\n",
      "beginning: ExponentialSmoothing(trend=ModelMode.ADDITIVE, damped=False, seasonal=SeasonalityMode.ADDITIVE, seasonal_periods=2\n",
      "completed: ExponentialSmoothing(trend=ModelMode.ADDITIVE, damped=False, seasonal=SeasonalityMode.ADDITIVE, seasonal_periods=2:0.3139605640008085 sec\n",
      "beginning: Auto-ARIMA\n",
      "completed: Auto-ARIMA:33.12669526600075 sec\n",
      "beginning: Theta(0.08080808080808133)\n",
      "completed: Theta(0.08080808080808133):0.06093585500093468 sec\n",
      "Combination  137 of 4170\n",
      "beginning: Naive drift model\n",
      "completed: Naive drift model:0.03447837699968659 sec\n",
      "beginning: Prophet\n"
     ]
    },
    {
     "name": "stderr",
     "output_type": "stream",
     "text": [
      "20:44:22 - cmdstanpy - INFO - Chain [1] start processing\n",
      "20:44:23 - cmdstanpy - INFO - Chain [1] done processing\n"
     ]
    },
    {
     "name": "stdout",
     "output_type": "stream",
     "text": [
      "completed: Prophet:0.8629835200008529 sec\n",
      "True\n",
      "beginning: ExponentialSmoothing(trend=ModelMode.ADDITIVE, damped=False, seasonal=SeasonalityMode.ADDITIVE, seasonal_periods=7\n",
      "completed: ExponentialSmoothing(trend=ModelMode.ADDITIVE, damped=False, seasonal=SeasonalityMode.ADDITIVE, seasonal_periods=7:0.3312925640002504 sec\n",
      "beginning: Auto-ARIMA\n",
      "completed: Auto-ARIMA:58.67193493200102 sec\n",
      "beginning: Theta(0.08080808080808133)\n",
      "completed: Theta(0.08080808080808133):0.05480934500155854 sec\n",
      "Combination  138 of 4170\n",
      "beginning: Naive drift model\n",
      "completed: Naive drift model:0.03746649700042326 sec\n",
      "beginning: Prophet\n"
     ]
    },
    {
     "name": "stderr",
     "output_type": "stream",
     "text": [
      "20:45:26 - cmdstanpy - INFO - Chain [1] start processing\n",
      "20:45:26 - cmdstanpy - INFO - Chain [1] done processing\n"
     ]
    },
    {
     "name": "stdout",
     "output_type": "stream",
     "text": [
      "completed: Prophet:0.8307438840001851 sec\n",
      "True\n",
      "beginning: ExponentialSmoothing(trend=ModelMode.ADDITIVE, damped=False, seasonal=SeasonalityMode.ADDITIVE, seasonal_periods=6\n",
      "completed: ExponentialSmoothing(trend=ModelMode.ADDITIVE, damped=False, seasonal=SeasonalityMode.ADDITIVE, seasonal_periods=6:0.335903072000292 sec\n",
      "beginning: Auto-ARIMA\n",
      "completed: Auto-ARIMA:54.817326542000956 sec\n",
      "beginning: Theta(-0.1212121212121211)\n",
      "completed: Theta(-0.1212121212121211):0.05507542599843873 sec\n",
      "Combination  139 of 4170\n",
      "beginning: Naive drift model\n",
      "completed: Naive drift model:0.03656629800025257 sec\n",
      "beginning: Prophet\n"
     ]
    },
    {
     "name": "stderr",
     "output_type": "stream",
     "text": [
      "20:46:25 - cmdstanpy - INFO - Chain [1] start processing\n",
      "20:46:26 - cmdstanpy - INFO - Chain [1] done processing\n"
     ]
    },
    {
     "name": "stdout",
     "output_type": "stream",
     "text": [
      "completed: Prophet:0.8030355760001839 sec\n",
      "True\n",
      "beginning: ExponentialSmoothing(trend=ModelMode.ADDITIVE, damped=False, seasonal=SeasonalityMode.ADDITIVE, seasonal_periods=5\n",
      "completed: ExponentialSmoothing(trend=ModelMode.ADDITIVE, damped=False, seasonal=SeasonalityMode.ADDITIVE, seasonal_periods=5:0.33122907299912185 sec\n",
      "beginning: Auto-ARIMA\n",
      "completed: Auto-ARIMA:45.46276360400043 sec\n",
      "beginning: Theta(0.08080808080808133)\n",
      "completed: Theta(0.08080808080808133):0.0560474450012407 sec\n",
      "Combination  140 of 4170\n",
      "beginning: Naive drift model\n",
      "completed: Naive drift model:0.03822834699894884 sec\n",
      "beginning: Prophet\n"
     ]
    },
    {
     "name": "stderr",
     "output_type": "stream",
     "text": [
      "20:47:15 - cmdstanpy - INFO - Chain [1] start processing\n",
      "20:47:16 - cmdstanpy - INFO - Chain [1] done processing\n"
     ]
    },
    {
     "name": "stdout",
     "output_type": "stream",
     "text": [
      "completed: Prophet:0.80280365499857 sec\n",
      "True\n",
      "beginning: ExponentialSmoothing(trend=ModelMode.ADDITIVE, damped=False, seasonal=SeasonalityMode.ADDITIVE, seasonal_periods=4\n",
      "completed: ExponentialSmoothing(trend=ModelMode.ADDITIVE, damped=False, seasonal=SeasonalityMode.ADDITIVE, seasonal_periods=4:0.3394159720010066 sec\n",
      "beginning: Auto-ARIMA\n",
      "completed: Auto-ARIMA:38.01382461399953 sec\n",
      "beginning: Theta(-0.1212121212121211)\n",
      "completed: Theta(-0.1212121212121211):0.053765182999995886 sec\n",
      "Combination  141 of 4170\n",
      "beginning: Naive drift model\n",
      "completed: Naive drift model:0.036606134999601636 sec\n",
      "beginning: Prophet\n"
     ]
    },
    {
     "name": "stderr",
     "output_type": "stream",
     "text": [
      "20:47:58 - cmdstanpy - INFO - Chain [1] start processing\n",
      "20:47:58 - cmdstanpy - INFO - Chain [1] done processing\n"
     ]
    },
    {
     "name": "stdout",
     "output_type": "stream",
     "text": [
      "completed: Prophet:1.0192602070001158 sec\n",
      "True\n",
      "beginning: ExponentialSmoothing(trend=ModelMode.ADDITIVE, damped=False, seasonal=SeasonalityMode.ADDITIVE, seasonal_periods=7\n",
      "completed: ExponentialSmoothing(trend=ModelMode.ADDITIVE, damped=False, seasonal=SeasonalityMode.ADDITIVE, seasonal_periods=7:0.3292133439990721 sec\n",
      "beginning: Auto-ARIMA\n",
      "completed: Auto-ARIMA:75.55540995600131 sec\n",
      "beginning: Theta(-0.1212121212121211)\n",
      "completed: Theta(-0.1212121212121211):0.0535255140002846 sec\n",
      "Combination  142 of 4170\n",
      "beginning: Naive drift model\n",
      "completed: Naive drift model:0.03751553599977342 sec\n",
      "beginning: Prophet\n"
     ]
    },
    {
     "name": "stderr",
     "output_type": "stream",
     "text": [
      "20:49:18 - cmdstanpy - INFO - Chain [1] start processing\n",
      "20:49:19 - cmdstanpy - INFO - Chain [1] done processing\n"
     ]
    },
    {
     "name": "stdout",
     "output_type": "stream",
     "text": [
      "completed: Prophet:0.7512707370005955 sec\n",
      "True\n",
      "beginning: ExponentialSmoothing(trend=ModelMode.ADDITIVE, damped=False, seasonal=SeasonalityMode.ADDITIVE, seasonal_periods=4\n",
      "completed: ExponentialSmoothing(trend=ModelMode.ADDITIVE, damped=False, seasonal=SeasonalityMode.ADDITIVE, seasonal_periods=4:0.3311736440009554 sec\n",
      "beginning: Auto-ARIMA\n",
      "completed: Auto-ARIMA:44.56505488899893 sec\n",
      "beginning: Theta(0.08080808080808133)\n",
      "completed: Theta(0.08080808080808133):0.05358811400037666 sec\n",
      "Combination  143 of 4170\n",
      "beginning: Naive drift model\n",
      "completed: Naive drift model:0.03913316599937389 sec\n",
      "beginning: Prophet\n"
     ]
    },
    {
     "name": "stderr",
     "output_type": "stream",
     "text": [
      "20:50:08 - cmdstanpy - INFO - Chain [1] start processing\n",
      "20:50:08 - cmdstanpy - INFO - Chain [1] done processing\n"
     ]
    },
    {
     "name": "stdout",
     "output_type": "stream",
     "text": [
      "completed: Prophet:0.7893582730011985 sec\n",
      "True\n",
      "beginning: ExponentialSmoothing(trend=ModelMode.ADDITIVE, damped=False, seasonal=SeasonalityMode.ADDITIVE, seasonal_periods=2\n",
      "completed: ExponentialSmoothing(trend=ModelMode.ADDITIVE, damped=False, seasonal=SeasonalityMode.ADDITIVE, seasonal_periods=2:0.32502965399908135 sec\n",
      "beginning: Auto-ARIMA\n",
      "completed: Auto-ARIMA:48.776563116000034 sec\n",
      "beginning: Theta(0.08080808080808133)\n",
      "completed: Theta(0.08080808080808133):0.05385230399951979 sec\n",
      "Combination  144 of 4170\n",
      "beginning: Naive drift model\n",
      "completed: Naive drift model:0.03519710700129508 sec\n",
      "beginning: Prophet\n"
     ]
    },
    {
     "name": "stderr",
     "output_type": "stream",
     "text": [
      "20:51:01 - cmdstanpy - INFO - Chain [1] start processing\n",
      "20:51:01 - cmdstanpy - INFO - Chain [1] done processing\n"
     ]
    },
    {
     "name": "stdout",
     "output_type": "stream",
     "text": [
      "completed: Prophet:1.071259211999859 sec\n",
      "True\n",
      "beginning: ExponentialSmoothing(trend=ModelMode.ADDITIVE, damped=False, seasonal=SeasonalityMode.ADDITIVE, seasonal_periods=7\n",
      "completed: ExponentialSmoothing(trend=ModelMode.ADDITIVE, damped=False, seasonal=SeasonalityMode.ADDITIVE, seasonal_periods=7:0.3298903730010352 sec\n",
      "beginning: Auto-ARIMA\n",
      "completed: Auto-ARIMA:81.62721163700007 sec\n",
      "beginning: Theta(0.28282828282828376)\n",
      "completed: Theta(0.28282828282828376):0.053513864000706235 sec\n",
      "Combination  145 of 4170\n",
      "beginning: Naive drift model\n",
      "completed: Naive drift model:0.03708361600001808 sec\n",
      "beginning: Prophet\n"
     ]
    },
    {
     "name": "stderr",
     "output_type": "stream",
     "text": [
      "20:52:27 - cmdstanpy - INFO - Chain [1] start processing\n",
      "20:52:28 - cmdstanpy - INFO - Chain [1] done processing\n"
     ]
    },
    {
     "name": "stdout",
     "output_type": "stream",
     "text": [
      "completed: Prophet:0.8061422810005752 sec\n",
      "True\n",
      "beginning: ExponentialSmoothing(trend=ModelMode.ADDITIVE, damped=False, seasonal=SeasonalityMode.ADDITIVE, seasonal_periods=5\n",
      "completed: ExponentialSmoothing(trend=ModelMode.ADDITIVE, damped=False, seasonal=SeasonalityMode.ADDITIVE, seasonal_periods=5:0.33224193299975013 sec\n",
      "beginning: Auto-ARIMA\n",
      "completed: Auto-ARIMA:51.86922626500018 sec\n",
      "beginning: Theta(-0.1212121212121211)\n",
      "completed: Theta(-0.1212121212121211):0.053503433999139816 sec\n",
      "Combination  146 of 4170\n",
      "beginning: Naive drift model\n",
      "completed: Naive drift model:0.039339156001005904 sec\n",
      "beginning: Prophet\n"
     ]
    },
    {
     "name": "stderr",
     "output_type": "stream",
     "text": [
      "20:53:24 - cmdstanpy - INFO - Chain [1] start processing\n",
      "20:53:24 - cmdstanpy - INFO - Chain [1] done processing\n"
     ]
    },
    {
     "name": "stdout",
     "output_type": "stream",
     "text": [
      "completed: Prophet:0.989185381000425 sec\n",
      "True\n",
      "beginning: ExponentialSmoothing(trend=ModelMode.ADDITIVE, damped=False, seasonal=SeasonalityMode.ADDITIVE, seasonal_periods=7\n",
      "completed: ExponentialSmoothing(trend=ModelMode.ADDITIVE, damped=False, seasonal=SeasonalityMode.ADDITIVE, seasonal_periods=7:0.3363705129995651 sec\n",
      "beginning: Auto-ARIMA\n",
      "completed: Auto-ARIMA:52.55686312999933 sec\n",
      "beginning: Theta(0.08080808080808133)\n",
      "completed: Theta(0.08080808080808133):0.053861004000282264 sec\n",
      "Combination  147 of 4170\n",
      "beginning: Naive drift model\n",
      "completed: Naive drift model:0.03603570599989325 sec\n",
      "beginning: Prophet\n"
     ]
    },
    {
     "name": "stderr",
     "output_type": "stream",
     "text": [
      "20:54:21 - cmdstanpy - INFO - Chain [1] start processing\n",
      "20:54:21 - cmdstanpy - INFO - Chain [1] done processing\n"
     ]
    },
    {
     "name": "stdout",
     "output_type": "stream",
     "text": [
      "completed: Prophet:1.077502751000793 sec\n",
      "True\n",
      "beginning: ExponentialSmoothing(trend=ModelMode.ADDITIVE, damped=False, seasonal=SeasonalityMode.ADDITIVE, seasonal_periods=7\n",
      "completed: ExponentialSmoothing(trend=ModelMode.ADDITIVE, damped=False, seasonal=SeasonalityMode.ADDITIVE, seasonal_periods=7:0.3386794830003055 sec\n",
      "beginning: Auto-ARIMA\n",
      "completed: Auto-ARIMA:52.71303993199945 sec\n",
      "beginning: Theta(0.08080808080808133)\n",
      "completed: Theta(0.08080808080808133):0.05791754399979254 sec\n",
      "Combination  148 of 4170\n",
      "beginning: Naive drift model\n",
      "completed: Naive drift model:0.037062245999550214 sec\n",
      "beginning: Prophet\n"
     ]
    },
    {
     "name": "stderr",
     "output_type": "stream",
     "text": [
      "20:55:19 - cmdstanpy - INFO - Chain [1] start processing\n",
      "20:55:19 - cmdstanpy - INFO - Chain [1] done processing\n"
     ]
    },
    {
     "name": "stdout",
     "output_type": "stream",
     "text": [
      "completed: Prophet:0.7689287850007531 sec\n",
      "True\n",
      "beginning: ExponentialSmoothing(trend=ModelMode.ADDITIVE, damped=False, seasonal=SeasonalityMode.ADDITIVE, seasonal_periods=7\n",
      "completed: ExponentialSmoothing(trend=ModelMode.ADDITIVE, damped=False, seasonal=SeasonalityMode.ADDITIVE, seasonal_periods=7:0.33987185300065903 sec\n",
      "beginning: Auto-ARIMA\n",
      "completed: Auto-ARIMA:94.72368830400046 sec\n",
      "beginning: Theta(0.08080808080808133)\n",
      "completed: Theta(0.08080808080808133):0.051426383999569225 sec\n",
      "Combination  149 of 4170\n",
      "beginning: Naive drift model\n",
      "completed: Naive drift model:0.03365351600041322 sec\n",
      "beginning: Prophet\n"
     ]
    },
    {
     "name": "stderr",
     "output_type": "stream",
     "text": [
      "20:56:58 - cmdstanpy - INFO - Chain [1] start processing\n",
      "20:56:58 - cmdstanpy - INFO - Chain [1] done processing\n"
     ]
    },
    {
     "name": "stdout",
     "output_type": "stream",
     "text": [
      "completed: Prophet:1.1484183630000189 sec\n",
      "True\n",
      "beginning: ExponentialSmoothing(trend=ModelMode.ADDITIVE, damped=False, seasonal=SeasonalityMode.ADDITIVE, seasonal_periods=7\n",
      "completed: ExponentialSmoothing(trend=ModelMode.ADDITIVE, damped=False, seasonal=SeasonalityMode.ADDITIVE, seasonal_periods=7:0.3354393030003848 sec\n",
      "beginning: Auto-ARIMA\n",
      "completed: Auto-ARIMA:64.19263427799888 sec\n",
      "beginning: Theta(-0.1212121212121211)\n",
      "completed: Theta(-0.1212121212121211):0.05191594399911992 sec\n",
      "Combination  150 of 4170\n",
      "beginning: Naive drift model\n",
      "completed: Naive drift model:0.03363840599922696 sec\n",
      "beginning: Prophet\n"
     ]
    },
    {
     "name": "stderr",
     "output_type": "stream",
     "text": [
      "20:58:07 - cmdstanpy - INFO - Chain [1] start processing\n",
      "20:58:07 - cmdstanpy - INFO - Chain [1] done processing\n"
     ]
    },
    {
     "name": "stdout",
     "output_type": "stream",
     "text": [
      "completed: Prophet:0.7197296009999263 sec\n",
      "True\n",
      "beginning: ExponentialSmoothing(trend=ModelMode.ADDITIVE, damped=False, seasonal=SeasonalityMode.ADDITIVE, seasonal_periods=7\n",
      "completed: ExponentialSmoothing(trend=ModelMode.ADDITIVE, damped=False, seasonal=SeasonalityMode.ADDITIVE, seasonal_periods=7:0.3263721440016525 sec\n",
      "beginning: Auto-ARIMA\n",
      "completed: Auto-ARIMA:69.65772082700096 sec\n",
      "beginning: Theta(-0.1212121212121211)\n",
      "completed: Theta(-0.1212121212121211):0.05568703400058439 sec\n",
      "Combination  151 of 4170\n",
      "beginning: Naive drift model\n",
      "completed: Naive drift model:0.0366863960007322 sec\n",
      "beginning: Prophet\n"
     ]
    },
    {
     "name": "stderr",
     "output_type": "stream",
     "text": [
      "20:59:21 - cmdstanpy - INFO - Chain [1] start processing\n",
      "20:59:22 - cmdstanpy - INFO - Chain [1] done processing\n"
     ]
    },
    {
     "name": "stdout",
     "output_type": "stream",
     "text": [
      "completed: Prophet:0.812506921000022 sec\n",
      "True\n",
      "beginning: ExponentialSmoothing(trend=ModelMode.ADDITIVE, damped=False, seasonal=SeasonalityMode.ADDITIVE, seasonal_periods=8\n",
      "completed: ExponentialSmoothing(trend=ModelMode.ADDITIVE, damped=False, seasonal=SeasonalityMode.ADDITIVE, seasonal_periods=8:0.34344494200013287 sec\n",
      "beginning: Auto-ARIMA\n",
      "completed: Auto-ARIMA:82.72760358599953 sec\n",
      "beginning: Theta(-0.1212121212121211)\n",
      "completed: Theta(-0.1212121212121211):0.05965449399991485 sec\n",
      "Combination  152 of 4170\n",
      "beginning: Naive drift model\n",
      "completed: Naive drift model:0.0385688049991586 sec\n",
      "beginning: Prophet\n"
     ]
    },
    {
     "name": "stderr",
     "output_type": "stream",
     "text": [
      "21:00:49 - cmdstanpy - INFO - Chain [1] start processing\n",
      "21:00:49 - cmdstanpy - INFO - Chain [1] done processing\n"
     ]
    },
    {
     "name": "stdout",
     "output_type": "stream",
     "text": [
      "completed: Prophet:1.0531523039990134 sec\n",
      "True\n",
      "beginning: ExponentialSmoothing(trend=ModelMode.ADDITIVE, damped=False, seasonal=SeasonalityMode.ADDITIVE, seasonal_periods=7\n",
      "completed: ExponentialSmoothing(trend=ModelMode.ADDITIVE, damped=False, seasonal=SeasonalityMode.ADDITIVE, seasonal_periods=7:0.3410216930005845 sec\n",
      "beginning: Auto-ARIMA\n",
      "completed: Auto-ARIMA:65.5753225039989 sec\n",
      "beginning: Theta(1.8989898989898997)\n",
      "completed: Theta(1.8989898989898997):0.05526722299873654 sec\n",
      "Combination  153 of 4170\n",
      "beginning: Naive drift model\n",
      "completed: Naive drift model:0.03494866600158275 sec\n",
      "beginning: Prophet\n"
     ]
    },
    {
     "name": "stderr",
     "output_type": "stream",
     "text": [
      "21:01:59 - cmdstanpy - INFO - Chain [1] start processing\n",
      "21:02:00 - cmdstanpy - INFO - Chain [1] done processing\n"
     ]
    },
    {
     "name": "stdout",
     "output_type": "stream",
     "text": [
      "completed: Prophet:0.9220011279994651 sec\n",
      "True\n",
      "beginning: ExponentialSmoothing(trend=ModelMode.ADDITIVE, damped=False, seasonal=SeasonalityMode.ADDITIVE, seasonal_periods=3\n",
      "completed: ExponentialSmoothing(trend=ModelMode.ADDITIVE, damped=False, seasonal=SeasonalityMode.ADDITIVE, seasonal_periods=3:0.332599723000385 sec\n",
      "beginning: Auto-ARIMA\n",
      "completed: Auto-ARIMA:44.824282589001086 sec\n",
      "beginning: Theta(0.08080808080808133)\n",
      "completed: Theta(0.08080808080808133):0.05312026599858655 sec\n",
      "Combination  154 of 4170\n",
      "beginning: Naive drift model\n",
      "completed: Naive drift model:0.03593230700062122 sec\n",
      "beginning: Prophet\n"
     ]
    },
    {
     "name": "stderr",
     "output_type": "stream",
     "text": [
      "21:02:49 - cmdstanpy - INFO - Chain [1] start processing\n",
      "21:02:49 - cmdstanpy - INFO - Chain [1] done processing\n"
     ]
    },
    {
     "name": "stdout",
     "output_type": "stream",
     "text": [
      "completed: Prophet:0.7929003930003091 sec\n",
      "True\n",
      "beginning: ExponentialSmoothing(trend=ModelMode.ADDITIVE, damped=False, seasonal=SeasonalityMode.ADDITIVE, seasonal_periods=2\n",
      "completed: ExponentialSmoothing(trend=ModelMode.ADDITIVE, damped=False, seasonal=SeasonalityMode.ADDITIVE, seasonal_periods=2:0.32339160599985917 sec\n",
      "beginning: Auto-ARIMA\n",
      "completed: Auto-ARIMA:38.35860687400054 sec\n",
      "beginning: Theta(-0.1212121212121211)\n",
      "completed: Theta(-0.1212121212121211):0.054216356000324595 sec\n",
      "Combination  155 of 4170\n",
      "beginning: Naive drift model\n",
      "completed: Naive drift model:0.03444584800126904 sec\n",
      "beginning: Prophet\n"
     ]
    },
    {
     "name": "stderr",
     "output_type": "stream",
     "text": [
      "21:03:32 - cmdstanpy - INFO - Chain [1] start processing\n",
      "21:03:32 - cmdstanpy - INFO - Chain [1] done processing\n"
     ]
    },
    {
     "name": "stdout",
     "output_type": "stream",
     "text": [
      "completed: Prophet:0.9780469189990981 sec\n",
      "True\n",
      "beginning: ExponentialSmoothing(trend=ModelMode.ADDITIVE, damped=False, seasonal=SeasonalityMode.ADDITIVE, seasonal_periods=7\n",
      "completed: ExponentialSmoothing(trend=ModelMode.ADDITIVE, damped=False, seasonal=SeasonalityMode.ADDITIVE, seasonal_periods=7:0.33134084599987546 sec\n",
      "beginning: Auto-ARIMA\n",
      "completed: Auto-ARIMA:73.34762466199936 sec\n",
      "beginning: Theta(0.08080808080808133)\n",
      "completed: Theta(0.08080808080808133):0.051759515999947325 sec\n",
      "Combination  156 of 4170\n",
      "beginning: Naive drift model\n",
      "completed: Naive drift model:0.037429187999805436 sec\n",
      "beginning: Prophet\n"
     ]
    },
    {
     "name": "stderr",
     "output_type": "stream",
     "text": [
      "21:04:50 - cmdstanpy - INFO - Chain [1] start processing\n",
      "21:04:50 - cmdstanpy - INFO - Chain [1] done processing\n"
     ]
    },
    {
     "name": "stdout",
     "output_type": "stream",
     "text": [
      "completed: Prophet:0.7880848130007507 sec\n",
      "True\n",
      "beginning: ExponentialSmoothing(trend=ModelMode.ADDITIVE, damped=False, seasonal=SeasonalityMode.ADDITIVE, seasonal_periods=7\n",
      "completed: ExponentialSmoothing(trend=ModelMode.ADDITIVE, damped=False, seasonal=SeasonalityMode.ADDITIVE, seasonal_periods=7:0.3283162560001074 sec\n",
      "beginning: Auto-ARIMA\n",
      "completed: Auto-ARIMA:87.91300619899994 sec\n",
      "beginning: Theta(-0.1212121212121211)\n",
      "completed: Theta(-0.1212121212121211):0.054395556000599754 sec\n",
      "Combination  157 of 4170\n",
      "beginning: Naive drift model\n",
      "completed: Naive drift model:0.03822691700042924 sec\n",
      "beginning: Prophet\n"
     ]
    },
    {
     "name": "stderr",
     "output_type": "stream",
     "text": [
      "21:06:22 - cmdstanpy - INFO - Chain [1] start processing\n",
      "21:06:22 - cmdstanpy - INFO - Chain [1] done processing\n"
     ]
    },
    {
     "name": "stdout",
     "output_type": "stream",
     "text": [
      "completed: Prophet:0.7836662520003301 sec\n",
      "True\n",
      "beginning: ExponentialSmoothing(trend=ModelMode.ADDITIVE, damped=False, seasonal=SeasonalityMode.ADDITIVE, seasonal_periods=6\n",
      "completed: ExponentialSmoothing(trend=ModelMode.ADDITIVE, damped=False, seasonal=SeasonalityMode.ADDITIVE, seasonal_periods=6:0.2887566079989483 sec\n",
      "beginning: Auto-ARIMA\n",
      "completed: Auto-ARIMA:90.16084751000017 sec\n",
      "beginning: Theta(0.08080808080808133)\n",
      "completed: Theta(0.08080808080808133):0.05114165600025444 sec\n",
      "Combination  158 of 4170\n",
      "beginning: Naive drift model\n",
      "completed: Naive drift model:0.038774607000959804 sec\n",
      "beginning: Prophet\n"
     ]
    },
    {
     "name": "stderr",
     "output_type": "stream",
     "text": [
      "21:07:56 - cmdstanpy - INFO - Chain [1] start processing\n",
      "21:07:57 - cmdstanpy - INFO - Chain [1] done processing\n"
     ]
    },
    {
     "name": "stdout",
     "output_type": "stream",
     "text": [
      "completed: Prophet:0.9554929189998802 sec\n",
      "True\n",
      "beginning: ExponentialSmoothing(trend=ModelMode.ADDITIVE, damped=False, seasonal=SeasonalityMode.ADDITIVE, seasonal_periods=6\n",
      "completed: ExponentialSmoothing(trend=ModelMode.ADDITIVE, damped=False, seasonal=SeasonalityMode.ADDITIVE, seasonal_periods=6:0.29117421899900364 sec\n",
      "beginning: Auto-ARIMA\n",
      "completed: Auto-ARIMA:46.09983367999848 sec\n",
      "beginning: Theta(0.08080808080808133)\n",
      "completed: Theta(0.08080808080808133):0.05399026600025536 sec\n",
      "Combination  159 of 4170\n",
      "beginning: Naive drift model\n",
      "completed: Naive drift model:0.0358213479994447 sec\n",
      "beginning: Prophet\n"
     ]
    },
    {
     "name": "stderr",
     "output_type": "stream",
     "text": [
      "21:08:47 - cmdstanpy - INFO - Chain [1] start processing\n",
      "21:08:48 - cmdstanpy - INFO - Chain [1] done processing\n"
     ]
    },
    {
     "name": "stdout",
     "output_type": "stream",
     "text": [
      "completed: Prophet:0.8992489640004351 sec\n",
      "True\n",
      "beginning: ExponentialSmoothing(trend=ModelMode.ADDITIVE, damped=False, seasonal=SeasonalityMode.ADDITIVE, seasonal_periods=5\n",
      "completed: ExponentialSmoothing(trend=ModelMode.ADDITIVE, damped=False, seasonal=SeasonalityMode.ADDITIVE, seasonal_periods=5:0.2940845579996676 sec\n",
      "beginning: Auto-ARIMA\n",
      "completed: Auto-ARIMA:79.9724955239999 sec\n",
      "beginning: Theta(0.08080808080808133)\n",
      "completed: Theta(0.08080808080808133):0.05269016600141185 sec\n",
      "Combination  160 of 4170\n",
      "beginning: Naive drift model\n",
      "completed: Naive drift model:0.036886697000227286 sec\n",
      "beginning: Prophet\n"
     ]
    },
    {
     "name": "stderr",
     "output_type": "stream",
     "text": [
      "21:10:12 - cmdstanpy - INFO - Chain [1] start processing\n",
      "21:10:12 - cmdstanpy - INFO - Chain [1] done processing\n"
     ]
    },
    {
     "name": "stdout",
     "output_type": "stream",
     "text": [
      "completed: Prophet:1.1258282169983431 sec\n",
      "True\n",
      "beginning: ExponentialSmoothing(trend=ModelMode.ADDITIVE, damped=False, seasonal=SeasonalityMode.ADDITIVE, seasonal_periods=8\n",
      "completed: ExponentialSmoothing(trend=ModelMode.ADDITIVE, damped=False, seasonal=SeasonalityMode.ADDITIVE, seasonal_periods=8:0.29726549800034263 sec\n",
      "beginning: Auto-ARIMA\n",
      "completed: Auto-ARIMA:93.45508550600061 sec\n",
      "beginning: Theta(-0.1212121212121211)\n",
      "completed: Theta(-0.1212121212121211):0.05388727599893173 sec\n",
      "Combination  161 of 4170\n",
      "beginning: Naive drift model\n",
      "completed: Naive drift model:0.03346958799920685 sec\n",
      "beginning: Prophet\n"
     ]
    },
    {
     "name": "stderr",
     "output_type": "stream",
     "text": [
      "21:11:50 - cmdstanpy - INFO - Chain [1] start processing\n",
      "21:11:50 - cmdstanpy - INFO - Chain [1] done processing\n"
     ]
    },
    {
     "name": "stdout",
     "output_type": "stream",
     "text": [
      "completed: Prophet:0.7588944740000443 sec\n",
      "True\n",
      "beginning: ExponentialSmoothing(trend=ModelMode.ADDITIVE, damped=False, seasonal=SeasonalityMode.ADDITIVE, seasonal_periods=8\n",
      "completed: ExponentialSmoothing(trend=ModelMode.ADDITIVE, damped=False, seasonal=SeasonalityMode.ADDITIVE, seasonal_periods=8:0.29136673900029564 sec\n",
      "beginning: Auto-ARIMA\n",
      "completed: Auto-ARIMA:310.9631301219997 sec\n",
      "beginning: Theta(0.08080808080808133)\n",
      "completed: Theta(0.08080808080808133):0.05367797600047197 sec\n",
      "Combination  162 of 4170\n",
      "beginning: Naive drift model\n",
      "completed: Naive drift model:0.036206046999723185 sec\n",
      "beginning: Prophet\n"
     ]
    },
    {
     "name": "stderr",
     "output_type": "stream",
     "text": [
      "21:17:05 - cmdstanpy - INFO - Chain [1] start processing\n",
      "21:17:05 - cmdstanpy - INFO - Chain [1] done processing\n"
     ]
    },
    {
     "name": "stdout",
     "output_type": "stream",
     "text": [
      "completed: Prophet:0.7539882639994175 sec\n",
      "True\n",
      "beginning: ExponentialSmoothing(trend=ModelMode.ADDITIVE, damped=False, seasonal=SeasonalityMode.ADDITIVE, seasonal_periods=4\n",
      "completed: ExponentialSmoothing(trend=ModelMode.ADDITIVE, damped=False, seasonal=SeasonalityMode.ADDITIVE, seasonal_periods=4:0.28909899899917946 sec\n",
      "beginning: Auto-ARIMA\n",
      "completed: Auto-ARIMA:35.42479017000005 sec\n",
      "beginning: Theta(0.08080808080808133)\n",
      "completed: Theta(0.08080808080808133):0.054473055999551434 sec\n",
      "Combination  163 of 4170\n",
      "beginning: Naive drift model\n",
      "completed: Naive drift model:0.04047798700048588 sec\n",
      "beginning: Prophet\n"
     ]
    },
    {
     "name": "stderr",
     "output_type": "stream",
     "text": [
      "21:17:45 - cmdstanpy - INFO - Chain [1] start processing\n",
      "21:17:45 - cmdstanpy - INFO - Chain [1] done processing\n"
     ]
    },
    {
     "name": "stdout",
     "output_type": "stream",
     "text": [
      "completed: Prophet:1.0445186630004173 sec\n",
      "True\n",
      "beginning: ExponentialSmoothing(trend=ModelMode.ADDITIVE, damped=False, seasonal=SeasonalityMode.ADDITIVE, seasonal_periods=7\n",
      "completed: ExponentialSmoothing(trend=ModelMode.ADDITIVE, damped=False, seasonal=SeasonalityMode.ADDITIVE, seasonal_periods=7:0.29416245900029026 sec\n",
      "beginning: Auto-ARIMA\n",
      "completed: Auto-ARIMA:60.808325021998826 sec\n",
      "beginning: Theta(-0.1212121212121211)\n",
      "completed: Theta(-0.1212121212121211):0.051204796000092756 sec\n",
      "Combination  164 of 4170\n",
      "beginning: Naive drift model\n",
      "completed: Naive drift model:0.03671421699982602 sec\n",
      "beginning: Prophet\n"
     ]
    },
    {
     "name": "stderr",
     "output_type": "stream",
     "text": [
      "21:18:50 - cmdstanpy - INFO - Chain [1] start processing\n",
      "21:18:51 - cmdstanpy - INFO - Chain [1] done processing\n"
     ]
    },
    {
     "name": "stdout",
     "output_type": "stream",
     "text": [
      "completed: Prophet:0.7505840850008099 sec\n",
      "True\n",
      "beginning: ExponentialSmoothing(trend=ModelMode.ADDITIVE, damped=False, seasonal=SeasonalityMode.ADDITIVE, seasonal_periods=3\n",
      "completed: ExponentialSmoothing(trend=ModelMode.ADDITIVE, damped=False, seasonal=SeasonalityMode.ADDITIVE, seasonal_periods=3:0.28144122900084767 sec\n",
      "beginning: Auto-ARIMA\n",
      "completed: Auto-ARIMA:37.27900851300001 sec\n",
      "beginning: Theta(-0.1212121212121211)\n",
      "completed: Theta(-0.1212121212121211):0.060226056000828976 sec\n",
      "Combination  165 of 4170\n",
      "beginning: Naive drift model\n",
      "completed: Naive drift model:0.03901506699912716 sec\n",
      "beginning: Prophet\n"
     ]
    },
    {
     "name": "stderr",
     "output_type": "stream",
     "text": [
      "21:19:32 - cmdstanpy - INFO - Chain [1] start processing\n",
      "21:19:32 - cmdstanpy - INFO - Chain [1] done processing\n"
     ]
    },
    {
     "name": "stdout",
     "output_type": "stream",
     "text": [
      "completed: Prophet:0.7707503630008432 sec\n",
      "True\n",
      "beginning: ExponentialSmoothing(trend=ModelMode.ADDITIVE, damped=False, seasonal=SeasonalityMode.ADDITIVE, seasonal_periods=4\n",
      "completed: ExponentialSmoothing(trend=ModelMode.ADDITIVE, damped=False, seasonal=SeasonalityMode.ADDITIVE, seasonal_periods=4:0.29818765799973335 sec\n",
      "beginning: Auto-ARIMA\n",
      "completed: Auto-ARIMA:60.47638254699996 sec\n",
      "beginning: Theta(0.08080808080808133)\n",
      "completed: Theta(0.08080808080808133):0.05083265600114828 sec\n",
      "Combination  166 of 4170\n",
      "beginning: Naive drift model\n",
      "completed: Naive drift model:0.036141978000159725 sec\n",
      "beginning: Prophet\n"
     ]
    },
    {
     "name": "stderr",
     "output_type": "stream",
     "text": [
      "21:20:37 - cmdstanpy - INFO - Chain [1] start processing\n",
      "21:20:37 - cmdstanpy - INFO - Chain [1] done processing\n"
     ]
    },
    {
     "name": "stdout",
     "output_type": "stream",
     "text": [
      "completed: Prophet:0.9988228460006212 sec\n",
      "True\n",
      "beginning: ExponentialSmoothing(trend=ModelMode.ADDITIVE, damped=False, seasonal=SeasonalityMode.ADDITIVE, seasonal_periods=6\n",
      "completed: ExponentialSmoothing(trend=ModelMode.ADDITIVE, damped=False, seasonal=SeasonalityMode.ADDITIVE, seasonal_periods=6:0.2892250389995752 sec\n",
      "beginning: Auto-ARIMA\n",
      "completed: Auto-ARIMA:57.573840761999236 sec\n",
      "beginning: Theta(0.08080808080808133)\n",
      "completed: Theta(0.08080808080808133):0.060262126000452554 sec\n",
      "Combination  167 of 4170\n",
      "beginning: Naive drift model\n",
      "completed: Naive drift model:0.04134029699889652 sec\n",
      "beginning: Prophet\n"
     ]
    },
    {
     "name": "stderr",
     "output_type": "stream",
     "text": [
      "21:21:39 - cmdstanpy - INFO - Chain [1] start processing\n",
      "21:21:39 - cmdstanpy - INFO - Chain [1] done processing\n"
     ]
    },
    {
     "name": "stdout",
     "output_type": "stream",
     "text": [
      "completed: Prophet:0.7539185139994515 sec\n",
      "True\n",
      "beginning: ExponentialSmoothing(trend=ModelMode.ADDITIVE, damped=False, seasonal=SeasonalityMode.ADDITIVE, seasonal_periods=7\n",
      "completed: ExponentialSmoothing(trend=ModelMode.ADDITIVE, damped=False, seasonal=SeasonalityMode.ADDITIVE, seasonal_periods=7:0.34333415499895636 sec\n",
      "beginning: Auto-ARIMA\n",
      "completed: Auto-ARIMA:59.600215327000114 sec\n",
      "beginning: Theta(-0.1212121212121211)\n",
      "completed: Theta(-0.1212121212121211):0.05829548600013368 sec\n",
      "Combination  168 of 4170\n",
      "beginning: Naive drift model\n",
      "completed: Naive drift model:0.03512698799931968 sec\n",
      "beginning: Prophet\n"
     ]
    },
    {
     "name": "stderr",
     "output_type": "stream",
     "text": [
      "21:22:43 - cmdstanpy - INFO - Chain [1] start processing\n",
      "21:22:43 - cmdstanpy - INFO - Chain [1] done processing\n"
     ]
    },
    {
     "name": "stdout",
     "output_type": "stream",
     "text": [
      "completed: Prophet:1.0062691240000277 sec\n",
      "True\n",
      "beginning: ExponentialSmoothing(trend=ModelMode.ADDITIVE, damped=False, seasonal=SeasonalityMode.ADDITIVE, seasonal_periods=4\n",
      "completed: ExponentialSmoothing(trend=ModelMode.ADDITIVE, damped=False, seasonal=SeasonalityMode.ADDITIVE, seasonal_periods=4:0.32605883500036725 sec\n",
      "beginning: Auto-ARIMA\n",
      "completed: Auto-ARIMA:47.01093192999906 sec\n",
      "beginning: Theta(-0.1212121212121211)\n",
      "completed: Theta(-0.1212121212121211):0.052824854999926174 sec\n",
      "Combination  169 of 4170\n",
      "beginning: Naive drift model\n",
      "completed: Naive drift model:0.03823139700034517 sec\n",
      "beginning: Prophet\n"
     ]
    },
    {
     "name": "stderr",
     "output_type": "stream",
     "text": [
      "21:23:35 - cmdstanpy - INFO - Chain [1] start processing\n",
      "21:23:35 - cmdstanpy - INFO - Chain [1] done processing\n"
     ]
    },
    {
     "name": "stdout",
     "output_type": "stream",
     "text": [
      "completed: Prophet:0.6895070570008102 sec\n",
      "True\n",
      "beginning: ExponentialSmoothing(trend=ModelMode.ADDITIVE, damped=False, seasonal=SeasonalityMode.ADDITIVE, seasonal_periods=3\n",
      "completed: ExponentialSmoothing(trend=ModelMode.ADDITIVE, damped=False, seasonal=SeasonalityMode.ADDITIVE, seasonal_periods=3:0.3399603349989775 sec\n",
      "beginning: Auto-ARIMA\n",
      "completed: Auto-ARIMA:36.780745461999686 sec\n",
      "beginning: Theta(0.28282828282828376)\n",
      "completed: Theta(0.28282828282828376):0.05858947500018985 sec\n",
      "Combination  170 of 4170\n",
      "beginning: Naive drift model\n",
      "completed: Naive drift model:0.0364400670005125 sec\n",
      "beginning: Prophet\n"
     ]
    },
    {
     "name": "stderr",
     "output_type": "stream",
     "text": [
      "21:24:16 - cmdstanpy - INFO - Chain [1] start processing\n",
      "21:24:16 - cmdstanpy - INFO - Chain [1] done processing\n"
     ]
    },
    {
     "name": "stdout",
     "output_type": "stream",
     "text": [
      "completed: Prophet:0.75265709300038 sec\n",
      "True\n",
      "beginning: ExponentialSmoothing(trend=ModelMode.ADDITIVE, damped=False, seasonal=SeasonalityMode.ADDITIVE, seasonal_periods=3\n",
      "completed: ExponentialSmoothing(trend=ModelMode.ADDITIVE, damped=False, seasonal=SeasonalityMode.ADDITIVE, seasonal_periods=3:0.2884468880001805 sec\n",
      "beginning: Auto-ARIMA\n",
      "completed: Auto-ARIMA:41.36661730600099 sec\n",
      "beginning: Theta(0.08080808080808133)\n",
      "completed: Theta(0.08080808080808133):0.05428445600045961 sec\n",
      "Combination  171 of 4170\n",
      "beginning: Naive drift model\n",
      "completed: Naive drift model:0.04015386700120871 sec\n",
      "beginning: Prophet\n"
     ]
    },
    {
     "name": "stderr",
     "output_type": "stream",
     "text": [
      "21:25:02 - cmdstanpy - INFO - Chain [1] start processing\n",
      "21:25:02 - cmdstanpy - INFO - Chain [1] done processing\n"
     ]
    },
    {
     "name": "stdout",
     "output_type": "stream",
     "text": [
      "completed: Prophet:0.9852864060012507 sec\n",
      "True\n",
      "beginning: ExponentialSmoothing(trend=ModelMode.ADDITIVE, damped=False, seasonal=SeasonalityMode.ADDITIVE, seasonal_periods=3\n",
      "completed: ExponentialSmoothing(trend=ModelMode.ADDITIVE, damped=False, seasonal=SeasonalityMode.ADDITIVE, seasonal_periods=3:0.2910037370002101 sec\n",
      "beginning: Auto-ARIMA\n",
      "completed: Auto-ARIMA:36.395472885000345 sec\n",
      "beginning: Theta(0.08080808080808133)\n",
      "completed: Theta(0.08080808080808133):0.04968209700018633 sec\n",
      "Combination  172 of 4170\n",
      "beginning: Naive drift model\n",
      "completed: Naive drift model:0.035838008001519484 sec\n",
      "beginning: Prophet\n"
     ]
    },
    {
     "name": "stderr",
     "output_type": "stream",
     "text": [
      "21:25:43 - cmdstanpy - INFO - Chain [1] start processing\n",
      "21:25:43 - cmdstanpy - INFO - Chain [1] done processing\n"
     ]
    },
    {
     "name": "stdout",
     "output_type": "stream",
     "text": [
      "completed: Prophet:0.7803511809997872 sec\n",
      "True\n",
      "beginning: ExponentialSmoothing(trend=ModelMode.ADDITIVE, damped=False, seasonal=SeasonalityMode.ADDITIVE, seasonal_periods=2\n",
      "completed: ExponentialSmoothing(trend=ModelMode.ADDITIVE, damped=False, seasonal=SeasonalityMode.ADDITIVE, seasonal_periods=2:0.282015077998949 sec\n",
      "beginning: Auto-ARIMA\n",
      "completed: Auto-ARIMA:38.333989115000804 sec\n",
      "beginning: Theta(0.08080808080808133)\n",
      "completed: Theta(0.08080808080808133):0.05604974599918933 sec\n",
      "Combination  173 of 4170\n",
      "beginning: Naive drift model\n",
      "completed: Naive drift model:0.03870227700099349 sec\n",
      "beginning: Prophet\n"
     ]
    },
    {
     "name": "stderr",
     "output_type": "stream",
     "text": [
      "21:26:25 - cmdstanpy - INFO - Chain [1] start processing\n",
      "21:26:26 - cmdstanpy - INFO - Chain [1] done processing\n"
     ]
    },
    {
     "name": "stdout",
     "output_type": "stream",
     "text": [
      "completed: Prophet:0.7189937860002829 sec\n",
      "True\n",
      "beginning: ExponentialSmoothing(trend=ModelMode.ADDITIVE, damped=False, seasonal=SeasonalityMode.ADDITIVE, seasonal_periods=3\n",
      "completed: ExponentialSmoothing(trend=ModelMode.ADDITIVE, damped=False, seasonal=SeasonalityMode.ADDITIVE, seasonal_periods=3:0.2859219279998797 sec\n",
      "beginning: Auto-ARIMA\n",
      "completed: Auto-ARIMA:38.190220485999816 sec\n",
      "beginning: Theta(0.08080808080808133)\n",
      "completed: Theta(0.08080808080808133):0.05158622599992668 sec\n",
      "Combination  174 of 4170\n",
      "beginning: Naive drift model\n",
      "completed: Naive drift model:0.035908027000914444 sec\n",
      "beginning: Prophet\n"
     ]
    },
    {
     "name": "stderr",
     "output_type": "stream",
     "text": [
      "21:27:08 - cmdstanpy - INFO - Chain [1] start processing\n",
      "21:27:08 - cmdstanpy - INFO - Chain [1] done processing\n"
     ]
    },
    {
     "name": "stdout",
     "output_type": "stream",
     "text": [
      "completed: Prophet:1.050855481000326 sec\n",
      "True\n",
      "beginning: ExponentialSmoothing(trend=ModelMode.ADDITIVE, damped=False, seasonal=SeasonalityMode.ADDITIVE, seasonal_periods=7\n",
      "completed: ExponentialSmoothing(trend=ModelMode.ADDITIVE, damped=False, seasonal=SeasonalityMode.ADDITIVE, seasonal_periods=7:0.28625547800038476 sec\n",
      "beginning: Auto-ARIMA\n",
      "completed: Auto-ARIMA:84.70072589299889 sec\n",
      "beginning: Theta(0.08080808080808133)\n",
      "completed: Theta(0.08080808080808133):0.05276938600036374 sec\n",
      "Combination  175 of 4170\n",
      "beginning: Naive drift model\n",
      "completed: Naive drift model:0.03709849699953338 sec\n",
      "beginning: Prophet\n"
     ]
    },
    {
     "name": "stderr",
     "output_type": "stream",
     "text": [
      "21:28:37 - cmdstanpy - INFO - Chain [1] start processing\n",
      "21:28:37 - cmdstanpy - INFO - Chain [1] done processing\n"
     ]
    },
    {
     "name": "stdout",
     "output_type": "stream",
     "text": [
      "completed: Prophet:0.6954889070002537 sec\n",
      "True\n",
      "beginning: ExponentialSmoothing(trend=ModelMode.ADDITIVE, damped=False, seasonal=SeasonalityMode.ADDITIVE, seasonal_periods=2\n",
      "completed: ExponentialSmoothing(trend=ModelMode.ADDITIVE, damped=False, seasonal=SeasonalityMode.ADDITIVE, seasonal_periods=2:0.2807371590006369 sec\n",
      "beginning: Auto-ARIMA\n",
      "completed: Auto-ARIMA:32.63203729499946 sec\n",
      "beginning: Theta(0.08080808080808133)\n",
      "completed: Theta(0.08080808080808133):0.05237039600069693 sec\n",
      "Combination  176 of 4170\n",
      "beginning: Naive drift model\n",
      "completed: Naive drift model:0.038026796999474755 sec\n",
      "beginning: Prophet\n"
     ]
    },
    {
     "name": "stderr",
     "output_type": "stream",
     "text": [
      "21:29:14 - cmdstanpy - INFO - Chain [1] start processing\n",
      "21:29:14 - cmdstanpy - INFO - Chain [1] done processing\n"
     ]
    },
    {
     "name": "stdout",
     "output_type": "stream",
     "text": [
      "completed: Prophet:0.6904506379996747 sec\n",
      "True\n",
      "beginning: ExponentialSmoothing(trend=ModelMode.ADDITIVE, damped=False, seasonal=SeasonalityMode.ADDITIVE, seasonal_periods=7\n",
      "completed: ExponentialSmoothing(trend=ModelMode.ADDITIVE, damped=False, seasonal=SeasonalityMode.ADDITIVE, seasonal_periods=7:0.3383425450010691 sec\n",
      "beginning: Auto-ARIMA\n",
      "completed: Auto-ARIMA:68.57026254100128 sec\n",
      "beginning: Theta(-0.1212121212121211)\n",
      "completed: Theta(-0.1212121212121211):0.05881156499890494 sec\n",
      "Combination  177 of 4170\n",
      "beginning: Naive drift model\n",
      "completed: Naive drift model:0.03337124700010463 sec\n",
      "beginning: Prophet\n"
     ]
    },
    {
     "name": "stderr",
     "output_type": "stream",
     "text": [
      "21:30:27 - cmdstanpy - INFO - Chain [1] start processing\n",
      "21:30:27 - cmdstanpy - INFO - Chain [1] done processing\n"
     ]
    },
    {
     "name": "stdout",
     "output_type": "stream",
     "text": [
      "completed: Prophet:1.083383638999294 sec\n",
      "True\n",
      "beginning: ExponentialSmoothing(trend=ModelMode.ADDITIVE, damped=False, seasonal=SeasonalityMode.ADDITIVE, seasonal_periods=2\n",
      "completed: ExponentialSmoothing(trend=ModelMode.ADDITIVE, damped=False, seasonal=SeasonalityMode.ADDITIVE, seasonal_periods=2:0.3296753849990637 sec\n",
      "beginning: Auto-ARIMA\n",
      "completed: Auto-ARIMA:39.86906726900088 sec\n",
      "beginning: Theta(0.28282828282828376)\n",
      "completed: Theta(0.28282828282828376):0.05328092600029777 sec\n",
      "Combination  178 of 4170\n",
      "beginning: Naive drift model\n",
      "completed: Naive drift model:0.0347806669997226 sec\n",
      "beginning: Prophet\n"
     ]
    },
    {
     "name": "stderr",
     "output_type": "stream",
     "text": [
      "21:31:12 - cmdstanpy - INFO - Chain [1] start processing\n",
      "21:31:12 - cmdstanpy - INFO - Chain [1] done processing\n"
     ]
    },
    {
     "name": "stdout",
     "output_type": "stream",
     "text": [
      "completed: Prophet:0.9671811970001727 sec\n",
      "True\n",
      "beginning: ExponentialSmoothing(trend=ModelMode.ADDITIVE, damped=False, seasonal=SeasonalityMode.ADDITIVE, seasonal_periods=4\n",
      "completed: ExponentialSmoothing(trend=ModelMode.ADDITIVE, damped=False, seasonal=SeasonalityMode.ADDITIVE, seasonal_periods=4:0.3290843049999239 sec\n",
      "beginning: Auto-ARIMA\n",
      "completed: Auto-ARIMA:43.203309647000424 sec\n",
      "beginning: Theta(0.08080808080808133)\n",
      "completed: Theta(0.08080808080808133):0.05733191500075918 sec\n",
      "Combination  179 of 4170\n",
      "beginning: Naive drift model\n",
      "completed: Naive drift model:0.034962128000188386 sec\n",
      "beginning: Prophet\n"
     ]
    },
    {
     "name": "stderr",
     "output_type": "stream",
     "text": [
      "21:32:00 - cmdstanpy - INFO - Chain [1] start processing\n",
      "21:32:00 - cmdstanpy - INFO - Chain [1] done processing\n"
     ]
    },
    {
     "name": "stdout",
     "output_type": "stream",
     "text": [
      "completed: Prophet:0.8850262329997349 sec\n",
      "True\n",
      "beginning: ExponentialSmoothing(trend=ModelMode.ADDITIVE, damped=False, seasonal=SeasonalityMode.ADDITIVE, seasonal_periods=3\n",
      "completed: ExponentialSmoothing(trend=ModelMode.ADDITIVE, damped=False, seasonal=SeasonalityMode.ADDITIVE, seasonal_periods=3:0.3272440660002758 sec\n",
      "beginning: Auto-ARIMA\n",
      "completed: Auto-ARIMA:34.096554414998536 sec\n",
      "beginning: Theta(-0.32323232323232354)\n",
      "completed: Theta(-0.32323232323232354):0.05409110599975975 sec\n",
      "Combination  180 of 4170\n",
      "beginning: Naive drift model\n",
      "completed: Naive drift model:0.03675042699978803 sec\n",
      "beginning: Prophet\n"
     ]
    },
    {
     "name": "stderr",
     "output_type": "stream",
     "text": [
      "21:32:38 - cmdstanpy - INFO - Chain [1] start processing\n",
      "21:32:39 - cmdstanpy - INFO - Chain [1] done processing\n"
     ]
    },
    {
     "name": "stdout",
     "output_type": "stream",
     "text": [
      "completed: Prophet:1.073534908999136 sec\n",
      "True\n",
      "beginning: ExponentialSmoothing(trend=ModelMode.ADDITIVE, damped=False, seasonal=SeasonalityMode.ADDITIVE, seasonal_periods=7\n",
      "completed: ExponentialSmoothing(trend=ModelMode.ADDITIVE, damped=False, seasonal=SeasonalityMode.ADDITIVE, seasonal_periods=7:0.33885289399950125 sec\n",
      "beginning: Auto-ARIMA\n",
      "completed: Auto-ARIMA:61.65008422400024 sec\n",
      "beginning: Theta(-0.1212121212121211)\n",
      "completed: Theta(-0.1212121212121211):0.062472104998960276 sec\n",
      "Combination  181 of 4170\n",
      "beginning: Naive drift model\n",
      "completed: Naive drift model:0.03785419700034254 sec\n",
      "beginning: Prophet\n"
     ]
    },
    {
     "name": "stderr",
     "output_type": "stream",
     "text": [
      "21:33:45 - cmdstanpy - INFO - Chain [1] start processing\n",
      "21:33:45 - cmdstanpy - INFO - Chain [1] done processing\n"
     ]
    },
    {
     "name": "stdout",
     "output_type": "stream",
     "text": [
      "completed: Prophet:0.7958942800014484 sec\n",
      "True\n",
      "beginning: ExponentialSmoothing(trend=ModelMode.ADDITIVE, damped=False, seasonal=SeasonalityMode.ADDITIVE, seasonal_periods=5\n",
      "completed: ExponentialSmoothing(trend=ModelMode.ADDITIVE, damped=False, seasonal=SeasonalityMode.ADDITIVE, seasonal_periods=5:0.3375692740009981 sec\n",
      "beginning: Auto-ARIMA\n",
      "completed: Auto-ARIMA:55.76873018800143 sec\n",
      "beginning: Theta(0.08080808080808133)\n",
      "completed: Theta(0.08080808080808133):0.05507248600042658 sec\n",
      "Combination  182 of 4170\n",
      "beginning: Naive drift model\n",
      "completed: Naive drift model:0.03611733700017794 sec\n",
      "beginning: Prophet\n"
     ]
    },
    {
     "name": "stderr",
     "output_type": "stream",
     "text": [
      "21:34:45 - cmdstanpy - INFO - Chain [1] start processing\n",
      "21:34:46 - cmdstanpy - INFO - Chain [1] done processing\n"
     ]
    },
    {
     "name": "stdout",
     "output_type": "stream",
     "text": [
      "completed: Prophet:1.3907662450001226 sec\n",
      "True\n",
      "beginning: ExponentialSmoothing(trend=ModelMode.ADDITIVE, damped=False, seasonal=SeasonalityMode.ADDITIVE, seasonal_periods=2\n",
      "completed: ExponentialSmoothing(trend=ModelMode.ADDITIVE, damped=False, seasonal=SeasonalityMode.ADDITIVE, seasonal_periods=2:0.3320096650004416 sec\n",
      "beginning: Auto-ARIMA\n",
      "completed: Auto-ARIMA:46.90160180800012 sec\n",
      "beginning: Theta(-0.1212121212121211)\n",
      "completed: Theta(-0.1212121212121211):0.05495203600003151 sec\n",
      "Combination  183 of 4170\n",
      "beginning: Naive drift model\n",
      "completed: Naive drift model:0.036878426999464864 sec\n",
      "beginning: Prophet\n"
     ]
    },
    {
     "name": "stderr",
     "output_type": "stream",
     "text": [
      "21:35:37 - cmdstanpy - INFO - Chain [1] start processing\n",
      "21:35:38 - cmdstanpy - INFO - Chain [1] done processing\n"
     ]
    },
    {
     "name": "stdout",
     "output_type": "stream",
     "text": [
      "completed: Prophet:0.8596881749999739 sec\n",
      "True\n",
      "beginning: ExponentialSmoothing(trend=ModelMode.ADDITIVE, damped=False, seasonal=SeasonalityMode.ADDITIVE, seasonal_periods=7\n",
      "completed: ExponentialSmoothing(trend=ModelMode.ADDITIVE, damped=False, seasonal=SeasonalityMode.ADDITIVE, seasonal_periods=7:0.3428622240007826 sec\n",
      "beginning: Auto-ARIMA\n",
      "completed: Auto-ARIMA:66.69242600299913 sec\n",
      "beginning: Theta(0.28282828282828376)\n",
      "completed: Theta(0.28282828282828376):0.054562885999985156 sec\n",
      "Combination  184 of 4170\n",
      "beginning: Naive drift model\n",
      "completed: Naive drift model:0.035172017000149935 sec\n",
      "beginning: Prophet\n"
     ]
    },
    {
     "name": "stderr",
     "output_type": "stream",
     "text": [
      "21:36:49 - cmdstanpy - INFO - Chain [1] start processing\n",
      "21:36:49 - cmdstanpy - INFO - Chain [1] done processing\n"
     ]
    },
    {
     "name": "stdout",
     "output_type": "stream",
     "text": [
      "completed: Prophet:0.8471695260013803 sec\n",
      "True\n",
      "beginning: ExponentialSmoothing(trend=ModelMode.ADDITIVE, damped=False, seasonal=SeasonalityMode.ADDITIVE, seasonal_periods=9\n",
      "completed: ExponentialSmoothing(trend=ModelMode.ADDITIVE, damped=False, seasonal=SeasonalityMode.ADDITIVE, seasonal_periods=9:0.3356942850004998 sec\n",
      "beginning: Auto-ARIMA\n",
      "completed: Auto-ARIMA:105.98687752899968 sec\n",
      "beginning: Theta(-0.1212121212121211)\n",
      "completed: Theta(-0.1212121212121211):0.050238635998539394 sec\n",
      "Combination  185 of 4170\n",
      "beginning: Naive drift model\n",
      "completed: Naive drift model:0.03423399699931906 sec\n",
      "beginning: Prophet\n"
     ]
    },
    {
     "name": "stderr",
     "output_type": "stream",
     "text": [
      "21:38:39 - cmdstanpy - INFO - Chain [1] start processing\n",
      "21:38:40 - cmdstanpy - INFO - Chain [1] done processing\n"
     ]
    },
    {
     "name": "stdout",
     "output_type": "stream",
     "text": [
      "completed: Prophet:1.0219337540002016 sec\n",
      "True\n",
      "beginning: ExponentialSmoothing(trend=ModelMode.ADDITIVE, damped=False, seasonal=SeasonalityMode.ADDITIVE, seasonal_periods=4\n",
      "completed: ExponentialSmoothing(trend=ModelMode.ADDITIVE, damped=False, seasonal=SeasonalityMode.ADDITIVE, seasonal_periods=4:0.33031331499842054 sec\n",
      "beginning: Auto-ARIMA\n",
      "completed: Auto-ARIMA:43.488528345000304 sec\n",
      "beginning: Theta(-0.7272727272727266)\n",
      "completed: Theta(-0.7272727272727266):0.06191494499944383 sec\n",
      "Combination  186 of 4170\n",
      "beginning: Naive drift model\n",
      "completed: Naive drift model:0.037372246999439085 sec\n",
      "beginning: Prophet\n"
     ]
    },
    {
     "name": "stderr",
     "output_type": "stream",
     "text": [
      "21:39:27 - cmdstanpy - INFO - Chain [1] start processing\n",
      "21:39:28 - cmdstanpy - INFO - Chain [1] done processing\n"
     ]
    },
    {
     "name": "stdout",
     "output_type": "stream",
     "text": [
      "completed: Prophet:0.7697976519993972 sec\n",
      "True\n",
      "beginning: ExponentialSmoothing(trend=ModelMode.ADDITIVE, damped=False, seasonal=SeasonalityMode.ADDITIVE, seasonal_periods=7\n",
      "completed: ExponentialSmoothing(trend=ModelMode.ADDITIVE, damped=False, seasonal=SeasonalityMode.ADDITIVE, seasonal_periods=7:0.3335522640009003 sec\n",
      "beginning: Auto-ARIMA\n",
      "completed: Auto-ARIMA:62.10359213799893 sec\n",
      "beginning: Theta(0.08080808080808133)\n",
      "completed: Theta(0.08080808080808133):0.057874574999004835 sec\n",
      "Combination  187 of 4170\n",
      "beginning: Naive drift model\n",
      "completed: Naive drift model:0.03566146700177342 sec\n",
      "beginning: Prophet\n"
     ]
    },
    {
     "name": "stderr",
     "output_type": "stream",
     "text": [
      "21:40:34 - cmdstanpy - INFO - Chain [1] start processing\n",
      "21:40:35 - cmdstanpy - INFO - Chain [1] done processing\n"
     ]
    },
    {
     "name": "stdout",
     "output_type": "stream",
     "text": [
      "completed: Prophet:0.8038363409996236 sec\n",
      "True\n",
      "beginning: ExponentialSmoothing(trend=ModelMode.ADDITIVE, damped=False, seasonal=SeasonalityMode.ADDITIVE, seasonal_periods=2\n",
      "completed: ExponentialSmoothing(trend=ModelMode.ADDITIVE, damped=False, seasonal=SeasonalityMode.ADDITIVE, seasonal_periods=2:0.32887740200021653 sec\n",
      "beginning: Auto-ARIMA\n",
      "completed: Auto-ARIMA:40.24954176199935 sec\n",
      "beginning: Theta(-0.1212121212121211)\n",
      "completed: Theta(-0.1212121212121211):0.054540986000574776 sec\n",
      "Combination  188 of 4170\n",
      "beginning: Naive drift model\n",
      "completed: Naive drift model:0.03433009699983813 sec\n",
      "beginning: Prophet\n"
     ]
    },
    {
     "name": "stderr",
     "output_type": "stream",
     "text": [
      "21:41:19 - cmdstanpy - INFO - Chain [1] start processing\n",
      "21:41:19 - cmdstanpy - INFO - Chain [1] done processing\n"
     ]
    },
    {
     "name": "stdout",
     "output_type": "stream",
     "text": [
      "completed: Prophet:0.9264640610017523 sec\n",
      "True\n",
      "beginning: ExponentialSmoothing(trend=ModelMode.ADDITIVE, damped=False, seasonal=SeasonalityMode.ADDITIVE, seasonal_periods=7\n",
      "completed: ExponentialSmoothing(trend=ModelMode.ADDITIVE, damped=False, seasonal=SeasonalityMode.ADDITIVE, seasonal_periods=7:0.3297163709994493 sec\n",
      "beginning: Auto-ARIMA\n",
      "completed: Auto-ARIMA:55.83101307099969 sec\n",
      "beginning: Theta(-0.1212121212121211)\n",
      "completed: Theta(-0.1212121212121211):0.05215885600046022 sec\n",
      "Combination  189 of 4170\n",
      "beginning: Naive drift model\n",
      "completed: Naive drift model:0.036528905999148265 sec\n",
      "beginning: Prophet\n"
     ]
    },
    {
     "name": "stderr",
     "output_type": "stream",
     "text": [
      "21:42:19 - cmdstanpy - INFO - Chain [1] start processing\n",
      "21:42:20 - cmdstanpy - INFO - Chain [1] done processing\n"
     ]
    },
    {
     "name": "stdout",
     "output_type": "stream",
     "text": [
      "completed: Prophet:0.8236531900001864 sec\n",
      "True\n",
      "beginning: ExponentialSmoothing(trend=ModelMode.ADDITIVE, damped=False, seasonal=SeasonalityMode.ADDITIVE, seasonal_periods=3\n",
      "completed: ExponentialSmoothing(trend=ModelMode.ADDITIVE, damped=False, seasonal=SeasonalityMode.ADDITIVE, seasonal_periods=3:0.3289668819998042 sec\n",
      "beginning: Auto-ARIMA\n",
      "completed: Auto-ARIMA:45.85322352299954 sec\n",
      "beginning: Theta(0.08080808080808133)\n",
      "completed: Theta(0.08080808080808133):0.050880376000350225 sec\n",
      "Combination  190 of 4170\n",
      "beginning: Naive drift model\n",
      "completed: Naive drift model:0.037287137000021175 sec\n",
      "beginning: Prophet\n"
     ]
    },
    {
     "name": "stderr",
     "output_type": "stream",
     "text": [
      "21:43:10 - cmdstanpy - INFO - Chain [1] start processing\n",
      "21:43:10 - cmdstanpy - INFO - Chain [1] done processing\n"
     ]
    },
    {
     "name": "stdout",
     "output_type": "stream",
     "text": [
      "completed: Prophet:0.9452111190003052 sec\n",
      "True\n",
      "beginning: ExponentialSmoothing(trend=ModelMode.ADDITIVE, damped=False, seasonal=SeasonalityMode.ADDITIVE, seasonal_periods=6\n",
      "completed: ExponentialSmoothing(trend=ModelMode.ADDITIVE, damped=False, seasonal=SeasonalityMode.ADDITIVE, seasonal_periods=6:0.32326074299999163 sec\n",
      "beginning: Auto-ARIMA\n",
      "completed: Auto-ARIMA:59.07930997299991 sec\n",
      "beginning: Theta(0.08080808080808133)\n",
      "completed: Theta(0.08080808080808133):0.053170135000982555 sec\n",
      "Combination  191 of 4170\n",
      "beginning: Naive drift model\n",
      "completed: Naive drift model:0.035484956999425776 sec\n",
      "beginning: Prophet\n"
     ]
    },
    {
     "name": "stderr",
     "output_type": "stream",
     "text": [
      "21:44:13 - cmdstanpy - INFO - Chain [1] start processing\n",
      "21:44:14 - cmdstanpy - INFO - Chain [1] done processing\n"
     ]
    },
    {
     "name": "stdout",
     "output_type": "stream",
     "text": [
      "completed: Prophet:1.0673450890008098 sec\n",
      "True\n",
      "beginning: ExponentialSmoothing(trend=ModelMode.ADDITIVE, damped=False, seasonal=SeasonalityMode.ADDITIVE, seasonal_periods=5\n",
      "completed: ExponentialSmoothing(trend=ModelMode.ADDITIVE, damped=False, seasonal=SeasonalityMode.ADDITIVE, seasonal_periods=5:0.32795570100097393 sec\n",
      "beginning: Auto-ARIMA\n",
      "completed: Auto-ARIMA:38.36982454200006 sec\n",
      "beginning: Theta(0.08080808080808133)\n",
      "completed: Theta(0.08080808080808133):0.05505633500069962 sec\n",
      "Combination  192 of 4170\n",
      "beginning: Naive drift model\n",
      "completed: Naive drift model:0.03784117599934689 sec\n",
      "beginning: Prophet\n"
     ]
    },
    {
     "name": "stderr",
     "output_type": "stream",
     "text": [
      "21:44:57 - cmdstanpy - INFO - Chain [1] start processing\n",
      "21:44:57 - cmdstanpy - INFO - Chain [1] done processing\n"
     ]
    },
    {
     "name": "stdout",
     "output_type": "stream",
     "text": [
      "completed: Prophet:0.812905000999308 sec\n",
      "True\n",
      "beginning: ExponentialSmoothing(trend=ModelMode.ADDITIVE, damped=False, seasonal=SeasonalityMode.ADDITIVE, seasonal_periods=6\n",
      "completed: ExponentialSmoothing(trend=ModelMode.ADDITIVE, damped=False, seasonal=SeasonalityMode.ADDITIVE, seasonal_periods=6:0.33275622200017096 sec\n",
      "beginning: Auto-ARIMA\n",
      "completed: Auto-ARIMA:50.37185254799988 sec\n",
      "beginning: Theta(-0.1212121212121211)\n",
      "completed: Theta(-0.1212121212121211):0.053161365000050864 sec\n",
      "Combination  193 of 4170\n",
      "beginning: Naive drift model\n",
      "completed: Naive drift model:0.035491717000695644 sec\n",
      "beginning: Prophet\n"
     ]
    },
    {
     "name": "stderr",
     "output_type": "stream",
     "text": [
      "21:45:52 - cmdstanpy - INFO - Chain [1] start processing\n",
      "21:45:52 - cmdstanpy - INFO - Chain [1] done processing\n"
     ]
    },
    {
     "name": "stdout",
     "output_type": "stream",
     "text": [
      "completed: Prophet:0.6921718009998585 sec\n",
      "True\n",
      "beginning: ExponentialSmoothing(trend=ModelMode.ADDITIVE, damped=False, seasonal=SeasonalityMode.ADDITIVE, seasonal_periods=7\n",
      "completed: ExponentialSmoothing(trend=ModelMode.ADDITIVE, damped=False, seasonal=SeasonalityMode.ADDITIVE, seasonal_periods=7:0.33172469200144405 sec\n",
      "beginning: Auto-ARIMA\n",
      "completed: Auto-ARIMA:46.289557025998874 sec\n",
      "beginning: Theta(-0.1212121212121211)\n",
      "completed: Theta(-0.1212121212121211):0.05042726600004244 sec\n",
      "Combination  194 of 4170\n",
      "beginning: Naive drift model\n",
      "completed: Naive drift model:0.03855795600065903 sec\n",
      "beginning: Prophet\n"
     ]
    },
    {
     "name": "stderr",
     "output_type": "stream",
     "text": [
      "21:46:42 - cmdstanpy - INFO - Chain [1] start processing\n",
      "21:46:43 - cmdstanpy - INFO - Chain [1] done processing\n"
     ]
    },
    {
     "name": "stdout",
     "output_type": "stream",
     "text": [
      "completed: Prophet:1.0396422909998364 sec\n",
      "True\n",
      "beginning: ExponentialSmoothing(trend=ModelMode.ADDITIVE, damped=False, seasonal=SeasonalityMode.ADDITIVE, seasonal_periods=6\n",
      "completed: ExponentialSmoothing(trend=ModelMode.ADDITIVE, damped=False, seasonal=SeasonalityMode.ADDITIVE, seasonal_periods=6:0.33288291200005915 sec\n",
      "beginning: Auto-ARIMA\n",
      "completed: Auto-ARIMA:70.97323207699992 sec\n",
      "beginning: Theta(-0.1212121212121211)\n",
      "completed: Theta(-0.1212121212121211):0.05391917500128329 sec\n",
      "Combination  195 of 4170\n",
      "beginning: Naive drift model\n",
      "completed: Naive drift model:0.0364842970011523 sec\n",
      "beginning: Prophet\n"
     ]
    },
    {
     "name": "stderr",
     "output_type": "stream",
     "text": [
      "21:47:58 - cmdstanpy - INFO - Chain [1] start processing\n",
      "21:47:58 - cmdstanpy - INFO - Chain [1] done processing\n"
     ]
    },
    {
     "name": "stdout",
     "output_type": "stream",
     "text": [
      "completed: Prophet:0.7005481100004545 sec\n",
      "True\n",
      "beginning: ExponentialSmoothing(trend=ModelMode.ADDITIVE, damped=False, seasonal=SeasonalityMode.ADDITIVE, seasonal_periods=3\n",
      "completed: ExponentialSmoothing(trend=ModelMode.ADDITIVE, damped=False, seasonal=SeasonalityMode.ADDITIVE, seasonal_periods=3:0.32802471200011496 sec\n",
      "beginning: Auto-ARIMA\n",
      "completed: Auto-ARIMA:44.87705157700111 sec\n",
      "beginning: Theta(0.08080808080808133)\n",
      "completed: Theta(0.08080808080808133):0.0531204249982693 sec\n",
      "Combination  196 of 4170\n",
      "beginning: Naive drift model\n",
      "completed: Naive drift model:0.036962317000870826 sec\n",
      "beginning: Prophet\n"
     ]
    },
    {
     "name": "stderr",
     "output_type": "stream",
     "text": [
      "21:48:47 - cmdstanpy - INFO - Chain [1] start processing\n",
      "21:48:48 - cmdstanpy - INFO - Chain [1] done processing\n"
     ]
    },
    {
     "name": "stdout",
     "output_type": "stream",
     "text": [
      "completed: Prophet:1.0344733419988188 sec\n",
      "True\n",
      "beginning: ExponentialSmoothing(trend=ModelMode.ADDITIVE, damped=False, seasonal=SeasonalityMode.ADDITIVE, seasonal_periods=3\n",
      "completed: ExponentialSmoothing(trend=ModelMode.ADDITIVE, damped=False, seasonal=SeasonalityMode.ADDITIVE, seasonal_periods=3:0.3269315920006193 sec\n",
      "beginning: Auto-ARIMA\n",
      "completed: Auto-ARIMA:47.1733091699989 sec\n",
      "beginning: Theta(0.08080808080808133)\n",
      "completed: Theta(0.08080808080808133):0.06171738500052015 sec\n",
      "Combination  197 of 4170\n",
      "beginning: Naive drift model\n",
      "completed: Naive drift model:0.038984156999504194 sec\n",
      "beginning: Prophet\n"
     ]
    },
    {
     "name": "stderr",
     "output_type": "stream",
     "text": [
      "21:49:39 - cmdstanpy - INFO - Chain [1] start processing\n",
      "21:49:40 - cmdstanpy - INFO - Chain [1] done processing\n"
     ]
    },
    {
     "name": "stdout",
     "output_type": "stream",
     "text": [
      "completed: Prophet:0.8759771060013009 sec\n",
      "True\n",
      "beginning: ExponentialSmoothing(trend=ModelMode.ADDITIVE, damped=False, seasonal=SeasonalityMode.ADDITIVE, seasonal_periods=7\n",
      "completed: ExponentialSmoothing(trend=ModelMode.ADDITIVE, damped=False, seasonal=SeasonalityMode.ADDITIVE, seasonal_periods=7:0.33903237099912076 sec\n",
      "beginning: Auto-ARIMA\n",
      "completed: Auto-ARIMA:67.27068763900024 sec\n",
      "beginning: Theta(-0.1212121212121211)\n",
      "completed: Theta(-0.1212121212121211):0.05337072600013926 sec\n",
      "Combination  198 of 4170\n",
      "beginning: Naive drift model\n",
      "completed: Naive drift model:0.03621241600012581 sec\n",
      "beginning: Prophet\n"
     ]
    },
    {
     "name": "stderr",
     "output_type": "stream",
     "text": [
      "21:50:51 - cmdstanpy - INFO - Chain [1] start processing\n",
      "21:50:52 - cmdstanpy - INFO - Chain [1] done processing\n"
     ]
    },
    {
     "name": "stdout",
     "output_type": "stream",
     "text": [
      "completed: Prophet:0.787759652999739 sec\n",
      "True\n",
      "beginning: ExponentialSmoothing(trend=ModelMode.ADDITIVE, damped=False, seasonal=SeasonalityMode.ADDITIVE, seasonal_periods=7\n",
      "completed: ExponentialSmoothing(trend=ModelMode.ADDITIVE, damped=False, seasonal=SeasonalityMode.ADDITIVE, seasonal_periods=7:0.3331766709998192 sec\n",
      "beginning: Auto-ARIMA\n",
      "completed: Auto-ARIMA:86.78429647700068 sec\n",
      "beginning: Theta(0.08080808080808133)\n",
      "completed: Theta(0.08080808080808133):0.052294425999207306 sec\n",
      "Combination  199 of 4170\n",
      "beginning: Naive drift model\n",
      "completed: Naive drift model:0.03994566599976679 sec\n",
      "beginning: Prophet\n"
     ]
    },
    {
     "name": "stderr",
     "output_type": "stream",
     "text": [
      "21:52:23 - cmdstanpy - INFO - Chain [1] start processing\n",
      "21:52:23 - cmdstanpy - INFO - Chain [1] done processing\n"
     ]
    },
    {
     "name": "stdout",
     "output_type": "stream",
     "text": [
      "completed: Prophet:1.0338132420001784 sec\n",
      "True\n",
      "beginning: ExponentialSmoothing(trend=ModelMode.ADDITIVE, damped=False, seasonal=SeasonalityMode.ADDITIVE, seasonal_periods=5\n",
      "completed: ExponentialSmoothing(trend=ModelMode.ADDITIVE, damped=False, seasonal=SeasonalityMode.ADDITIVE, seasonal_periods=5:0.3323616409998067 sec\n",
      "beginning: Auto-ARIMA\n",
      "completed: Auto-ARIMA:43.946063045999836 sec\n",
      "beginning: Theta(0.08080808080808133)\n",
      "completed: Theta(0.08080808080808133):0.05295884599945566 sec\n",
      "Combination  200 of 4170\n",
      "beginning: Naive drift model\n",
      "completed: Naive drift model:0.035857566001141095 sec\n",
      "beginning: Prophet\n"
     ]
    },
    {
     "name": "stderr",
     "output_type": "stream",
     "text": [
      "21:53:11 - cmdstanpy - INFO - Chain [1] start processing\n",
      "21:53:12 - cmdstanpy - INFO - Chain [1] done processing\n"
     ]
    },
    {
     "name": "stdout",
     "output_type": "stream",
     "text": [
      "completed: Prophet:0.7442660070009879 sec\n",
      "True\n",
      "beginning: ExponentialSmoothing(trend=ModelMode.ADDITIVE, damped=False, seasonal=SeasonalityMode.ADDITIVE, seasonal_periods=4\n",
      "completed: ExponentialSmoothing(trend=ModelMode.ADDITIVE, damped=False, seasonal=SeasonalityMode.ADDITIVE, seasonal_periods=4:0.3416984109990153 sec\n",
      "beginning: Auto-ARIMA\n",
      "completed: Auto-ARIMA:45.034740232998956 sec\n",
      "beginning: Theta(0.08080808080808133)\n",
      "completed: Theta(0.08080808080808133):0.05319897499975923 sec\n",
      "Combination  201 of 4170\n",
      "beginning: Naive drift model\n",
      "completed: Naive drift model:0.03699222700015525 sec\n",
      "beginning: Prophet\n"
     ]
    },
    {
     "name": "stderr",
     "output_type": "stream",
     "text": [
      "21:54:01 - cmdstanpy - INFO - Chain [1] start processing\n",
      "21:54:01 - cmdstanpy - INFO - Chain [1] done processing\n"
     ]
    },
    {
     "name": "stdout",
     "output_type": "stream",
     "text": [
      "completed: Prophet:0.7956121719998919 sec\n",
      "True\n",
      "beginning: ExponentialSmoothing(trend=ModelMode.ADDITIVE, damped=False, seasonal=SeasonalityMode.ADDITIVE, seasonal_periods=3\n",
      "completed: ExponentialSmoothing(trend=ModelMode.ADDITIVE, damped=False, seasonal=SeasonalityMode.ADDITIVE, seasonal_periods=3:0.32853060200068285 sec\n",
      "beginning: Auto-ARIMA\n",
      "completed: Auto-ARIMA:44.54705977500089 sec\n",
      "beginning: Theta(0.08080808080808133)\n",
      "completed: Theta(0.08080808080808133):0.05241868600023736 sec\n",
      "Combination  202 of 4170\n",
      "beginning: Naive drift model\n",
      "completed: Naive drift model:0.03657256699989375 sec\n",
      "beginning: Prophet\n"
     ]
    },
    {
     "name": "stderr",
     "output_type": "stream",
     "text": [
      "21:54:50 - cmdstanpy - INFO - Chain [1] start processing\n",
      "21:54:50 - cmdstanpy - INFO - Chain [1] done processing\n"
     ]
    },
    {
     "name": "stdout",
     "output_type": "stream",
     "text": [
      "completed: Prophet:1.0040619840001455 sec\n",
      "True\n",
      "beginning: ExponentialSmoothing(trend=ModelMode.ADDITIVE, damped=False, seasonal=SeasonalityMode.ADDITIVE, seasonal_periods=7\n",
      "completed: ExponentialSmoothing(trend=ModelMode.ADDITIVE, damped=False, seasonal=SeasonalityMode.ADDITIVE, seasonal_periods=7:0.32698313199944096 sec\n",
      "beginning: Auto-ARIMA\n",
      "completed: Auto-ARIMA:60.519307390000904 sec\n",
      "beginning: Theta(0.08080808080808133)\n",
      "completed: Theta(0.08080808080808133):0.05517951599904336 sec\n",
      "Combination  203 of 4170\n",
      "beginning: Naive drift model\n",
      "completed: Naive drift model:0.03423581800052489 sec\n",
      "beginning: Prophet\n"
     ]
    },
    {
     "name": "stderr",
     "output_type": "stream",
     "text": [
      "21:55:55 - cmdstanpy - INFO - Chain [1] start processing\n",
      "21:55:56 - cmdstanpy - INFO - Chain [1] done processing\n"
     ]
    },
    {
     "name": "stdout",
     "output_type": "stream",
     "text": [
      "completed: Prophet:0.955281358999855 sec\n",
      "True\n",
      "beginning: ExponentialSmoothing(trend=ModelMode.ADDITIVE, damped=False, seasonal=SeasonalityMode.ADDITIVE, seasonal_periods=4\n",
      "completed: ExponentialSmoothing(trend=ModelMode.ADDITIVE, damped=False, seasonal=SeasonalityMode.ADDITIVE, seasonal_periods=4:0.33077663199946983 sec\n",
      "beginning: Auto-ARIMA\n",
      "completed: Auto-ARIMA:45.000068495999585 sec\n",
      "beginning: Theta(0.08080808080808133)\n",
      "completed: Theta(0.08080808080808133):0.054765474998930586 sec\n",
      "Combination  204 of 4170\n",
      "beginning: Naive drift model\n",
      "completed: Naive drift model:0.034776667000187445 sec\n",
      "beginning: Prophet\n"
     ]
    },
    {
     "name": "stderr",
     "output_type": "stream",
     "text": [
      "21:56:45 - cmdstanpy - INFO - Chain [1] start processing\n",
      "21:56:45 - cmdstanpy - INFO - Chain [1] done processing\n"
     ]
    },
    {
     "name": "stdout",
     "output_type": "stream",
     "text": [
      "completed: Prophet:0.7168780989995867 sec\n",
      "True\n",
      "beginning: ExponentialSmoothing(trend=ModelMode.ADDITIVE, damped=False, seasonal=SeasonalityMode.ADDITIVE, seasonal_periods=7\n",
      "completed: ExponentialSmoothing(trend=ModelMode.ADDITIVE, damped=False, seasonal=SeasonalityMode.ADDITIVE, seasonal_periods=7:0.3346817509991524 sec\n",
      "beginning: Auto-ARIMA\n",
      "completed: Auto-ARIMA:62.85473929 sec\n",
      "beginning: Theta(-0.1212121212121211)\n",
      "completed: Theta(-0.1212121212121211):0.06365321500015853 sec\n",
      "Combination  205 of 4170\n",
      "beginning: Naive drift model\n",
      "completed: Naive drift model:0.03556573700006993 sec\n",
      "beginning: Prophet\n"
     ]
    },
    {
     "name": "stderr",
     "output_type": "stream",
     "text": [
      "21:57:52 - cmdstanpy - INFO - Chain [1] start processing\n",
      "21:57:52 - cmdstanpy - INFO - Chain [1] done processing\n"
     ]
    },
    {
     "name": "stdout",
     "output_type": "stream",
     "text": [
      "completed: Prophet:1.0631339480005408 sec\n",
      "True\n",
      "beginning: ExponentialSmoothing(trend=ModelMode.ADDITIVE, damped=False, seasonal=SeasonalityMode.ADDITIVE, seasonal_periods=7\n",
      "completed: ExponentialSmoothing(trend=ModelMode.ADDITIVE, damped=False, seasonal=SeasonalityMode.ADDITIVE, seasonal_periods=7:0.3232327349996922 sec\n",
      "beginning: Auto-ARIMA\n",
      "completed: Auto-ARIMA:86.57544005099953 sec\n",
      "beginning: Theta(-0.1212121212121211)\n",
      "completed: Theta(-0.1212121212121211):0.05234952599857934 sec\n",
      "Combination  206 of 4170\n",
      "beginning: Naive drift model\n",
      "completed: Naive drift model:0.0348495569996885 sec\n",
      "beginning: Prophet\n"
     ]
    },
    {
     "name": "stderr",
     "output_type": "stream",
     "text": [
      "21:59:23 - cmdstanpy - INFO - Chain [1] start processing\n",
      "21:59:24 - cmdstanpy - INFO - Chain [1] done processing\n"
     ]
    },
    {
     "name": "stdout",
     "output_type": "stream",
     "text": [
      "completed: Prophet:0.8111854380003933 sec\n",
      "True\n",
      "beginning: ExponentialSmoothing(trend=ModelMode.ADDITIVE, damped=False, seasonal=SeasonalityMode.ADDITIVE, seasonal_periods=7\n",
      "completed: ExponentialSmoothing(trend=ModelMode.ADDITIVE, damped=False, seasonal=SeasonalityMode.ADDITIVE, seasonal_periods=7:0.32847347399911087 sec\n",
      "beginning: Auto-ARIMA\n",
      "completed: Auto-ARIMA:74.5304366190012 sec\n",
      "beginning: Theta(0.08080808080808133)\n",
      "completed: Theta(0.08080808080808133):0.05472484500023711 sec\n",
      "Combination  207 of 4170\n",
      "beginning: Naive drift model\n",
      "completed: Naive drift model:0.03917040699889185 sec\n",
      "beginning: Prophet\n"
     ]
    },
    {
     "name": "stderr",
     "output_type": "stream",
     "text": [
      "22:00:42 - cmdstanpy - INFO - Chain [1] start processing\n",
      "22:00:43 - cmdstanpy - INFO - Chain [1] done processing\n"
     ]
    },
    {
     "name": "stdout",
     "output_type": "stream",
     "text": [
      "completed: Prophet:1.065163338000275 sec\n",
      "True\n",
      "beginning: ExponentialSmoothing(trend=ModelMode.ADDITIVE, damped=False, seasonal=SeasonalityMode.ADDITIVE, seasonal_periods=3\n",
      "completed: ExponentialSmoothing(trend=ModelMode.ADDITIVE, damped=False, seasonal=SeasonalityMode.ADDITIVE, seasonal_periods=3:0.3264368740001373 sec\n",
      "beginning: Auto-ARIMA\n",
      "completed: Auto-ARIMA:39.11800592700092 sec\n",
      "beginning: Theta(0.08080808080808133)\n",
      "completed: Theta(0.08080808080808133):0.05737723499987624 sec\n",
      "Combination  208 of 4170\n",
      "beginning: Naive drift model\n",
      "completed: Naive drift model:0.03547653699934017 sec\n",
      "beginning: Prophet\n"
     ]
    },
    {
     "name": "stderr",
     "output_type": "stream",
     "text": [
      "22:01:26 - cmdstanpy - INFO - Chain [1] start processing\n",
      "22:01:27 - cmdstanpy - INFO - Chain [1] done processing\n"
     ]
    },
    {
     "name": "stdout",
     "output_type": "stream",
     "text": [
      "completed: Prophet:0.7898109390007448 sec\n",
      "True\n",
      "beginning: ExponentialSmoothing(trend=ModelMode.ADDITIVE, damped=False, seasonal=SeasonalityMode.ADDITIVE, seasonal_periods=14\n",
      "completed: ExponentialSmoothing(trend=ModelMode.ADDITIVE, damped=False, seasonal=SeasonalityMode.ADDITIVE, seasonal_periods=14:0.33965007299957506 sec\n",
      "beginning: Auto-ARIMA\n",
      "completed: Auto-ARIMA:474.2180631190022 sec\n",
      "beginning: Theta(-0.1212121212121211)\n",
      "completed: Theta(-0.1212121212121211):0.058053475000633625 sec\n",
      "Combination  209 of 4170\n",
      "beginning: Naive drift model\n"
     ]
    },
    {
     "name": "stderr",
     "output_type": "stream",
     "text": [
      "22:09:25 - cmdstanpy - INFO - Chain [1] start processing\n"
     ]
    },
    {
     "name": "stdout",
     "output_type": "stream",
     "text": [
      "completed: Naive drift model:0.03962618700097664 sec\n",
      "beginning: Prophet\n"
     ]
    },
    {
     "name": "stderr",
     "output_type": "stream",
     "text": [
      "22:09:25 - cmdstanpy - INFO - Chain [1] done processing\n"
     ]
    },
    {
     "name": "stdout",
     "output_type": "stream",
     "text": [
      "completed: Prophet:0.7643749509988993 sec\n",
      "True\n",
      "beginning: ExponentialSmoothing(trend=ModelMode.ADDITIVE, damped=False, seasonal=SeasonalityMode.ADDITIVE, seasonal_periods=5\n",
      "completed: ExponentialSmoothing(trend=ModelMode.ADDITIVE, damped=False, seasonal=SeasonalityMode.ADDITIVE, seasonal_periods=5:0.32888940400152933 sec\n",
      "beginning: Auto-ARIMA\n",
      "completed: Auto-ARIMA:39.76436219799871 sec\n",
      "beginning: Theta(0.08080808080808133)\n",
      "completed: Theta(0.08080808080808133):0.05384038600095664 sec\n",
      "Combination  210 of 4170\n",
      "beginning: Naive drift model\n",
      "completed: Naive drift model:0.036541617002512794 sec\n",
      "beginning: Prophet\n"
     ]
    },
    {
     "name": "stderr",
     "output_type": "stream",
     "text": [
      "22:10:09 - cmdstanpy - INFO - Chain [1] start processing\n",
      "22:10:10 - cmdstanpy - INFO - Chain [1] done processing\n"
     ]
    },
    {
     "name": "stdout",
     "output_type": "stream",
     "text": [
      "completed: Prophet:1.0944110060008825 sec\n",
      "True\n",
      "beginning: ExponentialSmoothing(trend=ModelMode.ADDITIVE, damped=False, seasonal=SeasonalityMode.ADDITIVE, seasonal_periods=4\n",
      "completed: ExponentialSmoothing(trend=ModelMode.ADDITIVE, damped=False, seasonal=SeasonalityMode.ADDITIVE, seasonal_periods=4:0.3309197150010732 sec\n",
      "beginning: Auto-ARIMA\n",
      "completed: Auto-ARIMA:36.11651100800009 sec\n",
      "beginning: Theta(0.08080808080808133)\n",
      "completed: Theta(0.08080808080808133):0.05726908599899616 sec\n",
      "Combination  211 of 4170\n",
      "beginning: Naive drift model\n",
      "completed: Naive drift model:0.035504357001627795 sec\n",
      "beginning: Prophet\n"
     ]
    },
    {
     "name": "stderr",
     "output_type": "stream",
     "text": [
      "22:10:50 - cmdstanpy - INFO - Chain [1] start processing\n",
      "22:10:51 - cmdstanpy - INFO - Chain [1] done processing\n"
     ]
    },
    {
     "name": "stdout",
     "output_type": "stream",
     "text": [
      "completed: Prophet:0.7789594000023499 sec\n",
      "True\n",
      "beginning: ExponentialSmoothing(trend=ModelMode.ADDITIVE, damped=False, seasonal=SeasonalityMode.ADDITIVE, seasonal_periods=7\n",
      "completed: ExponentialSmoothing(trend=ModelMode.ADDITIVE, damped=False, seasonal=SeasonalityMode.ADDITIVE, seasonal_periods=7:0.3266383539994422 sec\n",
      "beginning: Auto-ARIMA\n",
      "completed: Auto-ARIMA:68.67050323099829 sec\n",
      "beginning: Theta(0.08080808080808133)\n",
      "completed: Theta(0.08080808080808133):0.05698807599765132 sec\n",
      "Combination  212 of 4170\n",
      "beginning: Naive drift model\n",
      "completed: Naive drift model:0.03813534700020682 sec\n",
      "beginning: Prophet\n"
     ]
    },
    {
     "name": "stderr",
     "output_type": "stream",
     "text": [
      "22:12:03 - cmdstanpy - INFO - Chain [1] start processing\n",
      "22:12:04 - cmdstanpy - INFO - Chain [1] done processing\n"
     ]
    },
    {
     "name": "stdout",
     "output_type": "stream",
     "text": [
      "completed: Prophet:0.7692449209971528 sec\n",
      "True\n",
      "beginning: ExponentialSmoothing(trend=ModelMode.ADDITIVE, damped=False, seasonal=SeasonalityMode.ADDITIVE, seasonal_periods=7\n",
      "completed: ExponentialSmoothing(trend=ModelMode.ADDITIVE, damped=False, seasonal=SeasonalityMode.ADDITIVE, seasonal_periods=7:0.32842889500170713 sec\n",
      "beginning: Auto-ARIMA\n",
      "completed: Auto-ARIMA:62.26851430399984 sec\n",
      "beginning: Theta(0.08080808080808133)\n",
      "completed: Theta(0.08080808080808133):0.05416391600010684 sec\n",
      "Combination  213 of 4170\n",
      "beginning: Naive drift model\n",
      "completed: Naive drift model:0.03577693700208329 sec\n",
      "beginning: Prophet\n"
     ]
    },
    {
     "name": "stderr",
     "output_type": "stream",
     "text": [
      "22:13:10 - cmdstanpy - INFO - Chain [1] start processing\n",
      "22:13:11 - cmdstanpy - INFO - Chain [1] done processing\n"
     ]
    },
    {
     "name": "stdout",
     "output_type": "stream",
     "text": [
      "completed: Prophet:1.118547182999464 sec\n",
      "True\n",
      "beginning: ExponentialSmoothing(trend=ModelMode.ADDITIVE, damped=False, seasonal=SeasonalityMode.ADDITIVE, seasonal_periods=7\n",
      "completed: ExponentialSmoothing(trend=ModelMode.ADDITIVE, damped=False, seasonal=SeasonalityMode.ADDITIVE, seasonal_periods=7:0.3267700350006635 sec\n",
      "beginning: Auto-ARIMA\n",
      "completed: Auto-ARIMA:62.05628436700135 sec\n",
      "beginning: Theta(-0.1212121212121211)\n",
      "completed: Theta(-0.1212121212121211):0.05570647599961376 sec\n",
      "Combination  214 of 4170\n",
      "beginning: Naive drift model\n",
      "completed: Naive drift model:0.04453483600082109 sec\n",
      "beginning: Prophet\n"
     ]
    },
    {
     "name": "stderr",
     "output_type": "stream",
     "text": [
      "22:14:17 - cmdstanpy - INFO - Chain [1] start processing\n",
      "22:14:18 - cmdstanpy - INFO - Chain [1] done processing\n"
     ]
    },
    {
     "name": "stdout",
     "output_type": "stream",
     "text": [
      "completed: Prophet:0.9537571870023385 sec\n",
      "True\n",
      "beginning: ExponentialSmoothing(trend=ModelMode.ADDITIVE, damped=False, seasonal=SeasonalityMode.ADDITIVE, seasonal_periods=7\n",
      "completed: ExponentialSmoothing(trend=ModelMode.ADDITIVE, damped=False, seasonal=SeasonalityMode.ADDITIVE, seasonal_periods=7:0.3386220639986277 sec\n",
      "beginning: Auto-ARIMA\n",
      "completed: Auto-ARIMA:62.97192242899837 sec\n",
      "beginning: Theta(-0.1212121212121211)\n",
      "completed: Theta(-0.1212121212121211):0.05346545599968522 sec\n",
      "Combination  215 of 4170\n",
      "beginning: Naive drift model\n",
      "completed: Naive drift model:0.03534873700118624 sec\n",
      "beginning: Prophet\n"
     ]
    },
    {
     "name": "stderr",
     "output_type": "stream",
     "text": [
      "22:15:25 - cmdstanpy - INFO - Chain [1] start processing\n",
      "22:15:25 - cmdstanpy - INFO - Chain [1] done processing\n"
     ]
    },
    {
     "name": "stdout",
     "output_type": "stream",
     "text": [
      "completed: Prophet:1.0635460689991305 sec\n",
      "True\n",
      "beginning: ExponentialSmoothing(trend=ModelMode.ADDITIVE, damped=False, seasonal=SeasonalityMode.ADDITIVE, seasonal_periods=7\n",
      "completed: ExponentialSmoothing(trend=ModelMode.ADDITIVE, damped=False, seasonal=SeasonalityMode.ADDITIVE, seasonal_periods=7:0.3312360449999687 sec\n",
      "beginning: Auto-ARIMA\n",
      "completed: Auto-ARIMA:64.86722599399945 sec\n",
      "beginning: Theta(0.28282828282828376)\n",
      "completed: Theta(0.28282828282828376):0.057462736000161385 sec\n",
      "Combination  216 of 4170\n",
      "beginning: Naive drift model\n",
      "completed: Naive drift model:0.040473387001839 sec\n",
      "beginning: Prophet\n"
     ]
    },
    {
     "name": "stderr",
     "output_type": "stream",
     "text": [
      "22:16:35 - cmdstanpy - INFO - Chain [1] start processing\n",
      "22:16:35 - cmdstanpy - INFO - Chain [1] done processing\n"
     ]
    },
    {
     "name": "stdout",
     "output_type": "stream",
     "text": [
      "completed: Prophet:0.8372156859986717 sec\n",
      "True\n",
      "beginning: ExponentialSmoothing(trend=ModelMode.ADDITIVE, damped=False, seasonal=SeasonalityMode.ADDITIVE, seasonal_periods=6\n",
      "completed: ExponentialSmoothing(trend=ModelMode.ADDITIVE, damped=False, seasonal=SeasonalityMode.ADDITIVE, seasonal_periods=6:0.33478779399956693 sec\n",
      "beginning: Auto-ARIMA\n",
      "completed: Auto-ARIMA:52.00435527599984 sec\n",
      "beginning: Theta(0.28282828282828376)\n",
      "completed: Theta(0.28282828282828376):0.054257765998045215 sec\n",
      "Combination  217 of 4170\n",
      "beginning: Naive drift model\n",
      "completed: Naive drift model:0.03687776700098766 sec\n",
      "beginning: Prophet\n"
     ]
    },
    {
     "name": "stderr",
     "output_type": "stream",
     "text": [
      "22:17:31 - cmdstanpy - INFO - Chain [1] start processing\n",
      "22:17:32 - cmdstanpy - INFO - Chain [1] done processing\n"
     ]
    },
    {
     "name": "stdout",
     "output_type": "stream",
     "text": [
      "completed: Prophet:0.7826455709982838 sec\n",
      "True\n",
      "beginning: ExponentialSmoothing(trend=ModelMode.ADDITIVE, damped=False, seasonal=SeasonalityMode.ADDITIVE, seasonal_periods=7\n",
      "completed: ExponentialSmoothing(trend=ModelMode.ADDITIVE, damped=False, seasonal=SeasonalityMode.ADDITIVE, seasonal_periods=7:0.30561027599833324 sec\n",
      "beginning: Auto-ARIMA\n",
      "completed: Auto-ARIMA:42.18351947799965 sec\n",
      "beginning: Theta(0.28282828282828376)\n",
      "completed: Theta(0.28282828282828376):0.05409811600111425 sec\n",
      "Combination  218 of 4170\n",
      "beginning: Naive drift model\n",
      "completed: Naive drift model:0.03642138699797215 sec\n",
      "beginning: Prophet\n"
     ]
    },
    {
     "name": "stderr",
     "output_type": "stream",
     "text": [
      "22:18:18 - cmdstanpy - INFO - Chain [1] start processing\n",
      "22:18:19 - cmdstanpy - INFO - Chain [1] done processing\n"
     ]
    },
    {
     "name": "stdout",
     "output_type": "stream",
     "text": [
      "completed: Prophet:1.1630716209983802 sec\n",
      "True\n",
      "beginning: ExponentialSmoothing(trend=ModelMode.ADDITIVE, damped=False, seasonal=SeasonalityMode.ADDITIVE, seasonal_periods=3\n",
      "completed: ExponentialSmoothing(trend=ModelMode.ADDITIVE, damped=False, seasonal=SeasonalityMode.ADDITIVE, seasonal_periods=3:0.30817654600105016 sec\n",
      "beginning: Auto-ARIMA\n",
      "completed: Auto-ARIMA:37.01901053199981 sec\n",
      "beginning: Theta(-0.32323232323232354)\n",
      "completed: Theta(-0.32323232323232354):0.05447549599921331 sec\n",
      "Combination  219 of 4170\n",
      "beginning: Naive drift model\n",
      "completed: Naive drift model:0.035265256999991834 sec\n",
      "beginning: Prophet\n"
     ]
    },
    {
     "name": "stderr",
     "output_type": "stream",
     "text": [
      "22:19:00 - cmdstanpy - INFO - Chain [1] start processing\n",
      "22:19:01 - cmdstanpy - INFO - Chain [1] done processing\n"
     ]
    },
    {
     "name": "stdout",
     "output_type": "stream",
     "text": [
      "completed: Prophet:0.8448604860022897 sec\n",
      "True\n",
      "beginning: ExponentialSmoothing(trend=ModelMode.ADDITIVE, damped=False, seasonal=SeasonalityMode.ADDITIVE, seasonal_periods=4\n",
      "completed: ExponentialSmoothing(trend=ModelMode.ADDITIVE, damped=False, seasonal=SeasonalityMode.ADDITIVE, seasonal_periods=4:0.3142280659994867 sec\n",
      "beginning: Auto-ARIMA\n",
      "completed: Auto-ARIMA:48.71035324799959 sec\n",
      "beginning: Theta(-0.1212121212121211)\n",
      "completed: Theta(-0.1212121212121211):0.052567175996955484 sec\n",
      "Combination  220 of 4170\n",
      "beginning: Naive drift model\n",
      "completed: Naive drift model:0.03865773700090358 sec\n",
      "beginning: Prophet\n"
     ]
    },
    {
     "name": "stderr",
     "output_type": "stream",
     "text": [
      "22:19:54 - cmdstanpy - INFO - Chain [1] start processing\n",
      "22:19:54 - cmdstanpy - INFO - Chain [1] done processing\n"
     ]
    },
    {
     "name": "stdout",
     "output_type": "stream",
     "text": [
      "completed: Prophet:0.7648292509984458 sec\n",
      "True\n",
      "beginning: ExponentialSmoothing(trend=ModelMode.ADDITIVE, damped=False, seasonal=SeasonalityMode.ADDITIVE, seasonal_periods=7\n",
      "completed: ExponentialSmoothing(trend=ModelMode.ADDITIVE, damped=False, seasonal=SeasonalityMode.ADDITIVE, seasonal_periods=7:0.3217193860000407 sec\n",
      "beginning: Auto-ARIMA\n",
      "completed: Auto-ARIMA:79.05613086999801 sec\n",
      "beginning: Theta(-0.1212121212121211)\n",
      "completed: Theta(-0.1212121212121211):0.05502266500116093 sec\n",
      "Combination  221 of 4170\n",
      "beginning: Naive drift model\n",
      "completed: Naive drift model:0.042018876996735344 sec\n",
      "beginning: Prophet\n"
     ]
    },
    {
     "name": "stderr",
     "output_type": "stream",
     "text": [
      "22:21:17 - cmdstanpy - INFO - Chain [1] start processing\n",
      "22:21:18 - cmdstanpy - INFO - Chain [1] done processing\n"
     ]
    },
    {
     "name": "stdout",
     "output_type": "stream",
     "text": [
      "completed: Prophet:1.0083375129979686 sec\n",
      "True\n",
      "beginning: ExponentialSmoothing(trend=ModelMode.ADDITIVE, damped=False, seasonal=SeasonalityMode.ADDITIVE, seasonal_periods=3\n",
      "completed: ExponentialSmoothing(trend=ModelMode.ADDITIVE, damped=False, seasonal=SeasonalityMode.ADDITIVE, seasonal_periods=3:0.32101120600054855 sec\n",
      "beginning: Auto-ARIMA\n",
      "completed: Auto-ARIMA:47.85878343300283 sec\n",
      "beginning: Theta(0.08080808080808133)\n",
      "completed: Theta(0.08080808080808133):0.055311435000476195 sec\n",
      "Combination  222 of 4170\n",
      "beginning: Naive drift model\n",
      "completed: Naive drift model:0.034673907997785136 sec\n",
      "beginning: Prophet\n"
     ]
    },
    {
     "name": "stderr",
     "output_type": "stream",
     "text": [
      "22:22:10 - cmdstanpy - INFO - Chain [1] start processing\n",
      "22:22:10 - cmdstanpy - INFO - Chain [1] done processing\n"
     ]
    },
    {
     "name": "stdout",
     "output_type": "stream",
     "text": [
      "completed: Prophet:0.8189510280026298 sec\n",
      "True\n",
      "beginning: ExponentialSmoothing(trend=ModelMode.ADDITIVE, damped=False, seasonal=SeasonalityMode.ADDITIVE, seasonal_periods=3\n",
      "completed: ExponentialSmoothing(trend=ModelMode.ADDITIVE, damped=False, seasonal=SeasonalityMode.ADDITIVE, seasonal_periods=3:0.3176496460000635 sec\n",
      "beginning: Auto-ARIMA\n",
      "completed: Auto-ARIMA:31.472958124999423 sec\n",
      "beginning: Theta(-0.1212121212121211)\n",
      "completed: Theta(-0.1212121212121211):0.056027734997769585 sec\n",
      "Combination  223 of 4170\n",
      "beginning: Naive drift model\n",
      "completed: Naive drift model:0.0402705970009265 sec\n",
      "beginning: Prophet\n"
     ]
    },
    {
     "name": "stderr",
     "output_type": "stream",
     "text": [
      "22:22:46 - cmdstanpy - INFO - Chain [1] start processing\n",
      "22:22:46 - cmdstanpy - INFO - Chain [1] done processing\n"
     ]
    },
    {
     "name": "stdout",
     "output_type": "stream",
     "text": [
      "completed: Prophet:0.8055144279969682 sec\n",
      "True\n",
      "beginning: ExponentialSmoothing(trend=ModelMode.ADDITIVE, damped=False, seasonal=SeasonalityMode.ADDITIVE, seasonal_periods=4\n",
      "completed: ExponentialSmoothing(trend=ModelMode.ADDITIVE, damped=False, seasonal=SeasonalityMode.ADDITIVE, seasonal_periods=4:0.3262478850010666 sec\n",
      "beginning: Auto-ARIMA\n",
      "completed: Auto-ARIMA:38.32767339199927 sec\n",
      "beginning: Theta(0.08080808080808133)\n",
      "completed: Theta(0.08080808080808133):0.05315652599892928 sec\n",
      "Combination  224 of 4170\n",
      "beginning: Naive drift model\n",
      "completed: Naive drift model:0.03555641799903242 sec\n",
      "beginning: Prophet\n"
     ]
    },
    {
     "name": "stderr",
     "output_type": "stream",
     "text": [
      "22:23:29 - cmdstanpy - INFO - Chain [1] start processing\n",
      "22:23:29 - cmdstanpy - INFO - Chain [1] done processing\n"
     ]
    },
    {
     "name": "stdout",
     "output_type": "stream",
     "text": [
      "completed: Prophet:1.008571492999181 sec\n",
      "True\n",
      "beginning: ExponentialSmoothing(trend=ModelMode.ADDITIVE, damped=False, seasonal=SeasonalityMode.ADDITIVE, seasonal_periods=4\n",
      "completed: ExponentialSmoothing(trend=ModelMode.ADDITIVE, damped=False, seasonal=SeasonalityMode.ADDITIVE, seasonal_periods=4:0.33054700499997125 sec\n",
      "beginning: Auto-ARIMA\n",
      "completed: Auto-ARIMA:42.79955190000328 sec\n",
      "beginning: Theta(0.28282828282828376)\n",
      "completed: Theta(0.28282828282828376):0.05397109600016847 sec\n",
      "Combination  225 of 4170\n",
      "beginning: Naive drift model\n",
      "completed: Naive drift model:0.03624048699930427 sec\n",
      "beginning: Prophet\n"
     ]
    },
    {
     "name": "stderr",
     "output_type": "stream",
     "text": [
      "22:24:16 - cmdstanpy - INFO - Chain [1] start processing\n",
      "22:24:16 - cmdstanpy - INFO - Chain [1] done processing\n"
     ]
    },
    {
     "name": "stdout",
     "output_type": "stream",
     "text": [
      "completed: Prophet:0.8032675579997886 sec\n",
      "True\n",
      "beginning: ExponentialSmoothing(trend=ModelMode.ADDITIVE, damped=False, seasonal=SeasonalityMode.ADDITIVE, seasonal_periods=6\n",
      "completed: ExponentialSmoothing(trend=ModelMode.ADDITIVE, damped=False, seasonal=SeasonalityMode.ADDITIVE, seasonal_periods=6:0.3271095449999848 sec\n",
      "beginning: Auto-ARIMA\n",
      "completed: Auto-ARIMA:73.02895270999943 sec\n",
      "beginning: Theta(-0.1212121212121211)\n",
      "completed: Theta(-0.1212121212121211):0.05694541599950753 sec\n",
      "Combination  226 of 4170\n",
      "beginning: Naive drift model\n",
      "completed: Naive drift model:0.0361768069997197 sec\n",
      "beginning: Prophet\n"
     ]
    },
    {
     "name": "stderr",
     "output_type": "stream",
     "text": [
      "22:25:34 - cmdstanpy - INFO - Chain [1] start processing\n",
      "22:25:34 - cmdstanpy - INFO - Chain [1] done processing\n"
     ]
    },
    {
     "name": "stdout",
     "output_type": "stream",
     "text": [
      "completed: Prophet:1.167160780998529 sec\n",
      "True\n",
      "beginning: ExponentialSmoothing(trend=ModelMode.ADDITIVE, damped=False, seasonal=SeasonalityMode.ADDITIVE, seasonal_periods=7\n",
      "completed: ExponentialSmoothing(trend=ModelMode.ADDITIVE, damped=False, seasonal=SeasonalityMode.ADDITIVE, seasonal_periods=7:0.334385273999942 sec\n",
      "beginning: Auto-ARIMA\n",
      "completed: Auto-ARIMA:57.283314278000034 sec\n",
      "beginning: Theta(0.08080808080808133)\n",
      "completed: Theta(0.08080808080808133):0.05424155600121594 sec\n",
      "Combination  227 of 4170\n",
      "beginning: Naive drift model\n",
      "completed: Naive drift model:0.03509208700052113 sec\n",
      "beginning: Prophet\n"
     ]
    },
    {
     "name": "stderr",
     "output_type": "stream",
     "text": [
      "22:26:36 - cmdstanpy - INFO - Chain [1] start processing\n",
      "22:26:36 - cmdstanpy - INFO - Chain [1] done processing\n"
     ]
    },
    {
     "name": "stdout",
     "output_type": "stream",
     "text": [
      "completed: Prophet:0.7846102799994696 sec\n",
      "True\n",
      "beginning: ExponentialSmoothing(trend=ModelMode.ADDITIVE, damped=False, seasonal=SeasonalityMode.ADDITIVE, seasonal_periods=7\n",
      "completed: ExponentialSmoothing(trend=ModelMode.ADDITIVE, damped=False, seasonal=SeasonalityMode.ADDITIVE, seasonal_periods=7:0.34832483300124295 sec\n",
      "beginning: Auto-ARIMA\n",
      "completed: Auto-ARIMA:55.383020579000004 sec\n",
      "beginning: Theta(0.08080808080808133)\n",
      "completed: Theta(0.08080808080808133):0.059120146001077956 sec\n",
      "Combination  228 of 4170\n",
      "beginning: Naive drift model\n",
      "completed: Naive drift model:0.03577088800011552 sec\n",
      "beginning: Prophet\n"
     ]
    },
    {
     "name": "stderr",
     "output_type": "stream",
     "text": [
      "22:27:36 - cmdstanpy - INFO - Chain [1] start processing\n",
      "22:27:36 - cmdstanpy - INFO - Chain [1] done processing\n"
     ]
    },
    {
     "name": "stdout",
     "output_type": "stream",
     "text": [
      "completed: Prophet:0.9129247509990819 sec\n",
      "True\n",
      "beginning: ExponentialSmoothing(trend=ModelMode.ADDITIVE, damped=False, seasonal=SeasonalityMode.ADDITIVE, seasonal_periods=6\n",
      "completed: ExponentialSmoothing(trend=ModelMode.ADDITIVE, damped=False, seasonal=SeasonalityMode.ADDITIVE, seasonal_periods=6:0.3298109339993971 sec\n",
      "beginning: Auto-ARIMA\n",
      "completed: Auto-ARIMA:44.92579230800038 sec\n",
      "beginning: Theta(0.08080808080808133)\n",
      "completed: Theta(0.08080808080808133):0.055545815001096344 sec\n",
      "Combination  229 of 4170\n",
      "beginning: Naive drift model\n",
      "completed: Naive drift model:0.0370208870008355 sec\n",
      "beginning: Prophet\n"
     ]
    },
    {
     "name": "stderr",
     "output_type": "stream",
     "text": [
      "22:28:26 - cmdstanpy - INFO - Chain [1] start processing\n",
      "22:28:26 - cmdstanpy - INFO - Chain [1] done processing\n"
     ]
    },
    {
     "name": "stdout",
     "output_type": "stream",
     "text": [
      "completed: Prophet:1.0336006309989898 sec\n",
      "True\n",
      "beginning: ExponentialSmoothing(trend=ModelMode.ADDITIVE, damped=False, seasonal=SeasonalityMode.ADDITIVE, seasonal_periods=7\n",
      "completed: ExponentialSmoothing(trend=ModelMode.ADDITIVE, damped=False, seasonal=SeasonalityMode.ADDITIVE, seasonal_periods=7:0.33707615400271607 sec\n",
      "beginning: Auto-ARIMA\n",
      "completed: Auto-ARIMA:52.33384906199717 sec\n",
      "beginning: Theta(-0.1212121212121211)\n",
      "completed: Theta(-0.1212121212121211):0.054858505998709006 sec\n",
      "Combination  230 of 4170\n",
      "beginning: Naive drift model\n",
      "completed: Naive drift model:0.03573229699759395 sec\n",
      "beginning: Prophet\n"
     ]
    },
    {
     "name": "stderr",
     "output_type": "stream",
     "text": [
      "22:29:23 - cmdstanpy - INFO - Chain [1] start processing\n",
      "22:29:23 - cmdstanpy - INFO - Chain [1] done processing\n"
     ]
    },
    {
     "name": "stdout",
     "output_type": "stream",
     "text": [
      "completed: Prophet:0.8241517360002035 sec\n",
      "True\n",
      "beginning: ExponentialSmoothing(trend=ModelMode.ADDITIVE, damped=False, seasonal=SeasonalityMode.ADDITIVE, seasonal_periods=7\n",
      "completed: ExponentialSmoothing(trend=ModelMode.ADDITIVE, damped=False, seasonal=SeasonalityMode.ADDITIVE, seasonal_periods=7:0.32677035500091733 sec\n",
      "beginning: Auto-ARIMA\n",
      "completed: Auto-ARIMA:72.5478369170014 sec\n",
      "beginning: Theta(-0.1212121212121211)\n",
      "completed: Theta(-0.1212121212121211):0.06364792500244221 sec\n",
      "Combination  231 of 4170\n",
      "beginning: Naive drift model\n",
      "completed: Naive drift model:0.03622605700002168 sec\n",
      "beginning: Prophet\n"
     ]
    },
    {
     "name": "stderr",
     "output_type": "stream",
     "text": [
      "22:30:40 - cmdstanpy - INFO - Chain [1] start processing\n",
      "22:30:40 - cmdstanpy - INFO - Chain [1] done processing\n"
     ]
    },
    {
     "name": "stdout",
     "output_type": "stream",
     "text": [
      "completed: Prophet:0.7881858399996418 sec\n",
      "True\n",
      "beginning: ExponentialSmoothing(trend=ModelMode.ADDITIVE, damped=False, seasonal=SeasonalityMode.ADDITIVE, seasonal_periods=7\n",
      "completed: ExponentialSmoothing(trend=ModelMode.ADDITIVE, damped=False, seasonal=SeasonalityMode.ADDITIVE, seasonal_periods=7:0.3287041750008939 sec\n",
      "beginning: Auto-ARIMA\n",
      "completed: Auto-ARIMA:63.43713992499761 sec\n",
      "beginning: Theta(0.08080808080808133)\n",
      "completed: Theta(0.08080808080808133):0.05887912599791889 sec\n",
      "Combination  232 of 4170\n",
      "beginning: Naive drift model\n",
      "completed: Naive drift model:0.037802206999913324 sec\n",
      "beginning: Prophet\n"
     ]
    },
    {
     "name": "stderr",
     "output_type": "stream",
     "text": [
      "22:31:48 - cmdstanpy - INFO - Chain [1] start processing\n",
      "22:31:48 - cmdstanpy - INFO - Chain [1] done processing\n"
     ]
    },
    {
     "name": "stdout",
     "output_type": "stream",
     "text": [
      "completed: Prophet:0.985953667001013 sec\n",
      "True\n",
      "beginning: ExponentialSmoothing(trend=ModelMode.ADDITIVE, damped=False, seasonal=SeasonalityMode.ADDITIVE, seasonal_periods=5\n",
      "completed: ExponentialSmoothing(trend=ModelMode.ADDITIVE, damped=False, seasonal=SeasonalityMode.ADDITIVE, seasonal_periods=5:0.3222874060011236 sec\n",
      "beginning: Auto-ARIMA\n",
      "completed: Auto-ARIMA:58.01939385400328 sec\n",
      "beginning: Theta(0.08080808080808133)\n",
      "completed: Theta(0.08080808080808133):0.059100864997162716 sec\n",
      "Combination  233 of 4170\n",
      "beginning: Naive drift model\n",
      "completed: Naive drift model:0.035968426996987546 sec\n",
      "beginning: Prophet\n"
     ]
    },
    {
     "name": "stderr",
     "output_type": "stream",
     "text": [
      "22:32:51 - cmdstanpy - INFO - Chain [1] start processing\n",
      "22:32:51 - cmdstanpy - INFO - Chain [1] done processing\n"
     ]
    },
    {
     "name": "stdout",
     "output_type": "stream",
     "text": [
      "completed: Prophet:0.7892962410005566 sec\n",
      "True\n",
      "beginning: ExponentialSmoothing(trend=ModelMode.ADDITIVE, damped=False, seasonal=SeasonalityMode.ADDITIVE, seasonal_periods=5\n",
      "completed: ExponentialSmoothing(trend=ModelMode.ADDITIVE, damped=False, seasonal=SeasonalityMode.ADDITIVE, seasonal_periods=5:0.3307806459997664 sec\n",
      "beginning: Auto-ARIMA\n",
      "completed: Auto-ARIMA:38.60209728799964 sec\n",
      "beginning: Theta(0.08080808080808133)\n",
      "completed: Theta(0.08080808080808133):0.05291344600118464 sec\n",
      "Combination  234 of 4170\n",
      "beginning: Naive drift model\n",
      "completed: Naive drift model:0.0400851070007775 sec\n",
      "beginning: Prophet\n"
     ]
    },
    {
     "name": "stderr",
     "output_type": "stream",
     "text": [
      "22:33:34 - cmdstanpy - INFO - Chain [1] start processing\n",
      "22:33:34 - cmdstanpy - INFO - Chain [1] done processing\n"
     ]
    },
    {
     "name": "stdout",
     "output_type": "stream",
     "text": [
      "completed: Prophet:0.8893296629976248 sec\n",
      "True\n",
      "beginning: ExponentialSmoothing(trend=ModelMode.ADDITIVE, damped=False, seasonal=SeasonalityMode.ADDITIVE, seasonal_periods=5\n",
      "completed: ExponentialSmoothing(trend=ModelMode.ADDITIVE, damped=False, seasonal=SeasonalityMode.ADDITIVE, seasonal_periods=5:0.3333362750017841 sec\n",
      "beginning: Auto-ARIMA\n",
      "completed: Auto-ARIMA:70.18443647300228 sec\n",
      "beginning: Theta(-0.1212121212121211)\n",
      "completed: Theta(-0.1212121212121211):0.05369852600051672 sec\n",
      "Combination  235 of 4170\n",
      "beginning: Naive drift model\n",
      "completed: Naive drift model:0.03953374699995038 sec\n",
      "beginning: Prophet\n"
     ]
    },
    {
     "name": "stderr",
     "output_type": "stream",
     "text": [
      "22:34:49 - cmdstanpy - INFO - Chain [1] start processing\n",
      "22:34:49 - cmdstanpy - INFO - Chain [1] done processing\n"
     ]
    },
    {
     "name": "stdout",
     "output_type": "stream",
     "text": [
      "completed: Prophet:1.0378012720029801 sec\n",
      "True\n",
      "beginning: ExponentialSmoothing(trend=ModelMode.ADDITIVE, damped=False, seasonal=SeasonalityMode.ADDITIVE, seasonal_periods=6\n",
      "completed: ExponentialSmoothing(trend=ModelMode.ADDITIVE, damped=False, seasonal=SeasonalityMode.ADDITIVE, seasonal_periods=6:0.3339943049977592 sec\n",
      "beginning: Auto-ARIMA\n",
      "completed: Auto-ARIMA:50.06125226000222 sec\n",
      "beginning: Theta(-0.1212121212121211)\n",
      "completed: Theta(-0.1212121212121211):0.05289530599839054 sec\n",
      "Combination  236 of 4170\n",
      "beginning: Naive drift model\n",
      "completed: Naive drift model:0.0347956969999359 sec\n",
      "beginning: Prophet\n"
     ]
    },
    {
     "name": "stderr",
     "output_type": "stream",
     "text": [
      "22:35:43 - cmdstanpy - INFO - Chain [1] start processing\n",
      "22:35:44 - cmdstanpy - INFO - Chain [1] done processing\n"
     ]
    },
    {
     "name": "stdout",
     "output_type": "stream",
     "text": [
      "completed: Prophet:0.8981429330015089 sec\n",
      "True\n",
      "beginning: ExponentialSmoothing(trend=ModelMode.ADDITIVE, damped=False, seasonal=SeasonalityMode.ADDITIVE, seasonal_periods=7\n",
      "completed: ExponentialSmoothing(trend=ModelMode.ADDITIVE, damped=False, seasonal=SeasonalityMode.ADDITIVE, seasonal_periods=7:0.33287396500236355 sec\n",
      "beginning: Auto-ARIMA\n",
      "completed: Auto-ARIMA:65.56687230800162 sec\n",
      "beginning: Theta(-0.1212121212121211)\n",
      "completed: Theta(-0.1212121212121211):0.05535860599775333 sec\n",
      "Combination  237 of 4170\n",
      "beginning: Naive drift model\n",
      "completed: Naive drift model:0.03690800800177385 sec\n",
      "beginning: Prophet\n"
     ]
    },
    {
     "name": "stderr",
     "output_type": "stream",
     "text": [
      "22:36:54 - cmdstanpy - INFO - Chain [1] start processing\n",
      "22:36:54 - cmdstanpy - INFO - Chain [1] done processing\n"
     ]
    },
    {
     "name": "stdout",
     "output_type": "stream",
     "text": [
      "completed: Prophet:0.7577669329984928 sec\n",
      "True\n",
      "beginning: ExponentialSmoothing(trend=ModelMode.ADDITIVE, damped=False, seasonal=SeasonalityMode.ADDITIVE, seasonal_periods=3\n",
      "completed: ExponentialSmoothing(trend=ModelMode.ADDITIVE, damped=False, seasonal=SeasonalityMode.ADDITIVE, seasonal_periods=3:0.32855091499732225 sec\n",
      "beginning: Auto-ARIMA\n",
      "completed: Auto-ARIMA:44.70245685199916 sec\n",
      "beginning: Theta(-0.1212121212121211)\n",
      "completed: Theta(-0.1212121212121211):0.05295371700049145 sec\n",
      "Combination  238 of 4170\n",
      "beginning: Naive drift model\n",
      "completed: Naive drift model:0.03591910699833534 sec\n",
      "beginning: Prophet\n"
     ]
    },
    {
     "name": "stderr",
     "output_type": "stream",
     "text": [
      "22:37:43 - cmdstanpy - INFO - Chain [1] start processing\n",
      "22:37:43 - cmdstanpy - INFO - Chain [1] done processing\n"
     ]
    },
    {
     "name": "stdout",
     "output_type": "stream",
     "text": [
      "completed: Prophet:0.7282572650001384 sec\n",
      "True\n",
      "beginning: ExponentialSmoothing(trend=ModelMode.ADDITIVE, damped=False, seasonal=SeasonalityMode.ADDITIVE, seasonal_periods=4\n",
      "completed: ExponentialSmoothing(trend=ModelMode.ADDITIVE, damped=False, seasonal=SeasonalityMode.ADDITIVE, seasonal_periods=4:0.3568017329998838 sec\n",
      "beginning: Auto-ARIMA\n",
      "completed: Auto-ARIMA:31.86622264199832 sec\n",
      "beginning: Theta(0.08080808080808133)\n",
      "completed: Theta(0.08080808080808133):0.05410153599950718 sec\n",
      "Combination  239 of 4170\n",
      "beginning: Naive drift model\n",
      "completed: Naive drift model:0.03482659699875512 sec\n",
      "beginning: Prophet\n"
     ]
    },
    {
     "name": "stderr",
     "output_type": "stream",
     "text": [
      "22:38:19 - cmdstanpy - INFO - Chain [1] start processing\n",
      "22:38:20 - cmdstanpy - INFO - Chain [1] done processing\n"
     ]
    },
    {
     "name": "stdout",
     "output_type": "stream",
     "text": [
      "completed: Prophet:0.8279293480009073 sec\n",
      "True\n",
      "beginning: ExponentialSmoothing(trend=ModelMode.ADDITIVE, damped=False, seasonal=SeasonalityMode.ADDITIVE, seasonal_periods=7\n",
      "completed: ExponentialSmoothing(trend=ModelMode.ADDITIVE, damped=False, seasonal=SeasonalityMode.ADDITIVE, seasonal_periods=7:0.37381136199837783 sec\n",
      "beginning: Auto-ARIMA\n",
      "completed: Auto-ARIMA:87.85161636799967 sec\n",
      "beginning: Theta(0.08080808080808133)\n",
      "completed: Theta(0.08080808080808133):0.054992845998640405 sec\n",
      "Combination  240 of 4170\n",
      "beginning: Naive drift model\n",
      "completed: Naive drift model:0.03562039700045716 sec\n",
      "beginning: Prophet\n"
     ]
    },
    {
     "name": "stderr",
     "output_type": "stream",
     "text": [
      "22:39:52 - cmdstanpy - INFO - Chain [1] start processing\n",
      "22:39:52 - cmdstanpy - INFO - Chain [1] done processing\n"
     ]
    },
    {
     "name": "stdout",
     "output_type": "stream",
     "text": [
      "completed: Prophet:1.0878679790002934 sec\n",
      "True\n",
      "beginning: ExponentialSmoothing(trend=ModelMode.ADDITIVE, damped=False, seasonal=SeasonalityMode.ADDITIVE, seasonal_periods=7\n",
      "completed: ExponentialSmoothing(trend=ModelMode.ADDITIVE, damped=False, seasonal=SeasonalityMode.ADDITIVE, seasonal_periods=7:0.33865987500030315 sec\n",
      "beginning: Auto-ARIMA\n",
      "completed: Auto-ARIMA:57.501051552997524 sec\n",
      "beginning: Theta(0.08080808080808133)\n",
      "completed: Theta(0.08080808080808133):0.054051645998697495 sec\n",
      "Combination  241 of 4170\n",
      "beginning: Naive drift model\n",
      "completed: Naive drift model:0.042828787001781166 sec\n",
      "beginning: Prophet\n"
     ]
    },
    {
     "name": "stderr",
     "output_type": "stream",
     "text": [
      "22:40:54 - cmdstanpy - INFO - Chain [1] start processing\n",
      "22:40:55 - cmdstanpy - INFO - Chain [1] done processing\n"
     ]
    },
    {
     "name": "stdout",
     "output_type": "stream",
     "text": [
      "completed: Prophet:0.785533051002858 sec\n",
      "True\n",
      "beginning: ExponentialSmoothing(trend=ModelMode.ADDITIVE, damped=False, seasonal=SeasonalityMode.ADDITIVE, seasonal_periods=7\n",
      "completed: ExponentialSmoothing(trend=ModelMode.ADDITIVE, damped=False, seasonal=SeasonalityMode.ADDITIVE, seasonal_periods=7:0.33625483499781694 sec\n",
      "beginning: Auto-ARIMA\n",
      "completed: Auto-ARIMA:61.136871409999 sec\n",
      "beginning: Theta(-5.373737373737374)\n",
      "completed: Theta(-5.373737373737374):0.05609883600118337 sec\n",
      "Combination  242 of 4170\n",
      "beginning: Naive drift model\n",
      "completed: Naive drift model:0.03569455699835089 sec\n",
      "beginning: Prophet\n"
     ]
    },
    {
     "name": "stderr",
     "output_type": "stream",
     "text": [
      "22:42:00 - cmdstanpy - INFO - Chain [1] start processing\n",
      "22:42:00 - cmdstanpy - INFO - Chain [1] done processing\n"
     ]
    },
    {
     "name": "stdout",
     "output_type": "stream",
     "text": [
      "completed: Prophet:0.7458723640011158 sec\n",
      "True\n",
      "beginning: ExponentialSmoothing(trend=ModelMode.ADDITIVE, damped=False, seasonal=SeasonalityMode.ADDITIVE, seasonal_periods=9\n",
      "completed: ExponentialSmoothing(trend=ModelMode.ADDITIVE, damped=False, seasonal=SeasonalityMode.ADDITIVE, seasonal_periods=9:0.33552260500073317 sec\n",
      "beginning: Auto-ARIMA\n",
      "completed: Auto-ARIMA:94.16594895600065 sec\n",
      "beginning: Theta(-0.1212121212121211)\n",
      "completed: Theta(-0.1212121212121211):0.05557572600082494 sec\n",
      "Combination  243 of 4170\n",
      "beginning: Naive drift model\n",
      "completed: Naive drift model:0.03658434800308896 sec\n",
      "beginning: Prophet\n"
     ]
    },
    {
     "name": "stderr",
     "output_type": "stream",
     "text": [
      "22:43:39 - cmdstanpy - INFO - Chain [1] start processing\n",
      "22:43:39 - cmdstanpy - INFO - Chain [1] done processing\n"
     ]
    },
    {
     "name": "stdout",
     "output_type": "stream",
     "text": [
      "completed: Prophet:0.9777192569999897 sec\n",
      "True\n",
      "beginning: ExponentialSmoothing(trend=ModelMode.ADDITIVE, damped=False, seasonal=SeasonalityMode.ADDITIVE, seasonal_periods=7\n",
      "completed: ExponentialSmoothing(trend=ModelMode.ADDITIVE, damped=False, seasonal=SeasonalityMode.ADDITIVE, seasonal_periods=7:0.3315988959984679 sec\n",
      "beginning: Auto-ARIMA\n",
      "completed: Auto-ARIMA:82.12973907799824 sec\n",
      "beginning: Theta(-0.32323232323232354)\n",
      "completed: Theta(-0.32323232323232354):0.05651749599928735 sec\n",
      "Combination  244 of 4170\n",
      "beginning: Naive drift model\n",
      "completed: Naive drift model:0.035098138003377244 sec\n",
      "beginning: Prophet\n"
     ]
    },
    {
     "name": "stderr",
     "output_type": "stream",
     "text": [
      "22:45:06 - cmdstanpy - INFO - Chain [1] start processing\n",
      "22:45:06 - cmdstanpy - INFO - Chain [1] done processing\n"
     ]
    },
    {
     "name": "stdout",
     "output_type": "stream",
     "text": [
      "completed: Prophet:0.730827595001756 sec\n",
      "True\n",
      "beginning: ExponentialSmoothing(trend=ModelMode.ADDITIVE, damped=False, seasonal=SeasonalityMode.ADDITIVE, seasonal_periods=5\n",
      "completed: ExponentialSmoothing(trend=ModelMode.ADDITIVE, damped=False, seasonal=SeasonalityMode.ADDITIVE, seasonal_periods=5:0.33453994499723194 sec\n",
      "beginning: Auto-ARIMA\n",
      "completed: Auto-ARIMA:55.99704627599931 sec\n",
      "beginning: Theta(-0.1212121212121211)\n",
      "completed: Theta(-0.1212121212121211):0.05398590600088937 sec\n",
      "Combination  245 of 4170\n",
      "beginning: Naive drift model\n",
      "completed: Naive drift model:0.035951947000285145 sec\n",
      "beginning: Prophet\n"
     ]
    },
    {
     "name": "stderr",
     "output_type": "stream",
     "text": [
      "22:46:06 - cmdstanpy - INFO - Chain [1] start processing\n",
      "22:46:07 - cmdstanpy - INFO - Chain [1] done processing\n"
     ]
    },
    {
     "name": "stdout",
     "output_type": "stream",
     "text": [
      "completed: Prophet:0.7108989260013914 sec\n",
      "True\n",
      "beginning: ExponentialSmoothing(trend=ModelMode.ADDITIVE, damped=False, seasonal=SeasonalityMode.ADDITIVE, seasonal_periods=4\n",
      "completed: ExponentialSmoothing(trend=ModelMode.ADDITIVE, damped=False, seasonal=SeasonalityMode.ADDITIVE, seasonal_periods=4:0.3242899260003469 sec\n",
      "beginning: Auto-ARIMA\n",
      "completed: Auto-ARIMA:45.82514227700085 sec\n",
      "beginning: Theta(-0.1212121212121211)\n",
      "completed: Theta(-0.1212121212121211):0.05469312599961995 sec\n",
      "Combination  246 of 4170\n",
      "beginning: Naive drift model\n",
      "completed: Naive drift model:0.03557831699799863 sec\n",
      "beginning: Prophet\n"
     ]
    },
    {
     "name": "stderr",
     "output_type": "stream",
     "text": [
      "22:46:57 - cmdstanpy - INFO - Chain [1] start processing\n",
      "22:46:57 - cmdstanpy - INFO - Chain [1] done processing\n"
     ]
    },
    {
     "name": "stdout",
     "output_type": "stream",
     "text": [
      "completed: Prophet:1.0912951680002152 sec\n",
      "True\n",
      "beginning: ExponentialSmoothing(trend=ModelMode.ADDITIVE, damped=False, seasonal=SeasonalityMode.ADDITIVE, seasonal_periods=5\n",
      "completed: ExponentialSmoothing(trend=ModelMode.ADDITIVE, damped=False, seasonal=SeasonalityMode.ADDITIVE, seasonal_periods=5:0.2949303179993876 sec\n",
      "beginning: Auto-ARIMA\n",
      "completed: Auto-ARIMA:46.24761478599976 sec\n",
      "beginning: Theta(-0.1212121212121211)\n",
      "completed: Theta(-0.1212121212121211):0.049844647001009434 sec\n",
      "Combination  247 of 4170\n",
      "beginning: Naive drift model\n",
      "completed: Naive drift model:0.03379513799882261 sec\n",
      "beginning: Prophet\n"
     ]
    },
    {
     "name": "stderr",
     "output_type": "stream",
     "text": [
      "22:47:48 - cmdstanpy - INFO - Chain [1] start processing\n",
      "22:47:48 - cmdstanpy - INFO - Chain [1] done processing\n"
     ]
    },
    {
     "name": "stdout",
     "output_type": "stream",
     "text": [
      "completed: Prophet:0.7907615809999697 sec\n",
      "True\n",
      "beginning: ExponentialSmoothing(trend=ModelMode.ADDITIVE, damped=False, seasonal=SeasonalityMode.ADDITIVE, seasonal_periods=7\n",
      "completed: ExponentialSmoothing(trend=ModelMode.ADDITIVE, damped=False, seasonal=SeasonalityMode.ADDITIVE, seasonal_periods=7:0.3093504569987999 sec\n",
      "beginning: Auto-ARIMA\n",
      "completed: Auto-ARIMA:53.851390629999514 sec\n",
      "beginning: Theta(11.393939393939394)\n",
      "completed: Theta(11.393939393939394):0.05343886599803227 sec\n",
      "Combination  248 of 4170\n",
      "beginning: Naive drift model\n",
      "completed: Naive drift model:0.03652463799880934 sec\n",
      "beginning: Prophet\n"
     ]
    },
    {
     "name": "stderr",
     "output_type": "stream",
     "text": [
      "22:48:46 - cmdstanpy - INFO - Chain [1] start processing\n",
      "22:48:46 - cmdstanpy - INFO - Chain [1] done processing\n"
     ]
    },
    {
     "name": "stdout",
     "output_type": "stream",
     "text": [
      "completed: Prophet:0.9109000520002155 sec\n",
      "True\n",
      "beginning: ExponentialSmoothing(trend=ModelMode.ADDITIVE, damped=False, seasonal=SeasonalityMode.ADDITIVE, seasonal_periods=4\n",
      "completed: ExponentialSmoothing(trend=ModelMode.ADDITIVE, damped=False, seasonal=SeasonalityMode.ADDITIVE, seasonal_periods=4:0.30128754699762794 sec\n",
      "beginning: Auto-ARIMA\n",
      "completed: Auto-ARIMA:42.511104004002846 sec\n",
      "beginning: Theta(0.28282828282828376)\n",
      "completed: Theta(0.28282828282828376):0.05574108500150032 sec\n",
      "Combination  249 of 4170\n",
      "beginning: Naive drift model\n",
      "completed: Naive drift model:0.035368627999559976 sec\n",
      "beginning: Prophet\n"
     ]
    },
    {
     "name": "stderr",
     "output_type": "stream",
     "text": [
      "22:49:33 - cmdstanpy - INFO - Chain [1] start processing\n",
      "22:49:33 - cmdstanpy - INFO - Chain [1] done processing\n"
     ]
    },
    {
     "name": "stdout",
     "output_type": "stream",
     "text": [
      "completed: Prophet:0.997073205999186 sec\n",
      "True\n",
      "beginning: ExponentialSmoothing(trend=ModelMode.ADDITIVE, damped=False, seasonal=SeasonalityMode.ADDITIVE, seasonal_periods=7\n",
      "completed: ExponentialSmoothing(trend=ModelMode.ADDITIVE, damped=False, seasonal=SeasonalityMode.ADDITIVE, seasonal_periods=7:0.2949631880001107 sec\n",
      "beginning: Auto-ARIMA\n",
      "completed: Auto-ARIMA:48.658543264999025 sec\n",
      "beginning: Theta(-0.1212121212121211)\n",
      "completed: Theta(-0.1212121212121211):0.0548808649982675 sec\n",
      "Combination  250 of 4170\n",
      "beginning: Naive drift model\n",
      "completed: Naive drift model:0.035518027001671726 sec\n",
      "beginning: Prophet\n"
     ]
    },
    {
     "name": "stderr",
     "output_type": "stream",
     "text": [
      "22:50:26 - cmdstanpy - INFO - Chain [1] start processing\n",
      "22:50:27 - cmdstanpy - INFO - Chain [1] done processing\n"
     ]
    },
    {
     "name": "stdout",
     "output_type": "stream",
     "text": [
      "completed: Prophet:0.8392050280017429 sec\n",
      "True\n",
      "beginning: ExponentialSmoothing(trend=ModelMode.ADDITIVE, damped=False, seasonal=SeasonalityMode.ADDITIVE, seasonal_periods=8\n",
      "completed: ExponentialSmoothing(trend=ModelMode.ADDITIVE, damped=False, seasonal=SeasonalityMode.ADDITIVE, seasonal_periods=8:0.2969332979992032 sec\n",
      "beginning: Auto-ARIMA\n",
      "completed: Auto-ARIMA:83.20141965199946 sec\n",
      "beginning: Theta(-0.1212121212121211)\n",
      "completed: Theta(-0.1212121212121211):0.05332310599987977 sec\n",
      "Combination  251 of 4170\n",
      "beginning: Naive drift model\n",
      "completed: Naive drift model:0.03839068799788947 sec\n",
      "beginning: Prophet\n"
     ]
    },
    {
     "name": "stderr",
     "output_type": "stream",
     "text": [
      "22:51:54 - cmdstanpy - INFO - Chain [1] start processing\n",
      "22:51:54 - cmdstanpy - INFO - Chain [1] done processing\n"
     ]
    },
    {
     "name": "stdout",
     "output_type": "stream",
     "text": [
      "completed: Prophet:0.9901072259999637 sec\n",
      "True\n",
      "beginning: ExponentialSmoothing(trend=ModelMode.ADDITIVE, damped=False, seasonal=SeasonalityMode.ADDITIVE, seasonal_periods=4\n",
      "completed: ExponentialSmoothing(trend=ModelMode.ADDITIVE, damped=False, seasonal=SeasonalityMode.ADDITIVE, seasonal_periods=4:0.2900866780000797 sec\n",
      "beginning: Auto-ARIMA\n",
      "completed: Auto-ARIMA:36.46908971599987 sec\n",
      "beginning: Theta(0.08080808080808133)\n",
      "completed: Theta(0.08080808080808133):0.05442014499931247 sec\n",
      "Combination  252 of 4170\n",
      "beginning: Naive drift model\n",
      "completed: Naive drift model:0.03828437799893436 sec\n",
      "beginning: Prophet\n"
     ]
    },
    {
     "name": "stderr",
     "output_type": "stream",
     "text": [
      "22:52:35 - cmdstanpy - INFO - Chain [1] start processing\n",
      "22:52:35 - cmdstanpy - INFO - Chain [1] done processing\n"
     ]
    },
    {
     "name": "stdout",
     "output_type": "stream",
     "text": [
      "completed: Prophet:0.9783311970022623 sec\n",
      "True\n",
      "beginning: ExponentialSmoothing(trend=ModelMode.ADDITIVE, damped=False, seasonal=SeasonalityMode.ADDITIVE, seasonal_periods=5\n",
      "completed: ExponentialSmoothing(trend=ModelMode.ADDITIVE, damped=False, seasonal=SeasonalityMode.ADDITIVE, seasonal_periods=5:0.2929915090026043 sec\n",
      "beginning: Auto-ARIMA\n",
      "completed: Auto-ARIMA:34.70144017700295 sec\n",
      "beginning: Theta(0.8888888888888893)\n",
      "completed: Theta(0.8888888888888893):0.05273518600006355 sec\n",
      "Combination  253 of 4170\n",
      "beginning: Naive drift model\n",
      "completed: Naive drift model:0.03552304700133391 sec\n",
      "beginning: Prophet\n"
     ]
    },
    {
     "name": "stderr",
     "output_type": "stream",
     "text": [
      "22:53:14 - cmdstanpy - INFO - Chain [1] start processing\n",
      "22:53:15 - cmdstanpy - INFO - Chain [1] done processing\n"
     ]
    },
    {
     "name": "stdout",
     "output_type": "stream",
     "text": [
      "completed: Prophet:0.7046354379999684 sec\n",
      "True\n",
      "beginning: ExponentialSmoothing(trend=ModelMode.ADDITIVE, damped=False, seasonal=SeasonalityMode.ADDITIVE, seasonal_periods=4\n",
      "completed: ExponentialSmoothing(trend=ModelMode.ADDITIVE, damped=False, seasonal=SeasonalityMode.ADDITIVE, seasonal_periods=4:0.2894666479987791 sec\n",
      "beginning: Auto-ARIMA\n",
      "completed: Auto-ARIMA:36.119447912002215 sec\n",
      "beginning: Theta(0.08080808080808133)\n",
      "completed: Theta(0.08080808080808133):0.05575647600198863 sec\n",
      "Combination  254 of 4170\n",
      "beginning: Naive drift model\n",
      "completed: Naive drift model:0.03626295799767831 sec\n",
      "beginning: Prophet\n"
     ]
    },
    {
     "name": "stderr",
     "output_type": "stream",
     "text": [
      "22:53:55 - cmdstanpy - INFO - Chain [1] start processing\n",
      "22:53:55 - cmdstanpy - INFO - Chain [1] done processing\n"
     ]
    },
    {
     "name": "stdout",
     "output_type": "stream",
     "text": [
      "completed: Prophet:0.685048788000131 sec\n",
      "True\n",
      "beginning: ExponentialSmoothing(trend=ModelMode.ADDITIVE, damped=False, seasonal=SeasonalityMode.ADDITIVE, seasonal_periods=6\n",
      "completed: ExponentialSmoothing(trend=ModelMode.ADDITIVE, damped=False, seasonal=SeasonalityMode.ADDITIVE, seasonal_periods=6:0.2962006480011041 sec\n",
      "beginning: Auto-ARIMA\n",
      "completed: Auto-ARIMA:59.82836961099747 sec\n",
      "beginning: Theta(-0.1212121212121211)\n",
      "completed: Theta(-0.1212121212121211):0.052554767000401625 sec\n",
      "Combination  255 of 4170\n",
      "beginning: Naive drift model\n",
      "completed: Naive drift model:0.034984677000466036 sec\n",
      "beginning: Prophet\n"
     ]
    },
    {
     "name": "stderr",
     "output_type": "stream",
     "text": [
      "22:54:59 - cmdstanpy - INFO - Chain [1] start processing\n",
      "22:55:00 - cmdstanpy - INFO - Chain [1] done processing\n"
     ]
    },
    {
     "name": "stdout",
     "output_type": "stream",
     "text": [
      "completed: Prophet:1.0411919319994922 sec\n",
      "True\n",
      "beginning: ExponentialSmoothing(trend=ModelMode.ADDITIVE, damped=False, seasonal=SeasonalityMode.ADDITIVE, seasonal_periods=14\n",
      "completed: ExponentialSmoothing(trend=ModelMode.ADDITIVE, damped=False, seasonal=SeasonalityMode.ADDITIVE, seasonal_periods=14:0.30129779699927894 sec\n",
      "beginning: Auto-ARIMA\n",
      "completed: Auto-ARIMA:191.04748016699887 sec\n",
      "beginning: Theta(0.8888888888888893)\n",
      "completed: Theta(0.8888888888888893):0.05149805600012769 sec\n",
      "Combination  256 of 4170\n",
      "beginning: Naive drift model\n",
      "completed: Naive drift model:0.03611096700115013 sec\n",
      "beginning: Prophet\n"
     ]
    },
    {
     "name": "stderr",
     "output_type": "stream",
     "text": [
      "22:58:15 - cmdstanpy - INFO - Chain [1] start processing\n",
      "22:58:15 - cmdstanpy - INFO - Chain [1] done processing\n"
     ]
    },
    {
     "name": "stdout",
     "output_type": "stream",
     "text": [
      "completed: Prophet:1.0785775700023805 sec\n",
      "True\n",
      "beginning: ExponentialSmoothing(trend=ModelMode.ADDITIVE, damped=False, seasonal=SeasonalityMode.ADDITIVE, seasonal_periods=4\n",
      "completed: ExponentialSmoothing(trend=ModelMode.ADDITIVE, damped=False, seasonal=SeasonalityMode.ADDITIVE, seasonal_periods=4:0.33333736500208033 sec\n",
      "beginning: Auto-ARIMA\n",
      "completed: Auto-ARIMA:30.986615465000796 sec\n",
      "beginning: Theta(-0.1212121212121211)\n",
      "completed: Theta(-0.1212121212121211):0.055931046001205686 sec\n",
      "Combination  257 of 4170\n",
      "beginning: Naive drift model\n",
      "completed: Naive drift model:0.03477859799750149 sec\n",
      "beginning: Prophet\n"
     ]
    },
    {
     "name": "stderr",
     "output_type": "stream",
     "text": [
      "22:58:51 - cmdstanpy - INFO - Chain [1] start processing\n",
      "22:58:51 - cmdstanpy - INFO - Chain [1] done processing\n"
     ]
    },
    {
     "name": "stdout",
     "output_type": "stream",
     "text": [
      "completed: Prophet:0.8185602580015257 sec\n",
      "True\n",
      "beginning: ExponentialSmoothing(trend=ModelMode.ADDITIVE, damped=False, seasonal=SeasonalityMode.ADDITIVE, seasonal_periods=7\n",
      "completed: ExponentialSmoothing(trend=ModelMode.ADDITIVE, damped=False, seasonal=SeasonalityMode.ADDITIVE, seasonal_periods=7:0.3411318239996035 sec\n",
      "beginning: Auto-ARIMA\n",
      "completed: Auto-ARIMA:83.79801074900024 sec\n",
      "beginning: Theta(-0.1212121212121211)\n",
      "completed: Theta(-0.1212121212121211):0.050274935998459114 sec\n",
      "Combination  258 of 4170\n",
      "beginning: Naive drift model\n",
      "completed: Naive drift model:0.035303027001646115 sec\n",
      "beginning: Prophet\n"
     ]
    },
    {
     "name": "stderr",
     "output_type": "stream",
     "text": [
      "23:00:19 - cmdstanpy - INFO - Chain [1] start processing\n",
      "23:00:19 - cmdstanpy - INFO - Chain [1] done processing\n"
     ]
    },
    {
     "name": "stdout",
     "output_type": "stream",
     "text": [
      "completed: Prophet:0.8111563290003687 sec\n",
      "True\n",
      "beginning: ExponentialSmoothing(trend=ModelMode.ADDITIVE, damped=False, seasonal=SeasonalityMode.ADDITIVE, seasonal_periods=7\n",
      "completed: ExponentialSmoothing(trend=ModelMode.ADDITIVE, damped=False, seasonal=SeasonalityMode.ADDITIVE, seasonal_periods=7:0.32841362500039395 sec\n",
      "beginning: Auto-ARIMA\n",
      "completed: Auto-ARIMA:85.96124818799944 sec\n",
      "beginning: Theta(-0.1212121212121211)\n",
      "completed: Theta(-0.1212121212121211):0.05477586600318318 sec\n",
      "Combination  259 of 4170\n",
      "beginning: Naive drift model\n",
      "completed: Naive drift model:0.03491629799827933 sec\n",
      "beginning: Prophet\n"
     ]
    },
    {
     "name": "stderr",
     "output_type": "stream",
     "text": [
      "23:01:49 - cmdstanpy - INFO - Chain [1] start processing\n",
      "23:01:50 - cmdstanpy - INFO - Chain [1] done processing\n"
     ]
    },
    {
     "name": "stdout",
     "output_type": "stream",
     "text": [
      "completed: Prophet:1.0227311330017983 sec\n",
      "True\n",
      "beginning: ExponentialSmoothing(trend=ModelMode.ADDITIVE, damped=False, seasonal=SeasonalityMode.ADDITIVE, seasonal_periods=7\n",
      "completed: ExponentialSmoothing(trend=ModelMode.ADDITIVE, damped=False, seasonal=SeasonalityMode.ADDITIVE, seasonal_periods=7:0.3346277049968194 sec\n",
      "beginning: Auto-ARIMA\n",
      "completed: Auto-ARIMA:58.67654919399865 sec\n",
      "beginning: Theta(0.08080808080808133)\n",
      "completed: Theta(0.08080808080808133):0.05577995600106078 sec\n",
      "Combination  260 of 4170\n",
      "beginning: Naive drift model\n",
      "completed: Naive drift model:0.0388256670012197 sec\n",
      "beginning: Prophet\n"
     ]
    },
    {
     "name": "stderr",
     "output_type": "stream",
     "text": [
      "23:02:53 - cmdstanpy - INFO - Chain [1] start processing\n",
      "23:02:53 - cmdstanpy - INFO - Chain [1] done processing\n"
     ]
    },
    {
     "name": "stdout",
     "output_type": "stream",
     "text": [
      "completed: Prophet:0.8624538859985478 sec\n",
      "True\n",
      "beginning: ExponentialSmoothing(trend=ModelMode.ADDITIVE, damped=False, seasonal=SeasonalityMode.ADDITIVE, seasonal_periods=6\n",
      "completed: ExponentialSmoothing(trend=ModelMode.ADDITIVE, damped=False, seasonal=SeasonalityMode.ADDITIVE, seasonal_periods=6:0.3309083139974973 sec\n",
      "beginning: Auto-ARIMA\n",
      "completed: Auto-ARIMA:51.785626010998385 sec\n",
      "beginning: Theta(0.08080808080808133)\n",
      "completed: Theta(0.08080808080808133):0.05256036599894287 sec\n",
      "Combination  261 of 4170\n",
      "beginning: Naive drift model\n",
      "completed: Naive drift model:0.035763667001447175 sec\n",
      "beginning: Prophet\n"
     ]
    },
    {
     "name": "stderr",
     "output_type": "stream",
     "text": [
      "23:03:49 - cmdstanpy - INFO - Chain [1] start processing\n",
      "23:03:50 - cmdstanpy - INFO - Chain [1] done processing\n"
     ]
    },
    {
     "name": "stdout",
     "output_type": "stream",
     "text": [
      "completed: Prophet:1.025347614002385 sec\n",
      "True\n",
      "beginning: ExponentialSmoothing(trend=ModelMode.ADDITIVE, damped=False, seasonal=SeasonalityMode.ADDITIVE, seasonal_periods=8\n",
      "completed: ExponentialSmoothing(trend=ModelMode.ADDITIVE, damped=False, seasonal=SeasonalityMode.ADDITIVE, seasonal_periods=8:0.3396616840000206 sec\n",
      "beginning: Auto-ARIMA\n",
      "completed: Auto-ARIMA:87.6201317039995 sec\n",
      "beginning: Theta(0.28282828282828376)\n",
      "completed: Theta(0.28282828282828376):0.05234172600103193 sec\n",
      "Combination  262 of 4170\n",
      "beginning: Naive drift model\n",
      "completed: Naive drift model:0.03469017699899268 sec\n",
      "beginning: Prophet\n"
     ]
    },
    {
     "name": "stderr",
     "output_type": "stream",
     "text": [
      "23:05:22 - cmdstanpy - INFO - Chain [1] start processing\n",
      "23:05:22 - cmdstanpy - INFO - Chain [1] done processing\n"
     ]
    },
    {
     "name": "stdout",
     "output_type": "stream",
     "text": [
      "completed: Prophet:0.8395070280021173 sec\n",
      "True\n",
      "beginning: ExponentialSmoothing(trend=ModelMode.ADDITIVE, damped=False, seasonal=SeasonalityMode.ADDITIVE, seasonal_periods=3\n",
      "completed: ExponentialSmoothing(trend=ModelMode.ADDITIVE, damped=False, seasonal=SeasonalityMode.ADDITIVE, seasonal_periods=3:0.33182965599917225 sec\n",
      "beginning: Auto-ARIMA\n",
      "completed: Auto-ARIMA:43.301421928998025 sec\n",
      "beginning: Theta(0.08080808080808133)\n",
      "completed: Theta(0.08080808080808133):0.05527769599939347 sec\n",
      "Combination  263 of 4170\n",
      "beginning: Naive drift model\n",
      "completed: Naive drift model:0.034694788002525456 sec\n",
      "beginning: Prophet\n"
     ]
    },
    {
     "name": "stderr",
     "output_type": "stream",
     "text": [
      "23:06:10 - cmdstanpy - INFO - Chain [1] start processing\n",
      "23:06:10 - cmdstanpy - INFO - Chain [1] done processing\n"
     ]
    },
    {
     "name": "stdout",
     "output_type": "stream",
     "text": [
      "completed: Prophet:0.8446687459982058 sec\n",
      "True\n",
      "beginning: ExponentialSmoothing(trend=ModelMode.ADDITIVE, damped=False, seasonal=SeasonalityMode.ADDITIVE, seasonal_periods=7\n",
      "completed: ExponentialSmoothing(trend=ModelMode.ADDITIVE, damped=False, seasonal=SeasonalityMode.ADDITIVE, seasonal_periods=7:0.3426210949983215 sec\n",
      "beginning: Auto-ARIMA\n",
      "completed: Auto-ARIMA:45.32451069099989 sec\n",
      "beginning: Theta(0.28282828282828376)\n",
      "completed: Theta(0.28282828282828376):0.05186354699981166 sec\n",
      "Combination  264 of 4170\n",
      "beginning: Naive drift model\n",
      "completed: Naive drift model:0.034701977001532214 sec\n",
      "beginning: Prophet\n"
     ]
    },
    {
     "name": "stderr",
     "output_type": "stream",
     "text": [
      "23:06:59 - cmdstanpy - INFO - Chain [1] start processing\n",
      "23:07:00 - cmdstanpy - INFO - Chain [1] done processing\n"
     ]
    },
    {
     "name": "stdout",
     "output_type": "stream",
     "text": [
      "completed: Prophet:1.0225386829988565 sec\n",
      "True\n",
      "beginning: ExponentialSmoothing(trend=ModelMode.ADDITIVE, damped=False, seasonal=SeasonalityMode.ADDITIVE, seasonal_periods=3\n",
      "completed: ExponentialSmoothing(trend=ModelMode.ADDITIVE, damped=False, seasonal=SeasonalityMode.ADDITIVE, seasonal_periods=3:0.32762711599934846 sec\n",
      "beginning: Auto-ARIMA\n",
      "completed: Auto-ARIMA:30.70103953799844 sec\n",
      "beginning: Theta(0.08080808080808133)\n",
      "completed: Theta(0.08080808080808133):0.05230345599920838 sec\n",
      "Combination  265 of 4170\n",
      "beginning: Naive drift model\n",
      "completed: Naive drift model:0.03762729799927911 sec\n",
      "beginning: Prophet\n"
     ]
    },
    {
     "name": "stderr",
     "output_type": "stream",
     "text": [
      "23:07:35 - cmdstanpy - INFO - Chain [1] start processing\n",
      "23:07:35 - cmdstanpy - INFO - Chain [1] done processing\n"
     ]
    },
    {
     "name": "stdout",
     "output_type": "stream",
     "text": [
      "completed: Prophet:0.7482606639969163 sec\n",
      "True\n",
      "beginning: ExponentialSmoothing(trend=ModelMode.ADDITIVE, damped=False, seasonal=SeasonalityMode.ADDITIVE, seasonal_periods=5\n",
      "completed: ExponentialSmoothing(trend=ModelMode.ADDITIVE, damped=False, seasonal=SeasonalityMode.ADDITIVE, seasonal_periods=5:0.3306977940010256 sec\n",
      "beginning: Auto-ARIMA\n",
      "completed: Auto-ARIMA:75.8483066230001 sec\n",
      "beginning: Theta(-0.1212121212121211)\n",
      "completed: Theta(-0.1212121212121211):0.05323847499676049 sec\n",
      "Combination  266 of 4170\n",
      "beginning: Naive drift model\n",
      "completed: Naive drift model:0.03493398799764691 sec\n",
      "beginning: Prophet\n"
     ]
    },
    {
     "name": "stderr",
     "output_type": "stream",
     "text": [
      "23:08:55 - cmdstanpy - INFO - Chain [1] start processing\n",
      "23:08:56 - cmdstanpy - INFO - Chain [1] done processing\n"
     ]
    },
    {
     "name": "stdout",
     "output_type": "stream",
     "text": [
      "completed: Prophet:0.7811363809996692 sec\n",
      "True\n",
      "beginning: ExponentialSmoothing(trend=ModelMode.ADDITIVE, damped=False, seasonal=SeasonalityMode.ADDITIVE, seasonal_periods=7\n",
      "completed: ExponentialSmoothing(trend=ModelMode.ADDITIVE, damped=False, seasonal=SeasonalityMode.ADDITIVE, seasonal_periods=7:0.33762850499988417 sec\n",
      "beginning: Auto-ARIMA\n",
      "completed: Auto-ARIMA:75.00950598599957 sec\n",
      "beginning: Theta(-0.5252525252525242)\n",
      "completed: Theta(-0.5252525252525242):0.0527188460000616 sec\n",
      "Combination  267 of 4170\n",
      "beginning: Naive drift model\n",
      "completed: Naive drift model:0.034978276999027 sec\n",
      "beginning: Prophet\n"
     ]
    },
    {
     "name": "stderr",
     "output_type": "stream",
     "text": [
      "23:10:15 - cmdstanpy - INFO - Chain [1] start processing\n",
      "23:10:15 - cmdstanpy - INFO - Chain [1] done processing\n"
     ]
    },
    {
     "name": "stdout",
     "output_type": "stream",
     "text": [
      "completed: Prophet:1.1107720260006317 sec\n",
      "True\n",
      "beginning: ExponentialSmoothing(trend=ModelMode.ADDITIVE, damped=False, seasonal=SeasonalityMode.ADDITIVE, seasonal_periods=7\n",
      "completed: ExponentialSmoothing(trend=ModelMode.ADDITIVE, damped=False, seasonal=SeasonalityMode.ADDITIVE, seasonal_periods=7:0.33572443499724614 sec\n",
      "beginning: Auto-ARIMA\n",
      "completed: Auto-ARIMA:55.784606426997925 sec\n",
      "beginning: Theta(0.28282828282828376)\n",
      "completed: Theta(0.28282828282828376):0.05376852600238635 sec\n",
      "Combination  268 of 4170\n",
      "beginning: Naive drift model\n",
      "completed: Naive drift model:0.03863768699739012 sec\n",
      "beginning: Prophet\n"
     ]
    },
    {
     "name": "stderr",
     "output_type": "stream",
     "text": [
      "23:11:16 - cmdstanpy - INFO - Chain [1] start processing\n",
      "23:11:16 - cmdstanpy - INFO - Chain [1] done processing\n"
     ]
    },
    {
     "name": "stdout",
     "output_type": "stream",
     "text": [
      "completed: Prophet:0.6927651789992524 sec\n",
      "True\n",
      "beginning: ExponentialSmoothing(trend=ModelMode.ADDITIVE, damped=False, seasonal=SeasonalityMode.ADDITIVE, seasonal_periods=7\n",
      "completed: ExponentialSmoothing(trend=ModelMode.ADDITIVE, damped=False, seasonal=SeasonalityMode.ADDITIVE, seasonal_periods=7:0.34904634399936185 sec\n",
      "beginning: Auto-ARIMA\n",
      "completed: Auto-ARIMA:67.79370955700142 sec\n",
      "beginning: Theta(0.28282828282828376)\n",
      "completed: Theta(0.28282828282828376):0.05746807600007742 sec\n",
      "Combination  269 of 4170\n",
      "beginning: Naive drift model\n",
      "completed: Naive drift model:0.036643736999394605 sec\n",
      "beginning: Prophet\n"
     ]
    },
    {
     "name": "stderr",
     "output_type": "stream",
     "text": [
      "23:12:28 - cmdstanpy - INFO - Chain [1] start processing\n",
      "23:12:28 - cmdstanpy - INFO - Chain [1] done processing\n"
     ]
    },
    {
     "name": "stdout",
     "output_type": "stream",
     "text": [
      "completed: Prophet:0.7421549440005037 sec\n",
      "True\n",
      "beginning: ExponentialSmoothing(trend=ModelMode.ADDITIVE, damped=False, seasonal=SeasonalityMode.ADDITIVE, seasonal_periods=7\n",
      "completed: ExponentialSmoothing(trend=ModelMode.ADDITIVE, damped=False, seasonal=SeasonalityMode.ADDITIVE, seasonal_periods=7:0.3580589230004989 sec\n",
      "beginning: Auto-ARIMA\n",
      "completed: Auto-ARIMA:87.13824821699745 sec\n",
      "beginning: Theta(0.08080808080808133)\n",
      "completed: Theta(0.08080808080808133):0.05235608599832631 sec\n",
      "Combination  270 of 4170\n",
      "beginning: Naive drift model\n",
      "completed: Naive drift model:0.03678879700237303 sec\n",
      "beginning: Prophet\n"
     ]
    },
    {
     "name": "stderr",
     "output_type": "stream",
     "text": [
      "23:14:00 - cmdstanpy - INFO - Chain [1] start processing\n",
      "23:14:00 - cmdstanpy - INFO - Chain [1] done processing\n"
     ]
    },
    {
     "name": "stdout",
     "output_type": "stream",
     "text": [
      "completed: Prophet:1.0742968899976404 sec\n",
      "True\n",
      "beginning: ExponentialSmoothing(trend=ModelMode.ADDITIVE, damped=False, seasonal=SeasonalityMode.ADDITIVE, seasonal_periods=3\n",
      "completed: ExponentialSmoothing(trend=ModelMode.ADDITIVE, damped=False, seasonal=SeasonalityMode.ADDITIVE, seasonal_periods=3:0.3278249949980818 sec\n",
      "beginning: Auto-ARIMA\n",
      "completed: Auto-ARIMA:43.329875449999236 sec\n",
      "beginning: Theta(-0.1212121212121211)\n",
      "completed: Theta(-0.1212121212121211):0.05441967599836062 sec\n",
      "Combination  271 of 4170\n",
      "beginning: Naive drift model\n",
      "completed: Naive drift model:0.03794277700217208 sec\n",
      "beginning: Prophet\n"
     ]
    },
    {
     "name": "stderr",
     "output_type": "stream",
     "text": [
      "23:14:48 - cmdstanpy - INFO - Chain [1] start processing\n",
      "23:14:48 - cmdstanpy - INFO - Chain [1] done processing\n"
     ]
    },
    {
     "name": "stdout",
     "output_type": "stream",
     "text": [
      "completed: Prophet:0.9379685290005 sec\n",
      "True\n",
      "beginning: ExponentialSmoothing(trend=ModelMode.ADDITIVE, damped=False, seasonal=SeasonalityMode.ADDITIVE, seasonal_periods=7\n",
      "completed: ExponentialSmoothing(trend=ModelMode.ADDITIVE, damped=False, seasonal=SeasonalityMode.ADDITIVE, seasonal_periods=7:0.3171567360004701 sec\n",
      "beginning: Auto-ARIMA\n",
      "completed: Auto-ARIMA:56.799090960998 sec\n",
      "beginning: Theta(0.08080808080808133)\n",
      "completed: Theta(0.08080808080808133):0.053029385999252554 sec\n",
      "Combination  272 of 4170\n",
      "beginning: Naive drift model\n",
      "completed: Naive drift model:0.03533547800179804 sec\n",
      "beginning: Prophet\n"
     ]
    },
    {
     "name": "stderr",
     "output_type": "stream",
     "text": [
      "23:15:49 - cmdstanpy - INFO - Chain [1] start processing\n",
      "23:15:50 - cmdstanpy - INFO - Chain [1] done processing\n"
     ]
    },
    {
     "name": "stdout",
     "output_type": "stream",
     "text": [
      "completed: Prophet:0.820411188997241 sec\n",
      "True\n",
      "beginning: ExponentialSmoothing(trend=ModelMode.ADDITIVE, damped=False, seasonal=SeasonalityMode.ADDITIVE, seasonal_periods=8\n",
      "completed: ExponentialSmoothing(trend=ModelMode.ADDITIVE, damped=False, seasonal=SeasonalityMode.ADDITIVE, seasonal_periods=8:0.3042293270009395 sec\n",
      "beginning: Auto-ARIMA\n",
      "completed: Auto-ARIMA:110.47705462599697 sec\n",
      "beginning: Theta(-0.1212121212121211)\n",
      "completed: Theta(-0.1212121212121211):0.05406299600144848 sec\n",
      "Combination  273 of 4170\n",
      "beginning: Naive drift model\n",
      "completed: Naive drift model:0.036255578001146205 sec\n",
      "beginning: Prophet\n"
     ]
    },
    {
     "name": "stderr",
     "output_type": "stream",
     "text": [
      "23:17:45 - cmdstanpy - INFO - Chain [1] start processing\n",
      "23:17:45 - cmdstanpy - INFO - Chain [1] done processing\n"
     ]
    },
    {
     "name": "stdout",
     "output_type": "stream",
     "text": [
      "completed: Prophet:0.9789754069970513 sec\n",
      "True\n",
      "beginning: ExponentialSmoothing(trend=ModelMode.ADDITIVE, damped=False, seasonal=SeasonalityMode.ADDITIVE, seasonal_periods=7\n",
      "completed: ExponentialSmoothing(trend=ModelMode.ADDITIVE, damped=False, seasonal=SeasonalityMode.ADDITIVE, seasonal_periods=7:0.3262572160019772 sec\n",
      "beginning: Auto-ARIMA\n",
      "completed: Auto-ARIMA:55.31494586299959 sec\n",
      "beginning: Theta(0.08080808080808133)\n",
      "completed: Theta(0.08080808080808133):0.05159701599768596 sec\n",
      "Combination  274 of 4170\n",
      "beginning: Naive drift model\n",
      "completed: Naive drift model:0.036274997000873554 sec\n",
      "beginning: Prophet\n"
     ]
    },
    {
     "name": "stderr",
     "output_type": "stream",
     "text": [
      "23:18:44 - cmdstanpy - INFO - Chain [1] start processing\n",
      "23:18:45 - cmdstanpy - INFO - Chain [1] done processing\n"
     ]
    },
    {
     "name": "stdout",
     "output_type": "stream",
     "text": [
      "completed: Prophet:0.6527122810002766 sec\n",
      "True\n",
      "beginning: ExponentialSmoothing(trend=ModelMode.ADDITIVE, damped=False, seasonal=SeasonalityMode.ADDITIVE, seasonal_periods=8\n",
      "completed: ExponentialSmoothing(trend=ModelMode.ADDITIVE, damped=False, seasonal=SeasonalityMode.ADDITIVE, seasonal_periods=8:0.33275110499744187 sec\n",
      "beginning: Auto-ARIMA\n",
      "completed: Auto-ARIMA:81.78617200699955 sec\n",
      "beginning: Theta(0.08080808080808133)\n",
      "completed: Theta(0.08080808080808133):0.054937056000198936 sec\n",
      "Combination  275 of 4170\n",
      "beginning: Naive drift model\n",
      "completed: Naive drift model:0.038443196997832274 sec\n",
      "beginning: Prophet\n"
     ]
    },
    {
     "name": "stderr",
     "output_type": "stream",
     "text": [
      "23:20:11 - cmdstanpy - INFO - Chain [1] start processing\n",
      "23:20:11 - cmdstanpy - INFO - Chain [1] done processing\n"
     ]
    },
    {
     "name": "stdout",
     "output_type": "stream",
     "text": [
      "completed: Prophet:0.9877793160012516 sec\n",
      "True\n",
      "beginning: ExponentialSmoothing(trend=ModelMode.ADDITIVE, damped=False, seasonal=SeasonalityMode.ADDITIVE, seasonal_periods=4\n",
      "completed: ExponentialSmoothing(trend=ModelMode.ADDITIVE, damped=False, seasonal=SeasonalityMode.ADDITIVE, seasonal_periods=4:0.32836378600040916 sec\n",
      "beginning: Auto-ARIMA\n",
      "completed: Auto-ARIMA:43.86607930100217 sec\n",
      "beginning: Theta(0.08080808080808133)\n",
      "completed: Theta(0.08080808080808133):0.053885916000581346 sec\n",
      "Combination  276 of 4170\n",
      "beginning: Naive drift model\n",
      "completed: Naive drift model:0.036278127001423854 sec\n",
      "beginning: Prophet\n"
     ]
    },
    {
     "name": "stderr",
     "output_type": "stream",
     "text": [
      "23:20:59 - cmdstanpy - INFO - Chain [1] start processing\n",
      "23:20:59 - cmdstanpy - INFO - Chain [1] done processing\n"
     ]
    },
    {
     "name": "stdout",
     "output_type": "stream",
     "text": [
      "completed: Prophet:0.760049402997538 sec\n",
      "True\n",
      "beginning: ExponentialSmoothing(trend=ModelMode.ADDITIVE, damped=False, seasonal=SeasonalityMode.ADDITIVE, seasonal_periods=3\n",
      "completed: ExponentialSmoothing(trend=ModelMode.ADDITIVE, damped=False, seasonal=SeasonalityMode.ADDITIVE, seasonal_periods=3:0.31886224600020796 sec\n",
      "beginning: Auto-ARIMA\n",
      "completed: Auto-ARIMA:42.304356998 sec\n",
      "beginning: Theta(0.08080808080808133)\n",
      "completed: Theta(0.08080808080808133):0.05517618599697016 sec\n",
      "Combination  277 of 4170\n",
      "beginning: Naive drift model\n",
      "completed: Naive drift model:0.03518073700251989 sec\n",
      "beginning: Prophet\n"
     ]
    },
    {
     "name": "stderr",
     "output_type": "stream",
     "text": [
      "23:21:46 - cmdstanpy - INFO - Chain [1] start processing\n",
      "23:21:46 - cmdstanpy - INFO - Chain [1] done processing\n"
     ]
    },
    {
     "name": "stdout",
     "output_type": "stream",
     "text": [
      "completed: Prophet:0.7789920609975525 sec\n",
      "True\n",
      "beginning: ExponentialSmoothing(trend=ModelMode.ADDITIVE, damped=False, seasonal=SeasonalityMode.ADDITIVE, seasonal_periods=7\n",
      "completed: ExponentialSmoothing(trend=ModelMode.ADDITIVE, damped=False, seasonal=SeasonalityMode.ADDITIVE, seasonal_periods=7:0.3312285050014907 sec\n",
      "beginning: Auto-ARIMA\n",
      "completed: Auto-ARIMA:80.1768050239989 sec\n",
      "beginning: Theta(0.08080808080808133)\n",
      "completed: Theta(0.08080808080808133):0.05326028700073948 sec\n",
      "Combination  278 of 4170\n",
      "beginning: Naive drift model\n",
      "completed: Naive drift model:0.0370319270004984 sec\n",
      "beginning: Prophet\n"
     ]
    },
    {
     "name": "stderr",
     "output_type": "stream",
     "text": [
      "23:23:11 - cmdstanpy - INFO - Chain [1] start processing\n",
      "23:23:11 - cmdstanpy - INFO - Chain [1] done processing\n"
     ]
    },
    {
     "name": "stdout",
     "output_type": "stream",
     "text": [
      "completed: Prophet:1.0338610430007975 sec\n",
      "True\n",
      "beginning: ExponentialSmoothing(trend=ModelMode.ADDITIVE, damped=False, seasonal=SeasonalityMode.ADDITIVE, seasonal_periods=7\n",
      "completed: ExponentialSmoothing(trend=ModelMode.ADDITIVE, damped=False, seasonal=SeasonalityMode.ADDITIVE, seasonal_periods=7:0.33836252499895636 sec\n",
      "beginning: Auto-ARIMA\n",
      "completed: Auto-ARIMA:58.595228179001424 sec\n",
      "beginning: Theta(0.08080808080808133)\n",
      "completed: Theta(0.08080808080808133):0.05534023599830107 sec\n",
      "Combination  279 of 4170\n",
      "beginning: Naive drift model\n",
      "completed: Naive drift model:0.035944938001193805 sec\n",
      "beginning: Prophet\n"
     ]
    },
    {
     "name": "stderr",
     "output_type": "stream",
     "text": [
      "23:24:14 - cmdstanpy - INFO - Chain [1] start processing\n",
      "23:24:14 - cmdstanpy - INFO - Chain [1] done processing\n"
     ]
    },
    {
     "name": "stdout",
     "output_type": "stream",
     "text": [
      "completed: Prophet:0.7847893709986238 sec\n",
      "True\n",
      "beginning: ExponentialSmoothing(trend=ModelMode.ADDITIVE, damped=False, seasonal=SeasonalityMode.ADDITIVE, seasonal_periods=7\n",
      "completed: ExponentialSmoothing(trend=ModelMode.ADDITIVE, damped=False, seasonal=SeasonalityMode.ADDITIVE, seasonal_periods=7:0.33435461400222266 sec\n",
      "beginning: Auto-ARIMA\n",
      "completed: Auto-ARIMA:55.76617673000146 sec\n",
      "beginning: Theta(-0.1212121212121211)\n",
      "completed: Theta(-0.1212121212121211):0.053996356000425294 sec\n",
      "Combination  280 of 4170\n",
      "beginning: Naive drift model\n",
      "completed: Naive drift model:0.036714026999106864 sec\n",
      "beginning: Prophet\n"
     ]
    },
    {
     "name": "stderr",
     "output_type": "stream",
     "text": [
      "23:25:15 - cmdstanpy - INFO - Chain [1] start processing\n",
      "23:25:15 - cmdstanpy - INFO - Chain [1] done processing\n"
     ]
    },
    {
     "name": "stdout",
     "output_type": "stream",
     "text": [
      "completed: Prophet:0.9152761120021751 sec\n",
      "True\n",
      "beginning: ExponentialSmoothing(trend=ModelMode.ADDITIVE, damped=False, seasonal=SeasonalityMode.ADDITIVE, seasonal_periods=5\n",
      "completed: ExponentialSmoothing(trend=ModelMode.ADDITIVE, damped=False, seasonal=SeasonalityMode.ADDITIVE, seasonal_periods=5:0.3226163159997668 sec\n",
      "beginning: Auto-ARIMA\n",
      "completed: Auto-ARIMA:39.02184616899831 sec\n",
      "beginning: Theta(-0.1212121212121211)\n",
      "completed: Theta(-0.1212121212121211):0.05354555600206368 sec\n",
      "Combination  281 of 4170\n",
      "beginning: Naive drift model\n",
      "completed: Naive drift model:0.03601813699788181 sec\n",
      "beginning: Prophet\n"
     ]
    },
    {
     "name": "stderr",
     "output_type": "stream",
     "text": [
      "23:25:58 - cmdstanpy - INFO - Chain [1] start processing\n",
      "23:25:58 - cmdstanpy - INFO - Chain [1] done processing\n"
     ]
    },
    {
     "name": "stdout",
     "output_type": "stream",
     "text": [
      "completed: Prophet:1.0102491750003537 sec\n",
      "True\n",
      "beginning: ExponentialSmoothing(trend=ModelMode.ADDITIVE, damped=False, seasonal=SeasonalityMode.ADDITIVE, seasonal_periods=7\n",
      "completed: ExponentialSmoothing(trend=ModelMode.ADDITIVE, damped=False, seasonal=SeasonalityMode.ADDITIVE, seasonal_periods=7:0.3378474240016658 sec\n",
      "beginning: Auto-ARIMA\n",
      "completed: Auto-ARIMA:87.44282382299934 sec\n",
      "beginning: Theta(0.08080808080808133)\n",
      "completed: Theta(0.08080808080808133):0.052953266000258736 sec\n",
      "Combination  282 of 4170\n",
      "beginning: Naive drift model\n",
      "completed: Naive drift model:0.03568514699873049 sec\n",
      "beginning: Prophet\n"
     ]
    },
    {
     "name": "stderr",
     "output_type": "stream",
     "text": [
      "23:27:30 - cmdstanpy - INFO - Chain [1] start processing\n",
      "23:27:31 - cmdstanpy - INFO - Chain [1] done processing\n"
     ]
    },
    {
     "name": "stdout",
     "output_type": "stream",
     "text": [
      "completed: Prophet:0.7593800539980293 sec\n",
      "True\n",
      "beginning: ExponentialSmoothing(trend=ModelMode.ADDITIVE, damped=False, seasonal=SeasonalityMode.ADDITIVE, seasonal_periods=6\n",
      "completed: ExponentialSmoothing(trend=ModelMode.ADDITIVE, damped=False, seasonal=SeasonalityMode.ADDITIVE, seasonal_periods=6:0.339014915000007 sec\n",
      "beginning: Auto-ARIMA\n",
      "completed: Auto-ARIMA:54.03203097000005 sec\n",
      "beginning: Theta(0.08080808080808133)\n",
      "completed: Theta(0.08080808080808133):0.051210305999120465 sec\n",
      "Combination  283 of 4170\n",
      "beginning: Naive drift model\n",
      "completed: Naive drift model:0.03652289800083963 sec\n",
      "beginning: Prophet\n"
     ]
    },
    {
     "name": "stderr",
     "output_type": "stream",
     "text": [
      "23:28:29 - cmdstanpy - INFO - Chain [1] start processing\n",
      "23:28:29 - cmdstanpy - INFO - Chain [1] done processing\n"
     ]
    },
    {
     "name": "stdout",
     "output_type": "stream",
     "text": [
      "completed: Prophet:0.8834056140003668 sec\n",
      "True\n",
      "beginning: ExponentialSmoothing(trend=ModelMode.ADDITIVE, damped=False, seasonal=SeasonalityMode.ADDITIVE, seasonal_periods=7\n",
      "completed: ExponentialSmoothing(trend=ModelMode.ADDITIVE, damped=False, seasonal=SeasonalityMode.ADDITIVE, seasonal_periods=7:0.3362311549972219 sec\n",
      "beginning: Auto-ARIMA\n",
      "completed: Auto-ARIMA:68.61851037100132 sec\n",
      "beginning: Theta(0.08080808080808133)\n",
      "completed: Theta(0.08080808080808133):0.051647396001499146 sec\n",
      "Combination  284 of 4170\n",
      "beginning: Naive drift model\n",
      "completed: Naive drift model:0.03651599699878716 sec\n",
      "beginning: Prophet\n"
     ]
    },
    {
     "name": "stderr",
     "output_type": "stream",
     "text": [
      "23:29:42 - cmdstanpy - INFO - Chain [1] start processing\n",
      "23:29:43 - cmdstanpy - INFO - Chain [1] done processing\n"
     ]
    },
    {
     "name": "stdout",
     "output_type": "stream",
     "text": [
      "completed: Prophet:1.071412400000554 sec\n",
      "True\n",
      "beginning: ExponentialSmoothing(trend=ModelMode.ADDITIVE, damped=False, seasonal=SeasonalityMode.ADDITIVE, seasonal_periods=7\n",
      "completed: ExponentialSmoothing(trend=ModelMode.ADDITIVE, damped=False, seasonal=SeasonalityMode.ADDITIVE, seasonal_periods=7:0.3172718759997224 sec\n",
      "beginning: Auto-ARIMA\n",
      "completed: Auto-ARIMA:95.3987985729982 sec\n",
      "beginning: Theta(0.08080808080808133)\n",
      "completed: Theta(0.08080808080808133):0.06062856499920599 sec\n",
      "Combination  285 of 4170\n",
      "beginning: Naive drift model\n",
      "completed: Naive drift model:0.03536198700021487 sec\n",
      "beginning: Prophet\n"
     ]
    },
    {
     "name": "stderr",
     "output_type": "stream",
     "text": [
      "23:31:22 - cmdstanpy - INFO - Chain [1] start processing\n",
      "23:31:23 - cmdstanpy - INFO - Chain [1] done processing\n"
     ]
    },
    {
     "name": "stdout",
     "output_type": "stream",
     "text": [
      "completed: Prophet:0.9204213310003979 sec\n",
      "True\n",
      "beginning: ExponentialSmoothing(trend=ModelMode.ADDITIVE, damped=False, seasonal=SeasonalityMode.ADDITIVE, seasonal_periods=6\n",
      "completed: ExponentialSmoothing(trend=ModelMode.ADDITIVE, damped=False, seasonal=SeasonalityMode.ADDITIVE, seasonal_periods=6:0.33760976499979733 sec\n",
      "beginning: Auto-ARIMA\n",
      "completed: Auto-ARIMA:54.73353430700081 sec\n",
      "beginning: Theta(-0.1212121212121211)\n",
      "completed: Theta(-0.1212121212121211):0.052084527000261005 sec\n",
      "Combination  286 of 4170\n",
      "beginning: Naive drift model\n",
      "completed: Naive drift model:0.03482665800038376 sec\n",
      "beginning: Prophet\n"
     ]
    },
    {
     "name": "stderr",
     "output_type": "stream",
     "text": [
      "23:32:22 - cmdstanpy - INFO - Chain [1] start processing\n",
      "23:32:22 - cmdstanpy - INFO - Chain [1] done processing\n"
     ]
    },
    {
     "name": "stdout",
     "output_type": "stream",
     "text": [
      "completed: Prophet:1.0583937109986437 sec\n",
      "True\n",
      "beginning: ExponentialSmoothing(trend=ModelMode.ADDITIVE, damped=False, seasonal=SeasonalityMode.ADDITIVE, seasonal_periods=7\n",
      "completed: ExponentialSmoothing(trend=ModelMode.ADDITIVE, damped=False, seasonal=SeasonalityMode.ADDITIVE, seasonal_periods=7:0.3296732549970329 sec\n",
      "beginning: Auto-ARIMA\n",
      "completed: Auto-ARIMA:75.75377038900115 sec\n",
      "beginning: Theta(0.08080808080808133)\n",
      "completed: Theta(0.08080808080808133):0.052355555999383796 sec\n",
      "Combination  287 of 4170\n",
      "beginning: Naive drift model\n",
      "completed: Naive drift model:0.035429247000138275 sec\n",
      "beginning: Prophet\n"
     ]
    },
    {
     "name": "stderr",
     "output_type": "stream",
     "text": [
      "23:33:42 - cmdstanpy - INFO - Chain [1] start processing\n",
      "23:33:42 - cmdstanpy - INFO - Chain [1] done processing\n"
     ]
    },
    {
     "name": "stdout",
     "output_type": "stream",
     "text": [
      "completed: Prophet:0.7853405419991759 sec\n",
      "True\n",
      "beginning: ExponentialSmoothing(trend=ModelMode.ADDITIVE, damped=False, seasonal=SeasonalityMode.ADDITIVE, seasonal_periods=7\n",
      "completed: ExponentialSmoothing(trend=ModelMode.ADDITIVE, damped=False, seasonal=SeasonalityMode.ADDITIVE, seasonal_periods=7:0.3353347539996321 sec\n",
      "beginning: Auto-ARIMA\n",
      "completed: Auto-ARIMA:62.93551796599786 sec\n",
      "beginning: Theta(0.28282828282828376)\n",
      "completed: Theta(0.28282828282828376):0.05493395600205986 sec\n",
      "Combination  288 of 4170\n",
      "beginning: Naive drift model\n",
      "completed: Naive drift model:0.035929106998082716 sec\n",
      "beginning: Prophet\n"
     ]
    },
    {
     "name": "stderr",
     "output_type": "stream",
     "text": [
      "23:34:49 - cmdstanpy - INFO - Chain [1] start processing\n",
      "23:34:50 - cmdstanpy - INFO - Chain [1] done processing\n"
     ]
    },
    {
     "name": "stdout",
     "output_type": "stream",
     "text": [
      "completed: Prophet:0.9458977499998582 sec\n",
      "True\n",
      "beginning: ExponentialSmoothing(trend=ModelMode.ADDITIVE, damped=False, seasonal=SeasonalityMode.ADDITIVE, seasonal_periods=7\n",
      "completed: ExponentialSmoothing(trend=ModelMode.ADDITIVE, damped=False, seasonal=SeasonalityMode.ADDITIVE, seasonal_periods=7:0.3310340050011291 sec\n",
      "beginning: Auto-ARIMA\n",
      "completed: Auto-ARIMA:23.771713866000937 sec\n",
      "beginning: Theta(0.28282828282828376)\n",
      "completed: Theta(0.28282828282828376):0.051110366999637336 sec\n",
      "Combination  289 of 4170\n",
      "beginning: Naive drift model\n",
      "completed: Naive drift model:0.03465557799790986 sec\n",
      "beginning: Prophet\n"
     ]
    },
    {
     "name": "stderr",
     "output_type": "stream",
     "text": [
      "23:35:18 - cmdstanpy - INFO - Chain [1] start processing\n",
      "23:35:18 - cmdstanpy - INFO - Chain [1] done processing\n"
     ]
    },
    {
     "name": "stdout",
     "output_type": "stream",
     "text": [
      "completed: Prophet:1.006650744999206 sec\n",
      "True\n",
      "beginning: ExponentialSmoothing(trend=ModelMode.ADDITIVE, damped=False, seasonal=SeasonalityMode.ADDITIVE, seasonal_periods=6\n",
      "completed: ExponentialSmoothing(trend=ModelMode.ADDITIVE, damped=False, seasonal=SeasonalityMode.ADDITIVE, seasonal_periods=6:0.32643179500155384 sec\n",
      "beginning: Auto-ARIMA\n",
      "completed: Auto-ARIMA:70.61085470200123 sec\n",
      "beginning: Theta(-0.1212121212121211)\n",
      "completed: Theta(-0.1212121212121211):0.057667524997668806 sec\n",
      "Combination  290 of 4170\n",
      "beginning: Naive drift model\n",
      "completed: Naive drift model:0.0355726779998804 sec\n",
      "beginning: Prophet\n"
     ]
    },
    {
     "name": "stderr",
     "output_type": "stream",
     "text": [
      "23:36:33 - cmdstanpy - INFO - Chain [1] start processing\n",
      "23:36:33 - cmdstanpy - INFO - Chain [1] done processing\n"
     ]
    },
    {
     "name": "stdout",
     "output_type": "stream",
     "text": [
      "completed: Prophet:0.891833524001413 sec\n",
      "True\n",
      "beginning: ExponentialSmoothing(trend=ModelMode.ADDITIVE, damped=False, seasonal=SeasonalityMode.ADDITIVE, seasonal_periods=7\n",
      "completed: ExponentialSmoothing(trend=ModelMode.ADDITIVE, damped=False, seasonal=SeasonalityMode.ADDITIVE, seasonal_periods=7:0.3317303650001122 sec\n",
      "beginning: Auto-ARIMA\n",
      "completed: Auto-ARIMA:155.4315039409994 sec\n",
      "beginning: Theta(0.08080808080808133)\n",
      "completed: Theta(0.08080808080808133):0.05647160499938764 sec\n",
      "Combination  291 of 4170\n",
      "beginning: Naive drift model\n",
      "completed: Naive drift model:0.0365514869990875 sec\n",
      "beginning: Prophet\n"
     ]
    },
    {
     "name": "stderr",
     "output_type": "stream",
     "text": [
      "23:39:13 - cmdstanpy - INFO - Chain [1] start processing\n",
      "23:39:13 - cmdstanpy - INFO - Chain [1] done processing\n"
     ]
    },
    {
     "name": "stdout",
     "output_type": "stream",
     "text": [
      "completed: Prophet:0.9486308790001203 sec\n",
      "True\n",
      "beginning: ExponentialSmoothing(trend=ModelMode.ADDITIVE, damped=False, seasonal=SeasonalityMode.ADDITIVE, seasonal_periods=7\n",
      "completed: ExponentialSmoothing(trend=ModelMode.ADDITIVE, damped=False, seasonal=SeasonalityMode.ADDITIVE, seasonal_periods=7:0.32049059600103647 sec\n",
      "beginning: Auto-ARIMA\n",
      "completed: Auto-ARIMA:69.20935711399943 sec\n",
      "beginning: Theta(0.08080808080808133)\n",
      "completed: Theta(0.08080808080808133):0.05283215599774849 sec\n",
      "Combination  292 of 4170\n",
      "beginning: Naive drift model\n",
      "completed: Naive drift model:0.036856016999081476 sec\n",
      "beginning: Prophet\n"
     ]
    },
    {
     "name": "stderr",
     "output_type": "stream",
     "text": [
      "23:40:27 - cmdstanpy - INFO - Chain [1] start processing\n",
      "23:40:27 - cmdstanpy - INFO - Chain [1] done processing\n"
     ]
    },
    {
     "name": "stdout",
     "output_type": "stream",
     "text": [
      "completed: Prophet:0.7865065910009434 sec\n",
      "True\n",
      "beginning: ExponentialSmoothing(trend=ModelMode.ADDITIVE, damped=False, seasonal=SeasonalityMode.ADDITIVE, seasonal_periods=7\n",
      "completed: ExponentialSmoothing(trend=ModelMode.ADDITIVE, damped=False, seasonal=SeasonalityMode.ADDITIVE, seasonal_periods=7:0.32669744600207196 sec\n",
      "beginning: Auto-ARIMA\n",
      "completed: Auto-ARIMA:64.9956265059991 sec\n",
      "beginning: Theta(0.08080808080808133)\n",
      "completed: Theta(0.08080808080808133):0.054715176000172505 sec\n",
      "Combination  293 of 4170\n",
      "beginning: Naive drift model\n",
      "completed: Naive drift model:0.03643247699801577 sec\n",
      "beginning: Prophet\n"
     ]
    },
    {
     "name": "stderr",
     "output_type": "stream",
     "text": [
      "23:41:37 - cmdstanpy - INFO - Chain [1] start processing\n",
      "23:41:37 - cmdstanpy - INFO - Chain [1] done processing\n"
     ]
    },
    {
     "name": "stdout",
     "output_type": "stream",
     "text": [
      "completed: Prophet:0.8168138190012542 sec\n",
      "True\n",
      "beginning: ExponentialSmoothing(trend=ModelMode.ADDITIVE, damped=False, seasonal=SeasonalityMode.ADDITIVE, seasonal_periods=4\n",
      "completed: ExponentialSmoothing(trend=ModelMode.ADDITIVE, damped=False, seasonal=SeasonalityMode.ADDITIVE, seasonal_periods=4:0.32791998599714134 sec\n",
      "beginning: Auto-ARIMA\n",
      "completed: Auto-ARIMA:36.14380757800245 sec\n",
      "beginning: Theta(0.08080808080808133)\n",
      "completed: Theta(0.08080808080808133):0.057830036002997076 sec\n",
      "Combination  294 of 4170\n",
      "beginning: Naive drift model\n",
      "completed: Naive drift model:0.041180856998835225 sec\n",
      "beginning: Prophet\n"
     ]
    },
    {
     "name": "stderr",
     "output_type": "stream",
     "text": [
      "23:42:17 - cmdstanpy - INFO - Chain [1] start processing\n",
      "23:42:18 - cmdstanpy - INFO - Chain [1] done processing\n"
     ]
    },
    {
     "name": "stdout",
     "output_type": "stream",
     "text": [
      "completed: Prophet:1.043745761999162 sec\n",
      "True\n",
      "beginning: ExponentialSmoothing(trend=ModelMode.ADDITIVE, damped=False, seasonal=SeasonalityMode.ADDITIVE, seasonal_periods=7\n",
      "completed: ExponentialSmoothing(trend=ModelMode.ADDITIVE, damped=False, seasonal=SeasonalityMode.ADDITIVE, seasonal_periods=7:0.33630436599923996 sec\n",
      "beginning: Auto-ARIMA\n",
      "completed: Auto-ARIMA:146.01106550300028 sec\n",
      "beginning: Theta(0.4848484848484844)\n",
      "completed: Theta(0.4848484848484844):0.05456044600214227 sec\n",
      "Combination  295 of 4170\n",
      "beginning: Naive drift model\n",
      "completed: Naive drift model:0.035056127002462745 sec\n",
      "beginning: Prophet\n"
     ]
    },
    {
     "name": "stderr",
     "output_type": "stream",
     "text": [
      "23:44:48 - cmdstanpy - INFO - Chain [1] start processing\n",
      "23:44:49 - cmdstanpy - INFO - Chain [1] done processing\n"
     ]
    },
    {
     "name": "stdout",
     "output_type": "stream",
     "text": [
      "completed: Prophet:0.8162615889996232 sec\n",
      "True\n",
      "beginning: ExponentialSmoothing(trend=ModelMode.ADDITIVE, damped=False, seasonal=SeasonalityMode.ADDITIVE, seasonal_periods=6\n",
      "completed: ExponentialSmoothing(trend=ModelMode.ADDITIVE, damped=False, seasonal=SeasonalityMode.ADDITIVE, seasonal_periods=6:0.3298338659988076 sec\n",
      "beginning: Auto-ARIMA\n",
      "completed: Auto-ARIMA:66.31255860900274 sec\n",
      "beginning: Theta(-0.32323232323232354)\n",
      "completed: Theta(-0.32323232323232354):0.05706003600062104 sec\n",
      "Combination  296 of 4170\n",
      "beginning: Naive drift model\n",
      "completed: Naive drift model:0.035770537000644254 sec\n",
      "beginning: Prophet\n"
     ]
    },
    {
     "name": "stderr",
     "output_type": "stream",
     "text": [
      "23:45:59 - cmdstanpy - INFO - Chain [1] start processing\n",
      "23:45:59 - cmdstanpy - INFO - Chain [1] done processing\n"
     ]
    },
    {
     "name": "stdout",
     "output_type": "stream",
     "text": [
      "completed: Prophet:0.7792082619998837 sec\n",
      "True\n",
      "beginning: ExponentialSmoothing(trend=ModelMode.ADDITIVE, damped=False, seasonal=SeasonalityMode.ADDITIVE, seasonal_periods=2\n",
      "completed: ExponentialSmoothing(trend=ModelMode.ADDITIVE, damped=False, seasonal=SeasonalityMode.ADDITIVE, seasonal_periods=2:0.3294687659981719 sec\n",
      "beginning: Auto-ARIMA\n",
      "completed: Auto-ARIMA:45.16034744799981 sec\n",
      "beginning: Theta(-0.1212121212121211)\n",
      "completed: Theta(-0.1212121212121211):0.05478908599980059 sec\n",
      "Combination  297 of 4170\n",
      "beginning: Naive drift model\n",
      "completed: Naive drift model:0.039321086998825194 sec\n",
      "beginning: Prophet\n"
     ]
    },
    {
     "name": "stderr",
     "output_type": "stream",
     "text": [
      "23:46:49 - cmdstanpy - INFO - Chain [1] start processing\n",
      "23:46:49 - cmdstanpy - INFO - Chain [1] done processing\n"
     ]
    },
    {
     "name": "stdout",
     "output_type": "stream",
     "text": [
      "completed: Prophet:1.06525066100221 sec\n",
      "True\n",
      "beginning: ExponentialSmoothing(trend=ModelMode.ADDITIVE, damped=False, seasonal=SeasonalityMode.ADDITIVE, seasonal_periods=17\n",
      "completed: ExponentialSmoothing(trend=ModelMode.ADDITIVE, damped=False, seasonal=SeasonalityMode.ADDITIVE, seasonal_periods=17:0.3573443130007945 sec\n",
      "beginning: Auto-ARIMA\n",
      "completed: Auto-ARIMA:596.2849875669999 sec\n",
      "beginning: Theta(0.08080808080808133)\n",
      "completed: Theta(0.08080808080808133):0.1648673380004766 sec\n"
     ]
    },
    {
     "name": "stderr",
     "output_type": "stream",
     "text": [
      "23:56:52 - cmdstanpy - INFO - Chain [1] start processing\n"
     ]
    },
    {
     "name": "stdout",
     "output_type": "stream",
     "text": [
      "Combination  298 of 4170\n",
      "beginning: Naive drift model\n",
      "completed: Naive drift model:0.036604828001145506 sec\n",
      "beginning: Prophet\n"
     ]
    },
    {
     "name": "stderr",
     "output_type": "stream",
     "text": [
      "23:56:53 - cmdstanpy - INFO - Chain [1] done processing\n"
     ]
    },
    {
     "name": "stdout",
     "output_type": "stream",
     "text": [
      "completed: Prophet:2.3162600380019285 sec\n",
      "True\n",
      "beginning: ExponentialSmoothing(trend=ModelMode.ADDITIVE, damped=False, seasonal=SeasonalityMode.ADDITIVE, seasonal_periods=2\n",
      "completed: ExponentialSmoothing(trend=ModelMode.ADDITIVE, damped=False, seasonal=SeasonalityMode.ADDITIVE, seasonal_periods=2:0.8752719949989114 sec\n",
      "beginning: Auto-ARIMA\n",
      "completed: Auto-ARIMA:46.53093950699986 sec\n",
      "beginning: Theta(0.08080808080808133)\n",
      "completed: Theta(0.08080808080808133):0.053688215997681255 sec\n",
      "Combination  299 of 4170\n",
      "beginning: Naive drift model\n",
      "completed: Naive drift model:0.03657203799957642 sec\n",
      "beginning: Prophet\n"
     ]
    },
    {
     "name": "stderr",
     "output_type": "stream",
     "text": [
      "23:57:45 - cmdstanpy - INFO - Chain [1] start processing\n",
      "23:57:45 - cmdstanpy - INFO - Chain [1] done processing\n"
     ]
    },
    {
     "name": "stdout",
     "output_type": "stream",
     "text": [
      "completed: Prophet:0.6701285019989882 sec\n",
      "True\n",
      "beginning: ExponentialSmoothing(trend=ModelMode.ADDITIVE, damped=False, seasonal=SeasonalityMode.ADDITIVE, seasonal_periods=7\n",
      "completed: ExponentialSmoothing(trend=ModelMode.ADDITIVE, damped=False, seasonal=SeasonalityMode.ADDITIVE, seasonal_periods=7:0.3314101859978109 sec\n",
      "beginning: Auto-ARIMA\n",
      "completed: Auto-ARIMA:59.80239755900038 sec\n",
      "beginning: Theta(-0.1212121212121211)\n",
      "completed: Theta(-0.1212121212121211):0.05626812499758671 sec\n",
      "Combination  300 of 4170\n",
      "beginning: Naive drift model\n",
      "completed: Naive drift model:0.03494197699910728 sec\n",
      "beginning: Prophet\n"
     ]
    },
    {
     "name": "stderr",
     "output_type": "stream",
     "text": [
      "23:58:49 - cmdstanpy - INFO - Chain [1] start processing\n",
      "23:58:50 - cmdstanpy - INFO - Chain [1] done processing\n"
     ]
    },
    {
     "name": "stdout",
     "output_type": "stream",
     "text": [
      "completed: Prophet:1.119526719001442 sec\n",
      "True\n",
      "beginning: ExponentialSmoothing(trend=ModelMode.ADDITIVE, damped=False, seasonal=SeasonalityMode.ADDITIVE, seasonal_periods=3\n",
      "completed: ExponentialSmoothing(trend=ModelMode.ADDITIVE, damped=False, seasonal=SeasonalityMode.ADDITIVE, seasonal_periods=3:0.32776136599932215 sec\n",
      "beginning: Auto-ARIMA\n",
      "completed: Auto-ARIMA:40.250915067997994 sec\n",
      "beginning: Theta(-2.545454545454545)\n",
      "completed: Theta(-2.545454545454545):0.05387417599922628 sec\n",
      "Combination  301 of 4170\n",
      "beginning: Naive drift model\n",
      "completed: Naive drift model:0.03617071699773078 sec\n",
      "beginning: Prophet\n"
     ]
    },
    {
     "name": "stderr",
     "output_type": "stream",
     "text": [
      "23:59:34 - cmdstanpy - INFO - Chain [1] start processing\n",
      "23:59:35 - cmdstanpy - INFO - Chain [1] done processing\n"
     ]
    },
    {
     "name": "stdout",
     "output_type": "stream",
     "text": [
      "completed: Prophet:0.7783050230027584 sec\n",
      "True\n",
      "beginning: ExponentialSmoothing(trend=ModelMode.ADDITIVE, damped=False, seasonal=SeasonalityMode.ADDITIVE, seasonal_periods=6\n",
      "completed: ExponentialSmoothing(trend=ModelMode.ADDITIVE, damped=False, seasonal=SeasonalityMode.ADDITIVE, seasonal_periods=6:0.33246929600136355 sec\n",
      "beginning: Auto-ARIMA\n",
      "completed: Auto-ARIMA:56.26359922299889 sec\n",
      "beginning: Theta(0.28282828282828376)\n",
      "completed: Theta(0.28282828282828376):0.05494125699988217 sec\n",
      "Combination  302 of 4170\n",
      "beginning: Naive drift model\n",
      "completed: Naive drift model:0.03682842700072797 sec\n",
      "beginning: Prophet\n"
     ]
    },
    {
     "name": "stderr",
     "output_type": "stream",
     "text": [
      "00:00:35 - cmdstanpy - INFO - Chain [1] start processing\n",
      "00:00:36 - cmdstanpy - INFO - Chain [1] done processing\n"
     ]
    },
    {
     "name": "stdout",
     "output_type": "stream",
     "text": [
      "completed: Prophet:0.8237347700014652 sec\n",
      "True\n",
      "beginning: ExponentialSmoothing(trend=ModelMode.ADDITIVE, damped=False, seasonal=SeasonalityMode.ADDITIVE, seasonal_periods=7\n",
      "completed: ExponentialSmoothing(trend=ModelMode.ADDITIVE, damped=False, seasonal=SeasonalityMode.ADDITIVE, seasonal_periods=7:0.33923102500193636 sec\n",
      "beginning: Auto-ARIMA\n",
      "completed: Auto-ARIMA:58.239108841000416 sec\n",
      "beginning: Theta(0.08080808080808133)\n",
      "completed: Theta(0.08080808080808133):0.0538244859999395 sec\n",
      "Combination  303 of 4170\n",
      "beginning: Naive drift model\n",
      "completed: Naive drift model:0.03583328699824051 sec\n",
      "beginning: Prophet\n"
     ]
    },
    {
     "name": "stderr",
     "output_type": "stream",
     "text": [
      "00:01:38 - cmdstanpy - INFO - Chain [1] start processing\n",
      "00:01:38 - cmdstanpy - INFO - Chain [1] done processing\n"
     ]
    },
    {
     "name": "stdout",
     "output_type": "stream",
     "text": [
      "completed: Prophet:0.9458149419988331 sec\n",
      "True\n",
      "beginning: ExponentialSmoothing(trend=ModelMode.ADDITIVE, damped=False, seasonal=SeasonalityMode.ADDITIVE, seasonal_periods=6\n",
      "completed: ExponentialSmoothing(trend=ModelMode.ADDITIVE, damped=False, seasonal=SeasonalityMode.ADDITIVE, seasonal_periods=6:0.3338094060018193 sec\n",
      "beginning: Auto-ARIMA\n",
      "completed: Auto-ARIMA:68.56507385700024 sec\n",
      "beginning: Theta(-2.545454545454545)\n",
      "completed: Theta(-2.545454545454545):0.05621410599997034 sec\n",
      "Combination  304 of 4170\n",
      "beginning: Naive drift model\n",
      "completed: Naive drift model:0.03573084799791104 sec\n",
      "beginning: Prophet\n"
     ]
    },
    {
     "name": "stderr",
     "output_type": "stream",
     "text": [
      "00:02:51 - cmdstanpy - INFO - Chain [1] start processing\n",
      "00:02:52 - cmdstanpy - INFO - Chain [1] done processing\n"
     ]
    },
    {
     "name": "stdout",
     "output_type": "stream",
     "text": [
      "completed: Prophet:0.7191159389985842 sec\n",
      "True\n",
      "beginning: ExponentialSmoothing(trend=ModelMode.ADDITIVE, damped=False, seasonal=SeasonalityMode.ADDITIVE, seasonal_periods=6\n",
      "completed: ExponentialSmoothing(trend=ModelMode.ADDITIVE, damped=False, seasonal=SeasonalityMode.ADDITIVE, seasonal_periods=6:0.3341084760031663 sec\n",
      "beginning: Auto-ARIMA\n",
      "completed: Auto-ARIMA:68.35438404899833 sec\n",
      "beginning: Theta(0.08080808080808133)\n",
      "completed: Theta(0.08080808080808133):0.05076420700061135 sec\n",
      "Combination  305 of 4170\n",
      "beginning: Naive drift model\n",
      "completed: Naive drift model:0.035111507000692654 sec\n",
      "beginning: Prophet\n"
     ]
    },
    {
     "name": "stderr",
     "output_type": "stream",
     "text": [
      "00:04:04 - cmdstanpy - INFO - Chain [1] start processing\n",
      "00:04:04 - cmdstanpy - INFO - Chain [1] done processing\n"
     ]
    },
    {
     "name": "stdout",
     "output_type": "stream",
     "text": [
      "completed: Prophet:0.9570377909985837 sec\n",
      "True\n",
      "beginning: ExponentialSmoothing(trend=ModelMode.ADDITIVE, damped=False, seasonal=SeasonalityMode.ADDITIVE, seasonal_periods=2\n",
      "completed: ExponentialSmoothing(trend=ModelMode.ADDITIVE, damped=False, seasonal=SeasonalityMode.ADDITIVE, seasonal_periods=2:0.3210292770017986 sec\n",
      "beginning: Auto-ARIMA\n",
      "completed: Auto-ARIMA:45.81014440799845 sec\n",
      "beginning: Theta(-0.1212121212121211)\n",
      "completed: Theta(-0.1212121212121211):0.05144179700073437 sec\n",
      "Combination  306 of 4170\n",
      "beginning: Naive drift model\n",
      "completed: Naive drift model:0.03410197799894377 sec\n",
      "beginning: Prophet\n"
     ]
    },
    {
     "name": "stderr",
     "output_type": "stream",
     "text": [
      "00:04:55 - cmdstanpy - INFO - Chain [1] start processing\n",
      "00:04:55 - cmdstanpy - INFO - Chain [1] done processing\n"
     ]
    },
    {
     "name": "stdout",
     "output_type": "stream",
     "text": [
      "completed: Prophet:0.7345196269998269 sec\n",
      "True\n",
      "beginning: ExponentialSmoothing(trend=ModelMode.ADDITIVE, damped=False, seasonal=SeasonalityMode.ADDITIVE, seasonal_periods=7\n",
      "completed: ExponentialSmoothing(trend=ModelMode.ADDITIVE, damped=False, seasonal=SeasonalityMode.ADDITIVE, seasonal_periods=7:0.3432204050004657 sec\n",
      "beginning: Auto-ARIMA\n",
      "completed: Auto-ARIMA:88.25327557700075 sec\n",
      "beginning: Theta(0.08080808080808133)\n",
      "completed: Theta(0.08080808080808133):0.0574411660018086 sec\n",
      "Combination  307 of 4170\n",
      "beginning: Naive drift model\n",
      "completed: Naive drift model:0.036260807002690854 sec\n",
      "beginning: Prophet\n"
     ]
    },
    {
     "name": "stderr",
     "output_type": "stream",
     "text": [
      "00:06:28 - cmdstanpy - INFO - Chain [1] start processing\n",
      "00:06:28 - cmdstanpy - INFO - Chain [1] done processing\n"
     ]
    },
    {
     "name": "stdout",
     "output_type": "stream",
     "text": [
      "completed: Prophet:0.6977076000002853 sec\n",
      "True\n",
      "beginning: ExponentialSmoothing(trend=ModelMode.ADDITIVE, damped=False, seasonal=SeasonalityMode.ADDITIVE, seasonal_periods=3\n",
      "completed: ExponentialSmoothing(trend=ModelMode.ADDITIVE, damped=False, seasonal=SeasonalityMode.ADDITIVE, seasonal_periods=3:0.31910437699843897 sec\n",
      "beginning: Auto-ARIMA\n",
      "completed: Auto-ARIMA:41.84381909299918 sec\n",
      "beginning: Theta(-0.1212121212121211)\n",
      "completed: Theta(-0.1212121212121211):0.05754946500019287 sec\n",
      "Combination  308 of 4170\n",
      "beginning: Naive drift model\n",
      "completed: Naive drift model:0.03495330800069496 sec\n",
      "beginning: Prophet\n"
     ]
    },
    {
     "name": "stderr",
     "output_type": "stream",
     "text": [
      "00:07:14 - cmdstanpy - INFO - Chain [1] start processing\n",
      "00:07:14 - cmdstanpy - INFO - Chain [1] done processing\n"
     ]
    },
    {
     "name": "stdout",
     "output_type": "stream",
     "text": [
      "completed: Prophet:0.7298077980012749 sec\n",
      "True\n",
      "beginning: ExponentialSmoothing(trend=ModelMode.ADDITIVE, damped=False, seasonal=SeasonalityMode.ADDITIVE, seasonal_periods=4\n",
      "completed: ExponentialSmoothing(trend=ModelMode.ADDITIVE, damped=False, seasonal=SeasonalityMode.ADDITIVE, seasonal_periods=4:0.3291315360002045 sec\n",
      "beginning: Auto-ARIMA\n",
      "completed: Auto-ARIMA:30.9706787469986 sec\n",
      "beginning: Theta(0.08080808080808133)\n",
      "completed: Theta(0.08080808080808133):0.05326620699997875 sec\n",
      "Combination  309 of 4170\n",
      "beginning: Naive drift model\n",
      "completed: Naive drift model:0.034625837000930915 sec\n",
      "beginning: Prophet\n"
     ]
    },
    {
     "name": "stderr",
     "output_type": "stream",
     "text": [
      "00:07:49 - cmdstanpy - INFO - Chain [1] start processing\n",
      "00:07:49 - cmdstanpy - INFO - Chain [1] done processing\n"
     ]
    },
    {
     "name": "stdout",
     "output_type": "stream",
     "text": [
      "completed: Prophet:0.7324821969996265 sec\n",
      "True\n",
      "beginning: ExponentialSmoothing(trend=ModelMode.ADDITIVE, damped=False, seasonal=SeasonalityMode.ADDITIVE, seasonal_periods=7\n",
      "completed: ExponentialSmoothing(trend=ModelMode.ADDITIVE, damped=False, seasonal=SeasonalityMode.ADDITIVE, seasonal_periods=7:0.3133062080014497 sec\n",
      "beginning: Auto-ARIMA\n",
      "completed: Auto-ARIMA:49.936942979999 sec\n",
      "beginning: Theta(-0.1212121212121211)\n",
      "completed: Theta(-0.1212121212121211):0.05720964599822764 sec\n",
      "Combination  310 of 4170\n",
      "beginning: Naive drift model\n",
      "completed: Naive drift model:0.037852486999327084 sec\n",
      "beginning: Prophet\n"
     ]
    },
    {
     "name": "stderr",
     "output_type": "stream",
     "text": [
      "00:08:44 - cmdstanpy - INFO - Chain [1] start processing\n",
      "00:08:44 - cmdstanpy - INFO - Chain [1] done processing\n"
     ]
    },
    {
     "name": "stdout",
     "output_type": "stream",
     "text": [
      "completed: Prophet:0.731957556999987 sec\n",
      "True\n",
      "beginning: ExponentialSmoothing(trend=ModelMode.ADDITIVE, damped=False, seasonal=SeasonalityMode.ADDITIVE, seasonal_periods=7\n",
      "completed: ExponentialSmoothing(trend=ModelMode.ADDITIVE, damped=False, seasonal=SeasonalityMode.ADDITIVE, seasonal_periods=7:0.31349447799948393 sec\n",
      "beginning: Auto-ARIMA\n",
      "completed: Auto-ARIMA:52.94940527200015 sec\n",
      "beginning: Theta(-0.1212121212121211)\n",
      "completed: Theta(-0.1212121212121211):0.054208215999096865 sec\n",
      "Combination  311 of 4170\n",
      "beginning: Naive drift model\n",
      "completed: Naive drift model:0.03638362799756578 sec\n",
      "beginning: Prophet\n"
     ]
    },
    {
     "name": "stderr",
     "output_type": "stream",
     "text": [
      "00:09:41 - cmdstanpy - INFO - Chain [1] start processing\n",
      "00:09:41 - cmdstanpy - INFO - Chain [1] done processing\n"
     ]
    },
    {
     "name": "stdout",
     "output_type": "stream",
     "text": [
      "completed: Prophet:0.9714994999994815 sec\n",
      "True\n",
      "beginning: ExponentialSmoothing(trend=ModelMode.ADDITIVE, damped=False, seasonal=SeasonalityMode.ADDITIVE, seasonal_periods=4\n",
      "completed: ExponentialSmoothing(trend=ModelMode.ADDITIVE, damped=False, seasonal=SeasonalityMode.ADDITIVE, seasonal_periods=4:0.3186226869984239 sec\n",
      "beginning: Auto-ARIMA\n",
      "completed: Auto-ARIMA:40.51508133900279 sec\n",
      "beginning: Theta(-0.1212121212121211)\n",
      "completed: Theta(-0.1212121212121211):0.05605855600151699 sec\n",
      "Combination  312 of 4170\n",
      "beginning: Naive drift model\n",
      "completed: Naive drift model:0.03639151799870888 sec\n",
      "beginning: Prophet\n"
     ]
    },
    {
     "name": "stderr",
     "output_type": "stream",
     "text": [
      "00:10:27 - cmdstanpy - INFO - Chain [1] start processing\n",
      "00:10:27 - cmdstanpy - INFO - Chain [1] done processing\n"
     ]
    },
    {
     "name": "stdout",
     "output_type": "stream",
     "text": [
      "completed: Prophet:0.7054924590011069 sec\n",
      "True\n",
      "beginning: ExponentialSmoothing(trend=ModelMode.ADDITIVE, damped=False, seasonal=SeasonalityMode.ADDITIVE, seasonal_periods=4\n",
      "completed: ExponentialSmoothing(trend=ModelMode.ADDITIVE, damped=False, seasonal=SeasonalityMode.ADDITIVE, seasonal_periods=4:0.31110323699977016 sec\n",
      "beginning: Auto-ARIMA\n",
      "completed: Auto-ARIMA:35.24879666799825 sec\n",
      "beginning: Theta(-0.1212121212121211)\n",
      "completed: Theta(-0.1212121212121211):0.05365465599970776 sec\n",
      "Combination  313 of 4170\n",
      "beginning: Naive drift model\n",
      "completed: Naive drift model:0.034700308002356905 sec\n",
      "beginning: Prophet\n"
     ]
    },
    {
     "name": "stderr",
     "output_type": "stream",
     "text": [
      "00:11:06 - cmdstanpy - INFO - Chain [1] start processing\n",
      "00:11:06 - cmdstanpy - INFO - Chain [1] done processing\n"
     ]
    },
    {
     "name": "stdout",
     "output_type": "stream",
     "text": [
      "completed: Prophet:0.6792278510001779 sec\n",
      "True\n",
      "beginning: ExponentialSmoothing(trend=ModelMode.ADDITIVE, damped=False, seasonal=SeasonalityMode.ADDITIVE, seasonal_periods=3\n",
      "completed: ExponentialSmoothing(trend=ModelMode.ADDITIVE, damped=False, seasonal=SeasonalityMode.ADDITIVE, seasonal_periods=3:0.3098064580008213 sec\n",
      "beginning: Auto-ARIMA\n",
      "completed: Auto-ARIMA:40.45324130299923 sec\n",
      "beginning: Theta(0.28282828282828376)\n",
      "completed: Theta(0.28282828282828376):0.0532118260016432 sec\n",
      "Combination  314 of 4170\n",
      "beginning: Naive drift model\n",
      "completed: Naive drift model:0.03573235700241639 sec\n",
      "beginning: Prophet\n"
     ]
    },
    {
     "name": "stderr",
     "output_type": "stream",
     "text": [
      "00:11:51 - cmdstanpy - INFO - Chain [1] start processing\n",
      "00:11:51 - cmdstanpy - INFO - Chain [1] done processing\n"
     ]
    },
    {
     "name": "stdout",
     "output_type": "stream",
     "text": [
      "completed: Prophet:1.0047573570009263 sec\n",
      "True\n",
      "beginning: ExponentialSmoothing(trend=ModelMode.ADDITIVE, damped=False, seasonal=SeasonalityMode.ADDITIVE, seasonal_periods=7\n",
      "completed: ExponentialSmoothing(trend=ModelMode.ADDITIVE, damped=False, seasonal=SeasonalityMode.ADDITIVE, seasonal_periods=7:0.34023637599966605 sec\n",
      "beginning: Auto-ARIMA\n",
      "completed: Auto-ARIMA:169.93824995799878 sec\n",
      "beginning: Theta(-0.1212121212121211)\n",
      "completed: Theta(-0.1212121212121211):0.05209054599981755 sec\n",
      "Combination  315 of 4170\n",
      "beginning: Naive drift model\n",
      "completed: Naive drift model:0.03657577800186118 sec\n",
      "beginning: Prophet\n"
     ]
    },
    {
     "name": "stderr",
     "output_type": "stream",
     "text": [
      "00:14:45 - cmdstanpy - INFO - Chain [1] start processing\n",
      "00:14:46 - cmdstanpy - INFO - Chain [1] done processing\n"
     ]
    },
    {
     "name": "stdout",
     "output_type": "stream",
     "text": [
      "completed: Prophet:0.8237368379996042 sec\n",
      "True\n",
      "beginning: ExponentialSmoothing(trend=ModelMode.ADDITIVE, damped=False, seasonal=SeasonalityMode.ADDITIVE, seasonal_periods=13\n",
      "completed: ExponentialSmoothing(trend=ModelMode.ADDITIVE, damped=False, seasonal=SeasonalityMode.ADDITIVE, seasonal_periods=13:0.3410471939969284 sec\n",
      "beginning: Auto-ARIMA\n",
      "completed: Auto-ARIMA:286.11350958500043 sec\n",
      "beginning: Theta(-0.1212121212121211)\n",
      "completed: Theta(-0.1212121212121211):0.05333456600055797 sec\n",
      "Combination  316 of 4170\n",
      "beginning: Naive drift model\n",
      "completed: Naive drift model:0.03537305799909518 sec\n",
      "beginning: Prophet\n"
     ]
    },
    {
     "name": "stderr",
     "output_type": "stream",
     "text": [
      "00:19:36 - cmdstanpy - INFO - Chain [1] start processing\n",
      "00:19:36 - cmdstanpy - INFO - Chain [1] done processing\n"
     ]
    },
    {
     "name": "stdout",
     "output_type": "stream",
     "text": [
      "completed: Prophet:0.7575263129983796 sec\n",
      "True\n",
      "beginning: ExponentialSmoothing(trend=ModelMode.ADDITIVE, damped=False, seasonal=SeasonalityMode.ADDITIVE, seasonal_periods=5\n",
      "completed: ExponentialSmoothing(trend=ModelMode.ADDITIVE, damped=False, seasonal=SeasonalityMode.ADDITIVE, seasonal_periods=5:0.32997037500172155 sec\n",
      "beginning: Auto-ARIMA\n",
      "completed: Auto-ARIMA:38.03831279299993 sec\n",
      "beginning: Theta(-0.1212121212121211)\n",
      "completed: Theta(-0.1212121212121211):0.06121855500168749 sec\n",
      "Combination  317 of 4170\n",
      "beginning: Naive drift model\n",
      "completed: Naive drift model:0.03497669699936523 sec\n",
      "beginning: Prophet\n"
     ]
    },
    {
     "name": "stderr",
     "output_type": "stream",
     "text": [
      "00:20:19 - cmdstanpy - INFO - Chain [1] start processing\n",
      "00:20:19 - cmdstanpy - INFO - Chain [1] done processing\n"
     ]
    },
    {
     "name": "stdout",
     "output_type": "stream",
     "text": [
      "completed: Prophet:1.060502701002406 sec\n",
      "True\n",
      "beginning: ExponentialSmoothing(trend=ModelMode.ADDITIVE, damped=False, seasonal=SeasonalityMode.ADDITIVE, seasonal_periods=3\n",
      "completed: ExponentialSmoothing(trend=ModelMode.ADDITIVE, damped=False, seasonal=SeasonalityMode.ADDITIVE, seasonal_periods=3:0.3232774759999302 sec\n",
      "beginning: Auto-ARIMA\n",
      "completed: Auto-ARIMA:40.005297154999425 sec\n",
      "beginning: Theta(-0.1212121212121211)\n",
      "completed: Theta(-0.1212121212121211):0.052442965999944136 sec\n",
      "Combination  318 of 4170\n",
      "beginning: Naive drift model\n",
      "completed: Naive drift model:0.03578170800028602 sec\n",
      "beginning: Prophet\n"
     ]
    },
    {
     "name": "stderr",
     "output_type": "stream",
     "text": [
      "00:21:04 - cmdstanpy - INFO - Chain [1] start processing\n",
      "00:21:04 - cmdstanpy - INFO - Chain [1] done processing\n"
     ]
    },
    {
     "name": "stdout",
     "output_type": "stream",
     "text": [
      "completed: Prophet:0.6868637780025892 sec\n",
      "True\n",
      "beginning: ExponentialSmoothing(trend=ModelMode.ADDITIVE, damped=False, seasonal=SeasonalityMode.ADDITIVE, seasonal_periods=7\n",
      "completed: ExponentialSmoothing(trend=ModelMode.ADDITIVE, damped=False, seasonal=SeasonalityMode.ADDITIVE, seasonal_periods=7:0.34062342399920453 sec\n",
      "beginning: Auto-ARIMA\n",
      "completed: Auto-ARIMA:83.60848680100025 sec\n",
      "beginning: Theta(0.08080808080808133)\n",
      "completed: Theta(0.08080808080808133):0.05672583599880454 sec\n",
      "Combination  319 of 4170\n",
      "beginning: Naive drift model\n",
      "completed: Naive drift model:0.044029066997609334 sec\n",
      "beginning: Prophet\n"
     ]
    },
    {
     "name": "stderr",
     "output_type": "stream",
     "text": [
      "00:22:32 - cmdstanpy - INFO - Chain [1] start processing\n",
      "00:22:32 - cmdstanpy - INFO - Chain [1] done processing\n"
     ]
    },
    {
     "name": "stdout",
     "output_type": "stream",
     "text": [
      "completed: Prophet:0.7501726539994706 sec\n",
      "True\n",
      "beginning: ExponentialSmoothing(trend=ModelMode.ADDITIVE, damped=False, seasonal=SeasonalityMode.ADDITIVE, seasonal_periods=11\n",
      "completed: ExponentialSmoothing(trend=ModelMode.ADDITIVE, damped=False, seasonal=SeasonalityMode.ADDITIVE, seasonal_periods=11:0.34315837399844895 sec\n",
      "beginning: Auto-ARIMA\n",
      "completed: Auto-ARIMA:352.42302418599866 sec\n",
      "beginning: Theta(0.08080808080808133)\n",
      "completed: Theta(0.08080808080808133):0.054612936000921763 sec\n",
      "Combination  320 of 4170\n",
      "beginning: Naive drift model\n"
     ]
    },
    {
     "name": "stderr",
     "output_type": "stream",
     "text": [
      "00:28:29 - cmdstanpy - INFO - Chain [1] start processing\n"
     ]
    },
    {
     "name": "stdout",
     "output_type": "stream",
     "text": [
      "completed: Naive drift model:0.04182171700085746 sec\n",
      "beginning: Prophet\n"
     ]
    },
    {
     "name": "stderr",
     "output_type": "stream",
     "text": [
      "00:28:29 - cmdstanpy - INFO - Chain [1] done processing\n"
     ]
    },
    {
     "name": "stdout",
     "output_type": "stream",
     "text": [
      "completed: Prophet:1.0279239219999 sec\n",
      "True\n",
      "beginning: ExponentialSmoothing(trend=ModelMode.ADDITIVE, damped=False, seasonal=SeasonalityMode.ADDITIVE, seasonal_periods=3\n",
      "completed: ExponentialSmoothing(trend=ModelMode.ADDITIVE, damped=False, seasonal=SeasonalityMode.ADDITIVE, seasonal_periods=3:0.32825740599946585 sec\n",
      "beginning: Auto-ARIMA\n",
      "completed: Auto-ARIMA:33.19434474700029 sec\n",
      "beginning: Theta(0.08080808080808133)\n",
      "completed: Theta(0.08080808080808133):0.0545686459990975 sec\n",
      "Combination  321 of 4170\n",
      "beginning: Naive drift model\n",
      "completed: Naive drift model:0.036404556998604676 sec\n",
      "beginning: Prophet\n"
     ]
    },
    {
     "name": "stderr",
     "output_type": "stream",
     "text": [
      "00:29:07 - cmdstanpy - INFO - Chain [1] start processing\n",
      "00:29:07 - cmdstanpy - INFO - Chain [1] done processing\n"
     ]
    },
    {
     "name": "stdout",
     "output_type": "stream",
     "text": [
      "completed: Prophet:0.8732640550006181 sec\n",
      "True\n",
      "beginning: ExponentialSmoothing(trend=ModelMode.ADDITIVE, damped=False, seasonal=SeasonalityMode.ADDITIVE, seasonal_periods=6\n",
      "completed: ExponentialSmoothing(trend=ModelMode.ADDITIVE, damped=False, seasonal=SeasonalityMode.ADDITIVE, seasonal_periods=6:0.33188802500080783 sec\n",
      "beginning: Auto-ARIMA\n",
      "completed: Auto-ARIMA:70.76563407499998 sec\n",
      "beginning: Theta(0.08080808080808133)\n",
      "completed: Theta(0.08080808080808133):0.05564883599799941 sec\n",
      "Combination  322 of 4170\n",
      "beginning: Naive drift model\n",
      "completed: Naive drift model:0.0368832480016863 sec\n",
      "beginning: Prophet\n"
     ]
    },
    {
     "name": "stderr",
     "output_type": "stream",
     "text": [
      "00:30:22 - cmdstanpy - INFO - Chain [1] start processing\n",
      "00:30:22 - cmdstanpy - INFO - Chain [1] done processing\n"
     ]
    },
    {
     "name": "stdout",
     "output_type": "stream",
     "text": [
      "completed: Prophet:1.2805421440025384 sec\n",
      "True\n",
      "beginning: ExponentialSmoothing(trend=ModelMode.ADDITIVE, damped=False, seasonal=SeasonalityMode.ADDITIVE, seasonal_periods=4\n",
      "completed: ExponentialSmoothing(trend=ModelMode.ADDITIVE, damped=False, seasonal=SeasonalityMode.ADDITIVE, seasonal_periods=4:0.3424213050020626 sec\n",
      "beginning: Auto-ARIMA\n",
      "completed: Auto-ARIMA:42.033163052998134 sec\n",
      "beginning: Theta(-0.32323232323232354)\n",
      "completed: Theta(-0.32323232323232354):0.0545373759996437 sec\n",
      "Combination  323 of 4170\n",
      "beginning: Naive drift model\n",
      "completed: Naive drift model:0.035964367001724895 sec\n",
      "beginning: Prophet\n"
     ]
    },
    {
     "name": "stderr",
     "output_type": "stream",
     "text": [
      "00:31:09 - cmdstanpy - INFO - Chain [1] start processing\n",
      "00:31:09 - cmdstanpy - INFO - Chain [1] done processing\n"
     ]
    },
    {
     "name": "stdout",
     "output_type": "stream",
     "text": [
      "completed: Prophet:0.7009513470002275 sec\n",
      "True\n",
      "beginning: ExponentialSmoothing(trend=ModelMode.ADDITIVE, damped=False, seasonal=SeasonalityMode.ADDITIVE, seasonal_periods=3\n",
      "completed: ExponentialSmoothing(trend=ModelMode.ADDITIVE, damped=False, seasonal=SeasonalityMode.ADDITIVE, seasonal_periods=3:0.33366612500321935 sec\n",
      "beginning: Auto-ARIMA\n",
      "completed: Auto-ARIMA:45.97360425700026 sec\n",
      "beginning: Theta(0.6868686868686869)\n",
      "completed: Theta(0.6868686868686869):0.053222875998471864 sec\n",
      "Combination  324 of 4170\n",
      "beginning: Naive drift model\n",
      "completed: Naive drift model:0.04513099700125167 sec\n",
      "beginning: Prophet\n"
     ]
    },
    {
     "name": "stderr",
     "output_type": "stream",
     "text": [
      "00:31:59 - cmdstanpy - INFO - Chain [1] start processing\n",
      "00:32:00 - cmdstanpy - INFO - Chain [1] done processing\n"
     ]
    },
    {
     "name": "stdout",
     "output_type": "stream",
     "text": [
      "completed: Prophet:0.7761313189985231 sec\n",
      "True\n",
      "beginning: ExponentialSmoothing(trend=ModelMode.ADDITIVE, damped=False, seasonal=SeasonalityMode.ADDITIVE, seasonal_periods=4\n",
      "completed: ExponentialSmoothing(trend=ModelMode.ADDITIVE, damped=False, seasonal=SeasonalityMode.ADDITIVE, seasonal_periods=4:0.3521046319983725 sec\n",
      "beginning: Auto-ARIMA\n",
      "completed: Auto-ARIMA:45.42336376300227 sec\n",
      "beginning: Theta(-0.1212121212121211)\n",
      "completed: Theta(-0.1212121212121211):0.05679219599915086 sec\n",
      "Combination  325 of 4170\n",
      "beginning: Naive drift model\n",
      "completed: Naive drift model:0.03534231699813972 sec\n",
      "beginning: Prophet\n"
     ]
    },
    {
     "name": "stderr",
     "output_type": "stream",
     "text": [
      "00:32:49 - cmdstanpy - INFO - Chain [1] start processing\n",
      "00:32:50 - cmdstanpy - INFO - Chain [1] done processing\n"
     ]
    },
    {
     "name": "stdout",
     "output_type": "stream",
     "text": [
      "completed: Prophet:1.0027520629992068 sec\n",
      "True\n",
      "beginning: ExponentialSmoothing(trend=ModelMode.ADDITIVE, damped=False, seasonal=SeasonalityMode.ADDITIVE, seasonal_periods=2\n",
      "completed: ExponentialSmoothing(trend=ModelMode.ADDITIVE, damped=False, seasonal=SeasonalityMode.ADDITIVE, seasonal_periods=2:0.3144311360010761 sec\n",
      "beginning: Auto-ARIMA\n",
      "completed: Auto-ARIMA:35.571395601000404 sec\n",
      "beginning: Theta(0.08080808080808133)\n",
      "completed: Theta(0.08080808080808133):0.053341695998824434 sec\n",
      "Combination  326 of 4170\n",
      "beginning: Naive drift model\n",
      "completed: Naive drift model:0.0346591380002792 sec\n",
      "beginning: Prophet\n"
     ]
    },
    {
     "name": "stderr",
     "output_type": "stream",
     "text": [
      "00:33:30 - cmdstanpy - INFO - Chain [1] start processing\n",
      "00:33:30 - cmdstanpy - INFO - Chain [1] done processing\n"
     ]
    },
    {
     "name": "stdout",
     "output_type": "stream",
     "text": [
      "completed: Prophet:0.8514150929986499 sec\n",
      "True\n",
      "beginning: ExponentialSmoothing(trend=ModelMode.ADDITIVE, damped=False, seasonal=SeasonalityMode.ADDITIVE, seasonal_periods=3\n",
      "completed: ExponentialSmoothing(trend=ModelMode.ADDITIVE, damped=False, seasonal=SeasonalityMode.ADDITIVE, seasonal_periods=3:0.28198388799864915 sec\n",
      "beginning: Auto-ARIMA\n",
      "completed: Auto-ARIMA:64.81080217399722 sec\n",
      "beginning: Theta(0.08080808080808133)\n",
      "completed: Theta(0.08080808080808133):0.05168767600116553 sec\n",
      "Combination  327 of 4170\n",
      "beginning: Naive drift model\n",
      "completed: Naive drift model:0.03734958700079005 sec\n",
      "beginning: Prophet\n"
     ]
    },
    {
     "name": "stderr",
     "output_type": "stream",
     "text": [
      "00:34:39 - cmdstanpy - INFO - Chain [1] start processing\n",
      "00:34:39 - cmdstanpy - INFO - Chain [1] done processing\n"
     ]
    },
    {
     "name": "stdout",
     "output_type": "stream",
     "text": [
      "completed: Prophet:0.7931020479991275 sec\n",
      "True\n",
      "beginning: ExponentialSmoothing(trend=ModelMode.ADDITIVE, damped=False, seasonal=SeasonalityMode.ADDITIVE, seasonal_periods=3\n",
      "completed: ExponentialSmoothing(trend=ModelMode.ADDITIVE, damped=False, seasonal=SeasonalityMode.ADDITIVE, seasonal_periods=3:0.32524513399766874 sec\n",
      "beginning: Auto-ARIMA\n",
      "completed: Auto-ARIMA:79.9637932149999 sec\n",
      "beginning: Theta(0.08080808080808133)\n",
      "completed: Theta(0.08080808080808133):0.05628762500055018 sec\n",
      "Combination  328 of 4170\n",
      "beginning: Naive drift model\n",
      "completed: Naive drift model:0.037860647000343306 sec\n",
      "beginning: Prophet\n"
     ]
    },
    {
     "name": "stderr",
     "output_type": "stream",
     "text": [
      "00:36:03 - cmdstanpy - INFO - Chain [1] start processing\n",
      "00:36:04 - cmdstanpy - INFO - Chain [1] done processing\n"
     ]
    },
    {
     "name": "stdout",
     "output_type": "stream",
     "text": [
      "completed: Prophet:1.1472123399980774 sec\n",
      "True\n",
      "beginning: ExponentialSmoothing(trend=ModelMode.ADDITIVE, damped=False, seasonal=SeasonalityMode.ADDITIVE, seasonal_periods=3\n",
      "completed: ExponentialSmoothing(trend=ModelMode.ADDITIVE, damped=False, seasonal=SeasonalityMode.ADDITIVE, seasonal_periods=3:0.3297048240019649 sec\n",
      "beginning: Auto-ARIMA\n",
      "completed: Auto-ARIMA:43.84481044600034 sec\n",
      "beginning: Theta(-0.1212121212121211)\n",
      "completed: Theta(-0.1212121212121211):0.05412098600208992 sec\n",
      "Combination  329 of 4170\n",
      "beginning: Naive drift model\n",
      "completed: Naive drift model:0.03575277799973264 sec\n",
      "beginning: Prophet\n"
     ]
    },
    {
     "name": "stderr",
     "output_type": "stream",
     "text": [
      "00:36:52 - cmdstanpy - INFO - Chain [1] start processing\n",
      "00:36:52 - cmdstanpy - INFO - Chain [1] done processing\n"
     ]
    },
    {
     "name": "stdout",
     "output_type": "stream",
     "text": [
      "completed: Prophet:0.7159829640004318 sec\n",
      "True\n",
      "beginning: ExponentialSmoothing(trend=ModelMode.ADDITIVE, damped=False, seasonal=SeasonalityMode.ADDITIVE, seasonal_periods=3\n",
      "completed: ExponentialSmoothing(trend=ModelMode.ADDITIVE, damped=False, seasonal=SeasonalityMode.ADDITIVE, seasonal_periods=3:0.32503100499889115 sec\n",
      "beginning: Auto-ARIMA\n",
      "completed: Auto-ARIMA:44.73727945700011 sec\n",
      "beginning: Theta(-0.1212121212121211)\n",
      "completed: Theta(-0.1212121212121211):0.05340652599988971 sec\n",
      "Combination  330 of 4170\n",
      "beginning: Naive drift model\n",
      "completed: Naive drift model:0.03487739699994563 sec\n",
      "beginning: Prophet\n"
     ]
    },
    {
     "name": "stderr",
     "output_type": "stream",
     "text": [
      "00:37:41 - cmdstanpy - INFO - Chain [1] start processing\n",
      "00:37:41 - cmdstanpy - INFO - Chain [1] done processing\n"
     ]
    },
    {
     "name": "stdout",
     "output_type": "stream",
     "text": [
      "completed: Prophet:0.7070948049986328 sec\n",
      "True\n",
      "beginning: ExponentialSmoothing(trend=ModelMode.ADDITIVE, damped=False, seasonal=SeasonalityMode.ADDITIVE, seasonal_periods=3\n",
      "completed: ExponentialSmoothing(trend=ModelMode.ADDITIVE, damped=False, seasonal=SeasonalityMode.ADDITIVE, seasonal_periods=3:0.33060239399856073 sec\n",
      "beginning: Auto-ARIMA\n",
      "completed: Auto-ARIMA:70.10986788100126 sec\n",
      "beginning: Theta(0.08080808080808133)\n",
      "completed: Theta(0.08080808080808133):0.05399433599814074 sec\n",
      "Combination  331 of 4170\n",
      "beginning: Naive drift model\n",
      "completed: Naive drift model:0.03625752700099838 sec\n",
      "beginning: Prophet\n"
     ]
    },
    {
     "name": "stderr",
     "output_type": "stream",
     "text": [
      "00:38:56 - cmdstanpy - INFO - Chain [1] start processing\n",
      "00:38:56 - cmdstanpy - INFO - Chain [1] done processing\n"
     ]
    },
    {
     "name": "stdout",
     "output_type": "stream",
     "text": [
      "completed: Prophet:1.0560761880005884 sec\n",
      "True\n",
      "beginning: ExponentialSmoothing(trend=ModelMode.ADDITIVE, damped=False, seasonal=SeasonalityMode.ADDITIVE, seasonal_periods=4\n",
      "completed: ExponentialSmoothing(trend=ModelMode.ADDITIVE, damped=False, seasonal=SeasonalityMode.ADDITIVE, seasonal_periods=4:0.3422494340011326 sec\n",
      "beginning: Auto-ARIMA\n",
      "completed: Auto-ARIMA:43.62794256300185 sec\n",
      "beginning: Theta(0.08080808080808133)\n",
      "completed: Theta(0.08080808080808133):0.05587779599954956 sec\n",
      "Combination  332 of 4170\n",
      "beginning: Naive drift model\n",
      "completed: Naive drift model:0.037229026998829795 sec\n",
      "beginning: Prophet\n"
     ]
    },
    {
     "name": "stderr",
     "output_type": "stream",
     "text": [
      "00:39:44 - cmdstanpy - INFO - Chain [1] start processing\n",
      "00:39:44 - cmdstanpy - INFO - Chain [1] done processing\n"
     ]
    },
    {
     "name": "stdout",
     "output_type": "stream",
     "text": [
      "completed: Prophet:0.754410020999785 sec\n",
      "True\n",
      "beginning: ExponentialSmoothing(trend=ModelMode.ADDITIVE, damped=False, seasonal=SeasonalityMode.ADDITIVE, seasonal_periods=4\n",
      "completed: ExponentialSmoothing(trend=ModelMode.ADDITIVE, damped=False, seasonal=SeasonalityMode.ADDITIVE, seasonal_periods=4:0.32709774500108324 sec\n",
      "beginning: Auto-ARIMA\n",
      "completed: Auto-ARIMA:44.79857156900107 sec\n",
      "beginning: Theta(-0.1212121212121211)\n",
      "completed: Theta(-0.1212121212121211):0.05986829500034219 sec\n",
      "Combination  333 of 4170\n",
      "beginning: Naive drift model\n",
      "completed: Naive drift model:0.036772897001355886 sec\n",
      "beginning: Prophet\n"
     ]
    },
    {
     "name": "stderr",
     "output_type": "stream",
     "text": [
      "00:40:34 - cmdstanpy - INFO - Chain [1] start processing\n",
      "00:40:34 - cmdstanpy - INFO - Chain [1] done processing\n"
     ]
    },
    {
     "name": "stdout",
     "output_type": "stream",
     "text": [
      "completed: Prophet:1.042539049001789 sec\n",
      "True\n",
      "beginning: ExponentialSmoothing(trend=ModelMode.ADDITIVE, damped=False, seasonal=SeasonalityMode.ADDITIVE, seasonal_periods=5\n",
      "completed: ExponentialSmoothing(trend=ModelMode.ADDITIVE, damped=False, seasonal=SeasonalityMode.ADDITIVE, seasonal_periods=5:0.33518618299785885 sec\n",
      "beginning: Auto-ARIMA\n",
      "completed: Auto-ARIMA:109.00757893300033 sec\n",
      "beginning: Theta(0.08080808080808133)\n",
      "completed: Theta(0.08080808080808133):0.05877861499902792 sec\n",
      "Combination  334 of 4170\n",
      "beginning: Naive drift model\n",
      "completed: Naive drift model:0.03545461700196029 sec\n",
      "beginning: Prophet\n"
     ]
    },
    {
     "name": "stderr",
     "output_type": "stream",
     "text": [
      "00:42:28 - cmdstanpy - INFO - Chain [1] start processing\n",
      "00:42:28 - cmdstanpy - INFO - Chain [1] done processing\n"
     ]
    },
    {
     "name": "stdout",
     "output_type": "stream",
     "text": [
      "completed: Prophet:0.8739860219975526 sec\n",
      "True\n",
      "beginning: ExponentialSmoothing(trend=ModelMode.ADDITIVE, damped=False, seasonal=SeasonalityMode.ADDITIVE, seasonal_periods=4\n",
      "completed: ExponentialSmoothing(trend=ModelMode.ADDITIVE, damped=False, seasonal=SeasonalityMode.ADDITIVE, seasonal_periods=4:0.33468047399946954 sec\n",
      "beginning: Auto-ARIMA\n",
      "completed: Auto-ARIMA:36.46081096099806 sec\n",
      "beginning: Theta(-0.1212121212121211)\n",
      "completed: Theta(-0.1212121212121211):0.05428401599783683 sec\n",
      "Combination  335 of 4170\n",
      "beginning: Naive drift model\n",
      "completed: Naive drift model:0.035691376997419866 sec\n",
      "beginning: Prophet\n"
     ]
    },
    {
     "name": "stderr",
     "output_type": "stream",
     "text": [
      "00:43:09 - cmdstanpy - INFO - Chain [1] start processing\n",
      "00:43:09 - cmdstanpy - INFO - Chain [1] done processing\n"
     ]
    },
    {
     "name": "stdout",
     "output_type": "stream",
     "text": [
      "completed: Prophet:0.7885658989980584 sec\n",
      "True\n",
      "beginning: ExponentialSmoothing(trend=ModelMode.ADDITIVE, damped=False, seasonal=SeasonalityMode.ADDITIVE, seasonal_periods=3\n",
      "completed: ExponentialSmoothing(trend=ModelMode.ADDITIVE, damped=False, seasonal=SeasonalityMode.ADDITIVE, seasonal_periods=3:0.32958577400131617 sec\n",
      "beginning: Auto-ARIMA\n",
      "completed: Auto-ARIMA:78.87301261000175 sec\n",
      "beginning: Theta(0.08080808080808133)\n",
      "completed: Theta(0.08080808080808133):0.04881150599976536 sec\n",
      "Combination  336 of 4170\n",
      "beginning: Naive drift model\n",
      "completed: Naive drift model:0.03391459699923871 sec\n",
      "beginning: Prophet\n"
     ]
    },
    {
     "name": "stderr",
     "output_type": "stream",
     "text": [
      "00:44:32 - cmdstanpy - INFO - Chain [1] start processing\n",
      "00:44:32 - cmdstanpy - INFO - Chain [1] done processing\n"
     ]
    },
    {
     "name": "stdout",
     "output_type": "stream",
     "text": [
      "completed: Prophet:1.010995100998116 sec\n",
      "True\n",
      "beginning: ExponentialSmoothing(trend=ModelMode.ADDITIVE, damped=False, seasonal=SeasonalityMode.ADDITIVE, seasonal_periods=3\n",
      "completed: ExponentialSmoothing(trend=ModelMode.ADDITIVE, damped=False, seasonal=SeasonalityMode.ADDITIVE, seasonal_periods=3:0.32608561500092037 sec\n",
      "beginning: Auto-ARIMA\n",
      "completed: Auto-ARIMA:78.93686129499838 sec\n",
      "beginning: Theta(0.08080808080808133)\n",
      "completed: Theta(0.08080808080808133):0.05336581599840429 sec\n",
      "Combination  337 of 4170\n",
      "beginning: Naive drift model\n",
      "completed: Naive drift model:0.03650325700073154 sec\n",
      "beginning: Prophet\n"
     ]
    },
    {
     "name": "stderr",
     "output_type": "stream",
     "text": [
      "00:45:56 - cmdstanpy - INFO - Chain [1] start processing\n",
      "00:45:56 - cmdstanpy - INFO - Chain [1] done processing\n"
     ]
    },
    {
     "name": "stdout",
     "output_type": "stream",
     "text": [
      "completed: Prophet:0.7869668790008291 sec\n",
      "True\n",
      "beginning: ExponentialSmoothing(trend=ModelMode.ADDITIVE, damped=False, seasonal=SeasonalityMode.ADDITIVE, seasonal_periods=5\n",
      "completed: ExponentialSmoothing(trend=ModelMode.ADDITIVE, damped=False, seasonal=SeasonalityMode.ADDITIVE, seasonal_periods=5:0.3326282939997327 sec\n",
      "beginning: Auto-ARIMA\n",
      "completed: Auto-ARIMA:37.347559203000856 sec\n",
      "beginning: Theta(-0.1212121212121211)\n",
      "completed: Theta(-0.1212121212121211):0.05270095499872696 sec\n",
      "Combination  338 of 4170\n",
      "beginning: Naive drift model\n",
      "completed: Naive drift model:0.0364348869989044 sec\n",
      "beginning: Prophet\n"
     ]
    },
    {
     "name": "stderr",
     "output_type": "stream",
     "text": [
      "00:46:38 - cmdstanpy - INFO - Chain [1] start processing\n",
      "00:46:38 - cmdstanpy - INFO - Chain [1] done processing\n"
     ]
    },
    {
     "name": "stdout",
     "output_type": "stream",
     "text": [
      "completed: Prophet:1.0316524999980174 sec\n",
      "True\n",
      "beginning: ExponentialSmoothing(trend=ModelMode.ADDITIVE, damped=False, seasonal=SeasonalityMode.ADDITIVE, seasonal_periods=6\n",
      "completed: ExponentialSmoothing(trend=ModelMode.ADDITIVE, damped=False, seasonal=SeasonalityMode.ADDITIVE, seasonal_periods=6:0.3408169030008139 sec\n",
      "beginning: Auto-ARIMA\n",
      "completed: Auto-ARIMA:127.7406554650006 sec\n",
      "beginning: Theta(-0.1212121212121211)\n",
      "completed: Theta(-0.1212121212121211):0.05504093499985174 sec\n",
      "Combination  339 of 4170\n",
      "beginning: Naive drift model\n",
      "completed: Naive drift model:0.0351309269972262 sec\n",
      "beginning: Prophet\n"
     ]
    },
    {
     "name": "stderr",
     "output_type": "stream",
     "text": [
      "00:48:50 - cmdstanpy - INFO - Chain [1] start processing\n",
      "00:48:50 - cmdstanpy - INFO - Chain [1] done processing\n"
     ]
    },
    {
     "name": "stdout",
     "output_type": "stream",
     "text": [
      "completed: Prophet:0.8123498169989034 sec\n",
      "True\n",
      "beginning: ExponentialSmoothing(trend=ModelMode.ADDITIVE, damped=False, seasonal=SeasonalityMode.ADDITIVE, seasonal_periods=6\n",
      "completed: ExponentialSmoothing(trend=ModelMode.ADDITIVE, damped=False, seasonal=SeasonalityMode.ADDITIVE, seasonal_periods=6:0.3364706329994078 sec\n",
      "beginning: Auto-ARIMA\n",
      "completed: Auto-ARIMA:66.65778420700008 sec\n",
      "beginning: Theta(0.08080808080808133)\n",
      "completed: Theta(0.08080808080808133):0.05208252599913976 sec\n",
      "Combination  340 of 4170\n",
      "beginning: Naive drift model\n",
      "completed: Naive drift model:0.03472139799850993 sec\n",
      "beginning: Prophet\n"
     ]
    },
    {
     "name": "stderr",
     "output_type": "stream",
     "text": [
      "00:50:01 - cmdstanpy - INFO - Chain [1] start processing\n",
      "00:50:01 - cmdstanpy - INFO - Chain [1] done processing\n"
     ]
    },
    {
     "name": "stdout",
     "output_type": "stream",
     "text": [
      "completed: Prophet:0.7790297020001162 sec\n",
      "True\n",
      "beginning: ExponentialSmoothing(trend=ModelMode.ADDITIVE, damped=False, seasonal=SeasonalityMode.ADDITIVE, seasonal_periods=4\n",
      "completed: ExponentialSmoothing(trend=ModelMode.ADDITIVE, damped=False, seasonal=SeasonalityMode.ADDITIVE, seasonal_periods=4:0.32455856500018854 sec\n",
      "beginning: Auto-ARIMA\n",
      "completed: Auto-ARIMA:42.69213291500273 sec\n",
      "beginning: Theta(0.08080808080808133)\n",
      "completed: Theta(0.08080808080808133):0.055367935998219764 sec\n",
      "Combination  341 of 4170\n",
      "beginning: Naive drift model\n",
      "completed: Naive drift model:0.03701701799946022 sec\n",
      "beginning: Prophet\n"
     ]
    },
    {
     "name": "stderr",
     "output_type": "stream",
     "text": [
      "00:50:49 - cmdstanpy - INFO - Chain [1] start processing\n",
      "00:50:49 - cmdstanpy - INFO - Chain [1] done processing\n"
     ]
    },
    {
     "name": "stdout",
     "output_type": "stream",
     "text": [
      "completed: Prophet:0.9905092349981715 sec\n",
      "True\n",
      "beginning: ExponentialSmoothing(trend=ModelMode.ADDITIVE, damped=False, seasonal=SeasonalityMode.ADDITIVE, seasonal_periods=3\n",
      "completed: ExponentialSmoothing(trend=ModelMode.ADDITIVE, damped=False, seasonal=SeasonalityMode.ADDITIVE, seasonal_periods=3:0.32896541499940213 sec\n",
      "beginning: Auto-ARIMA\n",
      "completed: Auto-ARIMA:46.77332580800066 sec\n",
      "beginning: Theta(0.08080808080808133)\n",
      "completed: Theta(0.08080808080808133):0.05232575700210873 sec\n",
      "Combination  342 of 4170\n",
      "beginning: Naive drift model\n",
      "completed: Naive drift model:0.03519778799818596 sec\n",
      "beginning: Prophet\n"
     ]
    },
    {
     "name": "stderr",
     "output_type": "stream",
     "text": [
      "00:51:40 - cmdstanpy - INFO - Chain [1] start processing\n",
      "00:51:40 - cmdstanpy - INFO - Chain [1] done processing\n"
     ]
    },
    {
     "name": "stdout",
     "output_type": "stream",
     "text": [
      "completed: Prophet:0.730808705000527 sec\n",
      "True\n",
      "beginning: ExponentialSmoothing(trend=ModelMode.ADDITIVE, damped=False, seasonal=SeasonalityMode.ADDITIVE, seasonal_periods=4\n",
      "completed: ExponentialSmoothing(trend=ModelMode.ADDITIVE, damped=False, seasonal=SeasonalityMode.ADDITIVE, seasonal_periods=4:0.32590344499840285 sec\n",
      "beginning: Auto-ARIMA\n",
      "completed: Auto-ARIMA:137.59606856600294 sec\n",
      "beginning: Theta(-0.1212121212121211)\n",
      "completed: Theta(-0.1212121212121211):0.0564307650020055 sec\n",
      "Combination  343 of 4170\n",
      "beginning: Naive drift model\n",
      "completed: Naive drift model:0.03840730700176209 sec\n",
      "beginning: Prophet\n"
     ]
    },
    {
     "name": "stderr",
     "output_type": "stream",
     "text": [
      "00:54:02 - cmdstanpy - INFO - Chain [1] start processing\n",
      "00:54:02 - cmdstanpy - INFO - Chain [1] done processing\n"
     ]
    },
    {
     "name": "stdout",
     "output_type": "stream",
     "text": [
      "completed: Prophet:1.03631845199925 sec\n",
      "True\n",
      "beginning: ExponentialSmoothing(trend=ModelMode.ADDITIVE, damped=False, seasonal=SeasonalityMode.ADDITIVE, seasonal_periods=3\n",
      "completed: ExponentialSmoothing(trend=ModelMode.ADDITIVE, damped=False, seasonal=SeasonalityMode.ADDITIVE, seasonal_periods=3:0.3236359350012208 sec\n",
      "beginning: Auto-ARIMA\n",
      "completed: Auto-ARIMA:44.313223844001186 sec\n",
      "beginning: Theta(-0.1212121212121211)\n",
      "completed: Theta(-0.1212121212121211):0.052882315998431295 sec\n",
      "Combination  344 of 4170\n",
      "beginning: Naive drift model\n",
      "completed: Naive drift model:0.03806562699901406 sec\n",
      "beginning: Prophet\n"
     ]
    },
    {
     "name": "stderr",
     "output_type": "stream",
     "text": [
      "00:54:51 - cmdstanpy - INFO - Chain [1] start processing\n",
      "00:54:51 - cmdstanpy - INFO - Chain [1] done processing\n"
     ]
    },
    {
     "name": "stdout",
     "output_type": "stream",
     "text": [
      "completed: Prophet:0.8374281969990989 sec\n",
      "True\n",
      "beginning: ExponentialSmoothing(trend=ModelMode.ADDITIVE, damped=False, seasonal=SeasonalityMode.ADDITIVE, seasonal_periods=4\n",
      "completed: ExponentialSmoothing(trend=ModelMode.ADDITIVE, damped=False, seasonal=SeasonalityMode.ADDITIVE, seasonal_periods=4:0.32085987599930377 sec\n",
      "beginning: Auto-ARIMA\n",
      "completed: Auto-ARIMA:42.06927690199882 sec\n",
      "beginning: Theta(-0.1212121212121211)\n",
      "completed: Theta(-0.1212121212121211):0.05477530599819147 sec\n",
      "Combination  345 of 4170\n",
      "beginning: Naive drift model\n",
      "completed: Naive drift model:0.03909795700019458 sec\n",
      "beginning: Prophet\n"
     ]
    },
    {
     "name": "stderr",
     "output_type": "stream",
     "text": [
      "00:55:38 - cmdstanpy - INFO - Chain [1] start processing\n",
      "00:55:38 - cmdstanpy - INFO - Chain [1] done processing\n"
     ]
    },
    {
     "name": "stdout",
     "output_type": "stream",
     "text": [
      "completed: Prophet:0.7079632470013166 sec\n",
      "True\n",
      "beginning: ExponentialSmoothing(trend=ModelMode.ADDITIVE, damped=False, seasonal=SeasonalityMode.ADDITIVE, seasonal_periods=4\n",
      "completed: ExponentialSmoothing(trend=ModelMode.ADDITIVE, damped=False, seasonal=SeasonalityMode.ADDITIVE, seasonal_periods=4:0.33001310500185355 sec\n",
      "beginning: Auto-ARIMA\n",
      "completed: Auto-ARIMA:43.74685810600204 sec\n",
      "beginning: Theta(0.08080808080808133)\n",
      "completed: Theta(0.08080808080808133):0.05527142499704496 sec\n",
      "Combination  346 of 4170\n",
      "beginning: Naive drift model\n",
      "completed: Naive drift model:0.03660699700049008 sec\n",
      "beginning: Prophet\n"
     ]
    },
    {
     "name": "stderr",
     "output_type": "stream",
     "text": [
      "00:56:26 - cmdstanpy - INFO - Chain [1] start processing\n",
      "00:56:26 - cmdstanpy - INFO - Chain [1] done processing\n"
     ]
    },
    {
     "name": "stdout",
     "output_type": "stream",
     "text": [
      "completed: Prophet:0.9753812269991613 sec\n",
      "True\n",
      "beginning: ExponentialSmoothing(trend=ModelMode.ADDITIVE, damped=False, seasonal=SeasonalityMode.ADDITIVE, seasonal_periods=4\n",
      "completed: ExponentialSmoothing(trend=ModelMode.ADDITIVE, damped=False, seasonal=SeasonalityMode.ADDITIVE, seasonal_periods=4:0.33453318499960005 sec\n",
      "beginning: Auto-ARIMA\n",
      "completed: Auto-ARIMA:42.216229331999784 sec\n",
      "beginning: Theta(-0.1212121212121211)\n",
      "completed: Theta(-0.1212121212121211):0.05241744600061793 sec\n",
      "Combination  347 of 4170\n",
      "beginning: Naive drift model\n",
      "completed: Naive drift model:0.04130275700299535 sec\n",
      "beginning: Prophet\n"
     ]
    },
    {
     "name": "stderr",
     "output_type": "stream",
     "text": [
      "00:57:13 - cmdstanpy - INFO - Chain [1] start processing\n",
      "00:57:13 - cmdstanpy - INFO - Chain [1] done processing\n"
     ]
    },
    {
     "name": "stdout",
     "output_type": "stream",
     "text": [
      "completed: Prophet:0.7277665449983033 sec\n",
      "True\n",
      "beginning: ExponentialSmoothing(trend=ModelMode.ADDITIVE, damped=False, seasonal=SeasonalityMode.ADDITIVE, seasonal_periods=2\n",
      "completed: ExponentialSmoothing(trend=ModelMode.ADDITIVE, damped=False, seasonal=SeasonalityMode.ADDITIVE, seasonal_periods=2:0.32643296500100405 sec\n",
      "beginning: Auto-ARIMA\n",
      "completed: Auto-ARIMA:41.81002046199865 sec\n",
      "beginning: Theta(0.28282828282828376)\n",
      "completed: Theta(0.28282828282828376):0.05665971500275191 sec\n",
      "Combination  348 of 4170\n",
      "beginning: Naive drift model\n",
      "completed: Naive drift model:0.03743550700164633 sec\n",
      "beginning: Prophet\n"
     ]
    },
    {
     "name": "stderr",
     "output_type": "stream",
     "text": [
      "00:57:59 - cmdstanpy - INFO - Chain [1] start processing\n",
      "00:58:00 - cmdstanpy - INFO - Chain [1] done processing\n"
     ]
    },
    {
     "name": "stdout",
     "output_type": "stream",
     "text": [
      "completed: Prophet:1.0204301630001282 sec\n",
      "True\n",
      "beginning: ExponentialSmoothing(trend=ModelMode.ADDITIVE, damped=False, seasonal=SeasonalityMode.ADDITIVE, seasonal_periods=5\n",
      "completed: ExponentialSmoothing(trend=ModelMode.ADDITIVE, damped=False, seasonal=SeasonalityMode.ADDITIVE, seasonal_periods=5:0.33462263500041445 sec\n",
      "beginning: Auto-ARIMA\n",
      "completed: Auto-ARIMA:45.560166498999024 sec\n",
      "beginning: Theta(0.28282828282828376)\n",
      "completed: Theta(0.28282828282828376):0.050934716000483604 sec\n",
      "Combination  349 of 4170\n",
      "beginning: Naive drift model\n",
      "completed: Naive drift model:0.03443979700023192 sec\n",
      "beginning: Prophet\n"
     ]
    },
    {
     "name": "stderr",
     "output_type": "stream",
     "text": [
      "00:58:50 - cmdstanpy - INFO - Chain [1] start processing\n",
      "00:58:50 - cmdstanpy - INFO - Chain [1] done processing\n"
     ]
    },
    {
     "name": "stdout",
     "output_type": "stream",
     "text": [
      "completed: Prophet:0.7761167819990078 sec\n",
      "True\n",
      "beginning: ExponentialSmoothing(trend=ModelMode.ADDITIVE, damped=False, seasonal=SeasonalityMode.ADDITIVE, seasonal_periods=3\n",
      "completed: ExponentialSmoothing(trend=ModelMode.ADDITIVE, damped=False, seasonal=SeasonalityMode.ADDITIVE, seasonal_periods=3:0.32767431500178645 sec\n",
      "beginning: Auto-ARIMA\n",
      "completed: Auto-ARIMA:44.600096011999995 sec\n",
      "beginning: Theta(-0.1212121212121211)\n",
      "completed: Theta(-0.1212121212121211):0.05491508599880035 sec\n",
      "Combination  350 of 4170\n",
      "beginning: Naive drift model\n",
      "completed: Naive drift model:0.03564697799811256 sec\n",
      "beginning: Prophet\n"
     ]
    },
    {
     "name": "stderr",
     "output_type": "stream",
     "text": [
      "00:59:39 - cmdstanpy - INFO - Chain [1] start processing\n",
      "00:59:39 - cmdstanpy - INFO - Chain [1] done processing\n"
     ]
    },
    {
     "name": "stdout",
     "output_type": "stream",
     "text": [
      "completed: Prophet:0.7718805810000049 sec\n",
      "True\n",
      "beginning: ExponentialSmoothing(trend=ModelMode.ADDITIVE, damped=False, seasonal=SeasonalityMode.ADDITIVE, seasonal_periods=7\n",
      "completed: ExponentialSmoothing(trend=ModelMode.ADDITIVE, damped=False, seasonal=SeasonalityMode.ADDITIVE, seasonal_periods=7:0.3265782249982294 sec\n",
      "beginning: Auto-ARIMA\n",
      "completed: Auto-ARIMA:69.27272088500104 sec\n",
      "beginning: Theta(0.08080808080808133)\n",
      "completed: Theta(0.08080808080808133):0.05118835599932936 sec\n",
      "Combination  351 of 4170\n",
      "beginning: Naive drift model\n",
      "completed: Naive drift model:0.036719676998473005 sec\n",
      "beginning: Prophet\n"
     ]
    },
    {
     "name": "stderr",
     "output_type": "stream",
     "text": [
      "01:00:52 - cmdstanpy - INFO - Chain [1] start processing\n",
      "01:00:53 - cmdstanpy - INFO - Chain [1] done processing\n"
     ]
    },
    {
     "name": "stdout",
     "output_type": "stream",
     "text": [
      "completed: Prophet:1.0873324679996585 sec\n",
      "True\n",
      "beginning: ExponentialSmoothing(trend=ModelMode.ADDITIVE, damped=False, seasonal=SeasonalityMode.ADDITIVE, seasonal_periods=3\n",
      "completed: ExponentialSmoothing(trend=ModelMode.ADDITIVE, damped=False, seasonal=SeasonalityMode.ADDITIVE, seasonal_periods=3:0.3326519559996086 sec\n",
      "beginning: Auto-ARIMA\n",
      "completed: Auto-ARIMA:45.83201352899778 sec\n",
      "beginning: Theta(-0.1212121212121211)\n",
      "completed: Theta(-0.1212121212121211):0.061203336001199204 sec\n",
      "Combination  352 of 4170\n",
      "beginning: Naive drift model\n",
      "completed: Naive drift model:0.036011707001307514 sec\n",
      "beginning: Prophet\n"
     ]
    },
    {
     "name": "stderr",
     "output_type": "stream",
     "text": [
      "01:01:43 - cmdstanpy - INFO - Chain [1] start processing\n",
      "01:01:43 - cmdstanpy - INFO - Chain [1] done processing\n"
     ]
    },
    {
     "name": "stdout",
     "output_type": "stream",
     "text": [
      "completed: Prophet:0.8499828159983736 sec\n",
      "True\n",
      "beginning: ExponentialSmoothing(trend=ModelMode.ADDITIVE, damped=False, seasonal=SeasonalityMode.ADDITIVE, seasonal_periods=4\n",
      "completed: ExponentialSmoothing(trend=ModelMode.ADDITIVE, damped=False, seasonal=SeasonalityMode.ADDITIVE, seasonal_periods=4:0.33160076499916613 sec\n",
      "beginning: Auto-ARIMA\n",
      "completed: Auto-ARIMA:40.02902110600189 sec\n",
      "beginning: Theta(-0.5252525252525242)\n",
      "completed: Theta(-0.5252525252525242):0.05334517599840183 sec\n",
      "Combination  353 of 4170\n",
      "beginning: Naive drift model\n",
      "completed: Naive drift model:0.03652639800202451 sec\n",
      "beginning: Prophet\n"
     ]
    },
    {
     "name": "stderr",
     "output_type": "stream",
     "text": [
      "01:02:28 - cmdstanpy - INFO - Chain [1] start processing\n",
      "01:02:28 - cmdstanpy - INFO - Chain [1] done processing\n"
     ]
    },
    {
     "name": "stdout",
     "output_type": "stream",
     "text": [
      "completed: Prophet:0.8292630069990992 sec\n",
      "True\n",
      "beginning: ExponentialSmoothing(trend=ModelMode.ADDITIVE, damped=False, seasonal=SeasonalityMode.ADDITIVE, seasonal_periods=6\n",
      "completed: ExponentialSmoothing(trend=ModelMode.ADDITIVE, damped=False, seasonal=SeasonalityMode.ADDITIVE, seasonal_periods=6:0.3305450049992942 sec\n",
      "beginning: Auto-ARIMA\n",
      "completed: Auto-ARIMA:67.91963755700272 sec\n",
      "beginning: Theta(-0.1212121212121211)\n",
      "completed: Theta(-0.1212121212121211):0.05592304499805323 sec\n",
      "Combination  354 of 4170\n",
      "beginning: Naive drift model\n",
      "completed: Naive drift model:0.035062047998508206 sec\n",
      "beginning: Prophet\n"
     ]
    },
    {
     "name": "stderr",
     "output_type": "stream",
     "text": [
      "01:03:40 - cmdstanpy - INFO - Chain [1] start processing\n",
      "01:03:40 - cmdstanpy - INFO - Chain [1] done processing\n"
     ]
    },
    {
     "name": "stdout",
     "output_type": "stream",
     "text": [
      "completed: Prophet:0.9534202489994641 sec\n",
      "True\n",
      "beginning: ExponentialSmoothing(trend=ModelMode.ADDITIVE, damped=False, seasonal=SeasonalityMode.ADDITIVE, seasonal_periods=5\n",
      "completed: ExponentialSmoothing(trend=ModelMode.ADDITIVE, damped=False, seasonal=SeasonalityMode.ADDITIVE, seasonal_periods=5:0.32804754600147135 sec\n",
      "beginning: Auto-ARIMA\n",
      "completed: Auto-ARIMA:54.08355613599997 sec\n",
      "beginning: Theta(0.08080808080808133)\n",
      "completed: Theta(0.08080808080808133):0.05514289499842562 sec\n",
      "Combination  355 of 4170\n",
      "beginning: Naive drift model\n",
      "completed: Naive drift model:0.04125259699867456 sec\n",
      "beginning: Prophet\n"
     ]
    },
    {
     "name": "stderr",
     "output_type": "stream",
     "text": [
      "01:04:39 - cmdstanpy - INFO - Chain [1] start processing\n",
      "01:04:39 - cmdstanpy - INFO - Chain [1] done processing\n"
     ]
    },
    {
     "name": "stdout",
     "output_type": "stream",
     "text": [
      "completed: Prophet:0.7921140199978254 sec\n",
      "True\n",
      "beginning: ExponentialSmoothing(trend=ModelMode.ADDITIVE, damped=False, seasonal=SeasonalityMode.ADDITIVE, seasonal_periods=7\n",
      "completed: ExponentialSmoothing(trend=ModelMode.ADDITIVE, damped=False, seasonal=SeasonalityMode.ADDITIVE, seasonal_periods=7:0.3282470750018547 sec\n",
      "beginning: Auto-ARIMA\n",
      "completed: Auto-ARIMA:94.7289292280002 sec\n",
      "beginning: Theta(0.08080808080808133)\n",
      "completed: Theta(0.08080808080808133):0.06111119500201312 sec\n",
      "Combination  356 of 4170\n",
      "beginning: Naive drift model\n",
      "completed: Naive drift model:0.03594418699867674 sec\n",
      "beginning: Prophet\n"
     ]
    },
    {
     "name": "stderr",
     "output_type": "stream",
     "text": [
      "01:06:18 - cmdstanpy - INFO - Chain [1] start processing\n",
      "01:06:18 - cmdstanpy - INFO - Chain [1] done processing\n"
     ]
    },
    {
     "name": "stdout",
     "output_type": "stream",
     "text": [
      "completed: Prophet:0.7178449960010767 sec\n",
      "True\n",
      "beginning: ExponentialSmoothing(trend=ModelMode.ADDITIVE, damped=False, seasonal=SeasonalityMode.ADDITIVE, seasonal_periods=3\n",
      "completed: ExponentialSmoothing(trend=ModelMode.ADDITIVE, damped=False, seasonal=SeasonalityMode.ADDITIVE, seasonal_periods=3:0.33507847500004573 sec\n",
      "beginning: Auto-ARIMA\n",
      "completed: Auto-ARIMA:39.037312766999094 sec\n",
      "beginning: Theta(-0.32323232323232354)\n",
      "completed: Theta(-0.32323232323232354):0.05320814600054291 sec\n",
      "Combination  357 of 4170\n",
      "beginning: Naive drift model\n",
      "completed: Naive drift model:0.03486646700184792 sec\n",
      "beginning: Prophet\n"
     ]
    },
    {
     "name": "stderr",
     "output_type": "stream",
     "text": [
      "01:07:02 - cmdstanpy - INFO - Chain [1] start processing\n",
      "01:07:02 - cmdstanpy - INFO - Chain [1] done processing\n"
     ]
    },
    {
     "name": "stdout",
     "output_type": "stream",
     "text": [
      "completed: Prophet:1.077678839003056 sec\n",
      "True\n",
      "beginning: ExponentialSmoothing(trend=ModelMode.ADDITIVE, damped=False, seasonal=SeasonalityMode.ADDITIVE, seasonal_periods=7\n",
      "completed: ExponentialSmoothing(trend=ModelMode.ADDITIVE, damped=False, seasonal=SeasonalityMode.ADDITIVE, seasonal_periods=7:0.33687075399939204 sec\n",
      "beginning: Auto-ARIMA\n",
      "completed: Auto-ARIMA:87.36853685900132 sec\n",
      "beginning: Theta(0.28282828282828376)\n",
      "completed: Theta(0.28282828282828376):0.05232905700177071 sec\n",
      "Combination  358 of 4170\n",
      "beginning: Naive drift model\n",
      "completed: Naive drift model:0.03396863800298888 sec\n",
      "beginning: Prophet\n"
     ]
    },
    {
     "name": "stderr",
     "output_type": "stream",
     "text": [
      "01:08:34 - cmdstanpy - INFO - Chain [1] start processing\n",
      "01:08:34 - cmdstanpy - INFO - Chain [1] done processing\n"
     ]
    },
    {
     "name": "stdout",
     "output_type": "stream",
     "text": [
      "completed: Prophet:0.7843359010003041 sec\n",
      "True\n",
      "beginning: ExponentialSmoothing(trend=ModelMode.ADDITIVE, damped=False, seasonal=SeasonalityMode.ADDITIVE, seasonal_periods=4\n",
      "completed: ExponentialSmoothing(trend=ModelMode.ADDITIVE, damped=False, seasonal=SeasonalityMode.ADDITIVE, seasonal_periods=4:0.3286058449994016 sec\n",
      "beginning: Auto-ARIMA\n",
      "completed: Auto-ARIMA:38.654021436999756 sec\n",
      "beginning: Theta(-0.1212121212121211)\n",
      "completed: Theta(-0.1212121212121211):0.05296289599937154 sec\n",
      "Combination  359 of 4170\n",
      "beginning: Naive drift model\n",
      "completed: Naive drift model:0.03882138699918869 sec\n",
      "beginning: Prophet\n"
     ]
    },
    {
     "name": "stderr",
     "output_type": "stream",
     "text": [
      "01:09:17 - cmdstanpy - INFO - Chain [1] start processing\n",
      "01:09:18 - cmdstanpy - INFO - Chain [1] done processing\n"
     ]
    },
    {
     "name": "stdout",
     "output_type": "stream",
     "text": [
      "completed: Prophet:0.8739386039997044 sec\n",
      "True\n",
      "beginning: ExponentialSmoothing(trend=ModelMode.ADDITIVE, damped=False, seasonal=SeasonalityMode.ADDITIVE, seasonal_periods=3\n",
      "completed: ExponentialSmoothing(trend=ModelMode.ADDITIVE, damped=False, seasonal=SeasonalityMode.ADDITIVE, seasonal_periods=3:0.3244395860019722 sec\n",
      "beginning: Auto-ARIMA\n",
      "completed: Auto-ARIMA:66.77951810599916 sec\n",
      "beginning: Theta(0.08080808080808133)\n",
      "completed: Theta(0.08080808080808133):0.05434302600042429 sec\n",
      "Combination  360 of 4170\n",
      "beginning: Naive drift model\n",
      "completed: Naive drift model:0.03673287700075889 sec\n",
      "beginning: Prophet\n"
     ]
    },
    {
     "name": "stderr",
     "output_type": "stream",
     "text": [
      "01:10:29 - cmdstanpy - INFO - Chain [1] start processing\n",
      "01:10:29 - cmdstanpy - INFO - Chain [1] done processing\n"
     ]
    },
    {
     "name": "stdout",
     "output_type": "stream",
     "text": [
      "completed: Prophet:1.2483752359985374 sec\n",
      "True\n",
      "beginning: ExponentialSmoothing(trend=ModelMode.ADDITIVE, damped=False, seasonal=SeasonalityMode.ADDITIVE, seasonal_periods=6\n",
      "completed: ExponentialSmoothing(trend=ModelMode.ADDITIVE, damped=False, seasonal=SeasonalityMode.ADDITIVE, seasonal_periods=6:0.3330401749990415 sec\n",
      "beginning: Auto-ARIMA\n",
      "completed: Auto-ARIMA:48.48379442999794 sec\n",
      "beginning: Theta(-0.1212121212121211)\n",
      "completed: Theta(-0.1212121212121211):0.05264106599861407 sec\n",
      "Combination  361 of 4170\n",
      "beginning: Naive drift model\n",
      "completed: Naive drift model:0.037851766999665415 sec\n",
      "beginning: Prophet\n"
     ]
    },
    {
     "name": "stderr",
     "output_type": "stream",
     "text": [
      "01:11:22 - cmdstanpy - INFO - Chain [1] start processing\n",
      "01:11:22 - cmdstanpy - INFO - Chain [1] done processing\n"
     ]
    },
    {
     "name": "stdout",
     "output_type": "stream",
     "text": [
      "completed: Prophet:0.9919867750031699 sec\n",
      "True\n",
      "beginning: ExponentialSmoothing(trend=ModelMode.ADDITIVE, damped=False, seasonal=SeasonalityMode.ADDITIVE, seasonal_periods=13\n",
      "completed: ExponentialSmoothing(trend=ModelMode.ADDITIVE, damped=False, seasonal=SeasonalityMode.ADDITIVE, seasonal_periods=13:0.34493336400191765 sec\n",
      "beginning: Auto-ARIMA\n",
      "completed: Auto-ARIMA:211.6653855859986 sec\n",
      "beginning: Theta(-0.1212121212121211)\n",
      "completed: Theta(-0.1212121212121211):0.05316131599829532 sec\n",
      "Combination  362 of 4170\n",
      "beginning: Naive drift model\n",
      "completed: Naive drift model:0.03571981700224569 sec\n",
      "beginning: Prophet\n"
     ]
    },
    {
     "name": "stderr",
     "output_type": "stream",
     "text": [
      "01:14:58 - cmdstanpy - INFO - Chain [1] start processing\n",
      "01:14:59 - cmdstanpy - INFO - Chain [1] done processing\n"
     ]
    },
    {
     "name": "stdout",
     "output_type": "stream",
     "text": [
      "completed: Prophet:1.3117263019994425 sec\n",
      "True\n",
      "beginning: ExponentialSmoothing(trend=ModelMode.ADDITIVE, damped=False, seasonal=SeasonalityMode.ADDITIVE, seasonal_periods=4\n",
      "completed: ExponentialSmoothing(trend=ModelMode.ADDITIVE, damped=False, seasonal=SeasonalityMode.ADDITIVE, seasonal_periods=4:0.3324575939986971 sec\n",
      "beginning: Auto-ARIMA\n",
      "completed: Auto-ARIMA:43.491825324003 sec\n",
      "beginning: Theta(-0.1212121212121211)\n",
      "completed: Theta(-0.1212121212121211):0.053653365997888613 sec\n",
      "Combination  363 of 4170\n",
      "beginning: Naive drift model\n",
      "completed: Naive drift model:0.03800630700061447 sec\n",
      "beginning: Prophet\n"
     ]
    },
    {
     "name": "stderr",
     "output_type": "stream",
     "text": [
      "01:15:47 - cmdstanpy - INFO - Chain [1] start processing\n",
      "01:15:47 - cmdstanpy - INFO - Chain [1] done processing\n"
     ]
    },
    {
     "name": "stdout",
     "output_type": "stream",
     "text": [
      "completed: Prophet:0.9049007719986548 sec\n",
      "True\n",
      "beginning: ExponentialSmoothing(trend=ModelMode.ADDITIVE, damped=False, seasonal=SeasonalityMode.ADDITIVE, seasonal_periods=6\n",
      "completed: ExponentialSmoothing(trend=ModelMode.ADDITIVE, damped=False, seasonal=SeasonalityMode.ADDITIVE, seasonal_periods=6:0.32816242500121007 sec\n",
      "beginning: Auto-ARIMA\n",
      "completed: Auto-ARIMA:69.32002684599865 sec\n",
      "beginning: Theta(0.08080808080808133)\n",
      "completed: Theta(0.08080808080808133):0.05344098600107827 sec\n",
      "Combination  364 of 4170\n",
      "beginning: Naive drift model\n",
      "completed: Naive drift model:0.03566765700088581 sec\n",
      "beginning: Prophet\n"
     ]
    },
    {
     "name": "stderr",
     "output_type": "stream",
     "text": [
      "01:17:01 - cmdstanpy - INFO - Chain [1] start processing\n",
      "01:17:01 - cmdstanpy - INFO - Chain [1] done processing\n"
     ]
    },
    {
     "name": "stdout",
     "output_type": "stream",
     "text": [
      "completed: Prophet:0.8192366779985605 sec\n",
      "True\n",
      "beginning: ExponentialSmoothing(trend=ModelMode.ADDITIVE, damped=False, seasonal=SeasonalityMode.ADDITIVE, seasonal_periods=3\n",
      "completed: ExponentialSmoothing(trend=ModelMode.ADDITIVE, damped=False, seasonal=SeasonalityMode.ADDITIVE, seasonal_periods=3:0.32937276500160806 sec\n",
      "beginning: Auto-ARIMA\n",
      "completed: Auto-ARIMA:63.12875388900284 sec\n",
      "beginning: Theta(-0.1212121212121211)\n",
      "completed: Theta(-0.1212121212121211):0.05157368599975598 sec\n",
      "Combination  365 of 4170\n",
      "beginning: Naive drift model\n",
      "completed: Naive drift model:0.03508077700098511 sec\n",
      "beginning: Prophet\n"
     ]
    },
    {
     "name": "stderr",
     "output_type": "stream",
     "text": [
      "01:18:08 - cmdstanpy - INFO - Chain [1] start processing\n",
      "01:18:09 - cmdstanpy - INFO - Chain [1] done processing\n"
     ]
    },
    {
     "name": "stdout",
     "output_type": "stream",
     "text": [
      "completed: Prophet:1.2623425650017452 sec\n",
      "True\n",
      "beginning: ExponentialSmoothing(trend=ModelMode.ADDITIVE, damped=False, seasonal=SeasonalityMode.ADDITIVE, seasonal_periods=3\n",
      "completed: ExponentialSmoothing(trend=ModelMode.ADDITIVE, damped=False, seasonal=SeasonalityMode.ADDITIVE, seasonal_periods=3:0.3235391759990307 sec\n",
      "beginning: Auto-ARIMA\n",
      "completed: Auto-ARIMA:76.00399059300253 sec\n",
      "beginning: Theta(0.08080808080808133)\n",
      "completed: Theta(0.08080808080808133):0.05166449599710177 sec\n",
      "Combination  366 of 4170\n",
      "beginning: Naive drift model\n",
      "completed: Naive drift model:0.036016737001773436 sec\n",
      "beginning: Prophet\n"
     ]
    },
    {
     "name": "stderr",
     "output_type": "stream",
     "text": [
      "01:19:29 - cmdstanpy - INFO - Chain [1] start processing\n",
      "01:19:30 - cmdstanpy - INFO - Chain [1] done processing\n"
     ]
    },
    {
     "name": "stdout",
     "output_type": "stream",
     "text": [
      "completed: Prophet:0.7659918019999168 sec\n",
      "True\n",
      "beginning: ExponentialSmoothing(trend=ModelMode.ADDITIVE, damped=False, seasonal=SeasonalityMode.ADDITIVE, seasonal_periods=4\n",
      "completed: ExponentialSmoothing(trend=ModelMode.ADDITIVE, damped=False, seasonal=SeasonalityMode.ADDITIVE, seasonal_periods=4:0.3273595460013894 sec\n",
      "beginning: Auto-ARIMA\n",
      "completed: Auto-ARIMA:44.19973311099966 sec\n",
      "beginning: Theta(0.28282828282828376)\n",
      "completed: Theta(0.28282828282828376):0.05670035599905532 sec\n",
      "Combination  367 of 4170\n",
      "beginning: Naive drift model\n",
      "completed: Naive drift model:0.035426957001618575 sec\n",
      "beginning: Prophet\n"
     ]
    },
    {
     "name": "stderr",
     "output_type": "stream",
     "text": [
      "01:20:18 - cmdstanpy - INFO - Chain [1] start processing\n",
      "01:20:18 - cmdstanpy - INFO - Chain [1] done processing\n"
     ]
    },
    {
     "name": "stdout",
     "output_type": "stream",
     "text": [
      "completed: Prophet:0.7528156340013084 sec\n",
      "True\n",
      "beginning: ExponentialSmoothing(trend=ModelMode.ADDITIVE, damped=False, seasonal=SeasonalityMode.ADDITIVE, seasonal_periods=5\n",
      "completed: ExponentialSmoothing(trend=ModelMode.ADDITIVE, damped=False, seasonal=SeasonalityMode.ADDITIVE, seasonal_periods=5:0.32486597600291134 sec\n",
      "beginning: Auto-ARIMA\n",
      "completed: Auto-ARIMA:51.45957999500024 sec\n",
      "beginning: Theta(0.08080808080808133)\n",
      "completed: Theta(0.08080808080808133):0.06084413599819527 sec\n",
      "Combination  368 of 4170\n",
      "beginning: Naive drift model\n",
      "completed: Naive drift model:0.03585574699900462 sec\n",
      "beginning: Prophet\n"
     ]
    },
    {
     "name": "stderr",
     "output_type": "stream",
     "text": [
      "01:21:14 - cmdstanpy - INFO - Chain [1] start processing\n",
      "01:21:15 - cmdstanpy - INFO - Chain [1] done processing\n"
     ]
    },
    {
     "name": "stdout",
     "output_type": "stream",
     "text": [
      "completed: Prophet:1.2759491639990301 sec\n",
      "True\n",
      "beginning: ExponentialSmoothing(trend=ModelMode.ADDITIVE, damped=False, seasonal=SeasonalityMode.ADDITIVE, seasonal_periods=6\n",
      "completed: ExponentialSmoothing(trend=ModelMode.ADDITIVE, damped=False, seasonal=SeasonalityMode.ADDITIVE, seasonal_periods=6:0.32977022499835584 sec\n",
      "beginning: Auto-ARIMA\n",
      "completed: Auto-ARIMA:70.40309794300265 sec\n",
      "beginning: Theta(0.08080808080808133)\n",
      "completed: Theta(0.08080808080808133):0.05502128599982825 sec\n",
      "Combination  369 of 4170\n",
      "beginning: Naive drift model\n",
      "completed: Naive drift model:0.03643661800015252 sec\n",
      "beginning: Prophet\n"
     ]
    },
    {
     "name": "stderr",
     "output_type": "stream",
     "text": [
      "01:22:29 - cmdstanpy - INFO - Chain [1] start processing\n",
      "01:22:30 - cmdstanpy - INFO - Chain [1] done processing\n"
     ]
    },
    {
     "name": "stdout",
     "output_type": "stream",
     "text": [
      "completed: Prophet:0.6731741199982935 sec\n",
      "True\n",
      "beginning: ExponentialSmoothing(trend=ModelMode.ADDITIVE, damped=False, seasonal=SeasonalityMode.ADDITIVE, seasonal_periods=8\n",
      "completed: ExponentialSmoothing(trend=ModelMode.ADDITIVE, damped=False, seasonal=SeasonalityMode.ADDITIVE, seasonal_periods=8:0.33126826499938034 sec\n",
      "beginning: Auto-ARIMA\n",
      "completed: Auto-ARIMA:99.40917833300045 sec\n",
      "beginning: Theta(-0.1212121212121211)\n",
      "completed: Theta(-0.1212121212121211):0.05460822600070969 sec\n",
      "Combination  370 of 4170\n",
      "beginning: Naive drift model\n",
      "completed: Naive drift model:0.03653912800291437 sec\n",
      "beginning: Prophet\n"
     ]
    },
    {
     "name": "stderr",
     "output_type": "stream",
     "text": [
      "01:24:13 - cmdstanpy - INFO - Chain [1] start processing\n",
      "01:24:13 - cmdstanpy - INFO - Chain [1] done processing\n"
     ]
    },
    {
     "name": "stdout",
     "output_type": "stream",
     "text": [
      "completed: Prophet:1.0767571390024386 sec\n",
      "True\n",
      "beginning: ExponentialSmoothing(trend=ModelMode.ADDITIVE, damped=False, seasonal=SeasonalityMode.ADDITIVE, seasonal_periods=6\n",
      "completed: ExponentialSmoothing(trend=ModelMode.ADDITIVE, damped=False, seasonal=SeasonalityMode.ADDITIVE, seasonal_periods=6:0.336233584999718 sec\n",
      "beginning: Auto-ARIMA\n",
      "completed: Auto-ARIMA:53.926500657998986 sec\n",
      "beginning: Theta(0.08080808080808133)\n",
      "completed: Theta(0.08080808080808133):0.06076999500146485 sec\n",
      "Combination  371 of 4170\n",
      "beginning: Naive drift model\n",
      "completed: Naive drift model:0.0357323969983554 sec\n",
      "beginning: Prophet\n"
     ]
    },
    {
     "name": "stderr",
     "output_type": "stream",
     "text": [
      "01:25:12 - cmdstanpy - INFO - Chain [1] start processing\n",
      "01:25:12 - cmdstanpy - INFO - Chain [1] done processing\n"
     ]
    },
    {
     "name": "stdout",
     "output_type": "stream",
     "text": [
      "completed: Prophet:0.885014574003435 sec\n",
      "True\n",
      "beginning: ExponentialSmoothing(trend=ModelMode.ADDITIVE, damped=False, seasonal=SeasonalityMode.ADDITIVE, seasonal_periods=3\n",
      "completed: ExponentialSmoothing(trend=ModelMode.ADDITIVE, damped=False, seasonal=SeasonalityMode.ADDITIVE, seasonal_periods=3:0.3319678650004789 sec\n",
      "beginning: Auto-ARIMA\n",
      "completed: Auto-ARIMA:43.43934205199912 sec\n",
      "beginning: Theta(0.08080808080808133)\n",
      "completed: Theta(0.08080808080808133):0.05259354600275401 sec\n",
      "Combination  372 of 4170\n",
      "beginning: Naive drift model\n",
      "completed: Naive drift model:0.036400798002432566 sec\n",
      "beginning: Prophet\n"
     ]
    },
    {
     "name": "stderr",
     "output_type": "stream",
     "text": [
      "01:26:00 - cmdstanpy - INFO - Chain [1] start processing\n",
      "01:26:00 - cmdstanpy - INFO - Chain [1] done processing\n"
     ]
    },
    {
     "name": "stdout",
     "output_type": "stream",
     "text": [
      "completed: Prophet:0.8009474499995122 sec\n",
      "True\n",
      "beginning: ExponentialSmoothing(trend=ModelMode.ADDITIVE, damped=False, seasonal=SeasonalityMode.ADDITIVE, seasonal_periods=7\n",
      "completed: ExponentialSmoothing(trend=ModelMode.ADDITIVE, damped=False, seasonal=SeasonalityMode.ADDITIVE, seasonal_periods=7:0.32758036499944865 sec\n",
      "beginning: Auto-ARIMA\n",
      "completed: Auto-ARIMA:59.3812107699996 sec\n",
      "beginning: Theta(0.08080808080808133)\n",
      "completed: Theta(0.08080808080808133):0.05410758599828114 sec\n",
      "Combination  373 of 4170\n",
      "beginning: Naive drift model\n",
      "completed: Naive drift model:0.035867118000169285 sec\n",
      "beginning: Prophet\n"
     ]
    },
    {
     "name": "stderr",
     "output_type": "stream",
     "text": [
      "01:27:04 - cmdstanpy - INFO - Chain [1] start processing\n",
      "01:27:04 - cmdstanpy - INFO - Chain [1] done processing\n"
     ]
    },
    {
     "name": "stdout",
     "output_type": "stream",
     "text": [
      "completed: Prophet:0.9238547599998128 sec\n",
      "True\n",
      "beginning: ExponentialSmoothing(trend=ModelMode.ADDITIVE, damped=False, seasonal=SeasonalityMode.ADDITIVE, seasonal_periods=7\n",
      "completed: ExponentialSmoothing(trend=ModelMode.ADDITIVE, damped=False, seasonal=SeasonalityMode.ADDITIVE, seasonal_periods=7:0.32859981499859714 sec\n",
      "beginning: Auto-ARIMA\n",
      "completed: Auto-ARIMA:66.57350852200034 sec\n",
      "beginning: Theta(0.08080808080808133)\n",
      "completed: Theta(0.08080808080808133):0.05716432600092958 sec\n",
      "Combination  374 of 4170\n",
      "beginning: Naive drift model\n",
      "completed: Naive drift model:0.037489467998966575 sec\n",
      "beginning: Prophet\n"
     ]
    },
    {
     "name": "stderr",
     "output_type": "stream",
     "text": [
      "01:28:15 - cmdstanpy - INFO - Chain [1] start processing\n",
      "01:28:16 - cmdstanpy - INFO - Chain [1] done processing\n"
     ]
    },
    {
     "name": "stdout",
     "output_type": "stream",
     "text": [
      "completed: Prophet:0.7264288660007878 sec\n",
      "True\n",
      "beginning: ExponentialSmoothing(trend=ModelMode.ADDITIVE, damped=False, seasonal=SeasonalityMode.ADDITIVE, seasonal_periods=4\n",
      "completed: ExponentialSmoothing(trend=ModelMode.ADDITIVE, damped=False, seasonal=SeasonalityMode.ADDITIVE, seasonal_periods=4:0.3388588140005595 sec\n",
      "beginning: Auto-ARIMA\n",
      "completed: Auto-ARIMA:44.8384591139984 sec\n",
      "beginning: Theta(0.08080808080808133)\n",
      "completed: Theta(0.08080808080808133):0.0531110260017158 sec\n",
      "Combination  375 of 4170\n",
      "beginning: Naive drift model\n",
      "completed: Naive drift model:0.03838643700146349 sec\n",
      "beginning: Prophet\n"
     ]
    },
    {
     "name": "stderr",
     "output_type": "stream",
     "text": [
      "01:29:05 - cmdstanpy - INFO - Chain [1] start processing\n",
      "01:29:05 - cmdstanpy - INFO - Chain [1] done processing\n"
     ]
    },
    {
     "name": "stdout",
     "output_type": "stream",
     "text": [
      "completed: Prophet:0.7829701509981533 sec\n",
      "True\n",
      "beginning: ExponentialSmoothing(trend=ModelMode.ADDITIVE, damped=False, seasonal=SeasonalityMode.ADDITIVE, seasonal_periods=3\n",
      "completed: ExponentialSmoothing(trend=ModelMode.ADDITIVE, damped=False, seasonal=SeasonalityMode.ADDITIVE, seasonal_periods=3:0.32860064600026817 sec\n",
      "beginning: Auto-ARIMA\n",
      "completed: Auto-ARIMA:45.21292287899996 sec\n",
      "beginning: Theta(-0.1212121212121211)\n",
      "completed: Theta(-0.1212121212121211):0.05413454600056866 sec\n",
      "Combination  376 of 4170\n",
      "beginning: Naive drift model\n",
      "completed: Naive drift model:0.04145587599850842 sec\n",
      "beginning: Prophet\n"
     ]
    },
    {
     "name": "stderr",
     "output_type": "stream",
     "text": [
      "01:29:55 - cmdstanpy - INFO - Chain [1] start processing\n",
      "01:29:55 - cmdstanpy - INFO - Chain [1] done processing\n"
     ]
    },
    {
     "name": "stdout",
     "output_type": "stream",
     "text": [
      "completed: Prophet:1.0990143279996119 sec\n",
      "True\n",
      "beginning: ExponentialSmoothing(trend=ModelMode.ADDITIVE, damped=False, seasonal=SeasonalityMode.ADDITIVE, seasonal_periods=6\n",
      "completed: ExponentialSmoothing(trend=ModelMode.ADDITIVE, damped=False, seasonal=SeasonalityMode.ADDITIVE, seasonal_periods=6:0.3306594449968543 sec\n",
      "beginning: Auto-ARIMA\n",
      "completed: Auto-ARIMA:58.70191501099907 sec\n",
      "beginning: Theta(-0.1212121212121211)\n",
      "completed: Theta(-0.1212121212121211):0.0542404859988892 sec\n",
      "Combination  377 of 4170\n",
      "beginning: Naive drift model\n",
      "completed: Naive drift model:0.037919787002465455 sec\n",
      "beginning: Prophet\n"
     ]
    },
    {
     "name": "stderr",
     "output_type": "stream",
     "text": [
      "01:30:58 - cmdstanpy - INFO - Chain [1] start processing\n",
      "01:30:58 - cmdstanpy - INFO - Chain [1] done processing\n"
     ]
    },
    {
     "name": "stdout",
     "output_type": "stream",
     "text": [
      "completed: Prophet:0.6957551970008353 sec\n",
      "True\n",
      "beginning: ExponentialSmoothing(trend=ModelMode.ADDITIVE, damped=False, seasonal=SeasonalityMode.ADDITIVE, seasonal_periods=2\n",
      "completed: ExponentialSmoothing(trend=ModelMode.ADDITIVE, damped=False, seasonal=SeasonalityMode.ADDITIVE, seasonal_periods=2:0.3261084250007116 sec\n",
      "beginning: Auto-ARIMA\n",
      "completed: Auto-ARIMA:39.67840101300317 sec\n",
      "beginning: Theta(0.28282828282828376)\n",
      "completed: Theta(0.28282828282828376):0.05604062600104953 sec\n",
      "Combination  378 of 4170\n",
      "beginning: Naive drift model\n",
      "completed: Naive drift model:0.03527437699813163 sec\n",
      "beginning: Prophet\n"
     ]
    },
    {
     "name": "stderr",
     "output_type": "stream",
     "text": [
      "01:31:42 - cmdstanpy - INFO - Chain [1] start processing\n",
      "01:31:43 - cmdstanpy - INFO - Chain [1] done processing\n"
     ]
    },
    {
     "name": "stdout",
     "output_type": "stream",
     "text": [
      "completed: Prophet:0.8282943890008028 sec\n",
      "True\n",
      "beginning: ExponentialSmoothing(trend=ModelMode.ADDITIVE, damped=False, seasonal=SeasonalityMode.ADDITIVE, seasonal_periods=2\n",
      "completed: ExponentialSmoothing(trend=ModelMode.ADDITIVE, damped=False, seasonal=SeasonalityMode.ADDITIVE, seasonal_periods=2:0.34199797499968554 sec\n",
      "beginning: Auto-ARIMA\n",
      "completed: Auto-ARIMA:47.19787788099711 sec\n",
      "beginning: Theta(-0.1212121212121211)\n",
      "completed: Theta(-0.1212121212121211):0.054476686000271 sec\n",
      "Combination  379 of 4170\n",
      "beginning: Naive drift model\n",
      "completed: Naive drift model:0.03558639699986088 sec\n",
      "beginning: Prophet\n"
     ]
    },
    {
     "name": "stderr",
     "output_type": "stream",
     "text": [
      "01:32:34 - cmdstanpy - INFO - Chain [1] start processing\n",
      "01:32:34 - cmdstanpy - INFO - Chain [1] done processing\n"
     ]
    },
    {
     "name": "stdout",
     "output_type": "stream",
     "text": [
      "completed: Prophet:0.9867149759993481 sec\n",
      "True\n",
      "beginning: ExponentialSmoothing(trend=ModelMode.ADDITIVE, damped=False, seasonal=SeasonalityMode.ADDITIVE, seasonal_periods=3\n",
      "completed: ExponentialSmoothing(trend=ModelMode.ADDITIVE, damped=False, seasonal=SeasonalityMode.ADDITIVE, seasonal_periods=3:0.32467823600018164 sec\n",
      "beginning: Auto-ARIMA\n",
      "completed: Auto-ARIMA:50.51921876299821 sec\n",
      "beginning: Theta(0.08080808080808133)\n",
      "completed: Theta(0.08080808080808133):0.05491153599723475 sec\n",
      "Combination  380 of 4170\n",
      "beginning: Naive drift model\n",
      "completed: Naive drift model:0.03609437699924456 sec\n",
      "beginning: Prophet\n"
     ]
    },
    {
     "name": "stderr",
     "output_type": "stream",
     "text": [
      "01:33:30 - cmdstanpy - INFO - Chain [1] start processing\n",
      "01:33:30 - cmdstanpy - INFO - Chain [1] done processing\n"
     ]
    },
    {
     "name": "stdout",
     "output_type": "stream",
     "text": [
      "completed: Prophet:0.7949462209980993 sec\n",
      "True\n",
      "beginning: ExponentialSmoothing(trend=ModelMode.ADDITIVE, damped=False, seasonal=SeasonalityMode.ADDITIVE, seasonal_periods=5\n",
      "completed: ExponentialSmoothing(trend=ModelMode.ADDITIVE, damped=False, seasonal=SeasonalityMode.ADDITIVE, seasonal_periods=5:0.3369179039982555 sec\n",
      "beginning: Auto-ARIMA\n",
      "completed: Auto-ARIMA:36.61143853199974 sec\n",
      "beginning: Theta(1.0909090909090917)\n",
      "completed: Theta(1.0909090909090917):0.05062928600091254 sec\n",
      "Combination  381 of 4170\n",
      "beginning: Naive drift model\n",
      "completed: Naive drift model:0.03392849699957878 sec\n",
      "beginning: Prophet\n"
     ]
    },
    {
     "name": "stderr",
     "output_type": "stream",
     "text": [
      "01:34:11 - cmdstanpy - INFO - Chain [1] start processing\n",
      "01:34:11 - cmdstanpy - INFO - Chain [1] done processing\n"
     ]
    },
    {
     "name": "stdout",
     "output_type": "stream",
     "text": [
      "completed: Prophet:1.0290527929973905 sec\n",
      "True\n",
      "beginning: ExponentialSmoothing(trend=ModelMode.ADDITIVE, damped=False, seasonal=SeasonalityMode.ADDITIVE, seasonal_periods=7\n",
      "completed: ExponentialSmoothing(trend=ModelMode.ADDITIVE, damped=False, seasonal=SeasonalityMode.ADDITIVE, seasonal_periods=7:0.3389524340018397 sec\n",
      "beginning: Auto-ARIMA\n",
      "completed: Auto-ARIMA:63.00988699899972 sec\n",
      "beginning: Theta(0.08080808080808133)\n",
      "completed: Theta(0.08080808080808133):0.05854645599902142 sec\n",
      "Combination  382 of 4170\n",
      "beginning: Naive drift model\n",
      "completed: Naive drift model:0.03694764799729455 sec\n",
      "beginning: Prophet\n"
     ]
    },
    {
     "name": "stderr",
     "output_type": "stream",
     "text": [
      "01:35:18 - cmdstanpy - INFO - Chain [1] start processing\n",
      "01:35:19 - cmdstanpy - INFO - Chain [1] done processing\n"
     ]
    },
    {
     "name": "stdout",
     "output_type": "stream",
     "text": [
      "completed: Prophet:0.7508194340007321 sec\n",
      "True\n",
      "beginning: ExponentialSmoothing(trend=ModelMode.ADDITIVE, damped=False, seasonal=SeasonalityMode.ADDITIVE, seasonal_periods=7\n",
      "completed: ExponentialSmoothing(trend=ModelMode.ADDITIVE, damped=False, seasonal=SeasonalityMode.ADDITIVE, seasonal_periods=7:0.3234331359999487 sec\n",
      "beginning: Auto-ARIMA\n",
      "completed: Auto-ARIMA:61.56611878700278 sec\n",
      "beginning: Theta(-0.32323232323232354)\n",
      "completed: Theta(-0.32323232323232354):0.05258457600211841 sec\n",
      "Combination  383 of 4170\n",
      "beginning: Naive drift model\n",
      "completed: Naive drift model:0.03498269799820264 sec\n",
      "beginning: Prophet\n"
     ]
    },
    {
     "name": "stderr",
     "output_type": "stream",
     "text": [
      "01:36:25 - cmdstanpy - INFO - Chain [1] start processing\n",
      "01:36:25 - cmdstanpy - INFO - Chain [1] done processing\n"
     ]
    },
    {
     "name": "stdout",
     "output_type": "stream",
     "text": [
      "completed: Prophet:0.7836169809997955 sec\n",
      "True\n",
      "beginning: ExponentialSmoothing(trend=ModelMode.ADDITIVE, damped=False, seasonal=SeasonalityMode.ADDITIVE, seasonal_periods=4\n",
      "completed: ExponentialSmoothing(trend=ModelMode.ADDITIVE, damped=False, seasonal=SeasonalityMode.ADDITIVE, seasonal_periods=4:0.3255743560002884 sec\n",
      "beginning: Auto-ARIMA\n",
      "completed: Auto-ARIMA:30.387976437999896 sec\n",
      "beginning: Theta(-0.1212121212121211)\n",
      "completed: Theta(-0.1212121212121211):0.052674026999739 sec\n",
      "Combination  384 of 4170\n",
      "beginning: Naive drift model\n",
      "completed: Naive drift model:0.03596073799781152 sec\n",
      "beginning: Prophet\n"
     ]
    },
    {
     "name": "stderr",
     "output_type": "stream",
     "text": [
      "01:36:59 - cmdstanpy - INFO - Chain [1] start processing\n",
      "01:37:00 - cmdstanpy - INFO - Chain [1] done processing\n"
     ]
    },
    {
     "name": "stdout",
     "output_type": "stream",
     "text": [
      "completed: Prophet:1.0426149320010154 sec\n",
      "True\n",
      "beginning: ExponentialSmoothing(trend=ModelMode.ADDITIVE, damped=False, seasonal=SeasonalityMode.ADDITIVE, seasonal_periods=3\n",
      "completed: ExponentialSmoothing(trend=ModelMode.ADDITIVE, damped=False, seasonal=SeasonalityMode.ADDITIVE, seasonal_periods=3:0.3327941349998582 sec\n",
      "beginning: Auto-ARIMA\n",
      "completed: Auto-ARIMA:40.68257016800271 sec\n",
      "beginning: Theta(-0.1212121212121211)\n",
      "completed: Theta(-0.1212121212121211):0.052495026000542566 sec\n",
      "Combination  385 of 4170\n",
      "beginning: Naive drift model\n",
      "completed: Naive drift model:0.03541267699984019 sec\n",
      "beginning: Prophet\n"
     ]
    },
    {
     "name": "stderr",
     "output_type": "stream",
     "text": [
      "01:37:45 - cmdstanpy - INFO - Chain [1] start processing\n",
      "01:37:45 - cmdstanpy - INFO - Chain [1] done processing\n"
     ]
    },
    {
     "name": "stdout",
     "output_type": "stream",
     "text": [
      "completed: Prophet:0.8211593390005874 sec\n",
      "True\n",
      "beginning: ExponentialSmoothing(trend=ModelMode.ADDITIVE, damped=False, seasonal=SeasonalityMode.ADDITIVE, seasonal_periods=4\n",
      "completed: ExponentialSmoothing(trend=ModelMode.ADDITIVE, damped=False, seasonal=SeasonalityMode.ADDITIVE, seasonal_periods=4:0.3270391749974806 sec\n",
      "beginning: Auto-ARIMA\n",
      "completed: Auto-ARIMA:42.45722477600066 sec\n",
      "beginning: Theta(0.08080808080808133)\n",
      "completed: Theta(0.08080808080808133):0.052783525999984704 sec\n",
      "Combination  386 of 4170\n",
      "beginning: Naive drift model\n",
      "completed: Naive drift model:0.035964017999503994 sec\n",
      "beginning: Prophet\n"
     ]
    },
    {
     "name": "stderr",
     "output_type": "stream",
     "text": [
      "01:38:32 - cmdstanpy - INFO - Chain [1] start processing\n",
      "01:38:32 - cmdstanpy - INFO - Chain [1] done processing\n"
     ]
    },
    {
     "name": "stdout",
     "output_type": "stream",
     "text": [
      "completed: Prophet:0.9303767499986861 sec\n",
      "True\n",
      "beginning: ExponentialSmoothing(trend=ModelMode.ADDITIVE, damped=False, seasonal=SeasonalityMode.ADDITIVE, seasonal_periods=7\n",
      "completed: ExponentialSmoothing(trend=ModelMode.ADDITIVE, damped=False, seasonal=SeasonalityMode.ADDITIVE, seasonal_periods=7:0.3337506850002683 sec\n",
      "beginning: Auto-ARIMA\n",
      "completed: Auto-ARIMA:86.13303731999986 sec\n",
      "beginning: Theta(0.08080808080808133)\n",
      "completed: Theta(0.08080808080808133):0.052314025997475255 sec\n",
      "Combination  387 of 4170\n",
      "beginning: Naive drift model\n",
      "completed: Naive drift model:0.03579773700039368 sec\n",
      "beginning: Prophet\n"
     ]
    },
    {
     "name": "stderr",
     "output_type": "stream",
     "text": [
      "01:40:02 - cmdstanpy - INFO - Chain [1] start processing\n",
      "01:40:03 - cmdstanpy - INFO - Chain [1] done processing\n"
     ]
    },
    {
     "name": "stdout",
     "output_type": "stream",
     "text": [
      "completed: Prophet:1.0410514329996658 sec\n",
      "True\n",
      "beginning: ExponentialSmoothing(trend=ModelMode.ADDITIVE, damped=False, seasonal=SeasonalityMode.ADDITIVE, seasonal_periods=3\n",
      "completed: ExponentialSmoothing(trend=ModelMode.ADDITIVE, damped=False, seasonal=SeasonalityMode.ADDITIVE, seasonal_periods=3:0.3284858750012063 sec\n",
      "beginning: Auto-ARIMA\n",
      "completed: Auto-ARIMA:34.725947699000244 sec\n",
      "beginning: Theta(0.08080808080808133)\n",
      "completed: Theta(0.08080808080808133):0.05661438599781832 sec\n",
      "Combination  388 of 4170\n",
      "beginning: Naive drift model\n",
      "completed: Naive drift model:0.035148857001331635 sec\n",
      "beginning: Prophet\n"
     ]
    },
    {
     "name": "stderr",
     "output_type": "stream",
     "text": [
      "01:40:42 - cmdstanpy - INFO - Chain [1] start processing\n",
      "01:40:42 - cmdstanpy - INFO - Chain [1] done processing\n"
     ]
    },
    {
     "name": "stdout",
     "output_type": "stream",
     "text": [
      "completed: Prophet:0.751297204002185 sec\n",
      "True\n",
      "beginning: ExponentialSmoothing(trend=ModelMode.ADDITIVE, damped=False, seasonal=SeasonalityMode.ADDITIVE, seasonal_periods=4\n",
      "completed: ExponentialSmoothing(trend=ModelMode.ADDITIVE, damped=False, seasonal=SeasonalityMode.ADDITIVE, seasonal_periods=4:0.327129055000114 sec\n",
      "beginning: Auto-ARIMA\n",
      "completed: Auto-ARIMA:35.253184915996826 sec\n",
      "beginning: Theta(-0.32323232323232354)\n",
      "completed: Theta(-0.32323232323232354):0.05106899599923054 sec\n",
      "Combination  389 of 4170\n",
      "beginning: Naive drift model\n",
      "completed: Naive drift model:0.03491755700088106 sec\n",
      "beginning: Prophet\n"
     ]
    },
    {
     "name": "stderr",
     "output_type": "stream",
     "text": [
      "01:41:21 - cmdstanpy - INFO - Chain [1] start processing\n",
      "01:41:21 - cmdstanpy - INFO - Chain [1] done processing\n"
     ]
    },
    {
     "name": "stdout",
     "output_type": "stream",
     "text": [
      "completed: Prophet:0.7159766849981679 sec\n",
      "True\n",
      "beginning: ExponentialSmoothing(trend=ModelMode.ADDITIVE, damped=False, seasonal=SeasonalityMode.ADDITIVE, seasonal_periods=3\n",
      "completed: ExponentialSmoothing(trend=ModelMode.ADDITIVE, damped=False, seasonal=SeasonalityMode.ADDITIVE, seasonal_periods=3:0.3277643139990687 sec\n",
      "beginning: Auto-ARIMA\n",
      "completed: Auto-ARIMA:43.72609167799965 sec\n",
      "beginning: Theta(0.08080808080808133)\n",
      "completed: Theta(0.08080808080808133):0.06559558500157436 sec\n",
      "Combination  390 of 4170\n",
      "beginning: Naive drift model\n",
      "completed: Naive drift model:0.03535314799955813 sec\n",
      "beginning: Prophet\n"
     ]
    },
    {
     "name": "stderr",
     "output_type": "stream",
     "text": [
      "01:42:09 - cmdstanpy - INFO - Chain [1] start processing\n",
      "01:42:10 - cmdstanpy - INFO - Chain [1] done processing\n"
     ]
    },
    {
     "name": "stdout",
     "output_type": "stream",
     "text": [
      "completed: Prophet:0.9638042059996224 sec\n",
      "True\n",
      "beginning: ExponentialSmoothing(trend=ModelMode.ADDITIVE, damped=False, seasonal=SeasonalityMode.ADDITIVE, seasonal_periods=2\n",
      "completed: ExponentialSmoothing(trend=ModelMode.ADDITIVE, damped=False, seasonal=SeasonalityMode.ADDITIVE, seasonal_periods=2:0.32760242400036077 sec\n",
      "beginning: Auto-ARIMA\n",
      "completed: Auto-ARIMA:41.71478095199927 sec\n",
      "beginning: Theta(-0.1212121212121211)\n",
      "completed: Theta(-0.1212121212121211):0.0518936959997518 sec\n",
      "Combination  391 of 4170\n",
      "beginning: Naive drift model\n",
      "completed: Naive drift model:0.03497354700084543 sec\n",
      "beginning: Prophet\n"
     ]
    },
    {
     "name": "stderr",
     "output_type": "stream",
     "text": [
      "01:42:56 - cmdstanpy - INFO - Chain [1] start processing\n",
      "01:42:56 - cmdstanpy - INFO - Chain [1] done processing\n"
     ]
    },
    {
     "name": "stdout",
     "output_type": "stream",
     "text": [
      "completed: Prophet:0.8852986219972081 sec\n",
      "True\n",
      "beginning: ExponentialSmoothing(trend=ModelMode.ADDITIVE, damped=False, seasonal=SeasonalityMode.ADDITIVE, seasonal_periods=4\n",
      "completed: ExponentialSmoothing(trend=ModelMode.ADDITIVE, damped=False, seasonal=SeasonalityMode.ADDITIVE, seasonal_periods=4:0.3298822540018591 sec\n",
      "beginning: Auto-ARIMA\n",
      "completed: Auto-ARIMA:44.395020517000376 sec\n",
      "beginning: Theta(0.08080808080808133)\n",
      "completed: Theta(0.08080808080808133):0.04934274699917296 sec\n",
      "Combination  392 of 4170\n",
      "beginning: Naive drift model\n",
      "completed: Naive drift model:0.03383083800144959 sec\n",
      "beginning: Prophet\n"
     ]
    },
    {
     "name": "stderr",
     "output_type": "stream",
     "text": [
      "01:43:45 - cmdstanpy - INFO - Chain [1] start processing\n",
      "01:43:45 - cmdstanpy - INFO - Chain [1] done processing\n"
     ]
    },
    {
     "name": "stdout",
     "output_type": "stream",
     "text": [
      "completed: Prophet:1.1227764940013003 sec\n",
      "True\n",
      "beginning: ExponentialSmoothing(trend=ModelMode.ADDITIVE, damped=False, seasonal=SeasonalityMode.ADDITIVE, seasonal_periods=7\n",
      "completed: ExponentialSmoothing(trend=ModelMode.ADDITIVE, damped=False, seasonal=SeasonalityMode.ADDITIVE, seasonal_periods=7:0.30409577699902 sec\n",
      "beginning: Auto-ARIMA\n",
      "completed: Auto-ARIMA:45.86929518300167 sec\n",
      "beginning: Theta(-0.1212121212121211)\n",
      "completed: Theta(-0.1212121212121211):0.05543458600004669 sec\n",
      "Combination  393 of 4170\n",
      "beginning: Naive drift model\n",
      "completed: Naive drift model:0.03668676700181095 sec\n",
      "beginning: Prophet\n"
     ]
    },
    {
     "name": "stderr",
     "output_type": "stream",
     "text": [
      "01:44:35 - cmdstanpy - INFO - Chain [1] start processing\n",
      "01:44:35 - cmdstanpy - INFO - Chain [1] done processing\n"
     ]
    },
    {
     "name": "stdout",
     "output_type": "stream",
     "text": [
      "completed: Prophet:0.7965016689995537 sec\n",
      "True\n",
      "beginning: ExponentialSmoothing(trend=ModelMode.ADDITIVE, damped=False, seasonal=SeasonalityMode.ADDITIVE, seasonal_periods=6\n",
      "completed: ExponentialSmoothing(trend=ModelMode.ADDITIVE, damped=False, seasonal=SeasonalityMode.ADDITIVE, seasonal_periods=6:0.31213630600177567 sec\n",
      "beginning: Auto-ARIMA\n",
      "completed: Auto-ARIMA:41.951147653999215 sec\n",
      "beginning: Theta(-0.1212121212121211)\n",
      "completed: Theta(-0.1212121212121211):0.05046069600211922 sec\n",
      "Combination  394 of 4170\n",
      "beginning: Naive drift model\n",
      "completed: Naive drift model:0.03677398699801415 sec\n",
      "beginning: Prophet\n"
     ]
    },
    {
     "name": "stderr",
     "output_type": "stream",
     "text": [
      "01:45:21 - cmdstanpy - INFO - Chain [1] start processing\n",
      "01:45:22 - cmdstanpy - INFO - Chain [1] done processing\n"
     ]
    },
    {
     "name": "stdout",
     "output_type": "stream",
     "text": [
      "completed: Prophet:0.6598509200011904 sec\n",
      "True\n",
      "beginning: ExponentialSmoothing(trend=ModelMode.ADDITIVE, damped=False, seasonal=SeasonalityMode.ADDITIVE, seasonal_periods=3\n",
      "completed: ExponentialSmoothing(trend=ModelMode.ADDITIVE, damped=False, seasonal=SeasonalityMode.ADDITIVE, seasonal_periods=3:0.308932816999004 sec\n",
      "beginning: Auto-ARIMA\n",
      "completed: Auto-ARIMA:29.59991940400141 sec\n",
      "beginning: Theta(-0.1212121212121211)\n",
      "completed: Theta(-0.1212121212121211):0.05426524599897675 sec\n",
      "Combination  395 of 4170\n",
      "beginning: Naive drift model\n",
      "completed: Naive drift model:0.03634576799959177 sec\n",
      "beginning: Prophet\n"
     ]
    },
    {
     "name": "stderr",
     "output_type": "stream",
     "text": [
      "01:45:55 - cmdstanpy - INFO - Chain [1] start processing\n",
      "01:45:55 - cmdstanpy - INFO - Chain [1] done processing\n"
     ]
    },
    {
     "name": "stdout",
     "output_type": "stream",
     "text": [
      "completed: Prophet:0.9503245259984396 sec\n",
      "True\n",
      "beginning: ExponentialSmoothing(trend=ModelMode.ADDITIVE, damped=False, seasonal=SeasonalityMode.ADDITIVE, seasonal_periods=4\n",
      "completed: ExponentialSmoothing(trend=ModelMode.ADDITIVE, damped=False, seasonal=SeasonalityMode.ADDITIVE, seasonal_periods=4:0.30323297699942486 sec\n",
      "beginning: Auto-ARIMA\n",
      "completed: Auto-ARIMA:45.802085647999775 sec\n",
      "beginning: Theta(8.767676767676768)\n",
      "completed: Theta(8.767676767676768):0.051617336001072545 sec\n",
      "Combination  396 of 4170\n",
      "beginning: Naive drift model\n",
      "completed: Naive drift model:0.03382000700003118 sec\n",
      "beginning: Prophet\n"
     ]
    },
    {
     "name": "stderr",
     "output_type": "stream",
     "text": [
      "01:46:45 - cmdstanpy - INFO - Chain [1] start processing\n",
      "01:46:46 - cmdstanpy - INFO - Chain [1] done processing\n"
     ]
    },
    {
     "name": "stdout",
     "output_type": "stream",
     "text": [
      "completed: Prophet:0.7509768819982128 sec\n",
      "True\n",
      "beginning: ExponentialSmoothing(trend=ModelMode.ADDITIVE, damped=False, seasonal=SeasonalityMode.ADDITIVE, seasonal_periods=3\n",
      "completed: ExponentialSmoothing(trend=ModelMode.ADDITIVE, damped=False, seasonal=SeasonalityMode.ADDITIVE, seasonal_periods=3:0.29895788700014236 sec\n",
      "beginning: Auto-ARIMA\n",
      "completed: Auto-ARIMA:38.946316325000225 sec\n",
      "beginning: Theta(0.08080808080808133)\n",
      "completed: Theta(0.08080808080808133):0.049979745999735314 sec\n",
      "Combination  397 of 4170\n",
      "beginning: Naive drift model\n",
      "completed: Naive drift model:0.035412877001363086 sec\n",
      "beginning: Prophet\n"
     ]
    },
    {
     "name": "stderr",
     "output_type": "stream",
     "text": [
      "01:47:29 - cmdstanpy - INFO - Chain [1] start processing\n",
      "01:47:29 - cmdstanpy - INFO - Chain [1] done processing\n"
     ]
    },
    {
     "name": "stdout",
     "output_type": "stream",
     "text": [
      "completed: Prophet:0.6996453770007065 sec\n",
      "True\n",
      "beginning: ExponentialSmoothing(trend=ModelMode.ADDITIVE, damped=False, seasonal=SeasonalityMode.ADDITIVE, seasonal_periods=4\n",
      "completed: ExponentialSmoothing(trend=ModelMode.ADDITIVE, damped=False, seasonal=SeasonalityMode.ADDITIVE, seasonal_periods=4:0.32103337599983206 sec\n",
      "beginning: Auto-ARIMA\n",
      "completed: Auto-ARIMA:36.57095191799817 sec\n",
      "beginning: Theta(-0.1212121212121211)\n",
      "completed: Theta(-0.1212121212121211):0.05192096600148943 sec\n",
      "Combination  398 of 4170\n",
      "beginning: Naive drift model\n",
      "completed: Naive drift model:0.035652337999636075 sec\n",
      "beginning: Prophet\n"
     ]
    },
    {
     "name": "stderr",
     "output_type": "stream",
     "text": [
      "01:48:10 - cmdstanpy - INFO - Chain [1] start processing\n",
      "01:48:10 - cmdstanpy - INFO - Chain [1] done processing\n"
     ]
    },
    {
     "name": "stdout",
     "output_type": "stream",
     "text": [
      "completed: Prophet:0.9411513170016406 sec\n",
      "True\n",
      "beginning: ExponentialSmoothing(trend=ModelMode.ADDITIVE, damped=False, seasonal=SeasonalityMode.ADDITIVE, seasonal_periods=3\n",
      "completed: ExponentialSmoothing(trend=ModelMode.ADDITIVE, damped=False, seasonal=SeasonalityMode.ADDITIVE, seasonal_periods=3:0.28889547799917636 sec\n",
      "beginning: Auto-ARIMA\n",
      "completed: Auto-ARIMA:46.667021420998935 sec\n",
      "beginning: Theta(-0.1212121212121211)\n",
      "completed: Theta(-0.1212121212121211):0.052534016002027784 sec\n",
      "Combination  399 of 4170\n",
      "beginning: Naive drift model\n",
      "completed: Naive drift model:0.0410846170016157 sec\n",
      "beginning: Prophet\n"
     ]
    },
    {
     "name": "stderr",
     "output_type": "stream",
     "text": [
      "01:49:01 - cmdstanpy - INFO - Chain [1] start processing\n",
      "01:49:01 - cmdstanpy - INFO - Chain [1] done processing\n"
     ]
    },
    {
     "name": "stdout",
     "output_type": "stream",
     "text": [
      "completed: Prophet:0.8521408240012533 sec\n",
      "True\n",
      "beginning: ExponentialSmoothing(trend=ModelMode.ADDITIVE, damped=False, seasonal=SeasonalityMode.ADDITIVE, seasonal_periods=3\n",
      "completed: ExponentialSmoothing(trend=ModelMode.ADDITIVE, damped=False, seasonal=SeasonalityMode.ADDITIVE, seasonal_periods=3:0.3282628349988954 sec\n",
      "beginning: Auto-ARIMA\n",
      "completed: Auto-ARIMA:45.28728145800051 sec\n",
      "beginning: Theta(0.08080808080808133)\n",
      "completed: Theta(0.08080808080808133):0.05213584599914611 sec\n",
      "Combination  400 of 4170\n",
      "beginning: Naive drift model\n",
      "completed: Naive drift model:0.03582637699946645 sec\n",
      "beginning: Prophet\n"
     ]
    },
    {
     "name": "stderr",
     "output_type": "stream",
     "text": [
      "01:49:51 - cmdstanpy - INFO - Chain [1] start processing\n",
      "01:49:51 - cmdstanpy - INFO - Chain [1] done processing\n"
     ]
    },
    {
     "name": "stdout",
     "output_type": "stream",
     "text": [
      "completed: Prophet:0.8665084040003421 sec\n",
      "True\n",
      "beginning: ExponentialSmoothing(trend=ModelMode.ADDITIVE, damped=False, seasonal=SeasonalityMode.ADDITIVE, seasonal_periods=4\n",
      "completed: ExponentialSmoothing(trend=ModelMode.ADDITIVE, damped=False, seasonal=SeasonalityMode.ADDITIVE, seasonal_periods=4:0.3261902049998753 sec\n",
      "beginning: Auto-ARIMA\n",
      "completed: Auto-ARIMA:36.305426898001315 sec\n",
      "beginning: Theta(-0.1212121212121211)\n",
      "completed: Theta(-0.1212121212121211):0.053358815999672515 sec\n",
      "Combination  401 of 4170\n",
      "beginning: Naive drift model\n",
      "completed: Naive drift model:0.03513438799927826 sec\n",
      "beginning: Prophet\n"
     ]
    },
    {
     "name": "stderr",
     "output_type": "stream",
     "text": [
      "01:50:31 - cmdstanpy - INFO - Chain [1] start processing\n",
      "01:50:32 - cmdstanpy - INFO - Chain [1] done processing\n"
     ]
    },
    {
     "name": "stdout",
     "output_type": "stream",
     "text": [
      "completed: Prophet:0.9959831230007694 sec\n",
      "True\n",
      "beginning: ExponentialSmoothing(trend=ModelMode.ADDITIVE, damped=False, seasonal=SeasonalityMode.ADDITIVE, seasonal_periods=8\n",
      "completed: ExponentialSmoothing(trend=ModelMode.ADDITIVE, damped=False, seasonal=SeasonalityMode.ADDITIVE, seasonal_periods=8:0.33466392399714096 sec\n",
      "beginning: Auto-ARIMA\n",
      "completed: Auto-ARIMA:82.42234318199917 sec\n",
      "beginning: Theta(-0.1212121212121211)\n",
      "completed: Theta(-0.1212121212121211):0.05216868600109592 sec\n",
      "Combination  402 of 4170\n",
      "beginning: Naive drift model\n",
      "completed: Naive drift model:0.03575286700288416 sec\n",
      "beginning: Prophet\n"
     ]
    },
    {
     "name": "stderr",
     "output_type": "stream",
     "text": [
      "01:51:59 - cmdstanpy - INFO - Chain [1] start processing\n",
      "01:51:59 - cmdstanpy - INFO - Chain [1] done processing\n"
     ]
    },
    {
     "name": "stdout",
     "output_type": "stream",
     "text": [
      "completed: Prophet:0.813610607998271 sec\n",
      "True\n",
      "beginning: ExponentialSmoothing(trend=ModelMode.ADDITIVE, damped=False, seasonal=SeasonalityMode.ADDITIVE, seasonal_periods=3\n",
      "completed: ExponentialSmoothing(trend=ModelMode.ADDITIVE, damped=False, seasonal=SeasonalityMode.ADDITIVE, seasonal_periods=3:0.3258051039993006 sec\n",
      "beginning: Auto-ARIMA\n",
      "completed: Auto-ARIMA:39.089728891998675 sec\n",
      "beginning: Theta(0.08080808080808133)\n",
      "completed: Theta(0.08080808080808133):0.052488666002318496 sec\n",
      "Combination  403 of 4170\n",
      "beginning: Naive drift model\n",
      "completed: Naive drift model:0.03501035699810018 sec\n",
      "beginning: Prophet\n"
     ]
    },
    {
     "name": "stderr",
     "output_type": "stream",
     "text": [
      "01:52:42 - cmdstanpy - INFO - Chain [1] start processing\n",
      "01:52:42 - cmdstanpy - INFO - Chain [1] done processing\n"
     ]
    },
    {
     "name": "stdout",
     "output_type": "stream",
     "text": [
      "completed: Prophet:0.8958675190006034 sec\n",
      "True\n",
      "beginning: ExponentialSmoothing(trend=ModelMode.ADDITIVE, damped=False, seasonal=SeasonalityMode.ADDITIVE, seasonal_periods=2\n",
      "completed: ExponentialSmoothing(trend=ModelMode.ADDITIVE, damped=False, seasonal=SeasonalityMode.ADDITIVE, seasonal_periods=2:0.3226187440013746 sec\n",
      "beginning: Auto-ARIMA\n",
      "completed: Auto-ARIMA:42.299139037000714 sec\n",
      "beginning: Theta(0.08080808080808133)\n",
      "completed: Theta(0.08080808080808133):0.053969125998264644 sec\n",
      "Combination  404 of 4170\n",
      "beginning: Naive drift model\n",
      "completed: Naive drift model:0.03551775799860479 sec\n",
      "beginning: Prophet\n"
     ]
    },
    {
     "name": "stderr",
     "output_type": "stream",
     "text": [
      "01:53:29 - cmdstanpy - INFO - Chain [1] start processing\n",
      "01:53:29 - cmdstanpy - INFO - Chain [1] done processing\n"
     ]
    },
    {
     "name": "stdout",
     "output_type": "stream",
     "text": [
      "completed: Prophet:0.9452265370018722 sec\n",
      "True\n",
      "beginning: ExponentialSmoothing(trend=ModelMode.ADDITIVE, damped=False, seasonal=SeasonalityMode.ADDITIVE, seasonal_periods=4\n",
      "completed: ExponentialSmoothing(trend=ModelMode.ADDITIVE, damped=False, seasonal=SeasonalityMode.ADDITIVE, seasonal_periods=4:0.32450001499819336 sec\n",
      "beginning: Auto-ARIMA\n",
      "completed: Auto-ARIMA:33.98553956700198 sec\n",
      "beginning: Theta(0.08080808080808133)\n",
      "completed: Theta(0.08080808080808133):0.056515156000386924 sec\n",
      "Combination  405 of 4170\n",
      "beginning: Naive drift model\n",
      "completed: Naive drift model:0.034760727001412306 sec\n",
      "beginning: Prophet\n"
     ]
    },
    {
     "name": "stderr",
     "output_type": "stream",
     "text": [
      "01:54:08 - cmdstanpy - INFO - Chain [1] start processing\n",
      "01:54:08 - cmdstanpy - INFO - Chain [1] done processing\n"
     ]
    },
    {
     "name": "stdout",
     "output_type": "stream",
     "text": [
      "completed: Prophet:0.8463210150002851 sec\n",
      "True\n",
      "beginning: ExponentialSmoothing(trend=ModelMode.ADDITIVE, damped=False, seasonal=SeasonalityMode.ADDITIVE, seasonal_periods=7\n",
      "completed: ExponentialSmoothing(trend=ModelMode.ADDITIVE, damped=False, seasonal=SeasonalityMode.ADDITIVE, seasonal_periods=7:0.34088748399881297 sec\n",
      "beginning: Auto-ARIMA\n",
      "completed: Auto-ARIMA:59.176688260002265 sec\n",
      "beginning: Theta(0.08080808080808133)\n",
      "completed: Theta(0.08080808080808133):0.053272435998223955 sec\n",
      "Combination  406 of 4170\n",
      "beginning: Naive drift model\n",
      "completed: Naive drift model:0.036223777002305724 sec\n",
      "beginning: Prophet\n"
     ]
    },
    {
     "name": "stderr",
     "output_type": "stream",
     "text": [
      "01:55:11 - cmdstanpy - INFO - Chain [1] start processing\n",
      "01:55:12 - cmdstanpy - INFO - Chain [1] done processing\n"
     ]
    },
    {
     "name": "stdout",
     "output_type": "stream",
     "text": [
      "completed: Prophet:0.8685646030025964 sec\n",
      "True\n",
      "beginning: ExponentialSmoothing(trend=ModelMode.ADDITIVE, damped=False, seasonal=SeasonalityMode.ADDITIVE, seasonal_periods=5\n",
      "completed: ExponentialSmoothing(trend=ModelMode.ADDITIVE, damped=False, seasonal=SeasonalityMode.ADDITIVE, seasonal_periods=5:0.3324222240007657 sec\n",
      "beginning: Auto-ARIMA\n",
      "completed: Auto-ARIMA:36.69372906799981 sec\n",
      "beginning: Theta(-0.1212121212121211)\n",
      "completed: Theta(-0.1212121212121211):0.05449922600018908 sec\n",
      "Combination  407 of 4170\n",
      "beginning: Naive drift model\n",
      "completed: Naive drift model:0.035701816999790026 sec\n",
      "beginning: Prophet\n"
     ]
    },
    {
     "name": "stderr",
     "output_type": "stream",
     "text": [
      "01:55:52 - cmdstanpy - INFO - Chain [1] start processing\n",
      "01:55:53 - cmdstanpy - INFO - Chain [1] done processing\n"
     ]
    },
    {
     "name": "stdout",
     "output_type": "stream",
     "text": [
      "completed: Prophet:0.9468847979987913 sec\n",
      "True\n",
      "beginning: ExponentialSmoothing(trend=ModelMode.ADDITIVE, damped=False, seasonal=SeasonalityMode.ADDITIVE, seasonal_periods=6\n",
      "completed: ExponentialSmoothing(trend=ModelMode.ADDITIVE, damped=False, seasonal=SeasonalityMode.ADDITIVE, seasonal_periods=6:0.3351333840000734 sec\n",
      "beginning: Auto-ARIMA\n",
      "completed: Auto-ARIMA:97.07548319600028 sec\n",
      "beginning: Theta(0.08080808080808133)\n",
      "completed: Theta(0.08080808080808133):0.05141548600295209 sec\n",
      "Combination  408 of 4170\n",
      "beginning: Naive drift model\n",
      "completed: Naive drift model:0.03487979700003052 sec\n",
      "beginning: Prophet\n"
     ]
    },
    {
     "name": "stderr",
     "output_type": "stream",
     "text": [
      "01:57:34 - cmdstanpy - INFO - Chain [1] start processing\n",
      "01:57:34 - cmdstanpy - INFO - Chain [1] done processing\n"
     ]
    },
    {
     "name": "stdout",
     "output_type": "stream",
     "text": [
      "completed: Prophet:0.6947971759982465 sec\n",
      "True\n",
      "beginning: ExponentialSmoothing(trend=ModelMode.ADDITIVE, damped=False, seasonal=SeasonalityMode.ADDITIVE, seasonal_periods=7\n",
      "completed: ExponentialSmoothing(trend=ModelMode.ADDITIVE, damped=False, seasonal=SeasonalityMode.ADDITIVE, seasonal_periods=7:0.3346662749972893 sec\n",
      "beginning: Auto-ARIMA\n",
      "completed: Auto-ARIMA:81.83497707700008 sec\n",
      "beginning: Theta(-0.1212121212121211)\n",
      "completed: Theta(-0.1212121212121211):0.05311027599964291 sec\n",
      "Combination  409 of 4170\n",
      "beginning: Naive drift model\n",
      "completed: Naive drift model:0.035034087999520125 sec\n",
      "beginning: Prophet\n"
     ]
    },
    {
     "name": "stderr",
     "output_type": "stream",
     "text": [
      "01:59:00 - cmdstanpy - INFO - Chain [1] start processing\n",
      "01:59:01 - cmdstanpy - INFO - Chain [1] done processing\n"
     ]
    },
    {
     "name": "stdout",
     "output_type": "stream",
     "text": [
      "completed: Prophet:0.7345751739994739 sec\n",
      "True\n",
      "beginning: ExponentialSmoothing(trend=ModelMode.ADDITIVE, damped=False, seasonal=SeasonalityMode.ADDITIVE, seasonal_periods=6\n",
      "completed: ExponentialSmoothing(trend=ModelMode.ADDITIVE, damped=False, seasonal=SeasonalityMode.ADDITIVE, seasonal_periods=6:0.33499671400204534 sec\n",
      "beginning: Auto-ARIMA\n",
      "completed: Auto-ARIMA:62.481550062999304 sec\n",
      "beginning: Theta(-0.1212121212121211)\n",
      "completed: Theta(-0.1212121212121211):0.05451497600006405 sec\n",
      "Combination  410 of 4170\n",
      "beginning: Naive drift model\n",
      "completed: Naive drift model:0.035283327000797726 sec\n",
      "beginning: Prophet\n"
     ]
    },
    {
     "name": "stderr",
     "output_type": "stream",
     "text": [
      "02:00:07 - cmdstanpy - INFO - Chain [1] start processing\n",
      "02:00:08 - cmdstanpy - INFO - Chain [1] done processing\n"
     ]
    },
    {
     "name": "stdout",
     "output_type": "stream",
     "text": [
      "completed: Prophet:0.8847241729999951 sec\n",
      "True\n",
      "beginning: ExponentialSmoothing(trend=ModelMode.ADDITIVE, damped=False, seasonal=SeasonalityMode.ADDITIVE, seasonal_periods=3\n",
      "completed: ExponentialSmoothing(trend=ModelMode.ADDITIVE, damped=False, seasonal=SeasonalityMode.ADDITIVE, seasonal_periods=3:0.32899199500025134 sec\n",
      "beginning: Auto-ARIMA\n",
      "completed: Auto-ARIMA:42.86921777600219 sec\n",
      "beginning: Theta(0.08080808080808133)\n",
      "completed: Theta(0.08080808080808133):0.05772024500038242 sec\n",
      "Combination  411 of 4170\n",
      "beginning: Naive drift model\n",
      "completed: Naive drift model:0.03942265700243297 sec\n",
      "beginning: Prophet\n"
     ]
    },
    {
     "name": "stderr",
     "output_type": "stream",
     "text": [
      "02:00:55 - cmdstanpy - INFO - Chain [1] start processing\n",
      "02:00:55 - cmdstanpy - INFO - Chain [1] done processing\n"
     ]
    },
    {
     "name": "stdout",
     "output_type": "stream",
     "text": [
      "completed: Prophet:0.7362101340004301 sec\n",
      "True\n",
      "beginning: ExponentialSmoothing(trend=ModelMode.ADDITIVE, damped=False, seasonal=SeasonalityMode.ADDITIVE, seasonal_periods=4\n",
      "completed: ExponentialSmoothing(trend=ModelMode.ADDITIVE, damped=False, seasonal=SeasonalityMode.ADDITIVE, seasonal_periods=4:0.3290519249967474 sec\n",
      "beginning: Auto-ARIMA\n",
      "completed: Auto-ARIMA:35.77006640699983 sec\n",
      "beginning: Theta(0.28282828282828376)\n",
      "completed: Theta(0.28282828282828376):0.05267246600124054 sec\n",
      "Combination  412 of 4170\n",
      "beginning: Naive drift model\n",
      "completed: Naive drift model:0.036185287000989774 sec\n",
      "beginning: Prophet\n"
     ]
    },
    {
     "name": "stderr",
     "output_type": "stream",
     "text": [
      "02:01:35 - cmdstanpy - INFO - Chain [1] start processing\n",
      "02:01:35 - cmdstanpy - INFO - Chain [1] done processing\n"
     ]
    },
    {
     "name": "stdout",
     "output_type": "stream",
     "text": [
      "completed: Prophet:0.9333222799978103 sec\n",
      "True\n",
      "beginning: ExponentialSmoothing(trend=ModelMode.ADDITIVE, damped=False, seasonal=SeasonalityMode.ADDITIVE, seasonal_periods=3\n",
      "completed: ExponentialSmoothing(trend=ModelMode.ADDITIVE, damped=False, seasonal=SeasonalityMode.ADDITIVE, seasonal_periods=3:0.3325714640013757 sec\n",
      "beginning: Auto-ARIMA\n",
      "completed: Auto-ARIMA:39.42620764799722 sec\n",
      "beginning: Theta(-0.1212121212121211)\n",
      "completed: Theta(-0.1212121212121211):0.05646567500298261 sec\n",
      "Combination  413 of 4170\n",
      "beginning: Naive drift model\n",
      "completed: Naive drift model:0.03654928700052551 sec\n",
      "beginning: Prophet\n"
     ]
    },
    {
     "name": "stderr",
     "output_type": "stream",
     "text": [
      "02:02:19 - cmdstanpy - INFO - Chain [1] start processing\n",
      "02:02:19 - cmdstanpy - INFO - Chain [1] done processing\n"
     ]
    },
    {
     "name": "stdout",
     "output_type": "stream",
     "text": [
      "completed: Prophet:0.7086989959971106 sec\n",
      "True\n",
      "beginning: ExponentialSmoothing(trend=ModelMode.ADDITIVE, damped=False, seasonal=SeasonalityMode.ADDITIVE, seasonal_periods=2\n",
      "completed: ExponentialSmoothing(trend=ModelMode.ADDITIVE, damped=False, seasonal=SeasonalityMode.ADDITIVE, seasonal_periods=2:0.324778675003472 sec\n",
      "beginning: Auto-ARIMA\n",
      "completed: Auto-ARIMA:41.7745198800003 sec\n",
      "beginning: Theta(-0.1212121212121211)\n",
      "completed: Theta(-0.1212121212121211):0.05371968600229593 sec\n",
      "Combination  414 of 4170\n",
      "beginning: Naive drift model\n",
      "completed: Naive drift model:0.03634222700202372 sec\n",
      "beginning: Prophet\n"
     ]
    },
    {
     "name": "stderr",
     "output_type": "stream",
     "text": [
      "02:03:05 - cmdstanpy - INFO - Chain [1] start processing\n",
      "02:03:05 - cmdstanpy - INFO - Chain [1] done processing\n"
     ]
    },
    {
     "name": "stdout",
     "output_type": "stream",
     "text": [
      "completed: Prophet:0.7758870319994458 sec\n",
      "True\n",
      "beginning: ExponentialSmoothing(trend=ModelMode.ADDITIVE, damped=False, seasonal=SeasonalityMode.ADDITIVE, seasonal_periods=3\n",
      "completed: ExponentialSmoothing(trend=ModelMode.ADDITIVE, damped=False, seasonal=SeasonalityMode.ADDITIVE, seasonal_periods=3:0.3252174359986384 sec\n",
      "beginning: Auto-ARIMA\n",
      "completed: Auto-ARIMA:41.61890267200215 sec\n",
      "beginning: Theta(-0.5252525252525242)\n",
      "completed: Theta(-0.5252525252525242):0.05320632700022543 sec\n",
      "Combination  415 of 4170\n",
      "beginning: Naive drift model\n",
      "completed: Naive drift model:0.037530477999098366 sec\n",
      "beginning: Prophet\n"
     ]
    },
    {
     "name": "stderr",
     "output_type": "stream",
     "text": [
      "02:03:51 - cmdstanpy - INFO - Chain [1] start processing\n",
      "02:03:51 - cmdstanpy - INFO - Chain [1] done processing\n"
     ]
    },
    {
     "name": "stdout",
     "output_type": "stream",
     "text": [
      "completed: Prophet:1.1782716709967644 sec\n",
      "True\n",
      "beginning: ExponentialSmoothing(trend=ModelMode.ADDITIVE, damped=False, seasonal=SeasonalityMode.ADDITIVE, seasonal_periods=3\n",
      "completed: ExponentialSmoothing(trend=ModelMode.ADDITIVE, damped=False, seasonal=SeasonalityMode.ADDITIVE, seasonal_periods=3:0.32763702500233194 sec\n",
      "beginning: Auto-ARIMA\n",
      "completed: Auto-ARIMA:47.14157105100094 sec\n",
      "beginning: Theta(0.08080808080808133)\n",
      "completed: Theta(0.08080808080808133):0.05339798600107315 sec\n",
      "Combination  416 of 4170\n",
      "beginning: Naive drift model\n",
      "completed: Naive drift model:0.03575121700123418 sec\n",
      "beginning: Prophet\n"
     ]
    },
    {
     "name": "stderr",
     "output_type": "stream",
     "text": [
      "02:04:43 - cmdstanpy - INFO - Chain [1] start processing\n",
      "02:04:43 - cmdstanpy - INFO - Chain [1] done processing\n"
     ]
    },
    {
     "name": "stdout",
     "output_type": "stream",
     "text": [
      "completed: Prophet:0.6846338869981992 sec\n",
      "True\n",
      "beginning: ExponentialSmoothing(trend=ModelMode.ADDITIVE, damped=False, seasonal=SeasonalityMode.ADDITIVE, seasonal_periods=4\n",
      "completed: ExponentialSmoothing(trend=ModelMode.ADDITIVE, damped=False, seasonal=SeasonalityMode.ADDITIVE, seasonal_periods=4:0.3253180049978255 sec\n",
      "beginning: Auto-ARIMA\n",
      "completed: Auto-ARIMA:32.850452507002046 sec\n",
      "beginning: Theta(-0.1212121212121211)\n",
      "completed: Theta(-0.1212121212121211):0.05324111600202741 sec\n",
      "Combination  417 of 4170\n",
      "beginning: Naive drift model\n",
      "completed: Naive drift model:0.03533553700253833 sec\n",
      "beginning: Prophet\n"
     ]
    },
    {
     "name": "stderr",
     "output_type": "stream",
     "text": [
      "02:05:20 - cmdstanpy - INFO - Chain [1] start processing\n",
      "02:05:20 - cmdstanpy - INFO - Chain [1] done processing\n"
     ]
    },
    {
     "name": "stdout",
     "output_type": "stream",
     "text": [
      "completed: Prophet:0.9781171260001429 sec\n",
      "True\n",
      "beginning: ExponentialSmoothing(trend=ModelMode.ADDITIVE, damped=False, seasonal=SeasonalityMode.ADDITIVE, seasonal_periods=3\n",
      "completed: ExponentialSmoothing(trend=ModelMode.ADDITIVE, damped=False, seasonal=SeasonalityMode.ADDITIVE, seasonal_periods=3:0.3168138069995621 sec\n",
      "beginning: Auto-ARIMA\n",
      "completed: Auto-ARIMA:43.51820877700084 sec\n",
      "beginning: Theta(-0.1212121212121211)\n",
      "completed: Theta(-0.1212121212121211):0.051925056002801284 sec\n",
      "Combination  418 of 4170\n",
      "beginning: Naive drift model\n",
      "completed: Naive drift model:0.03555889799827128 sec\n",
      "beginning: Prophet\n"
     ]
    },
    {
     "name": "stderr",
     "output_type": "stream",
     "text": [
      "02:06:08 - cmdstanpy - INFO - Chain [1] start processing\n",
      "02:06:09 - cmdstanpy - INFO - Chain [1] done processing\n"
     ]
    },
    {
     "name": "stdout",
     "output_type": "stream",
     "text": [
      "completed: Prophet:0.9501658469998802 sec\n",
      "True\n",
      "beginning: ExponentialSmoothing(trend=ModelMode.ADDITIVE, damped=False, seasonal=SeasonalityMode.ADDITIVE, seasonal_periods=3\n",
      "completed: ExponentialSmoothing(trend=ModelMode.ADDITIVE, damped=False, seasonal=SeasonalityMode.ADDITIVE, seasonal_periods=3:0.3263636260016938 sec\n",
      "beginning: Auto-ARIMA\n",
      "completed: Auto-ARIMA:70.0948313839981 sec\n",
      "beginning: Theta(-0.1212121212121211)\n",
      "completed: Theta(-0.1212121212121211):0.05291597600080422 sec\n",
      "Combination  419 of 4170\n",
      "beginning: Naive drift model\n",
      "completed: Naive drift model:0.03636163800183567 sec\n",
      "beginning: Prophet\n"
     ]
    },
    {
     "name": "stderr",
     "output_type": "stream",
     "text": [
      "02:07:23 - cmdstanpy - INFO - Chain [1] start processing\n",
      "02:07:23 - cmdstanpy - INFO - Chain [1] done processing\n"
     ]
    },
    {
     "name": "stdout",
     "output_type": "stream",
     "text": [
      "completed: Prophet:0.735272163998161 sec\n",
      "True\n",
      "beginning: ExponentialSmoothing(trend=ModelMode.ADDITIVE, damped=False, seasonal=SeasonalityMode.ADDITIVE, seasonal_periods=6\n",
      "completed: ExponentialSmoothing(trend=ModelMode.ADDITIVE, damped=False, seasonal=SeasonalityMode.ADDITIVE, seasonal_periods=6:0.33195651499772794 sec\n",
      "beginning: Auto-ARIMA\n",
      "completed: Auto-ARIMA:40.3587263469999 sec\n",
      "beginning: Theta(-0.32323232323232354)\n",
      "completed: Theta(-0.32323232323232354):0.0523941149986058 sec\n",
      "Combination  420 of 4170\n",
      "beginning: Naive drift model\n",
      "completed: Naive drift model:0.03546979699967778 sec\n",
      "beginning: Prophet\n"
     ]
    },
    {
     "name": "stderr",
     "output_type": "stream",
     "text": [
      "02:08:08 - cmdstanpy - INFO - Chain [1] start processing\n",
      "02:08:08 - cmdstanpy - INFO - Chain [1] done processing\n"
     ]
    },
    {
     "name": "stdout",
     "output_type": "stream",
     "text": [
      "completed: Prophet:1.0550476999997045 sec\n",
      "True\n",
      "beginning: ExponentialSmoothing(trend=ModelMode.ADDITIVE, damped=False, seasonal=SeasonalityMode.ADDITIVE, seasonal_periods=2\n",
      "completed: ExponentialSmoothing(trend=ModelMode.ADDITIVE, damped=False, seasonal=SeasonalityMode.ADDITIVE, seasonal_periods=2:0.31980427600137773 sec\n",
      "beginning: Auto-ARIMA\n",
      "completed: Auto-ARIMA:46.75773580000168 sec\n",
      "beginning: Theta(-0.1212121212121211)\n",
      "completed: Theta(-0.1212121212121211):0.05326800599868875 sec\n",
      "Combination  421 of 4170\n",
      "beginning: Naive drift model\n",
      "completed: Naive drift model:0.03498578699873178 sec\n",
      "beginning: Prophet\n"
     ]
    },
    {
     "name": "stderr",
     "output_type": "stream",
     "text": [
      "02:08:59 - cmdstanpy - INFO - Chain [1] start processing\n",
      "02:08:59 - cmdstanpy - INFO - Chain [1] done processing\n"
     ]
    },
    {
     "name": "stdout",
     "output_type": "stream",
     "text": [
      "completed: Prophet:0.7214662750011485 sec\n",
      "True\n",
      "beginning: ExponentialSmoothing(trend=ModelMode.ADDITIVE, damped=False, seasonal=SeasonalityMode.ADDITIVE, seasonal_periods=2\n",
      "completed: ExponentialSmoothing(trend=ModelMode.ADDITIVE, damped=False, seasonal=SeasonalityMode.ADDITIVE, seasonal_periods=2:0.32357728599890834 sec\n",
      "beginning: Auto-ARIMA\n",
      "completed: Auto-ARIMA:45.11146054599885 sec\n",
      "beginning: Theta(0.08080808080808133)\n",
      "completed: Theta(0.08080808080808133):0.05378824600120424 sec\n",
      "Combination  422 of 4170\n",
      "beginning: Naive drift model\n",
      "completed: Naive drift model:0.0399032069981331 sec\n",
      "beginning: Prophet\n"
     ]
    },
    {
     "name": "stderr",
     "output_type": "stream",
     "text": [
      "02:09:48 - cmdstanpy - INFO - Chain [1] start processing\n",
      "02:09:49 - cmdstanpy - INFO - Chain [1] done processing\n"
     ]
    },
    {
     "name": "stdout",
     "output_type": "stream",
     "text": [
      "completed: Prophet:0.9742837160010822 sec\n",
      "True\n",
      "beginning: ExponentialSmoothing(trend=ModelMode.ADDITIVE, damped=False, seasonal=SeasonalityMode.ADDITIVE, seasonal_periods=8\n",
      "completed: ExponentialSmoothing(trend=ModelMode.ADDITIVE, damped=False, seasonal=SeasonalityMode.ADDITIVE, seasonal_periods=8:0.3303060549988004 sec\n",
      "beginning: Auto-ARIMA\n",
      "completed: Auto-ARIMA:104.70805062900035 sec\n",
      "beginning: Theta(-0.1212121212121211)\n",
      "completed: Theta(-0.1212121212121211):0.05458650600121473 sec\n",
      "Combination  423 of 4170\n",
      "beginning: Naive drift model\n",
      "completed: Naive drift model:0.03535462700165226 sec\n",
      "beginning: Prophet\n"
     ]
    },
    {
     "name": "stderr",
     "output_type": "stream",
     "text": [
      "02:11:38 - cmdstanpy - INFO - Chain [1] start processing\n",
      "02:11:38 - cmdstanpy - INFO - Chain [1] done processing\n"
     ]
    },
    {
     "name": "stdout",
     "output_type": "stream",
     "text": [
      "completed: Prophet:1.0161470629973337 sec\n",
      "True\n",
      "beginning: ExponentialSmoothing(trend=ModelMode.ADDITIVE, damped=False, seasonal=SeasonalityMode.ADDITIVE, seasonal_periods=4\n",
      "completed: ExponentialSmoothing(trend=ModelMode.ADDITIVE, damped=False, seasonal=SeasonalityMode.ADDITIVE, seasonal_periods=4:0.3049905760017282 sec\n",
      "beginning: Auto-ARIMA\n",
      "completed: Auto-ARIMA:29.52730532199712 sec\n",
      "beginning: Theta(0.28282828282828376)\n",
      "completed: Theta(0.28282828282828376):0.051235655999334995 sec\n",
      "Combination  424 of 4170\n",
      "beginning: Naive drift model\n",
      "completed: Naive drift model:0.035882387001038296 sec\n",
      "beginning: Prophet\n"
     ]
    },
    {
     "name": "stderr",
     "output_type": "stream",
     "text": [
      "02:12:12 - cmdstanpy - INFO - Chain [1] start processing\n",
      "02:12:12 - cmdstanpy - INFO - Chain [1] done processing\n"
     ]
    },
    {
     "name": "stdout",
     "output_type": "stream",
     "text": [
      "completed: Prophet:0.7020634969994717 sec\n",
      "True\n",
      "beginning: ExponentialSmoothing(trend=ModelMode.ADDITIVE, damped=False, seasonal=SeasonalityMode.ADDITIVE, seasonal_periods=4\n",
      "completed: ExponentialSmoothing(trend=ModelMode.ADDITIVE, damped=False, seasonal=SeasonalityMode.ADDITIVE, seasonal_periods=4:0.301797986998281 sec\n",
      "beginning: Auto-ARIMA\n",
      "completed: Auto-ARIMA:38.178945383999235 sec\n",
      "beginning: Theta(-0.1212121212121211)\n",
      "completed: Theta(-0.1212121212121211):0.052109055999608245 sec\n",
      "Combination  425 of 4170\n",
      "beginning: Naive drift model\n",
      "completed: Naive drift model:0.03360665700165555 sec\n",
      "beginning: Prophet\n"
     ]
    },
    {
     "name": "stderr",
     "output_type": "stream",
     "text": [
      "02:12:54 - cmdstanpy - INFO - Chain [1] start processing\n",
      "02:12:55 - cmdstanpy - INFO - Chain [1] done processing\n"
     ]
    },
    {
     "name": "stdout",
     "output_type": "stream",
     "text": [
      "completed: Prophet:0.670174869002949 sec\n",
      "True\n",
      "beginning: ExponentialSmoothing(trend=ModelMode.ADDITIVE, damped=False, seasonal=SeasonalityMode.ADDITIVE, seasonal_periods=5\n",
      "completed: ExponentialSmoothing(trend=ModelMode.ADDITIVE, damped=False, seasonal=SeasonalityMode.ADDITIVE, seasonal_periods=5:0.3077831070004322 sec\n",
      "beginning: Auto-ARIMA\n",
      "completed: Auto-ARIMA:44.660430240001006 sec\n",
      "beginning: Theta(1.8989898989898997)\n",
      "completed: Theta(1.8989898989898997):0.053297676000511274 sec\n",
      "Combination  426 of 4170\n",
      "beginning: Naive drift model\n",
      "completed: Naive drift model:0.03493543800141197 sec\n",
      "beginning: Prophet\n"
     ]
    },
    {
     "name": "stderr",
     "output_type": "stream",
     "text": [
      "02:13:43 - cmdstanpy - INFO - Chain [1] start processing\n",
      "02:13:44 - cmdstanpy - INFO - Chain [1] done processing\n"
     ]
    },
    {
     "name": "stdout",
     "output_type": "stream",
     "text": [
      "completed: Prophet:0.9627959669996926 sec\n",
      "True\n",
      "beginning: ExponentialSmoothing(trend=ModelMode.ADDITIVE, damped=False, seasonal=SeasonalityMode.ADDITIVE, seasonal_periods=6\n",
      "completed: ExponentialSmoothing(trend=ModelMode.ADDITIVE, damped=False, seasonal=SeasonalityMode.ADDITIVE, seasonal_periods=6:0.3296357649996935 sec\n",
      "beginning: Auto-ARIMA\n",
      "completed: Auto-ARIMA:67.29415733600035 sec\n",
      "beginning: Theta(0.4848484848484844)\n",
      "completed: Theta(0.4848484848484844):0.05127877599807107 sec\n",
      "Combination  427 of 4170\n",
      "beginning: Naive drift model\n",
      "completed: Naive drift model:0.034488448000047356 sec\n",
      "beginning: Prophet\n"
     ]
    },
    {
     "name": "stderr",
     "output_type": "stream",
     "text": [
      "02:14:55 - cmdstanpy - INFO - Chain [1] start processing\n",
      "02:14:55 - cmdstanpy - INFO - Chain [1] done processing\n"
     ]
    },
    {
     "name": "stdout",
     "output_type": "stream",
     "text": [
      "completed: Prophet:0.7374005439996836 sec\n",
      "True\n",
      "beginning: ExponentialSmoothing(trend=ModelMode.ADDITIVE, damped=False, seasonal=SeasonalityMode.ADDITIVE, seasonal_periods=5\n",
      "completed: ExponentialSmoothing(trend=ModelMode.ADDITIVE, damped=False, seasonal=SeasonalityMode.ADDITIVE, seasonal_periods=5:0.3310272540002188 sec\n",
      "beginning: Auto-ARIMA\n",
      "completed: Auto-ARIMA:55.275763341996935 sec\n",
      "beginning: Theta(-0.1212121212121211)\n",
      "completed: Theta(-0.1212121212121211):0.05181558600088465 sec\n",
      "Combination  428 of 4170\n",
      "beginning: Naive drift model\n",
      "completed: Naive drift model:0.03506330799791613 sec\n",
      "beginning: Prophet\n"
     ]
    },
    {
     "name": "stderr",
     "output_type": "stream",
     "text": [
      "02:15:55 - cmdstanpy - INFO - Chain [1] start processing\n",
      "02:15:55 - cmdstanpy - INFO - Chain [1] done processing\n"
     ]
    },
    {
     "name": "stdout",
     "output_type": "stream",
     "text": [
      "completed: Prophet:1.1072234170023876 sec\n",
      "True\n",
      "beginning: ExponentialSmoothing(trend=ModelMode.ADDITIVE, damped=False, seasonal=SeasonalityMode.ADDITIVE, seasonal_periods=6\n",
      "completed: ExponentialSmoothing(trend=ModelMode.ADDITIVE, damped=False, seasonal=SeasonalityMode.ADDITIVE, seasonal_periods=6:0.3346781549989828 sec\n",
      "beginning: Auto-ARIMA\n",
      "completed: Auto-ARIMA:63.41681935000088 sec\n",
      "beginning: Theta(-0.1212121212121211)\n",
      "completed: Theta(-0.1212121212121211):0.0599114760007069 sec\n",
      "Combination  429 of 4170\n",
      "beginning: Naive drift model\n"
     ]
    },
    {
     "name": "stderr",
     "output_type": "stream",
     "text": [
      "02:17:03 - cmdstanpy - INFO - Chain [1] start processing\n"
     ]
    },
    {
     "name": "stdout",
     "output_type": "stream",
     "text": [
      "completed: Naive drift model:0.036115926999627845 sec\n",
      "beginning: Prophet\n"
     ]
    },
    {
     "name": "stderr",
     "output_type": "stream",
     "text": [
      "02:17:04 - cmdstanpy - INFO - Chain [1] done processing\n"
     ]
    },
    {
     "name": "stdout",
     "output_type": "stream",
     "text": [
      "completed: Prophet:0.8906859329981671 sec\n",
      "True\n",
      "beginning: ExponentialSmoothing(trend=ModelMode.ADDITIVE, damped=False, seasonal=SeasonalityMode.ADDITIVE, seasonal_periods=3\n",
      "completed: ExponentialSmoothing(trend=ModelMode.ADDITIVE, damped=False, seasonal=SeasonalityMode.ADDITIVE, seasonal_periods=3:0.35475120300179697 sec\n",
      "beginning: Auto-ARIMA\n",
      "completed: Auto-ARIMA:36.68070046799767 sec\n",
      "beginning: Theta(-0.1212121212121211)\n",
      "completed: Theta(-0.1212121212121211):0.05183117699925788 sec\n",
      "Combination  430 of 4170\n",
      "beginning: Naive drift model\n",
      "completed: Naive drift model:0.03718563800066477 sec\n",
      "beginning: Prophet\n"
     ]
    },
    {
     "name": "stderr",
     "output_type": "stream",
     "text": [
      "02:17:44 - cmdstanpy - INFO - Chain [1] start processing\n",
      "02:17:45 - cmdstanpy - INFO - Chain [1] done processing\n"
     ]
    },
    {
     "name": "stdout",
     "output_type": "stream",
     "text": [
      "completed: Prophet:0.9418129890000273 sec\n",
      "True\n",
      "beginning: ExponentialSmoothing(trend=ModelMode.ADDITIVE, damped=False, seasonal=SeasonalityMode.ADDITIVE, seasonal_periods=2\n",
      "completed: ExponentialSmoothing(trend=ModelMode.ADDITIVE, damped=False, seasonal=SeasonalityMode.ADDITIVE, seasonal_periods=2:0.3262398549995851 sec\n",
      "beginning: Auto-ARIMA\n",
      "completed: Auto-ARIMA:45.871072418998665 sec\n",
      "beginning: Theta(-0.1212121212121211)\n",
      "completed: Theta(-0.1212121212121211):0.053286116002709605 sec\n",
      "Combination  431 of 4170\n",
      "beginning: Naive drift model\n",
      "completed: Naive drift model:0.035982588000479154 sec\n",
      "beginning: Prophet\n"
     ]
    },
    {
     "name": "stderr",
     "output_type": "stream",
     "text": [
      "02:18:35 - cmdstanpy - INFO - Chain [1] start processing\n",
      "02:18:35 - cmdstanpy - INFO - Chain [1] done processing\n"
     ]
    },
    {
     "name": "stdout",
     "output_type": "stream",
     "text": [
      "completed: Prophet:1.2406028369987325 sec\n",
      "True\n",
      "beginning: ExponentialSmoothing(trend=ModelMode.ADDITIVE, damped=False, seasonal=SeasonalityMode.ADDITIVE, seasonal_periods=3\n",
      "completed: ExponentialSmoothing(trend=ModelMode.ADDITIVE, damped=False, seasonal=SeasonalityMode.ADDITIVE, seasonal_periods=3:0.327466104998166 sec\n",
      "beginning: Auto-ARIMA\n",
      "completed: Auto-ARIMA:48.09802907099947 sec\n",
      "beginning: Theta(-0.1212121212121211)\n",
      "completed: Theta(-0.1212121212121211):0.055111364999902435 sec\n",
      "Combination  432 of 4170\n",
      "beginning: Naive drift model\n",
      "completed: Naive drift model:0.03614735700102756 sec\n",
      "beginning: Prophet\n"
     ]
    },
    {
     "name": "stderr",
     "output_type": "stream",
     "text": [
      "02:19:28 - cmdstanpy - INFO - Chain [1] start processing\n",
      "02:19:28 - cmdstanpy - INFO - Chain [1] done processing\n"
     ]
    },
    {
     "name": "stdout",
     "output_type": "stream",
     "text": [
      "completed: Prophet:0.7295395149994874 sec\n",
      "True\n",
      "beginning: ExponentialSmoothing(trend=ModelMode.ADDITIVE, damped=False, seasonal=SeasonalityMode.ADDITIVE, seasonal_periods=3\n",
      "completed: ExponentialSmoothing(trend=ModelMode.ADDITIVE, damped=False, seasonal=SeasonalityMode.ADDITIVE, seasonal_periods=3:0.3248678750023828 sec\n",
      "beginning: Auto-ARIMA\n",
      "completed: Auto-ARIMA:43.74079123900083 sec\n",
      "beginning: Theta(0.08080808080808133)\n",
      "completed: Theta(0.08080808080808133):0.059044735000497894 sec\n",
      "Combination  433 of 4170\n",
      "beginning: Naive drift model\n",
      "completed: Naive drift model:0.03492664700024761 sec\n",
      "beginning: Prophet\n"
     ]
    },
    {
     "name": "stderr",
     "output_type": "stream",
     "text": [
      "02:20:16 - cmdstanpy - INFO - Chain [1] start processing\n",
      "02:20:17 - cmdstanpy - INFO - Chain [1] done processing\n"
     ]
    },
    {
     "name": "stdout",
     "output_type": "stream",
     "text": [
      "completed: Prophet:0.788272280999081 sec\n",
      "True\n",
      "beginning: ExponentialSmoothing(trend=ModelMode.ADDITIVE, damped=False, seasonal=SeasonalityMode.ADDITIVE, seasonal_periods=3\n",
      "completed: ExponentialSmoothing(trend=ModelMode.ADDITIVE, damped=False, seasonal=SeasonalityMode.ADDITIVE, seasonal_periods=3:0.32282605600266834 sec\n",
      "beginning: Auto-ARIMA\n",
      "completed: Auto-ARIMA:46.30566366700077 sec\n",
      "beginning: Theta(0.08080808080808133)\n",
      "completed: Theta(0.08080808080808133):0.05291857500196784 sec\n",
      "Combination  434 of 4170\n",
      "beginning: Naive drift model\n",
      "completed: Naive drift model:0.03467713699865271 sec\n",
      "beginning: Prophet\n"
     ]
    },
    {
     "name": "stderr",
     "output_type": "stream",
     "text": [
      "02:21:07 - cmdstanpy - INFO - Chain [1] start processing\n",
      "02:21:07 - cmdstanpy - INFO - Chain [1] done processing\n"
     ]
    },
    {
     "name": "stdout",
     "output_type": "stream",
     "text": [
      "completed: Prophet:1.0726391800017154 sec\n",
      "True\n",
      "beginning: ExponentialSmoothing(trend=ModelMode.ADDITIVE, damped=False, seasonal=SeasonalityMode.ADDITIVE, seasonal_periods=3\n",
      "completed: ExponentialSmoothing(trend=ModelMode.ADDITIVE, damped=False, seasonal=SeasonalityMode.ADDITIVE, seasonal_periods=3:0.3240141849964857 sec\n",
      "beginning: Auto-ARIMA\n",
      "completed: Auto-ARIMA:35.39756629399926 sec\n",
      "beginning: Theta(0.08080808080808133)\n",
      "completed: Theta(0.08080808080808133):0.061677034998865565 sec\n",
      "Combination  435 of 4170\n",
      "beginning: Naive drift model\n",
      "completed: Naive drift model:0.035260677002952434 sec\n",
      "beginning: Prophet\n"
     ]
    },
    {
     "name": "stderr",
     "output_type": "stream",
     "text": [
      "02:21:47 - cmdstanpy - INFO - Chain [1] start processing\n",
      "02:21:48 - cmdstanpy - INFO - Chain [1] done processing\n"
     ]
    },
    {
     "name": "stdout",
     "output_type": "stream",
     "text": [
      "completed: Prophet:0.8575373259991466 sec\n",
      "True\n",
      "beginning: ExponentialSmoothing(trend=ModelMode.ADDITIVE, damped=False, seasonal=SeasonalityMode.ADDITIVE, seasonal_periods=5\n",
      "completed: ExponentialSmoothing(trend=ModelMode.ADDITIVE, damped=False, seasonal=SeasonalityMode.ADDITIVE, seasonal_periods=5:0.3471520339990093 sec\n",
      "beginning: Auto-ARIMA\n",
      "completed: Auto-ARIMA:50.58711935500105 sec\n",
      "beginning: Theta(-0.5252525252525242)\n",
      "completed: Theta(-0.5252525252525242):0.05733481499919435 sec\n",
      "Combination  436 of 4170\n",
      "beginning: Naive drift model\n",
      "completed: Naive drift model:0.0354969580002944 sec\n",
      "beginning: Prophet\n"
     ]
    },
    {
     "name": "stderr",
     "output_type": "stream",
     "text": [
      "02:22:43 - cmdstanpy - INFO - Chain [1] start processing\n",
      "02:22:43 - cmdstanpy - INFO - Chain [1] done processing\n"
     ]
    },
    {
     "name": "stdout",
     "output_type": "stream",
     "text": [
      "completed: Prophet:0.8315654969992465 sec\n",
      "True\n",
      "beginning: ExponentialSmoothing(trend=ModelMode.ADDITIVE, damped=False, seasonal=SeasonalityMode.ADDITIVE, seasonal_periods=7\n",
      "completed: ExponentialSmoothing(trend=ModelMode.ADDITIVE, damped=False, seasonal=SeasonalityMode.ADDITIVE, seasonal_periods=7:0.34088132500255597 sec\n",
      "beginning: Auto-ARIMA\n",
      "completed: Auto-ARIMA:87.38735093499781 sec\n",
      "beginning: Theta(-0.1212121212121211)\n",
      "completed: Theta(-0.1212121212121211):0.053464766999240965 sec\n",
      "Combination  437 of 4170\n",
      "beginning: Naive drift model\n",
      "completed: Naive drift model:0.036342888000945095 sec\n",
      "beginning: Prophet\n"
     ]
    },
    {
     "name": "stderr",
     "output_type": "stream",
     "text": [
      "02:24:14 - cmdstanpy - INFO - Chain [1] start processing\n",
      "02:24:15 - cmdstanpy - INFO - Chain [1] done processing\n"
     ]
    },
    {
     "name": "stdout",
     "output_type": "stream",
     "text": [
      "completed: Prophet:1.0948664780007675 sec\n",
      "True\n",
      "beginning: ExponentialSmoothing(trend=ModelMode.ADDITIVE, damped=False, seasonal=SeasonalityMode.ADDITIVE, seasonal_periods=5\n",
      "completed: ExponentialSmoothing(trend=ModelMode.ADDITIVE, damped=False, seasonal=SeasonalityMode.ADDITIVE, seasonal_periods=5:0.3333855839991884 sec\n",
      "beginning: Auto-ARIMA\n",
      "completed: Auto-ARIMA:53.149614103000204 sec\n",
      "beginning: Theta(-1.1313131313131315)\n",
      "completed: Theta(-1.1313131313131315):0.05185178600004292 sec\n",
      "Combination  438 of 4170\n",
      "beginning: Naive drift model\n",
      "completed: Naive drift model:0.03553517799809924 sec\n",
      "beginning: Prophet\n"
     ]
    },
    {
     "name": "stderr",
     "output_type": "stream",
     "text": [
      "02:25:12 - cmdstanpy - INFO - Chain [1] start processing\n",
      "02:25:13 - cmdstanpy - INFO - Chain [1] done processing\n"
     ]
    },
    {
     "name": "stdout",
     "output_type": "stream",
     "text": [
      "completed: Prophet:0.8383438669989118 sec\n",
      "True\n",
      "beginning: ExponentialSmoothing(trend=ModelMode.ADDITIVE, damped=False, seasonal=SeasonalityMode.ADDITIVE, seasonal_periods=3\n",
      "completed: ExponentialSmoothing(trend=ModelMode.ADDITIVE, damped=False, seasonal=SeasonalityMode.ADDITIVE, seasonal_periods=3:0.33004193500164547 sec\n",
      "beginning: Auto-ARIMA\n",
      "completed: Auto-ARIMA:45.36824192700078 sec\n",
      "beginning: Theta(0.08080808080808133)\n",
      "completed: Theta(0.08080808080808133):0.05459839600007399 sec\n",
      "Combination  439 of 4170\n",
      "beginning: Naive drift model\n",
      "completed: Naive drift model:0.03551344700099435 sec\n",
      "beginning: Prophet\n"
     ]
    },
    {
     "name": "stderr",
     "output_type": "stream",
     "text": [
      "02:26:02 - cmdstanpy - INFO - Chain [1] start processing\n",
      "02:26:03 - cmdstanpy - INFO - Chain [1] done processing\n"
     ]
    },
    {
     "name": "stdout",
     "output_type": "stream",
     "text": [
      "completed: Prophet:0.8616969659997267 sec\n",
      "True\n",
      "beginning: ExponentialSmoothing(trend=ModelMode.ADDITIVE, damped=False, seasonal=SeasonalityMode.ADDITIVE, seasonal_periods=3\n",
      "completed: ExponentialSmoothing(trend=ModelMode.ADDITIVE, damped=False, seasonal=SeasonalityMode.ADDITIVE, seasonal_periods=3:0.3263289159986016 sec\n",
      "beginning: Auto-ARIMA\n",
      "completed: Auto-ARIMA:72.11163499100076 sec\n",
      "beginning: Theta(0.08080808080808133)\n",
      "completed: Theta(0.08080808080808133):0.05549797599815065 sec\n",
      "Combination  440 of 4170\n",
      "beginning: Naive drift model\n",
      "completed: Naive drift model:0.03744292699775542 sec\n",
      "beginning: Prophet\n"
     ]
    },
    {
     "name": "stderr",
     "output_type": "stream",
     "text": [
      "02:27:19 - cmdstanpy - INFO - Chain [1] start processing\n",
      "02:27:19 - cmdstanpy - INFO - Chain [1] done processing\n"
     ]
    },
    {
     "name": "stdout",
     "output_type": "stream",
     "text": [
      "completed: Prophet:0.9374120299980859 sec\n",
      "True\n",
      "beginning: ExponentialSmoothing(trend=ModelMode.ADDITIVE, damped=False, seasonal=SeasonalityMode.ADDITIVE, seasonal_periods=6\n",
      "completed: ExponentialSmoothing(trend=ModelMode.ADDITIVE, damped=False, seasonal=SeasonalityMode.ADDITIVE, seasonal_periods=6:0.33391606499935733 sec\n",
      "beginning: Auto-ARIMA\n",
      "completed: Auto-ARIMA:48.10477089100095 sec\n",
      "beginning: Theta(0.08080808080808133)\n",
      "completed: Theta(0.08080808080808133):0.05126309700062848 sec\n",
      "Combination  441 of 4170\n",
      "beginning: Naive drift model\n",
      "completed: Naive drift model:0.035644737999973586 sec\n",
      "beginning: Prophet\n"
     ]
    },
    {
     "name": "stderr",
     "output_type": "stream",
     "text": [
      "02:28:12 - cmdstanpy - INFO - Chain [1] start processing\n",
      "02:28:12 - cmdstanpy - INFO - Chain [1] done processing\n"
     ]
    },
    {
     "name": "stdout",
     "output_type": "stream",
     "text": [
      "completed: Prophet:0.7959667600007378 sec\n",
      "True\n",
      "beginning: ExponentialSmoothing(trend=ModelMode.ADDITIVE, damped=False, seasonal=SeasonalityMode.ADDITIVE, seasonal_periods=4\n",
      "completed: ExponentialSmoothing(trend=ModelMode.ADDITIVE, damped=False, seasonal=SeasonalityMode.ADDITIVE, seasonal_periods=4:0.3331411350009148 sec\n",
      "beginning: Auto-ARIMA\n",
      "completed: Auto-ARIMA:44.90096347199869 sec\n",
      "beginning: Theta(0.4848484848484844)\n",
      "completed: Theta(0.4848484848484844):0.05688822499723756 sec\n",
      "Combination  442 of 4170\n",
      "beginning: Naive drift model\n",
      "completed: Naive drift model:0.039189156999782426 sec\n",
      "beginning: Prophet\n"
     ]
    },
    {
     "name": "stderr",
     "output_type": "stream",
     "text": [
      "02:29:01 - cmdstanpy - INFO - Chain [1] start processing\n",
      "02:29:01 - cmdstanpy - INFO - Chain [1] done processing\n"
     ]
    },
    {
     "name": "stdout",
     "output_type": "stream",
     "text": [
      "completed: Prophet:0.6913185779994819 sec\n",
      "True\n",
      "beginning: ExponentialSmoothing(trend=ModelMode.ADDITIVE, damped=False, seasonal=SeasonalityMode.ADDITIVE, seasonal_periods=4\n",
      "completed: ExponentialSmoothing(trend=ModelMode.ADDITIVE, damped=False, seasonal=SeasonalityMode.ADDITIVE, seasonal_periods=4:0.33275263600080507 sec\n",
      "beginning: Auto-ARIMA\n",
      "completed: Auto-ARIMA:43.31962018700142 sec\n",
      "beginning: Theta(0.08080808080808133)\n",
      "completed: Theta(0.08080808080808133):0.05448785599946859 sec\n",
      "Combination  443 of 4170\n",
      "beginning: Naive drift model\n",
      "completed: Naive drift model:0.03610200800176244 sec\n",
      "beginning: Prophet\n"
     ]
    },
    {
     "name": "stderr",
     "output_type": "stream",
     "text": [
      "02:29:49 - cmdstanpy - INFO - Chain [1] start processing\n",
      "02:29:50 - cmdstanpy - INFO - Chain [1] done processing\n"
     ]
    },
    {
     "name": "stdout",
     "output_type": "stream",
     "text": [
      "completed: Prophet:0.8299721669973223 sec\n",
      "True\n",
      "beginning: ExponentialSmoothing(trend=ModelMode.ADDITIVE, damped=False, seasonal=SeasonalityMode.ADDITIVE, seasonal_periods=4\n",
      "completed: ExponentialSmoothing(trend=ModelMode.ADDITIVE, damped=False, seasonal=SeasonalityMode.ADDITIVE, seasonal_periods=4:0.32964957500007586 sec\n",
      "beginning: Auto-ARIMA\n",
      "completed: Auto-ARIMA:33.33083962899764 sec\n",
      "beginning: Theta(-0.1212121212121211)\n",
      "completed: Theta(-0.1212121212121211):0.052106455998000456 sec\n",
      "Combination  444 of 4170\n",
      "beginning: Naive drift model\n",
      "completed: Naive drift model:0.03880654800013872 sec\n",
      "beginning: Prophet\n"
     ]
    },
    {
     "name": "stderr",
     "output_type": "stream",
     "text": [
      "02:30:27 - cmdstanpy - INFO - Chain [1] start processing\n",
      "02:30:28 - cmdstanpy - INFO - Chain [1] done processing\n"
     ]
    },
    {
     "name": "stdout",
     "output_type": "stream",
     "text": [
      "completed: Prophet:0.8238702079979703 sec\n",
      "True\n",
      "beginning: ExponentialSmoothing(trend=ModelMode.ADDITIVE, damped=False, seasonal=SeasonalityMode.ADDITIVE, seasonal_periods=7\n",
      "completed: ExponentialSmoothing(trend=ModelMode.ADDITIVE, damped=False, seasonal=SeasonalityMode.ADDITIVE, seasonal_periods=7:0.32871219599837787 sec\n",
      "beginning: Auto-ARIMA\n",
      "completed: Auto-ARIMA:50.8315187670014 sec\n",
      "beginning: Theta(-0.1212121212121211)\n",
      "completed: Theta(-0.1212121212121211):0.0547029859990289 sec\n",
      "Combination  445 of 4170\n",
      "beginning: Naive drift model\n",
      "completed: Naive drift model:0.03596187699804432 sec\n",
      "beginning: Prophet\n"
     ]
    },
    {
     "name": "stderr",
     "output_type": "stream",
     "text": [
      "02:31:23 - cmdstanpy - INFO - Chain [1] start processing\n",
      "02:31:23 - cmdstanpy - INFO - Chain [1] done processing\n"
     ]
    },
    {
     "name": "stdout",
     "output_type": "stream",
     "text": [
      "completed: Prophet:0.9835299260012107 sec\n",
      "True\n",
      "beginning: ExponentialSmoothing(trend=ModelMode.ADDITIVE, damped=False, seasonal=SeasonalityMode.ADDITIVE, seasonal_periods=4\n",
      "completed: ExponentialSmoothing(trend=ModelMode.ADDITIVE, damped=False, seasonal=SeasonalityMode.ADDITIVE, seasonal_periods=4:0.3225555760000134 sec\n",
      "beginning: Auto-ARIMA\n",
      "completed: Auto-ARIMA:32.565081906999694 sec\n",
      "beginning: Theta(0.08080808080808133)\n",
      "completed: Theta(0.08080808080808133):0.055506355998659274 sec\n",
      "Combination  446 of 4170\n",
      "beginning: Naive drift model\n",
      "completed: Naive drift model:0.04182715700153494 sec\n",
      "beginning: Prophet\n"
     ]
    },
    {
     "name": "stderr",
     "output_type": "stream",
     "text": [
      "02:32:00 - cmdstanpy - INFO - Chain [1] start processing\n",
      "02:32:00 - cmdstanpy - INFO - Chain [1] done processing\n"
     ]
    },
    {
     "name": "stdout",
     "output_type": "stream",
     "text": [
      "completed: Prophet:0.8266163879998203 sec\n",
      "True\n",
      "beginning: ExponentialSmoothing(trend=ModelMode.ADDITIVE, damped=False, seasonal=SeasonalityMode.ADDITIVE, seasonal_periods=7\n",
      "completed: ExponentialSmoothing(trend=ModelMode.ADDITIVE, damped=False, seasonal=SeasonalityMode.ADDITIVE, seasonal_periods=7:0.3646638019999955 sec\n",
      "beginning: Auto-ARIMA\n",
      "completed: Auto-ARIMA:62.241299280998646 sec\n",
      "beginning: Theta(0.28282828282828376)\n",
      "completed: Theta(0.28282828282828376):0.0645543250029732 sec\n",
      "Combination  447 of 4170\n",
      "beginning: Naive drift model\n",
      "completed: Naive drift model:0.03824290600095992 sec\n",
      "beginning: Prophet\n"
     ]
    },
    {
     "name": "stderr",
     "output_type": "stream",
     "text": [
      "02:33:07 - cmdstanpy - INFO - Chain [1] start processing\n",
      "02:33:07 - cmdstanpy - INFO - Chain [1] done processing\n"
     ]
    },
    {
     "name": "stdout",
     "output_type": "stream",
     "text": [
      "completed: Prophet:0.7240656949979893 sec\n",
      "True\n",
      "beginning: ExponentialSmoothing(trend=ModelMode.ADDITIVE, damped=False, seasonal=SeasonalityMode.ADDITIVE, seasonal_periods=3\n",
      "completed: ExponentialSmoothing(trend=ModelMode.ADDITIVE, damped=False, seasonal=SeasonalityMode.ADDITIVE, seasonal_periods=3:0.3371430750012223 sec\n",
      "beginning: Auto-ARIMA\n",
      "completed: Auto-ARIMA:44.29229124399717 sec\n",
      "beginning: Theta(0.4848484848484844)\n",
      "completed: Theta(0.4848484848484844):0.058074505999684334 sec\n",
      "Combination  448 of 4170\n",
      "beginning: Naive drift model\n",
      "completed: Naive drift model:0.03595545700227376 sec\n",
      "beginning: Prophet\n"
     ]
    },
    {
     "name": "stderr",
     "output_type": "stream",
     "text": [
      "02:33:56 - cmdstanpy - INFO - Chain [1] start processing\n",
      "02:33:56 - cmdstanpy - INFO - Chain [1] done processing\n"
     ]
    },
    {
     "name": "stdout",
     "output_type": "stream",
     "text": [
      "completed: Prophet:0.9593175379995955 sec\n",
      "True\n",
      "beginning: ExponentialSmoothing(trend=ModelMode.ADDITIVE, damped=False, seasonal=SeasonalityMode.ADDITIVE, seasonal_periods=2\n",
      "completed: ExponentialSmoothing(trend=ModelMode.ADDITIVE, damped=False, seasonal=SeasonalityMode.ADDITIVE, seasonal_periods=2:0.3300164059983217 sec\n",
      "beginning: Auto-ARIMA\n",
      "completed: Auto-ARIMA:40.37102004800181 sec\n",
      "beginning: Theta(0.08080808080808133)\n",
      "completed: Theta(0.08080808080808133):0.051950715998827945 sec\n",
      "Combination  449 of 4170\n",
      "beginning: Naive drift model\n",
      "completed: Naive drift model:0.04114701700018486 sec\n",
      "beginning: Prophet\n"
     ]
    },
    {
     "name": "stderr",
     "output_type": "stream",
     "text": [
      "02:34:41 - cmdstanpy - INFO - Chain [1] start processing\n",
      "02:34:41 - cmdstanpy - INFO - Chain [1] done processing\n"
     ]
    },
    {
     "name": "stdout",
     "output_type": "stream",
     "text": [
      "completed: Prophet:0.6791914489986084 sec\n",
      "True\n",
      "beginning: ExponentialSmoothing(trend=ModelMode.ADDITIVE, damped=False, seasonal=SeasonalityMode.ADDITIVE, seasonal_periods=5\n",
      "completed: ExponentialSmoothing(trend=ModelMode.ADDITIVE, damped=False, seasonal=SeasonalityMode.ADDITIVE, seasonal_periods=5:0.33382426499883877 sec\n",
      "beginning: Auto-ARIMA\n",
      "completed: Auto-ARIMA:52.11967945900324 sec\n",
      "beginning: Theta(-0.32323232323232354)\n",
      "completed: Theta(-0.32323232323232354):0.055785854998248396 sec\n",
      "Combination  450 of 4170\n",
      "beginning: Naive drift model\n",
      "completed: Naive drift model:0.036503336999885505 sec\n",
      "beginning: Prophet\n"
     ]
    },
    {
     "name": "stderr",
     "output_type": "stream",
     "text": [
      "02:35:37 - cmdstanpy - INFO - Chain [1] start processing\n",
      "02:35:38 - cmdstanpy - INFO - Chain [1] done processing\n"
     ]
    },
    {
     "name": "stdout",
     "output_type": "stream",
     "text": [
      "completed: Prophet:1.0251958830012882 sec\n",
      "True\n",
      "beginning: ExponentialSmoothing(trend=ModelMode.ADDITIVE, damped=False, seasonal=SeasonalityMode.ADDITIVE, seasonal_periods=6\n",
      "completed: ExponentialSmoothing(trend=ModelMode.ADDITIVE, damped=False, seasonal=SeasonalityMode.ADDITIVE, seasonal_periods=6:0.332207864998054 sec\n",
      "beginning: Auto-ARIMA\n",
      "completed: Auto-ARIMA:47.933278650998545 sec\n",
      "beginning: Theta(0.08080808080808133)\n",
      "completed: Theta(0.08080808080808133):0.058652096002333565 sec\n",
      "Combination  451 of 4170\n",
      "beginning: Naive drift model\n",
      "completed: Naive drift model:0.03660278800089145 sec\n",
      "beginning: Prophet\n"
     ]
    },
    {
     "name": "stderr",
     "output_type": "stream",
     "text": [
      "02:36:30 - cmdstanpy - INFO - Chain [1] start processing\n",
      "02:36:30 - cmdstanpy - INFO - Chain [1] done processing\n"
     ]
    },
    {
     "name": "stdout",
     "output_type": "stream",
     "text": [
      "completed: Prophet:0.8483640160011419 sec\n",
      "True\n",
      "beginning: ExponentialSmoothing(trend=ModelMode.ADDITIVE, damped=False, seasonal=SeasonalityMode.ADDITIVE, seasonal_periods=4\n",
      "completed: ExponentialSmoothing(trend=ModelMode.ADDITIVE, damped=False, seasonal=SeasonalityMode.ADDITIVE, seasonal_periods=4:0.3276653949978936 sec\n",
      "beginning: Auto-ARIMA\n",
      "completed: Auto-ARIMA:43.28166404999865 sec\n",
      "beginning: Theta(0.08080808080808133)\n",
      "completed: Theta(0.08080808080808133):0.053175115997873945 sec\n",
      "Combination  452 of 4170\n",
      "beginning: Naive drift model\n",
      "completed: Naive drift model:0.03650147699954687 sec\n",
      "beginning: Prophet\n"
     ]
    },
    {
     "name": "stderr",
     "output_type": "stream",
     "text": [
      "02:37:18 - cmdstanpy - INFO - Chain [1] start processing\n",
      "02:37:18 - cmdstanpy - INFO - Chain [1] done processing\n"
     ]
    },
    {
     "name": "stdout",
     "output_type": "stream",
     "text": [
      "completed: Prophet:1.0182673540002725 sec\n",
      "True\n",
      "beginning: ExponentialSmoothing(trend=ModelMode.ADDITIVE, damped=False, seasonal=SeasonalityMode.ADDITIVE, seasonal_periods=7\n",
      "completed: ExponentialSmoothing(trend=ModelMode.ADDITIVE, damped=False, seasonal=SeasonalityMode.ADDITIVE, seasonal_periods=7:0.33897727400108124 sec\n",
      "beginning: Auto-ARIMA\n",
      "completed: Auto-ARIMA:90.10948702399764 sec\n",
      "beginning: Theta(-0.1212121212121211)\n",
      "completed: Theta(-0.1212121212121211):0.05428877599842963 sec\n",
      "Combination  453 of 4170\n",
      "beginning: Naive drift model\n",
      "completed: Naive drift model:0.039081066999642644 sec\n",
      "beginning: Prophet\n"
     ]
    },
    {
     "name": "stderr",
     "output_type": "stream",
     "text": [
      "02:38:53 - cmdstanpy - INFO - Chain [1] start processing\n",
      "02:38:53 - cmdstanpy - INFO - Chain [1] done processing\n"
     ]
    },
    {
     "name": "stdout",
     "output_type": "stream",
     "text": [
      "completed: Prophet:1.076325589998305 sec\n",
      "True\n",
      "beginning: ExponentialSmoothing(trend=ModelMode.ADDITIVE, damped=False, seasonal=SeasonalityMode.ADDITIVE, seasonal_periods=6\n",
      "completed: ExponentialSmoothing(trend=ModelMode.ADDITIVE, damped=False, seasonal=SeasonalityMode.ADDITIVE, seasonal_periods=6:0.3390727340010926 sec\n",
      "beginning: Auto-ARIMA\n",
      "completed: Auto-ARIMA:47.54171846000099 sec\n",
      "beginning: Theta(-0.1212121212121211)\n",
      "completed: Theta(-0.1212121212121211):0.052203456001734594 sec\n",
      "Combination  454 of 4170\n",
      "beginning: Naive drift model\n",
      "completed: Naive drift model:0.03477413699874887 sec\n",
      "beginning: Prophet\n"
     ]
    },
    {
     "name": "stderr",
     "output_type": "stream",
     "text": [
      "02:39:45 - cmdstanpy - INFO - Chain [1] start processing\n",
      "02:39:46 - cmdstanpy - INFO - Chain [1] done processing\n"
     ]
    },
    {
     "name": "stdout",
     "output_type": "stream",
     "text": [
      "completed: Prophet:0.8599705950000498 sec\n",
      "True\n",
      "beginning: ExponentialSmoothing(trend=ModelMode.ADDITIVE, damped=False, seasonal=SeasonalityMode.ADDITIVE, seasonal_periods=8\n",
      "completed: ExponentialSmoothing(trend=ModelMode.ADDITIVE, damped=False, seasonal=SeasonalityMode.ADDITIVE, seasonal_periods=8:0.3312995550004416 sec\n",
      "beginning: Auto-ARIMA\n",
      "completed: Auto-ARIMA:81.08817270799773 sec\n",
      "beginning: Theta(-0.1212121212121211)\n",
      "completed: Theta(-0.1212121212121211):0.052652935999503825 sec\n",
      "Combination  455 of 4170\n",
      "beginning: Naive drift model\n",
      "completed: Naive drift model:0.03532892799921683 sec\n",
      "beginning: Prophet\n"
     ]
    },
    {
     "name": "stderr",
     "output_type": "stream",
     "text": [
      "02:41:11 - cmdstanpy - INFO - Chain [1] start processing\n",
      "02:41:11 - cmdstanpy - INFO - Chain [1] done processing\n"
     ]
    },
    {
     "name": "stdout",
     "output_type": "stream",
     "text": [
      "completed: Prophet:0.8065459700010251 sec\n",
      "True\n",
      "beginning: ExponentialSmoothing(trend=ModelMode.ADDITIVE, damped=False, seasonal=SeasonalityMode.ADDITIVE, seasonal_periods=5\n",
      "completed: ExponentialSmoothing(trend=ModelMode.ADDITIVE, damped=False, seasonal=SeasonalityMode.ADDITIVE, seasonal_periods=5:0.3335191650003253 sec\n",
      "beginning: Auto-ARIMA\n",
      "completed: Auto-ARIMA:55.974204882004415 sec\n",
      "beginning: Theta(-0.1212121212121211)\n",
      "completed: Theta(-0.1212121212121211):0.05503823699837085 sec\n",
      "Combination  456 of 4170\n",
      "beginning: Naive drift model\n",
      "completed: Naive drift model:0.03549882800143678 sec\n",
      "beginning: Prophet\n"
     ]
    },
    {
     "name": "stderr",
     "output_type": "stream",
     "text": [
      "02:42:12 - cmdstanpy - INFO - Chain [1] start processing\n",
      "02:42:12 - cmdstanpy - INFO - Chain [1] done processing\n"
     ]
    },
    {
     "name": "stdout",
     "output_type": "stream",
     "text": [
      "completed: Prophet:0.9986227459958172 sec\n",
      "True\n",
      "beginning: ExponentialSmoothing(trend=ModelMode.ADDITIVE, damped=False, seasonal=SeasonalityMode.ADDITIVE, seasonal_periods=2\n",
      "completed: ExponentialSmoothing(trend=ModelMode.ADDITIVE, damped=False, seasonal=SeasonalityMode.ADDITIVE, seasonal_periods=2:0.3271257350061205 sec\n",
      "beginning: Auto-ARIMA\n",
      "completed: Auto-ARIMA:33.28820274800091 sec\n",
      "beginning: Theta(0.08080808080808133)\n",
      "completed: Theta(0.08080808080808133):0.0549867660010932 sec\n",
      "Combination  457 of 4170\n",
      "beginning: Naive drift model\n",
      "completed: Naive drift model:0.038984466998954304 sec\n",
      "beginning: Prophet\n"
     ]
    },
    {
     "name": "stderr",
     "output_type": "stream",
     "text": [
      "02:42:50 - cmdstanpy - INFO - Chain [1] start processing\n",
      "02:42:50 - cmdstanpy - INFO - Chain [1] done processing\n"
     ]
    },
    {
     "name": "stdout",
     "output_type": "stream",
     "text": [
      "completed: Prophet:0.6722138400000404 sec\n",
      "True\n",
      "beginning: ExponentialSmoothing(trend=ModelMode.ADDITIVE, damped=False, seasonal=SeasonalityMode.ADDITIVE, seasonal_periods=7\n",
      "completed: ExponentialSmoothing(trend=ModelMode.ADDITIVE, damped=False, seasonal=SeasonalityMode.ADDITIVE, seasonal_periods=7:0.32585633599956054 sec\n",
      "beginning: Auto-ARIMA\n",
      "completed: Auto-ARIMA:228.3921421720006 sec\n",
      "beginning: Theta(0.08080808080808133)\n",
      "completed: Theta(0.08080808080808133):0.05620655600068858 sec\n",
      "Combination  458 of 4170\n",
      "beginning: Naive drift model\n",
      "completed: Naive drift model:0.03669732800335623 sec\n",
      "beginning: Prophet\n"
     ]
    },
    {
     "name": "stderr",
     "output_type": "stream",
     "text": [
      "02:46:42 - cmdstanpy - INFO - Chain [1] start processing\n",
      "02:46:43 - cmdstanpy - INFO - Chain [1] done processing\n"
     ]
    },
    {
     "name": "stdout",
     "output_type": "stream",
     "text": [
      "completed: Prophet:0.948804089006444 sec\n",
      "True\n",
      "beginning: ExponentialSmoothing(trend=ModelMode.ADDITIVE, damped=False, seasonal=SeasonalityMode.ADDITIVE, seasonal_periods=7\n",
      "completed: ExponentialSmoothing(trend=ModelMode.ADDITIVE, damped=False, seasonal=SeasonalityMode.ADDITIVE, seasonal_periods=7:0.33519589599745814 sec\n",
      "beginning: Auto-ARIMA\n",
      "completed: Auto-ARIMA:54.06707822300086 sec\n",
      "beginning: Theta(0.08080808080808133)\n",
      "completed: Theta(0.08080808080808133):0.05262021599628497 sec\n",
      "Combination  459 of 4170\n",
      "beginning: Naive drift model\n",
      "completed: Naive drift model:0.036033397998835426 sec\n",
      "beginning: Prophet\n"
     ]
    },
    {
     "name": "stderr",
     "output_type": "stream",
     "text": [
      "02:47:41 - cmdstanpy - INFO - Chain [1] start processing\n",
      "02:47:41 - cmdstanpy - INFO - Chain [1] done processing\n"
     ]
    },
    {
     "name": "stdout",
     "output_type": "stream",
     "text": [
      "completed: Prophet:0.7377133749978384 sec\n",
      "True\n",
      "beginning: ExponentialSmoothing(trend=ModelMode.ADDITIVE, damped=False, seasonal=SeasonalityMode.ADDITIVE, seasonal_periods=11\n",
      "completed: ExponentialSmoothing(trend=ModelMode.ADDITIVE, damped=False, seasonal=SeasonalityMode.ADDITIVE, seasonal_periods=11:0.3383016450025025 sec\n",
      "beginning: Auto-ARIMA\n",
      "completed: Auto-ARIMA:204.26710420900054 sec\n",
      "beginning: Theta(-0.1212121212121211)\n",
      "completed: Theta(-0.1212121212121211):0.05616077599552227 sec\n",
      "Combination  460 of 4170\n",
      "beginning: Naive drift model\n",
      "completed: Naive drift model:0.03783033700165106 sec\n",
      "beginning: Prophet\n"
     ]
    },
    {
     "name": "stderr",
     "output_type": "stream",
     "text": [
      "02:51:10 - cmdstanpy - INFO - Chain [1] start processing\n",
      "02:51:10 - cmdstanpy - INFO - Chain [1] done processing\n"
     ]
    },
    {
     "name": "stdout",
     "output_type": "stream",
     "text": [
      "completed: Prophet:0.7169705470005283 sec\n",
      "True\n",
      "beginning: ExponentialSmoothing(trend=ModelMode.ADDITIVE, damped=False, seasonal=SeasonalityMode.ADDITIVE, seasonal_periods=6\n",
      "completed: ExponentialSmoothing(trend=ModelMode.ADDITIVE, damped=False, seasonal=SeasonalityMode.ADDITIVE, seasonal_periods=6:0.33085356499941554 sec\n",
      "beginning: Auto-ARIMA\n",
      "completed: Auto-ARIMA:67.88991459199315 sec\n",
      "beginning: Theta(2.505050505050505)\n",
      "completed: Theta(2.505050505050505):0.05391744599910453 sec\n",
      "Combination  461 of 4170\n",
      "beginning: Naive drift model\n",
      "completed: Naive drift model:0.036687127001641784 sec\n",
      "beginning: Prophet\n"
     ]
    },
    {
     "name": "stderr",
     "output_type": "stream",
     "text": [
      "02:52:22 - cmdstanpy - INFO - Chain [1] start processing\n",
      "02:52:23 - cmdstanpy - INFO - Chain [1] done processing\n"
     ]
    },
    {
     "name": "stdout",
     "output_type": "stream",
     "text": [
      "completed: Prophet:1.185632420994807 sec\n",
      "True\n",
      "beginning: ExponentialSmoothing(trend=ModelMode.ADDITIVE, damped=False, seasonal=SeasonalityMode.ADDITIVE, seasonal_periods=7\n",
      "completed: ExponentialSmoothing(trend=ModelMode.ADDITIVE, damped=False, seasonal=SeasonalityMode.ADDITIVE, seasonal_periods=7:0.3340325449971715 sec\n",
      "beginning: Auto-ARIMA\n",
      "completed: Auto-ARIMA:62.44166215400037 sec\n",
      "beginning: Theta(-0.32323232323232354)\n",
      "completed: Theta(-0.32323232323232354):0.054377646003558766 sec\n",
      "Combination  462 of 4170\n",
      "beginning: Naive drift model\n",
      "completed: Naive drift model:0.03583737699955236 sec\n",
      "beginning: Prophet\n"
     ]
    },
    {
     "name": "stderr",
     "output_type": "stream",
     "text": [
      "02:53:30 - cmdstanpy - INFO - Chain [1] start processing\n",
      "02:53:30 - cmdstanpy - INFO - Chain [1] done processing\n"
     ]
    },
    {
     "name": "stdout",
     "output_type": "stream",
     "text": [
      "completed: Prophet:0.7957237209993764 sec\n",
      "True\n",
      "beginning: ExponentialSmoothing(trend=ModelMode.ADDITIVE, damped=False, seasonal=SeasonalityMode.ADDITIVE, seasonal_periods=3\n",
      "completed: ExponentialSmoothing(trend=ModelMode.ADDITIVE, damped=False, seasonal=SeasonalityMode.ADDITIVE, seasonal_periods=3:0.3262884950017906 sec\n",
      "beginning: Auto-ARIMA\n",
      "completed: Auto-ARIMA:43.81449654800235 sec\n",
      "beginning: Theta(-0.1212121212121211)\n",
      "completed: Theta(-0.1212121212121211):0.051356026000576094 sec\n",
      "Combination  463 of 4170\n",
      "beginning: Naive drift model\n",
      "completed: Naive drift model:0.03611874699709006 sec\n",
      "beginning: Prophet\n"
     ]
    },
    {
     "name": "stderr",
     "output_type": "stream",
     "text": [
      "02:54:18 - cmdstanpy - INFO - Chain [1] start processing\n",
      "02:54:18 - cmdstanpy - INFO - Chain [1] done processing\n"
     ]
    },
    {
     "name": "stdout",
     "output_type": "stream",
     "text": [
      "completed: Prophet:0.6734675200059428 sec\n",
      "True\n",
      "beginning: ExponentialSmoothing(trend=ModelMode.ADDITIVE, damped=False, seasonal=SeasonalityMode.ADDITIVE, seasonal_periods=4\n",
      "completed: ExponentialSmoothing(trend=ModelMode.ADDITIVE, damped=False, seasonal=SeasonalityMode.ADDITIVE, seasonal_periods=4:0.3256488749975688 sec\n",
      "beginning: Auto-ARIMA\n",
      "completed: Auto-ARIMA:40.87868721799896 sec\n",
      "beginning: Theta(-0.32323232323232354)\n",
      "completed: Theta(-0.32323232323232354):0.0505220460036071 sec\n",
      "Combination  464 of 4170\n",
      "beginning: Naive drift model\n",
      "completed: Naive drift model:0.03453341799468035 sec\n",
      "beginning: Prophet\n"
     ]
    },
    {
     "name": "stderr",
     "output_type": "stream",
     "text": [
      "02:55:03 - cmdstanpy - INFO - Chain [1] start processing\n",
      "02:55:04 - cmdstanpy - INFO - Chain [1] done processing\n"
     ]
    },
    {
     "name": "stdout",
     "output_type": "stream",
     "text": [
      "completed: Prophet:0.9611940680042608 sec\n",
      "True\n",
      "beginning: ExponentialSmoothing(trend=ModelMode.ADDITIVE, damped=False, seasonal=SeasonalityMode.ADDITIVE, seasonal_periods=16\n",
      "completed: ExponentialSmoothing(trend=ModelMode.ADDITIVE, damped=False, seasonal=SeasonalityMode.ADDITIVE, seasonal_periods=16:0.34555508400080726 sec\n",
      "beginning: Auto-ARIMA\n",
      "completed: Auto-ARIMA:790.4608345320012 sec\n",
      "beginning: Theta(-0.1212121212121211)\n",
      "completed: Theta(-0.1212121212121211):0.05465556599665433 sec\n",
      "Combination  465 of 4170\n",
      "beginning: Naive drift model\n",
      "completed: Naive drift model:0.03736689699871931 sec\n",
      "beginning: Prophet\n"
     ]
    },
    {
     "name": "stderr",
     "output_type": "stream",
     "text": [
      "03:08:19 - cmdstanpy - INFO - Chain [1] start processing\n",
      "03:08:19 - cmdstanpy - INFO - Chain [1] done processing\n"
     ]
    },
    {
     "name": "stdout",
     "output_type": "stream",
     "text": [
      "completed: Prophet:0.7408078250009567 sec\n",
      "True\n",
      "beginning: ExponentialSmoothing(trend=ModelMode.ADDITIVE, damped=False, seasonal=SeasonalityMode.ADDITIVE, seasonal_periods=6\n",
      "completed: ExponentialSmoothing(trend=ModelMode.ADDITIVE, damped=False, seasonal=SeasonalityMode.ADDITIVE, seasonal_periods=6:0.33022827500099083 sec\n",
      "beginning: Auto-ARIMA\n",
      "completed: Auto-ARIMA:70.96153580400278 sec\n",
      "beginning: Theta(-0.1212121212121211)\n",
      "completed: Theta(-0.1212121212121211):0.05409186600445537 sec\n",
      "Combination  466 of 4170\n",
      "beginning: Naive drift model\n",
      "completed: Naive drift model:0.03642515700630611 sec\n",
      "beginning: Prophet\n"
     ]
    },
    {
     "name": "stderr",
     "output_type": "stream",
     "text": [
      "03:09:34 - cmdstanpy - INFO - Chain [1] start processing\n",
      "03:09:35 - cmdstanpy - INFO - Chain [1] done processing\n"
     ]
    },
    {
     "name": "stdout",
     "output_type": "stream",
     "text": [
      "completed: Prophet:1.0116065639958833 sec\n",
      "True\n",
      "beginning: ExponentialSmoothing(trend=ModelMode.ADDITIVE, damped=False, seasonal=SeasonalityMode.ADDITIVE, seasonal_periods=8\n",
      "completed: ExponentialSmoothing(trend=ModelMode.ADDITIVE, damped=False, seasonal=SeasonalityMode.ADDITIVE, seasonal_periods=8:0.3390010250004707 sec\n",
      "beginning: Auto-ARIMA\n",
      "completed: Auto-ARIMA:151.38384518800012 sec\n",
      "beginning: Theta(-0.1212121212121211)\n",
      "completed: Theta(-0.1212121212121211):0.051411666005151346 sec\n",
      "Combination  467 of 4170\n",
      "beginning: Naive drift model\n",
      "completed: Naive drift model:0.03941422700154362 sec\n",
      "beginning: Prophet\n"
     ]
    },
    {
     "name": "stderr",
     "output_type": "stream",
     "text": [
      "03:12:10 - cmdstanpy - INFO - Chain [1] start processing\n",
      "03:12:11 - cmdstanpy - INFO - Chain [1] done processing\n"
     ]
    },
    {
     "name": "stdout",
     "output_type": "stream",
     "text": [
      "completed: Prophet:1.1431849640066503 sec\n",
      "True\n",
      "beginning: ExponentialSmoothing(trend=ModelMode.ADDITIVE, damped=False, seasonal=SeasonalityMode.ADDITIVE, seasonal_periods=6\n",
      "completed: ExponentialSmoothing(trend=ModelMode.ADDITIVE, damped=False, seasonal=SeasonalityMode.ADDITIVE, seasonal_periods=6:0.3341158449984505 sec\n",
      "beginning: Auto-ARIMA\n",
      "completed: Auto-ARIMA:51.30217694300518 sec\n",
      "beginning: Theta(-0.1212121212121211)\n",
      "completed: Theta(-0.1212121212121211):0.053364325998700224 sec\n",
      "Combination  468 of 4170\n",
      "beginning: Naive drift model\n",
      "completed: Naive drift model:0.03718549699988216 sec\n",
      "beginning: Prophet\n"
     ]
    },
    {
     "name": "stderr",
     "output_type": "stream",
     "text": [
      "03:13:07 - cmdstanpy - INFO - Chain [1] start processing\n",
      "03:13:07 - cmdstanpy - INFO - Chain [1] done processing\n"
     ]
    },
    {
     "name": "stdout",
     "output_type": "stream",
     "text": [
      "completed: Prophet:0.6728428900023573 sec\n",
      "True\n",
      "beginning: ExponentialSmoothing(trend=ModelMode.ADDITIVE, damped=False, seasonal=SeasonalityMode.ADDITIVE, seasonal_periods=7\n",
      "completed: ExponentialSmoothing(trend=ModelMode.ADDITIVE, damped=False, seasonal=SeasonalityMode.ADDITIVE, seasonal_periods=7:0.3411068239947781 sec\n",
      "beginning: Auto-ARIMA\n",
      "completed: Auto-ARIMA:83.39560315300332 sec\n",
      "beginning: Theta(0.08080808080808133)\n",
      "completed: Theta(0.08080808080808133):0.056529986002715304 sec\n",
      "Combination  469 of 4170\n",
      "beginning: Naive drift model\n",
      "completed: Naive drift model:0.03614715699950466 sec\n",
      "beginning: Prophet\n"
     ]
    },
    {
     "name": "stderr",
     "output_type": "stream",
     "text": [
      "03:14:35 - cmdstanpy - INFO - Chain [1] start processing\n",
      "03:14:35 - cmdstanpy - INFO - Chain [1] done processing\n"
     ]
    },
    {
     "name": "stdout",
     "output_type": "stream",
     "text": [
      "completed: Prophet:0.7116511070053093 sec\n",
      "True\n",
      "beginning: ExponentialSmoothing(trend=ModelMode.ADDITIVE, damped=False, seasonal=SeasonalityMode.ADDITIVE, seasonal_periods=3\n",
      "completed: ExponentialSmoothing(trend=ModelMode.ADDITIVE, damped=False, seasonal=SeasonalityMode.ADDITIVE, seasonal_periods=3:0.3234718050007359 sec\n",
      "beginning: Auto-ARIMA\n",
      "completed: Auto-ARIMA:35.696498329998576 sec\n",
      "beginning: Theta(0.08080808080808133)\n",
      "completed: Theta(0.08080808080808133):0.0529846460049157 sec\n",
      "Combination  470 of 4170\n",
      "beginning: Naive drift model\n",
      "completed: Naive drift model:0.03448781699989922 sec\n",
      "beginning: Prophet\n"
     ]
    },
    {
     "name": "stderr",
     "output_type": "stream",
     "text": [
      "03:15:15 - cmdstanpy - INFO - Chain [1] start processing\n",
      "03:15:15 - cmdstanpy - INFO - Chain [1] done processing\n"
     ]
    },
    {
     "name": "stdout",
     "output_type": "stream",
     "text": [
      "completed: Prophet:1.1256827159959357 sec\n",
      "True\n",
      "beginning: ExponentialSmoothing(trend=ModelMode.ADDITIVE, damped=False, seasonal=SeasonalityMode.ADDITIVE, seasonal_periods=3\n",
      "completed: ExponentialSmoothing(trend=ModelMode.ADDITIVE, damped=False, seasonal=SeasonalityMode.ADDITIVE, seasonal_periods=3:0.3233494160012924 sec\n",
      "beginning: Auto-ARIMA\n",
      "completed: Auto-ARIMA:35.59166355799971 sec\n",
      "beginning: Theta(0.08080808080808133)\n",
      "completed: Theta(0.08080808080808133):0.055944155996257905 sec\n",
      "Combination  471 of 4170\n",
      "beginning: Naive drift model\n",
      "completed: Naive drift model:0.03609698699438013 sec\n",
      "beginning: Prophet\n"
     ]
    },
    {
     "name": "stderr",
     "output_type": "stream",
     "text": [
      "03:15:55 - cmdstanpy - INFO - Chain [1] start processing\n",
      "03:15:56 - cmdstanpy - INFO - Chain [1] done processing\n"
     ]
    },
    {
     "name": "stdout",
     "output_type": "stream",
     "text": [
      "completed: Prophet:0.7304216859993176 sec\n",
      "True\n",
      "beginning: ExponentialSmoothing(trend=ModelMode.ADDITIVE, damped=False, seasonal=SeasonalityMode.ADDITIVE, seasonal_periods=4\n",
      "completed: ExponentialSmoothing(trend=ModelMode.ADDITIVE, damped=False, seasonal=SeasonalityMode.ADDITIVE, seasonal_periods=4:0.32767816499836044 sec\n",
      "beginning: Auto-ARIMA\n",
      "completed: Auto-ARIMA:39.386584475003474 sec\n",
      "beginning: Theta(-0.1212121212121211)\n",
      "completed: Theta(-0.1212121212121211):0.053404395999677945 sec\n",
      "Combination  472 of 4170\n",
      "beginning: Naive drift model\n",
      "completed: Naive drift model:0.035709406998648774 sec\n",
      "beginning: Prophet\n"
     ]
    },
    {
     "name": "stderr",
     "output_type": "stream",
     "text": [
      "03:16:39 - cmdstanpy - INFO - Chain [1] start processing\n",
      "03:16:39 - cmdstanpy - INFO - Chain [1] done processing\n"
     ]
    },
    {
     "name": "stdout",
     "output_type": "stream",
     "text": [
      "completed: Prophet:0.9841652370014344 sec\n",
      "True\n",
      "beginning: ExponentialSmoothing(trend=ModelMode.ADDITIVE, damped=False, seasonal=SeasonalityMode.ADDITIVE, seasonal_periods=4\n",
      "completed: ExponentialSmoothing(trend=ModelMode.ADDITIVE, damped=False, seasonal=SeasonalityMode.ADDITIVE, seasonal_periods=4:0.3284778359957272 sec\n",
      "beginning: Auto-ARIMA\n",
      "completed: Auto-ARIMA:42.15758343600464 sec\n",
      "beginning: Theta(0.08080808080808133)\n",
      "completed: Theta(0.08080808080808133):0.050364146001811605 sec\n",
      "Combination  473 of 4170\n",
      "beginning: Naive drift model\n",
      "completed: Naive drift model:0.037007656996138394 sec\n",
      "beginning: Prophet\n"
     ]
    },
    {
     "name": "stderr",
     "output_type": "stream",
     "text": [
      "03:17:26 - cmdstanpy - INFO - Chain [1] start processing\n",
      "03:17:26 - cmdstanpy - INFO - Chain [1] done processing\n"
     ]
    },
    {
     "name": "stdout",
     "output_type": "stream",
     "text": [
      "completed: Prophet:0.6934811679966515 sec\n",
      "True\n",
      "beginning: ExponentialSmoothing(trend=ModelMode.ADDITIVE, damped=False, seasonal=SeasonalityMode.ADDITIVE, seasonal_periods=4\n",
      "completed: ExponentialSmoothing(trend=ModelMode.ADDITIVE, damped=False, seasonal=SeasonalityMode.ADDITIVE, seasonal_periods=4:0.32945945500250673 sec\n",
      "beginning: Auto-ARIMA\n",
      "completed: Auto-ARIMA:37.37428677099524 sec\n",
      "beginning: Theta(0.08080808080808133)\n",
      "completed: Theta(0.08080808080808133):0.0591613260039594 sec\n",
      "Combination  474 of 4170\n",
      "beginning: Naive drift model\n",
      "completed: Naive drift model:0.035024827004235703 sec\n",
      "beginning: Prophet\n"
     ]
    },
    {
     "name": "stderr",
     "output_type": "stream",
     "text": [
      "03:18:08 - cmdstanpy - INFO - Chain [1] start processing\n",
      "03:18:08 - cmdstanpy - INFO - Chain [1] done processing\n"
     ]
    },
    {
     "name": "stdout",
     "output_type": "stream",
     "text": [
      "completed: Prophet:0.6625484209944261 sec\n",
      "True\n",
      "beginning: ExponentialSmoothing(trend=ModelMode.ADDITIVE, damped=False, seasonal=SeasonalityMode.ADDITIVE, seasonal_periods=3\n",
      "completed: ExponentialSmoothing(trend=ModelMode.ADDITIVE, damped=False, seasonal=SeasonalityMode.ADDITIVE, seasonal_periods=3:0.3320241149995127 sec\n",
      "beginning: Auto-ARIMA\n",
      "completed: Auto-ARIMA:40.847382594998635 sec\n",
      "beginning: Theta(0.28282828282828376)\n",
      "completed: Theta(0.28282828282828376):0.06025833500461886 sec\n",
      "Combination  475 of 4170\n",
      "beginning: Naive drift model\n",
      "completed: Naive drift model:0.03662014700239524 sec\n",
      "beginning: Prophet\n"
     ]
    },
    {
     "name": "stderr",
     "output_type": "stream",
     "text": [
      "03:18:53 - cmdstanpy - INFO - Chain [1] start processing\n",
      "03:18:54 - cmdstanpy - INFO - Chain [1] done processing\n"
     ]
    },
    {
     "name": "stdout",
     "output_type": "stream",
     "text": [
      "completed: Prophet:0.9626526079955511 sec\n",
      "True\n",
      "beginning: ExponentialSmoothing(trend=ModelMode.ADDITIVE, damped=False, seasonal=SeasonalityMode.ADDITIVE, seasonal_periods=3\n",
      "completed: ExponentialSmoothing(trend=ModelMode.ADDITIVE, damped=False, seasonal=SeasonalityMode.ADDITIVE, seasonal_periods=3:0.32333246599591803 sec\n",
      "beginning: Auto-ARIMA\n",
      "completed: Auto-ARIMA:43.28663107200555 sec\n",
      "beginning: Theta(-0.1212121212121211)\n",
      "completed: Theta(-0.1212121212121211):0.0569636360014556 sec\n",
      "Combination  476 of 4170\n",
      "beginning: Naive drift model\n",
      "completed: Naive drift model:0.03914843600068707 sec\n",
      "beginning: Prophet\n"
     ]
    },
    {
     "name": "stderr",
     "output_type": "stream",
     "text": [
      "03:19:41 - cmdstanpy - INFO - Chain [1] start processing\n",
      "03:19:42 - cmdstanpy - INFO - Chain [1] done processing\n"
     ]
    },
    {
     "name": "stdout",
     "output_type": "stream",
     "text": [
      "completed: Prophet:0.6841701789962826 sec\n",
      "True\n",
      "beginning: ExponentialSmoothing(trend=ModelMode.ADDITIVE, damped=False, seasonal=SeasonalityMode.ADDITIVE, seasonal_periods=3\n",
      "completed: ExponentialSmoothing(trend=ModelMode.ADDITIVE, damped=False, seasonal=SeasonalityMode.ADDITIVE, seasonal_periods=3:0.32973189500626177 sec\n",
      "beginning: Auto-ARIMA\n",
      "completed: Auto-ARIMA:43.38736162600253 sec\n",
      "beginning: Theta(-0.32323232323232354)\n",
      "completed: Theta(-0.32323232323232354):0.054346845994587056 sec\n",
      "Combination  477 of 4170\n",
      "beginning: Naive drift model\n",
      "completed: Naive drift model:0.03758258699963335 sec\n",
      "beginning: Prophet\n"
     ]
    },
    {
     "name": "stderr",
     "output_type": "stream",
     "text": [
      "03:20:30 - cmdstanpy - INFO - Chain [1] start processing\n",
      "03:20:30 - cmdstanpy - INFO - Chain [1] done processing\n"
     ]
    },
    {
     "name": "stdout",
     "output_type": "stream",
     "text": [
      "completed: Prophet:0.681325639001443 sec\n",
      "True\n",
      "beginning: ExponentialSmoothing(trend=ModelMode.ADDITIVE, damped=False, seasonal=SeasonalityMode.ADDITIVE, seasonal_periods=3\n",
      "completed: ExponentialSmoothing(trend=ModelMode.ADDITIVE, damped=False, seasonal=SeasonalityMode.ADDITIVE, seasonal_periods=3:0.32551976600370836 sec\n",
      "beginning: Auto-ARIMA\n",
      "completed: Auto-ARIMA:60.78098493500147 sec\n",
      "beginning: Theta(-0.1212121212121211)\n",
      "completed: Theta(-0.1212121212121211):0.05709134499920765 sec\n",
      "Combination  478 of 4170\n",
      "beginning: Naive drift model\n",
      "completed: Naive drift model:0.036639047000790015 sec\n",
      "beginning: Prophet\n"
     ]
    },
    {
     "name": "stderr",
     "output_type": "stream",
     "text": [
      "03:21:35 - cmdstanpy - INFO - Chain [1] start processing\n",
      "03:21:35 - cmdstanpy - INFO - Chain [1] done processing\n"
     ]
    },
    {
     "name": "stdout",
     "output_type": "stream",
     "text": [
      "completed: Prophet:0.937767288996838 sec\n",
      "True\n",
      "beginning: ExponentialSmoothing(trend=ModelMode.ADDITIVE, damped=False, seasonal=SeasonalityMode.ADDITIVE, seasonal_periods=4\n",
      "completed: ExponentialSmoothing(trend=ModelMode.ADDITIVE, damped=False, seasonal=SeasonalityMode.ADDITIVE, seasonal_periods=4:0.3310222150030313 sec\n",
      "beginning: Auto-ARIMA\n",
      "completed: Auto-ARIMA:42.81983548699645 sec\n",
      "beginning: Theta(-1.1313131313131315)\n",
      "completed: Theta(-1.1313131313131315):0.05387061600049492 sec\n",
      "Combination  479 of 4170\n",
      "beginning: Naive drift model\n",
      "completed: Naive drift model:0.03734291699947789 sec\n",
      "beginning: Prophet\n"
     ]
    },
    {
     "name": "stderr",
     "output_type": "stream",
     "text": [
      "03:22:22 - cmdstanpy - INFO - Chain [1] start processing\n",
      "03:22:23 - cmdstanpy - INFO - Chain [1] done processing\n"
     ]
    },
    {
     "name": "stdout",
     "output_type": "stream",
     "text": [
      "completed: Prophet:0.7407212539983448 sec\n",
      "True\n",
      "beginning: ExponentialSmoothing(trend=ModelMode.ADDITIVE, damped=False, seasonal=SeasonalityMode.ADDITIVE, seasonal_periods=3\n",
      "completed: ExponentialSmoothing(trend=ModelMode.ADDITIVE, damped=False, seasonal=SeasonalityMode.ADDITIVE, seasonal_periods=3:0.33286433500325074 sec\n",
      "beginning: Auto-ARIMA\n",
      "completed: Auto-ARIMA:32.490472299999965 sec\n",
      "beginning: Theta(-0.32323232323232354)\n",
      "completed: Theta(-0.32323232323232354):0.05964680599572603 sec\n",
      "Combination  480 of 4170\n",
      "beginning: Naive drift model\n",
      "completed: Naive drift model:0.036641147002228536 sec\n",
      "beginning: Prophet\n"
     ]
    },
    {
     "name": "stderr",
     "output_type": "stream",
     "text": [
      "03:22:59 - cmdstanpy - INFO - Chain [1] start processing\n",
      "03:23:00 - cmdstanpy - INFO - Chain [1] done processing\n"
     ]
    },
    {
     "name": "stdout",
     "output_type": "stream",
     "text": [
      "completed: Prophet:1.063896769999701 sec\n",
      "True\n",
      "beginning: ExponentialSmoothing(trend=ModelMode.ADDITIVE, damped=False, seasonal=SeasonalityMode.ADDITIVE, seasonal_periods=3\n",
      "completed: ExponentialSmoothing(trend=ModelMode.ADDITIVE, damped=False, seasonal=SeasonalityMode.ADDITIVE, seasonal_periods=3:0.3312295760042616 sec\n",
      "beginning: Auto-ARIMA\n",
      "completed: Auto-ARIMA:59.83345650599949 sec\n",
      "beginning: Theta(0.08080808080808133)\n",
      "completed: Theta(0.08080808080808133):0.05110342599800788 sec\n",
      "Combination  481 of 4170\n",
      "beginning: Naive drift model\n",
      "completed: Naive drift model:0.03691956699913135 sec\n",
      "beginning: Prophet\n"
     ]
    },
    {
     "name": "stderr",
     "output_type": "stream",
     "text": [
      "03:24:04 - cmdstanpy - INFO - Chain [1] start processing\n",
      "03:24:04 - cmdstanpy - INFO - Chain [1] done processing\n"
     ]
    },
    {
     "name": "stdout",
     "output_type": "stream",
     "text": [
      "completed: Prophet:0.742083063996688 sec\n",
      "True\n",
      "beginning: ExponentialSmoothing(trend=ModelMode.ADDITIVE, damped=False, seasonal=SeasonalityMode.ADDITIVE, seasonal_periods=6\n",
      "completed: ExponentialSmoothing(trend=ModelMode.ADDITIVE, damped=False, seasonal=SeasonalityMode.ADDITIVE, seasonal_periods=6:0.32618160599668045 sec\n",
      "beginning: Auto-ARIMA\n",
      "completed: Auto-ARIMA:49.20199976400181 sec\n",
      "beginning: Theta(-0.1212121212121211)\n",
      "completed: Theta(-0.1212121212121211):0.05194576600479195 sec\n",
      "Combination  482 of 4170\n",
      "beginning: Naive drift model\n",
      "completed: Naive drift model:0.039628397003980353 sec\n",
      "beginning: Prophet\n"
     ]
    },
    {
     "name": "stderr",
     "output_type": "stream",
     "text": [
      "03:24:57 - cmdstanpy - INFO - Chain [1] start processing\n",
      "03:24:58 - cmdstanpy - INFO - Chain [1] done processing\n"
     ]
    },
    {
     "name": "stdout",
     "output_type": "stream",
     "text": [
      "completed: Prophet:0.7577727330062771 sec\n",
      "True\n",
      "beginning: ExponentialSmoothing(trend=ModelMode.ADDITIVE, damped=False, seasonal=SeasonalityMode.ADDITIVE, seasonal_periods=4\n",
      "completed: ExponentialSmoothing(trend=ModelMode.ADDITIVE, damped=False, seasonal=SeasonalityMode.ADDITIVE, seasonal_periods=4:0.3138724359960179 sec\n",
      "beginning: Auto-ARIMA\n",
      "completed: Auto-ARIMA:35.39986874900205 sec\n",
      "beginning: Theta(-0.1212121212121211)\n",
      "completed: Theta(-0.1212121212121211):0.05144424599711783 sec\n",
      "Combination  483 of 4170\n",
      "beginning: Naive drift model\n",
      "completed: Naive drift model:0.03531048799777636 sec\n",
      "beginning: Prophet\n"
     ]
    },
    {
     "name": "stderr",
     "output_type": "stream",
     "text": [
      "03:25:37 - cmdstanpy - INFO - Chain [1] start processing\n",
      "03:25:38 - cmdstanpy - INFO - Chain [1] done processing\n"
     ]
    },
    {
     "name": "stdout",
     "output_type": "stream",
     "text": [
      "completed: Prophet:1.130430115001218 sec\n",
      "True\n",
      "beginning: ExponentialSmoothing(trend=ModelMode.ADDITIVE, damped=False, seasonal=SeasonalityMode.ADDITIVE, seasonal_periods=7\n",
      "completed: ExponentialSmoothing(trend=ModelMode.ADDITIVE, damped=False, seasonal=SeasonalityMode.ADDITIVE, seasonal_periods=7:0.33467839500372065 sec\n",
      "beginning: Auto-ARIMA\n",
      "completed: Auto-ARIMA:53.8070746539961 sec\n",
      "beginning: Theta(-0.1212121212121211)\n",
      "completed: Theta(-0.1212121212121211):0.052856435999274254 sec\n",
      "Combination  484 of 4170\n",
      "beginning: Naive drift model\n",
      "completed: Naive drift model:0.0363228570058709 sec\n",
      "beginning: Prophet\n"
     ]
    },
    {
     "name": "stderr",
     "output_type": "stream",
     "text": [
      "03:26:36 - cmdstanpy - INFO - Chain [1] start processing\n",
      "03:26:36 - cmdstanpy - INFO - Chain [1] done processing\n"
     ]
    },
    {
     "name": "stdout",
     "output_type": "stream",
     "text": [
      "completed: Prophet:0.7841963610044331 sec\n",
      "True\n",
      "beginning: ExponentialSmoothing(trend=ModelMode.ADDITIVE, damped=False, seasonal=SeasonalityMode.ADDITIVE, seasonal_periods=5\n",
      "completed: ExponentialSmoothing(trend=ModelMode.ADDITIVE, damped=False, seasonal=SeasonalityMode.ADDITIVE, seasonal_periods=5:0.3276223650027532 sec\n",
      "beginning: Auto-ARIMA\n",
      "completed: Auto-ARIMA:38.58517027799826 sec\n",
      "beginning: Theta(-0.1212121212121211)\n",
      "completed: Theta(-0.1212121212121211):0.05629372599651106 sec\n",
      "Combination  485 of 4170\n",
      "beginning: Naive drift model\n",
      "completed: Naive drift model:0.03657754700543592 sec\n",
      "beginning: Prophet\n"
     ]
    },
    {
     "name": "stderr",
     "output_type": "stream",
     "text": [
      "03:27:19 - cmdstanpy - INFO - Chain [1] start processing\n",
      "03:27:19 - cmdstanpy - INFO - Chain [1] done processing\n"
     ]
    },
    {
     "name": "stdout",
     "output_type": "stream",
     "text": [
      "completed: Prophet:0.6634312699970906 sec\n",
      "True\n",
      "beginning: ExponentialSmoothing(trend=ModelMode.ADDITIVE, damped=False, seasonal=SeasonalityMode.ADDITIVE, seasonal_periods=4\n",
      "completed: ExponentialSmoothing(trend=ModelMode.ADDITIVE, damped=False, seasonal=SeasonalityMode.ADDITIVE, seasonal_periods=4:0.3248372659945744 sec\n",
      "beginning: Auto-ARIMA\n",
      "completed: Auto-ARIMA:44.83494644900202 sec\n",
      "beginning: Theta(0.4848484848484844)\n",
      "completed: Theta(0.4848484848484844):0.053452375999768265 sec\n",
      "Combination  486 of 4170\n",
      "beginning: Naive drift model\n",
      "completed: Naive drift model:0.03588218699587742 sec\n",
      "beginning: Prophet\n"
     ]
    },
    {
     "name": "stderr",
     "output_type": "stream",
     "text": [
      "03:28:08 - cmdstanpy - INFO - Chain [1] start processing\n",
      "03:28:08 - cmdstanpy - INFO - Chain [1] done processing\n"
     ]
    },
    {
     "name": "stdout",
     "output_type": "stream",
     "text": [
      "completed: Prophet:0.9302712099961354 sec\n",
      "True\n",
      "beginning: ExponentialSmoothing(trend=ModelMode.ADDITIVE, damped=False, seasonal=SeasonalityMode.ADDITIVE, seasonal_periods=3\n",
      "completed: ExponentialSmoothing(trend=ModelMode.ADDITIVE, damped=False, seasonal=SeasonalityMode.ADDITIVE, seasonal_periods=3:0.32409179500245955 sec\n",
      "beginning: Auto-ARIMA\n",
      "completed: Auto-ARIMA:41.516057127999375 sec\n",
      "beginning: Theta(0.08080808080808133)\n",
      "completed: Theta(0.08080808080808133):0.0522008849948179 sec\n",
      "Combination  487 of 4170\n",
      "beginning: Naive drift model\n",
      "completed: Naive drift model:0.03489062700100476 sec\n",
      "beginning: Prophet\n"
     ]
    },
    {
     "name": "stderr",
     "output_type": "stream",
     "text": [
      "03:28:54 - cmdstanpy - INFO - Chain [1] start processing\n",
      "03:28:54 - cmdstanpy - INFO - Chain [1] done processing\n"
     ]
    },
    {
     "name": "stdout",
     "output_type": "stream",
     "text": [
      "completed: Prophet:0.7817254010005854 sec\n",
      "True\n",
      "beginning: ExponentialSmoothing(trend=ModelMode.ADDITIVE, damped=False, seasonal=SeasonalityMode.ADDITIVE, seasonal_periods=3\n",
      "completed: ExponentialSmoothing(trend=ModelMode.ADDITIVE, damped=False, seasonal=SeasonalityMode.ADDITIVE, seasonal_periods=3:0.31639938600710593 sec\n",
      "beginning: Auto-ARIMA\n",
      "completed: Auto-ARIMA:41.916663907999464 sec\n",
      "beginning: Theta(0.08080808080808133)\n",
      "completed: Theta(0.08080808080808133):0.050817176001146436 sec\n",
      "Combination  488 of 4170\n",
      "beginning: Naive drift model\n",
      "completed: Naive drift model:0.03460261699365219 sec\n",
      "beginning: Prophet\n"
     ]
    },
    {
     "name": "stderr",
     "output_type": "stream",
     "text": [
      "03:29:41 - cmdstanpy - INFO - Chain [1] start processing\n",
      "03:29:41 - cmdstanpy - INFO - Chain [1] done processing\n"
     ]
    },
    {
     "name": "stdout",
     "output_type": "stream",
     "text": [
      "completed: Prophet:1.1067475269956049 sec\n",
      "True\n",
      "beginning: ExponentialSmoothing(trend=ModelMode.ADDITIVE, damped=False, seasonal=SeasonalityMode.ADDITIVE, seasonal_periods=3\n",
      "completed: ExponentialSmoothing(trend=ModelMode.ADDITIVE, damped=False, seasonal=SeasonalityMode.ADDITIVE, seasonal_periods=3:0.32575063499825774 sec\n",
      "beginning: Auto-ARIMA\n",
      "completed: Auto-ARIMA:65.1851241359982 sec\n",
      "beginning: Theta(0.8888888888888893)\n",
      "completed: Theta(0.8888888888888893):0.05159755599743221 sec\n",
      "Combination  489 of 4170\n",
      "beginning: Naive drift model\n",
      "completed: Naive drift model:0.034516817999246996 sec\n",
      "beginning: Prophet\n"
     ]
    },
    {
     "name": "stderr",
     "output_type": "stream",
     "text": [
      "03:30:50 - cmdstanpy - INFO - Chain [1] start processing\n",
      "03:30:51 - cmdstanpy - INFO - Chain [1] done processing\n"
     ]
    },
    {
     "name": "stdout",
     "output_type": "stream",
     "text": [
      "completed: Prophet:0.8161525179966702 sec\n",
      "True\n",
      "beginning: ExponentialSmoothing(trend=ModelMode.ADDITIVE, damped=False, seasonal=SeasonalityMode.ADDITIVE, seasonal_periods=3\n",
      "completed: ExponentialSmoothing(trend=ModelMode.ADDITIVE, damped=False, seasonal=SeasonalityMode.ADDITIVE, seasonal_periods=3:0.3169656159952865 sec\n",
      "beginning: Auto-ARIMA\n",
      "completed: Auto-ARIMA:42.751119655004004 sec\n",
      "beginning: Theta(0.08080808080808133)\n",
      "completed: Theta(0.08080808080808133):0.05292241600545822 sec\n",
      "Combination  490 of 4170\n",
      "beginning: Naive drift model\n",
      "completed: Naive drift model:0.033297227004368324 sec\n",
      "beginning: Prophet\n"
     ]
    },
    {
     "name": "stderr",
     "output_type": "stream",
     "text": [
      "03:31:38 - cmdstanpy - INFO - Chain [1] start processing\n",
      "03:31:38 - cmdstanpy - INFO - Chain [1] done processing\n"
     ]
    },
    {
     "name": "stdout",
     "output_type": "stream",
     "text": [
      "completed: Prophet:0.7180830960060121 sec\n",
      "True\n",
      "beginning: ExponentialSmoothing(trend=ModelMode.ADDITIVE, damped=False, seasonal=SeasonalityMode.ADDITIVE, seasonal_periods=7\n",
      "completed: ExponentialSmoothing(trend=ModelMode.ADDITIVE, damped=False, seasonal=SeasonalityMode.ADDITIVE, seasonal_periods=7:0.3380145549963345 sec\n",
      "beginning: Auto-ARIMA\n",
      "completed: Auto-ARIMA:56.9231591889984 sec\n",
      "beginning: Theta(0.28282828282828376)\n",
      "completed: Theta(0.28282828282828376):0.051117186005285475 sec\n",
      "Combination  491 of 4170\n",
      "beginning: Naive drift model\n",
      "completed: Naive drift model:0.03430815799947595 sec\n",
      "beginning: Prophet\n"
     ]
    },
    {
     "name": "stderr",
     "output_type": "stream",
     "text": [
      "03:32:39 - cmdstanpy - INFO - Chain [1] start processing\n",
      "03:32:39 - cmdstanpy - INFO - Chain [1] done processing\n"
     ]
    },
    {
     "name": "stdout",
     "output_type": "stream",
     "text": [
      "completed: Prophet:0.953846288000932 sec\n",
      "True\n",
      "beginning: ExponentialSmoothing(trend=ModelMode.ADDITIVE, damped=False, seasonal=SeasonalityMode.ADDITIVE, seasonal_periods=6\n",
      "completed: ExponentialSmoothing(trend=ModelMode.ADDITIVE, damped=False, seasonal=SeasonalityMode.ADDITIVE, seasonal_periods=6:0.3267303459942923 sec\n",
      "beginning: Auto-ARIMA\n",
      "completed: Auto-ARIMA:61.1372711130025 sec\n",
      "beginning: Theta(-0.1212121212121211)\n",
      "completed: Theta(-0.1212121212121211):0.05472432600072352 sec\n",
      "Combination  492 of 4170\n",
      "beginning: Naive drift model\n",
      "completed: Naive drift model:0.033655437000561506 sec\n",
      "beginning: Prophet\n"
     ]
    },
    {
     "name": "stderr",
     "output_type": "stream",
     "text": [
      "03:33:45 - cmdstanpy - INFO - Chain [1] start processing\n",
      "03:33:45 - cmdstanpy - INFO - Chain [1] done processing\n"
     ]
    },
    {
     "name": "stdout",
     "output_type": "stream",
     "text": [
      "completed: Prophet:0.7735329720017035 sec\n",
      "True\n",
      "beginning: ExponentialSmoothing(trend=ModelMode.ADDITIVE, damped=False, seasonal=SeasonalityMode.ADDITIVE, seasonal_periods=7\n",
      "completed: ExponentialSmoothing(trend=ModelMode.ADDITIVE, damped=False, seasonal=SeasonalityMode.ADDITIVE, seasonal_periods=7:0.3290785950011923 sec\n",
      "beginning: Auto-ARIMA\n",
      "completed: Auto-ARIMA:56.988007474996266 sec\n",
      "beginning: Theta(0.08080808080808133)\n",
      "completed: Theta(0.08080808080808133):0.054049366000981536 sec\n",
      "Combination  493 of 4170\n",
      "beginning: Naive drift model\n",
      "completed: Naive drift model:0.037307067002984695 sec\n",
      "beginning: Prophet\n"
     ]
    },
    {
     "name": "stderr",
     "output_type": "stream",
     "text": [
      "03:34:46 - cmdstanpy - INFO - Chain [1] start processing\n",
      "03:34:46 - cmdstanpy - INFO - Chain [1] done processing\n"
     ]
    },
    {
     "name": "stdout",
     "output_type": "stream",
     "text": [
      "completed: Prophet:0.7561367730013444 sec\n",
      "True\n",
      "beginning: ExponentialSmoothing(trend=ModelMode.ADDITIVE, damped=False, seasonal=SeasonalityMode.ADDITIVE, seasonal_periods=4\n",
      "completed: ExponentialSmoothing(trend=ModelMode.ADDITIVE, damped=False, seasonal=SeasonalityMode.ADDITIVE, seasonal_periods=4:0.32665365600405494 sec\n",
      "beginning: Auto-ARIMA\n",
      "completed: Auto-ARIMA:42.920065133002936 sec\n",
      "beginning: Theta(-0.1212121212121211)\n",
      "completed: Theta(-0.1212121212121211):0.051861735999409575 sec\n",
      "Combination  494 of 4170\n",
      "beginning: Naive drift model\n",
      "completed: Naive drift model:0.035679786997206975 sec\n",
      "beginning: Prophet\n"
     ]
    },
    {
     "name": "stderr",
     "output_type": "stream",
     "text": [
      "03:35:34 - cmdstanpy - INFO - Chain [1] start processing\n",
      "03:35:34 - cmdstanpy - INFO - Chain [1] done processing\n"
     ]
    },
    {
     "name": "stdout",
     "output_type": "stream",
     "text": [
      "completed: Prophet:1.0432272109974292 sec\n",
      "True\n",
      "beginning: ExponentialSmoothing(trend=ModelMode.ADDITIVE, damped=False, seasonal=SeasonalityMode.ADDITIVE, seasonal_periods=7\n",
      "completed: ExponentialSmoothing(trend=ModelMode.ADDITIVE, damped=False, seasonal=SeasonalityMode.ADDITIVE, seasonal_periods=7:0.33262364500114927 sec\n",
      "beginning: Auto-ARIMA\n",
      "completed: Auto-ARIMA:64.27366417699523 sec\n",
      "beginning: Theta(0.8888888888888893)\n",
      "completed: Theta(0.8888888888888893):0.05211225600214675 sec\n",
      "Combination  495 of 4170\n",
      "beginning: Naive drift model\n",
      "completed: Naive drift model:0.036485056996752974 sec\n",
      "beginning: Prophet\n"
     ]
    },
    {
     "name": "stderr",
     "output_type": "stream",
     "text": [
      "03:36:43 - cmdstanpy - INFO - Chain [1] start processing\n",
      "03:36:43 - cmdstanpy - INFO - Chain [1] done processing\n"
     ]
    },
    {
     "name": "stdout",
     "output_type": "stream",
     "text": [
      "completed: Prophet:0.699677178003185 sec\n",
      "True\n",
      "beginning: ExponentialSmoothing(trend=ModelMode.ADDITIVE, damped=False, seasonal=SeasonalityMode.ADDITIVE, seasonal_periods=6\n",
      "completed: ExponentialSmoothing(trend=ModelMode.ADDITIVE, damped=False, seasonal=SeasonalityMode.ADDITIVE, seasonal_periods=6:0.33231741500640055 sec\n",
      "beginning: Auto-ARIMA\n",
      "completed: Auto-ARIMA:63.715081569003814 sec\n",
      "beginning: Theta(0.08080808080808133)\n",
      "completed: Theta(0.08080808080808133):0.05389760599791771 sec\n",
      "Combination  496 of 4170\n",
      "beginning: Naive drift model\n",
      "completed: Naive drift model:0.036432517001230735 sec\n",
      "beginning: Prophet\n"
     ]
    },
    {
     "name": "stderr",
     "output_type": "stream",
     "text": [
      "03:37:51 - cmdstanpy - INFO - Chain [1] start processing\n",
      "03:37:51 - cmdstanpy - INFO - Chain [1] done processing\n"
     ]
    },
    {
     "name": "stdout",
     "output_type": "stream",
     "text": [
      "completed: Prophet:0.9722130160007509 sec\n",
      "True\n",
      "beginning: ExponentialSmoothing(trend=ModelMode.ADDITIVE, damped=False, seasonal=SeasonalityMode.ADDITIVE, seasonal_periods=7\n",
      "completed: ExponentialSmoothing(trend=ModelMode.ADDITIVE, damped=False, seasonal=SeasonalityMode.ADDITIVE, seasonal_periods=7:0.3384171450015856 sec\n",
      "beginning: Auto-ARIMA\n",
      "completed: Auto-ARIMA:61.52177806299733 sec\n",
      "beginning: Theta(-0.1212121212121211)\n",
      "completed: Theta(-0.1212121212121211):0.057562766000046395 sec\n",
      "Combination  497 of 4170\n",
      "beginning: Naive drift model\n",
      "completed: Naive drift model:0.039448436997190583 sec\n",
      "beginning: Prophet\n"
     ]
    },
    {
     "name": "stderr",
     "output_type": "stream",
     "text": [
      "03:38:57 - cmdstanpy - INFO - Chain [1] start processing\n",
      "03:38:57 - cmdstanpy - INFO - Chain [1] done processing\n"
     ]
    },
    {
     "name": "stdout",
     "output_type": "stream",
     "text": [
      "completed: Prophet:0.724788586005161 sec\n",
      "True\n",
      "beginning: ExponentialSmoothing(trend=ModelMode.ADDITIVE, damped=False, seasonal=SeasonalityMode.ADDITIVE, seasonal_periods=4\n",
      "completed: ExponentialSmoothing(trend=ModelMode.ADDITIVE, damped=False, seasonal=SeasonalityMode.ADDITIVE, seasonal_periods=4:0.32462912499613594 sec\n",
      "beginning: Auto-ARIMA\n",
      "completed: Auto-ARIMA:45.972320863002096 sec\n",
      "beginning: Theta(0.08080808080808133)\n",
      "completed: Theta(0.08080808080808133):0.05340036599955056 sec\n",
      "Combination  498 of 4170\n",
      "beginning: Naive drift model\n",
      "completed: Naive drift model:0.03654250699764816 sec\n",
      "beginning: Prophet\n"
     ]
    },
    {
     "name": "stderr",
     "output_type": "stream",
     "text": [
      "03:39:47 - cmdstanpy - INFO - Chain [1] start processing\n",
      "03:39:48 - cmdstanpy - INFO - Chain [1] done processing\n"
     ]
    },
    {
     "name": "stdout",
     "output_type": "stream",
     "text": [
      "completed: Prophet:0.7715422920009587 sec\n",
      "True\n",
      "beginning: ExponentialSmoothing(trend=ModelMode.ADDITIVE, damped=False, seasonal=SeasonalityMode.ADDITIVE, seasonal_periods=6\n",
      "completed: ExponentialSmoothing(trend=ModelMode.ADDITIVE, damped=False, seasonal=SeasonalityMode.ADDITIVE, seasonal_periods=6:0.3380065640012617 sec\n",
      "beginning: Auto-ARIMA\n",
      "completed: Auto-ARIMA:55.328810919003445 sec\n",
      "beginning: Theta(-0.1212121212121211)\n",
      "completed: Theta(-0.1212121212121211):0.054071245998784434 sec\n",
      "Combination  499 of 4170\n",
      "beginning: Naive drift model\n",
      "completed: Naive drift model:0.035029097001824994 sec\n",
      "beginning: Prophet\n"
     ]
    },
    {
     "name": "stderr",
     "output_type": "stream",
     "text": [
      "03:40:47 - cmdstanpy - INFO - Chain [1] start processing\n",
      "03:40:47 - cmdstanpy - INFO - Chain [1] done processing\n"
     ]
    },
    {
     "name": "stdout",
     "output_type": "stream",
     "text": [
      "completed: Prophet:1.1560179330044775 sec\n",
      "True\n",
      "beginning: ExponentialSmoothing(trend=ModelMode.ADDITIVE, damped=False, seasonal=SeasonalityMode.ADDITIVE, seasonal_periods=4\n",
      "completed: ExponentialSmoothing(trend=ModelMode.ADDITIVE, damped=False, seasonal=SeasonalityMode.ADDITIVE, seasonal_periods=4:0.32435722600348527 sec\n",
      "beginning: Auto-ARIMA\n",
      "completed: Auto-ARIMA:34.45153541900072 sec\n",
      "beginning: Theta(-0.1212121212121211)\n",
      "completed: Theta(-0.1212121212121211):0.05406776600284502 sec\n",
      "Combination  500 of 4170\n"
     ]
    }
   ],
   "source": [
    "forecast_cmb = pd.DataFrame([])\n",
    "acc_met_cmb = pd.DataFrame([])\n",
    "for i in y_train[\"id\"].unique()[0:500]:\n",
    "    forecast, acc_met = model_run_traditional_time_series(y_train[y_train[\"id\"]==i], \n",
    "                                      y_test[y_test[\"id\"]==i], \n",
    "                                      df_seasonal[df_seasonal[\"Id\"]==i][\"Is_Seasonal\"].values[0], \n",
    "                                      df_seasonal[df_seasonal[\"Id\"]==i][\"Seasonality_Order\"].values[0]).transform()\n",
    "    \n",
    "    forecast_cmb = pd.concat([forecast_cmb, forecast], axis = 0)\n",
    "    acc_met_cmb = pd.concat([acc_met_cmb, acc_met], axis = 0)\n",
    "    print('Combination ',int(list(y_train[\"id\"].unique()).index(i)+1), \"of\", len(y_train[\"id\"].unique()))"
   ]
  },
  {
   "cell_type": "code",
   "execution_count": 11,
   "id": "2283a1c3",
   "metadata": {
    "execution": {
     "iopub.execute_input": "2022-11-17T03:41:27.151542Z",
     "iopub.status.busy": "2022-11-17T03:41:27.149659Z",
     "iopub.status.idle": "2022-11-17T03:41:27.246776Z",
     "shell.execute_reply": "2022-11-17T03:41:27.245745Z"
    },
    "papermill": {
     "duration": 0.282736,
     "end_time": "2022-11-17T03:41:27.249193",
     "exception": false,
     "start_time": "2022-11-17T03:41:26.966457",
     "status": "completed"
    },
    "tags": []
   },
   "outputs": [],
   "source": [
    "forecast_cmb.reset_index(drop = True).to_feather(\"/kaggle/working/forecast_darts_v1.feather\")\n",
    "acc_met_cmb.reset_index(drop = True).to_feather(\"/kaggle/working/acc_met_darts_v1.feather\")"
   ]
  }
 ],
 "metadata": {
  "kernelspec": {
   "display_name": "Python 3",
   "language": "python",
   "name": "python3"
  },
  "language_info": {
   "codemirror_mode": {
    "name": "ipython",
    "version": 3
   },
   "file_extension": ".py",
   "mimetype": "text/x-python",
   "name": "python",
   "nbconvert_exporter": "python",
   "pygments_lexer": "ipython3",
   "version": "3.7.12"
  },
  "papermill": {
   "default_parameters": {},
   "duration": 35915.566509,
   "end_time": "2022-11-17T03:41:30.695494",
   "environment_variables": {},
   "exception": null,
   "input_path": "__notebook__.ipynb",
   "output_path": "__notebook__.ipynb",
   "parameters": {},
   "start_time": "2022-11-16T17:42:55.128985",
   "version": "2.3.4"
  }
 },
 "nbformat": 4,
 "nbformat_minor": 5
}
